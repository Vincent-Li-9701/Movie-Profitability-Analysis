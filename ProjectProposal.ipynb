{
 "cells": [
  {
   "cell_type": "markdown",
   "metadata": {},
   "source": [
    "# COGS 108 - Project Proposal"
   ]
  },
  {
   "cell_type": "markdown",
   "metadata": {},
   "source": [
    "## Important\n",
    "\n",
    "- Make sure all group members (3-5 people) are listed in the group members section.\n",
    "- ONE, and only one, member of your group should upload this notebook to TritonED. \n",
    "- Each member of the group will receive the same grade on this assignment. \n",
    "- Keep the file name the same: submit the file 'ProjectProposal.ipynb'"
   ]
  },
  {
   "cell_type": "markdown",
   "metadata": {},
   "source": [
    "## Overview"
   ]
  },
  {
   "cell_type": "markdown",
   "metadata": {},
   "source": [
    "Read the project description and detailed instructions for this assignment in the 'ProjectOutline' document."
   ]
  },
  {
   "cell_type": "markdown",
   "metadata": {},
   "source": [
    "## Group Members: Fill in the Student IDs of each group member here\n",
    "\n",
    "Replace the lines below to list each persons full student ID. Add lines as needed for your group size, and make sure each ID is listed on a separate line. \n",
    "\n",
    "- A13875266\n",
    "- A12830672\n",
    "- A14090871\n",
    "- A13713155\n",
    "- A13790260\n",
    "- A13374454\n",
    "\n"
   ]
  },
  {
   "cell_type": "markdown",
   "metadata": {},
   "source": [
    "### Research Question\n",
    "\n",
    "What is your research question? (1-2 sentences)"
   ]
  },
  {
   "cell_type": "markdown",
   "metadata": {},
   "source": [
    "Our project will focus on asking what factors determine good domestic revenue and ticket sales in movies and if we can roughly predict how great those factors we have determined will affect a movie’s ticket sales. "
   ]
  },
  {
   "cell_type": "markdown",
   "metadata": {},
   "source": [
    "### Hypothesis\n",
    "\n",
    "What is your main hypothesis and predictions? "
   ]
  },
  {
   "cell_type": "markdown",
   "metadata": {},
   "source": [
    "Many factors can be considered in determining if a movie will be a box office seller or not. Not all movies with big productions will have great financial success. Especially, in the recent years, movies with low production costs but high qualities are getting noticed by the mainstream. Therefore, we predict that some obvious factors may not be the strongest in determining movie revenue, and there should be unnoticeable factors we could find by analyzing different datasets. Those factors include: Actors, genre, year released, and rating.\n",
    "We predict that these factors will influence each other in a way that allows us to determine if a movie will be a box office seller.\n"
   ]
  },
  {
   "cell_type": "markdown",
   "metadata": {},
   "source": [
    "### Dataset(s)\n",
    "\n",
    "What data will you use to answer your question? Describe the dataset(s) in terms of number of observations, what kind of features it contains, etc. You must use at least one dataset containing at least approximately 1000 observations (if your data are smaller but you feel they are sufficient, email Prof. Voytek). You are welcome (and in fact recommended) to find multiple datasets! If you do so, describe each one, and briefly explain how you will combine them together. "
   ]
  },
  {
   "cell_type": "markdown",
   "metadata": {},
   "source": [
    "*Fill in your dataset information here*\n",
    "\n",
    "### Dataset #1: IMDB dataset\n",
    "link: https://www.statcrunch.com/app/index.php?dataid=1736023\n",
    "\n",
    "number of observation: 58785\n",
    "\n",
    "description: This dataset is a very comprehensive IMDB movie info collection. The data fields are: Title, year, length, budget, rating, votes and percentile to each voting.\n",
    "\n",
    "\n",
    "### Dataset #2: TMDB dataset \n",
    "link: https://www.kaggle.com/tmdb/tmdb-movie-metadata/data\n",
    "\n",
    "number of observation: almost 5000\n",
    "\n",
    "description: This dataset contains almost 5000 movies on TMDB. The data field included are budget, genres, homepage, id, keywords, original_language, origiinal_title, overview, popularity, production_companies, production countries, revenue, runtime, spoken_language, status, tagline, vote_average, vote_count. \n",
    "\n",
    "We plan to use a combination of both dataset by selecting movies that are in both dataset and complete the missing columns. \n",
    "\n"
   ]
  },
  {
   "cell_type": "markdown",
   "metadata": {},
   "source": [
    "### Background and Prior Work\n",
    "\n",
    "Why is this question of interest, what background information led you to your hypothesis, and why is this important?\n",
    "\n",
    "Find some relevant prior work, and reference those sources. Even if you think you have a totally novel question, find the most similar prior work that you can and discuss how it relates to your project. \n",
    "\n",
    "References can be research publications, but they need not be. Blogs, github repositories, company websites, etc., are all viable references if they are relevant to your project.\n",
    "\n",
    "(2-3 paragraphs, including at least 2 references)"
   ]
  },
  {
   "cell_type": "markdown",
   "metadata": {},
   "source": [
    "*Fill in your background and prior work here* \n",
    "\n",
    "References (include links):\n",
    "- 1) https://www.kaggle.com/robbertmanders/eindversie-tmdb\n",
    "- 2) https://techpolicyinstitute.org/2017/09/15/rotten-tomatoes-and-imdb-reviews-strongly-correlated-with-movie-revenues/\n",
    "\n",
    "\n",
    "\n",
    "Our project will focus on studying what makes a movie successful in terms of domestic revenue and ticket sales. We choose domestic revenue and ticket sales as successfulness indicators of because they are the most direct numerical values that determine the popularity and success of a movie. At the end of our project, we hope to find a strong factor such that our finding may help the movie industry more efficient allocate resources but make more money. We found to prior research that are relevant to our topic:\n",
    "\n",
    "\n",
    "The first prior work is a project analyzing what factors make a movie with good votes on TMDB. The project decides to analyzes factors such as budget, revenue, genre, keywords, actors and directors and then it uses heat graphs, pie chart and frequency chart to show the correlation among the factors. In the end, the project builds a model to predict a film’s money earning power by its spects. The research team then assesses their model using linear regression to see how their prediction deviates from the real income.The core interest of this project is similar to ours. We use the same dataset. Yet the research is very movie-oriented - all the analysis are focused on movies. To enrich the discussion, our project will  focus more on movie revenues. We will take inflation into consideration and will probably distinguish the US box office and worldwide box office.\n",
    "\n",
    "The second research focuses exclusively on one aspect of a film that may influence a film’s revenue: Rotten Tomatoes and IMDb reviews. It comes up with a mathematical model that can quantify how effectively the online reviews tweaks a film’s revenue when given a specific film’s data. It then apply the formula to films with different ratings, genres, and released year etc. to see if the online reviews equally influence all films at all time. The report is intriguing in that it digs really in depth into one direction. It mathematical approach is illuminating. However, its narrow focus predetermined its inability to helping us accurately predict a film’s revenue, and this is where our project comes from. We will give a whole picture of how a film becomes successful. Namely, we will consider more factors and focus on how to predict box office.\n",
    "\n"
   ]
  },
  {
   "cell_type": "markdown",
   "metadata": {},
   "source": [
    "### Proposed Methods\n",
    "\n",
    "What methods will you use to analyze your data?\n",
    "\n",
    "- How 'clean' is the data? To the extent that it requires cleaning, how will you do so?\n",
    "- How will you analyze the data? Be as specific as you can. Briefly mention any pre-processing steps that are required for your methods (for example, checking data distributions and performing any transformations that may be required). Include a brief outline of how you will apply your chosen method(s). \n",
    "- What do you plan to report? Briefly mention any key visualizations you plan to create, and/or the kind of results you will be able to report that address your question (this could be, for example, the outcome of some statistical test(s), prediction error on a model, a model fit parameter, etc.).\n",
    "- Include a list of packages you expect to use for you project. If you plan to use packages we have not used in class, add a very brief description about them (a few words is sufficient). "
   ]
  },
  {
   "cell_type": "markdown",
   "metadata": {},
   "source": [
    "*Data Cleaning (2-3 sentences)\n",
    "The two dataset we have imported for our research come from public data website. They are pretty clean in terms of format and accessibility. Yet since each set contains different amount of movies and fields, we are going and to make a new df that contains movies from both dataset and fill in all the columns. \n",
    "\n",
    "Data Analysis (1-2 paragraphs)\n",
    "The first thing we need to do is to make the dataset into a more accessible format. In the original dataset, many columns such as genre put each of their keywords into seperate dictionaries, which is hard to analyze. Thus we want to pipe flaten these columns and concatenate all the keywords for each movie into a string separated by ‘|’ between each term. We will then visualize the dataset through heat graphs and pick out outliers accordingly. \n",
    "Next, we shall interactive analyze how related each factor is to the revenue. The correlations we are interested to study include: \n",
    "Correlation between rating(PG,R, ETC) & revenue\n",
    "Correlation between movie critic rating and revenue\n",
    "Correlation between budget and revenue\n",
    "Correlation between Actors to Revenue\n",
    "\n",
    "What to report (2-3 sentences)\n",
    "We plan to report the relationship between the potential factors and revenue through four different heat graphs. We shall also use ranking chart to determine which actor shall bring the most revenue for each genre of movies. Lastly, once we have found an effective factor, we shall use regression focused on that factor to test our result. \n",
    "\n",
    "Packages we plan to use:\n",
    "A: matplotlib\n",
    "B: pandas \n",
    "C: sklearn  : sklearn is a package that provides good function for regression and machine learning methods\n"
   ]
  },
  {
   "cell_type": "markdown",
   "metadata": {},
   "source": [
    "### Ethics and Privacy\n",
    "\n",
    "Briefly acknowledge and address any potential issues of ethics and privacy for the proposed project. In particular:\n",
    "- Do you have permission to use this data, for this purpose?\n",
    "- Are there privacy concerns regarding your datasets that you need to deal with, and/or terms of use that you need to comply with?\n",
    "- Are there potential biases in your dataset(s), in terms of who it composes, and how it was collected, that may be problematic in terms of it allowing for equitable analysis? (For example, does your data exclude particular populations, or is it likely to reflect particular human biases in a way that could be a problem?) \n",
    "- Are there any other issues related to your topic area, data, and/or analyses that are potentially problematic in terms of data privacy and equitable impact?\n",
    "- How will you handle any issues you identify?\n",
    "\n",
    "(1-2 paragraphs)\n",
    "\n",
    "We can avoid listing actors that are of certain ages. Other than this, since all of our data come from public website, there is a small chance we will encounter any ethical issue.  As long as we cite our sources in comments at top, we should avoid any ethical or copyright issues. \n",
    "\n"
   ]
  },
  {
   "cell_type": "markdown",
   "metadata": {},
   "source": [
    "### Discussion\n",
    "\n",
    "Discuss your project, looking forward to what your results might mean, how they fit it in with what is already known, and what problems you may encounter. \n",
    "\n",
    "In particular:\n",
    "- If your analyses and hypotheses are correct, what will be the contribution of this project to the topic domain? \n",
    "- Alternatively, what will you do if you methods don't work and/or your hypotheses are wrong? \n",
    "- What are the potential pitfalls and potential confounds of your data and/or methods that may cause problems, and/or influence your interpretations?\n",
    "\n",
    "(2-3 paragraphs)\n",
    "At the end of our project, we hope to find a strong factor or a combination of many factors that affects a movie’s revenue and thus understand what the movie industry can improve by using less but important resource and thus making more money. However, if at the end of our project we find no strong correlation between the factors and revenue, we will examine what we have found and switch our focus accordingly. \n",
    "\n",
    "The potential pitfalls and potential confounds of our data might be the outliers from years before computers are massive applied to every household. Because the in the early years not everyone has a computer and can go online to vote, thus the result we find maybe biased. \n",
    "\n",
    "Another potential confounds may exist in the budget data. According to the website: https://stephenfollows.com/how-movies-make-money-hollywood-blockbusters/, Hollywood movie can cost twice as much of a normal movie at marketing, whereas they spend less money on overheard. Thus the unknown proportion of each movie’s budget may affect our result. In addition, in order to advertise the movie better, sometimes the production companies may pay people to rate their movie with a higher rating, which may also twist the validity of our finding. \n",
    "\n"
   ]
  },
  {
   "cell_type": "markdown",
   "metadata": {},
   "source": [
    "*Fill in your discussion information here*"
   ]
  }
 ],
 "metadata": {
  "kernelspec": {
   "display_name": "Python 3",
   "language": "python",
   "name": "python3"
  },
  "language_info": {
   "codemirror_mode": {
    "name": "ipython",
    "version": 3
   },
   "file_extension": ".py",
   "mimetype": "text/x-python",
   "name": "python",
   "nbconvert_exporter": "python",
   "pygments_lexer": "ipython3",
   "version": "3.6.3"
  }
 },
 "nbformat": 4,
 "nbformat_minor": 2
}
