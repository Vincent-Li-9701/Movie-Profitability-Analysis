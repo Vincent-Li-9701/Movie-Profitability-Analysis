{
 "cells": [
  {
   "cell_type": "markdown",
   "metadata": {
    "colab_type": "text",
    "id": "4tmJXKmisOP9"
   },
   "source": [
    "## Group Members\n",
    "**Erik Jensen** A12830672\n",
    "\n",
    "**Jingsong Chen** A14090871\n",
    "\n",
    "**Songlin Li** A13374454\n",
    "\n",
    "**Mingtao Gao** A13790260\n",
    "\n",
    "**Zhaoyi Huang** A13713155\n",
    "\n",
    "**Hao Cheng** A13875266"
   ]
  },
  {
   "cell_type": "markdown",
   "metadata": {},
   "source": [
    "## Contribution##"
   ]
  },
  {
   "cell_type": "markdown",
   "metadata": {},
   "source": [
    "For this project, we have divided six our group members into three group with each working on a specific topic. Hao Cheng and Zhaoyi Huang work on Part 1 to 4, which focus on general stuff. Songlin Li and Mingtao Gao work on part 5 focusing on genres. Lastly, Eric Jensen and Jingsong Chen work on part 6 focusing on actors. "
   ]
  },
  {
   "cell_type": "markdown",
   "metadata": {
    "colab_type": "text",
    "id": "zH5sMYPFAXX1"
   },
   "source": [
    "# ***Background Introduction***"
   ]
  },
  {
   "cell_type": "markdown",
   "metadata": {
    "colab_type": "text",
    "id": "Eug7OnTwAXX3"
   },
   "source": [
    "We all know that a movie's success is an end-product of multiple factors. Then what are they and how they influence the success of a movie? Before answering this question, we define success as both financially and evaluatively. That is, a high box office as well as a high public review are the two indicators of a film's success. \n",
    "\n",
    "We have heard a few guesses about what determines a movie's success. Traditionally, people believe that budget is an important one, that movies with bigger productions will have greater financial success, as well as the success among critics. But in the recent years, many exceptions of that belief are recorded. Some movies with low production turn out to have qualities. Are our old believes not working anymore? What are the ture determinants of a successful film?\n",
    "\n",
    "This is the questioin we are going to answer in our project. We predict that some obvious factors may not be the only factors in determining a movie's revenue. Moreover, there should be other unnoticeable factors that are only derivable by analyzing big data. We predict that the interactions of these factors will allow us to determine if a movie will be successful or not.\n",
    "\n",
    "## Project Outline##\n",
    "This notebook is divided into several parts. Each part focuses on one specific aspect of a film and its influence on the fillm's profit. We want to deeply explore each factor. These factors include not only explicit ones like budgets, actors, genres, and public reviews; but also implicit ones like years released, production company, the combinations of different genres, and the keywords most related to the movie. At the end of our project, we hope to find a strong factor or a combination of many factors that affects a movie’s revenue so that we can understand how the movie industry should improve by spending resources on more important aspects of a film.\n",
    "\n",
    "## Data Cleaning/Pre-processing\n",
    "We use different data cleaning and analyse strategy in different sections due to the different focus on each part.\n",
    "\n",
    "## Data Description and Privacy/Ethics Considerations##\n",
    "\n",
    "The database we use is completely public. More specifially, it's a dataset named \"TMDB 5000 movies\" from Kaggle that everyone can freely access (link:https://www.kaggle.com/tmdb/tmdb-movie-metadata/data). The dataset contains 2 CSV files, 'tmdb_5000_movies.csv' and 'tmdb_5000_credits.csv'. They contain all information like the name of actors and casts, the keywords most related to the movies, production companies.etc. \n",
    "\n",
    "All information in the dataset is authorized for public analyzation. The rest of this report is our own work. This report is not for commercial purpose. So, after careful consideration, we realize that the data collection, analyzation, and publication process does not violate privacy or copyright protections. "
   ]
  },
  {
   "cell_type": "code",
   "execution_count": 1,
   "metadata": {
    "colab": {
     "autoexec": {
      "startup": false,
      "wait_interval": 0
     },
     "base_uri": "https://localhost:8080/",
     "height": 72,
     "output_extras": [
      {
       "item_id": 1
      }
     ]
    },
    "colab_type": "code",
    "executionInfo": {
     "elapsed": 522,
     "status": "ok",
     "timestamp": 1521701816629,
     "user": {
      "displayName": "Jingsong Chen",
      "photoUrl": "https://lh3.googleusercontent.com/a/default-user=s128",
      "userId": "118119424029475779899"
     },
     "user_tz": 420
    },
    "id": "QSF_TWae80pX",
    "outputId": "a875dacc-6781-41ee-ee02-28e3885c4399"
   },
   "outputs": [
    {
     "name": "stderr",
     "output_type": "stream",
     "text": [
      "C:\\Users\\10024\\Anaconda3\\lib\\site-packages\\statsmodels\\compat\\pandas.py:56: FutureWarning: The pandas.core.datetools module is deprecated and will be removed in a future version. Please use the pandas.tseries module instead.\n",
      "  from pandas.core import datetools\n"
     ]
    }
   ],
   "source": [
    "# import all necessary libraries\n",
    "import io\n",
    "import json\n",
    "import patsy\n",
    "import itertools\n",
    "import numpy as np\n",
    "import pandas as pd\n",
    "import seaborn as sns\n",
    "import scipy.stats as stats\n",
    "import statsmodels.api as sm\n",
    "import matplotlib.pyplot as plt\n",
    "import matplotlib.lines as mlines\n",
    "from scipy.stats import gaussian_kde\n",
    "import matplotlib.transforms as mtransforms\n",
    "from scipy.stats import ttest_ind, chisquare, normaltest\n"
   ]
  },
  {
   "cell_type": "markdown",
   "metadata": {
    "colab_type": "text",
    "id": "EXgiHnoexqxG"
   },
   "source": [
    "# ***Part 1: Production Companies and Profit***"
   ]
  },
  {
   "cell_type": "markdown",
   "metadata": {
    "colab_type": "text",
    "id": "pB4askcer_4F"
   },
   "source": [
    "**The main focus of this part of our project is to figure out how companies can influence a movie's net profit and revenue. We believe movies of a certain genre will have higher net-profit if they are produced by the companies that are excelled in making that certain genre of movies. Furthermore if our first asumption holds, we are also interested to find out what genre of movies that the most profitable produciton companies like to make and what are the average votes for those movies made by the most profitable companies. Along the way, we will also examine the relationship between budget and revenue, and the correlation what whether production companies that have made many movies of certain genre will have higher chance producing movies with higher profit and votes.**\n",
    "\n",
    "\n",
    "\n",
    "\n"
   ]
  },
  {
   "cell_type": "code",
   "execution_count": 2,
   "metadata": {
    "colab": {
     "autoexec": {
      "startup": false,
      "wait_interval": 0
     },
     "base_uri": "https://localhost:8080/",
     "height": 851,
     "output_extras": [
      {
       "item_id": 1
      }
     ]
    },
    "colab_type": "code",
    "collapsed": true,
    "executionInfo": {
     "elapsed": 462,
     "status": "error",
     "timestamp": 1521698576537,
     "user": {
      "displayName": "Mingtao Gao",
      "photoUrl": "//lh3.googleusercontent.com/-p5G1OPU0QyQ/AAAAAAAAAAI/AAAAAAAAACE/d4hD1U7NWOI/s50-c-k-no/photo.jpg",
      "userId": "111421073149236867234"
     },
     "user_tz": 420
    },
    "id": "xTWVNwIN7Sqy",
    "outputId": "b7150606-b34e-4d44-fe17-e09d7dac6e05"
   },
   "outputs": [],
   "source": [
    "df = pd.read_csv('tmdb_5000_movies.csv')\n"
   ]
  },
  {
   "cell_type": "markdown",
   "metadata": {
    "colab_type": "text",
    "id": "LxcrQFqoAXX6"
   },
   "source": [
    "***Data cleaning:***\n",
    "For this part, we don't need the columns contain the trivial information like id, language, runtime, movies' home page. So we drop these columns we don't need. "
   ]
  },
  {
   "cell_type": "code",
   "execution_count": 3,
   "metadata": {
    "colab": {
     "autoexec": {
      "startup": false,
      "wait_interval": 0
     }
    },
    "colab_type": "code",
    "collapsed": true,
    "id": "TlAoOFUx84TT"
   },
   "outputs": [],
   "source": [
    "df = df.drop(['homepage','original_language','overview','runtime','status','tagline', 'id' ], axis = 1 )"
   ]
  },
  {
   "cell_type": "markdown",
   "metadata": {
    "colab_type": "text",
    "id": "YbdMX16Fn1yH"
   },
   "source": [
    "**Now we create a new column called net_pofit which denotes the profit earns by each movies. Then we clean up the data by dropping the rows with missing budget and revenue. Because columns like genres, keywords and production_companies are like list objects with dictionary inside, it is hard to do our study with these complicated data structures. Thus we need to \"flaten\" these lists into string are that esier to work with.**"
   ]
  },
  {
   "cell_type": "code",
   "execution_count": 4,
   "metadata": {
    "colab": {
     "autoexec": {
      "startup": false,
      "wait_interval": 0
     },
     "base_uri": "https://localhost:8080/",
     "height": 509,
     "output_extras": [
      {}
     ]
    },
    "colab_type": "code",
    "collapsed": true,
    "executionInfo": {
     "elapsed": 253,
     "status": "ok",
     "timestamp": 1521570721878,
     "user": {
      "displayName": "Erik Jensen",
      "photoUrl": "https://lh3.googleusercontent.com/a/default-user=s128",
      "userId": "105068432724791430130"
     },
     "user_tz": 420
    },
    "id": "DI69LqcU_BAF",
    "outputId": "e45aff16-7715-4c0a-9a23-11f296881fd9"
   },
   "outputs": [],
   "source": [
    "df['net_profit'] = df['revenue'] - df['budget']\n",
    "\n",
    "## drop rows when budget or revenue is 0 \n",
    "df = df[df.budget != 0]\n",
    "df = df[df.revenue != 0]\n",
    "df = df[df.revenue - df.budget > 0]\n",
    "df = df.reset_index(drop=True)"
   ]
  },
  {
   "cell_type": "markdown",
   "metadata": {
    "colab_type": "text",
    "id": "6WlM5kUsoLV0"
   },
   "source": [
    "**Here we will create methods to clean the data and apply them to the columns to allow for easier access and analysis. **"
   ]
  },
  {
   "cell_type": "code",
   "execution_count": 5,
   "metadata": {
    "colab": {
     "autoexec": {
      "startup": false,
      "wait_interval": 0
     },
     "base_uri": "https://localhost:8080/",
     "height": 408,
     "output_extras": [
      {}
     ]
    },
    "colab_type": "code",
    "collapsed": true,
    "executionInfo": {
     "elapsed": 521,
     "status": "ok",
     "timestamp": 1521570722551,
     "user": {
      "displayName": "Erik Jensen",
      "photoUrl": "https://lh3.googleusercontent.com/a/default-user=s128",
      "userId": "105068432724791430130"
     },
     "user_tz": 420
    },
    "id": "vWOw0XfYKHeJ",
    "outputId": "8fbd1785-e66a-46ae-fc8e-6ffaffbfa267"
   },
   "outputs": [],
   "source": [
    "\n",
    "# methods for cleaning the data into an easier to access form \n",
    "def flaten_name(keywords): \n",
    "  return '|'.join([x['name'] for x in keywords])\n",
    "\n",
    "def safe_approach(input, index_values):\n",
    "    # return a missing value rather than an error upon indexing/key failure\n",
    "    result = input\n",
    "    try:\n",
    "        for idx in index_values:\n",
    "            result = result[idx]\n",
    "        return result\n",
    "    except IndexError or KeyError:\n",
    "        return pd.np.nan\n",
    "      \n",
    "      \n",
    "#apply the methods to columns\n",
    "\n",
    "df['genres'] = df['genres'].apply(json.loads)\n",
    "df['genres'] = df['genres'].apply(flaten_name)\n",
    "\n",
    "df['keywords'] = df['keywords'].apply(json.loads)\n",
    "df['keywords'] = df['keywords'].apply(flaten_name)\n",
    "\n",
    "df['production_companies'] = df['production_companies'].apply(json.loads)\n",
    "df['production_companies'] = df['production_companies'].apply(flaten_name)\n",
    "\n",
    "df['production_countries'] = df['production_countries'].apply(json.loads)\n",
    "df['production_countries'] = df['production_countries'].apply(flaten_name)\n",
    "\n",
    "\n",
    "df['spoken_languages'] = df['spoken_languages'].apply(json.loads)\n",
    "df['spoken_languages'] = df['spoken_languages'].apply(flaten_name)\n"
   ]
  },
  {
   "cell_type": "markdown",
   "metadata": {
    "colab_type": "text",
    "id": "rZ4TTVWY4hcZ"
   },
   "source": [
    "***Genres and companies***\n",
    "\n",
    "**Our goal here is to analyze whether production_companies that made many movies of a certain genre will be more likely to produce a movie of that genre with higher profit. To do so, we create a dataframe that contains how many and what type of movies each movie production companies have made.**\n",
    "\n"
   ]
  },
  {
   "cell_type": "code",
   "execution_count": 6,
   "metadata": {
    "colab": {
     "autoexec": {
      "startup": false,
      "wait_interval": 0
     },
     "base_uri": "https://localhost:8080/",
     "height": 344,
     "output_extras": [
      {}
     ]
    },
    "colab_type": "code",
    "executionInfo": {
     "elapsed": 308,
     "status": "ok",
     "timestamp": 1521570723000,
     "user": {
      "displayName": "Erik Jensen",
      "photoUrl": "https://lh3.googleusercontent.com/a/default-user=s128",
      "userId": "105068432724791430130"
     },
     "user_tz": 420
    },
    "id": "9DXaSTGtIab-",
    "outputId": "03d76666-3100-4b7b-9647-9fe9c53dd69a"
   },
   "outputs": [
    {
     "data": {
      "text/plain": [
       "['Crime',\n",
       " 'Thriller',\n",
       " 'Drama',\n",
       " 'Western',\n",
       " 'Adventure',\n",
       " 'Science Fiction',\n",
       " 'Documentary',\n",
       " 'Mystery',\n",
       " 'History',\n",
       " 'Fantasy',\n",
       " 'Romance',\n",
       " 'War',\n",
       " 'Action',\n",
       " 'Family',\n",
       " 'Horror',\n",
       " 'Music',\n",
       " 'Comedy',\n",
       " 'Animation']"
      ]
     },
     "execution_count": 6,
     "metadata": {},
     "output_type": "execute_result"
    }
   ],
   "source": [
    "# get a list of genres\n",
    "\n",
    "#First let's get a set of genres present\n",
    "list_genre = set() \n",
    "for s in df['genres']: \n",
    "    s = s.split('|')\n",
    "    list_genre = set().union(s, list_genre)\n",
    "list_genre = list(list_genre)\n",
    "#list_genre.remove('')\n",
    "list_genre"
   ]
  },
  {
   "cell_type": "markdown",
   "metadata": {
    "colab_type": "text",
    "id": "jLimRoCJRQoB"
   },
   "source": [
    "**Here we will create a list of each production company.**"
   ]
  },
  {
   "cell_type": "code",
   "execution_count": 7,
   "metadata": {
    "colab": {
     "autoexec": {
      "startup": false,
      "wait_interval": 0
     },
     "base_uri": "https://localhost:8080/",
     "height": 35,
     "output_extras": [
      {}
     ]
    },
    "colab_type": "code",
    "executionInfo": {
     "elapsed": 303,
     "status": "ok",
     "timestamp": 1521570723467,
     "user": {
      "displayName": "Erik Jensen",
      "photoUrl": "https://lh3.googleusercontent.com/a/default-user=s128",
      "userId": "105068432724791430130"
     },
     "user_tz": 420
    },
    "id": "ewgA1Sa4OvrC",
    "outputId": "3edcaf14-4804-43e9-d42e-53df8c122b91"
   },
   "outputs": [
    {
     "name": "stdout",
     "output_type": "stream",
     "text": [
      "There are 2723 different production companies in our data set\n"
     ]
    }
   ],
   "source": [
    "# get a list of produciton company \n",
    "list_company = set() \n",
    "for s in df['production_companies']:\n",
    "  s = s.split('|')\n",
    "  list_company = set().union(s,list_company)\n",
    "list_company = list(list_company)\n",
    "list_company.remove('')\n",
    "len(list_company)\n",
    "print('There are',len(list_company),'different production companies in our data set')"
   ]
  },
  {
   "cell_type": "markdown",
   "metadata": {
    "colab_type": "text",
    "id": "qRVIvhXkRdrW"
   },
   "source": [
    "**Below we create a list for each movie genre to count how many movies in each of genres**"
   ]
  },
  {
   "cell_type": "code",
   "execution_count": 8,
   "metadata": {
    "colab": {
     "autoexec": {
      "startup": false,
      "wait_interval": 0
     }
    },
    "colab_type": "code",
    "collapsed": true,
    "id": "a2X9lUjCMclf"
   },
   "outputs": [],
   "source": [
    "# create a list for each movie genre\n",
    "Action = [] \n",
    "Animation = [] \n",
    "Horror = [] \n",
    "Mystery = [] \n",
    "Thriller = [] \n",
    "Drama = [] \n",
    "Crime = [] \n",
    "Fantasy = [] \n",
    "Documentary = [] \n",
    "Science_Fiction = [] \n",
    "Romance = [] \n",
    "Family = [] \n",
    "History = [] \n",
    "Comedy =[] \n",
    "Western = [] \n",
    "Music = [] \n",
    "Adventure = [] \n",
    "War = [] \n",
    "TV_Movie = [] \n",
    "Foreign = [] \n",
    "\n",
    "# create a mother list 'genre' that contains all genre lists\n",
    "\n",
    "genre = [Mystery,Family,War,Romance,Drama,Documentary,History,Fantasy,Adventure,\n",
    "Thriller,Horror,Crime,Science_Fiction,Music,Action,Comedy,Western,Animation]\n",
    "len(genre) == len(list_genre)\n",
    "\n",
    "count = 0 \n",
    "for movie in range(len(df)) : \n",
    "  g = df.loc[movie][1].split('|')\n",
    "  c = df.loc[movie][5].split('|')\n",
    "  \n",
    "  for i in list_genre:  \n",
    "    if i in g: \n",
    "      genre[count] = genre[count]+c\n",
    "    count = count+1\n",
    "  count = 0 "
   ]
  },
  {
   "cell_type": "markdown",
   "metadata": {
    "colab_type": "text",
    "id": "hK8DBZOLqrHg"
   },
   "source": [
    "**Now that we have the genre, we want to create a data frame that relates each company and the genre of movies they create.**"
   ]
  },
  {
   "cell_type": "code",
   "execution_count": 9,
   "metadata": {
    "colab": {
     "autoexec": {
      "startup": false,
      "wait_interval": 0
     },
     "base_uri": "https://localhost:8080/",
     "height": 228,
     "output_extras": [
      {}
     ]
    },
    "colab_type": "code",
    "executionInfo": {
     "elapsed": 23514,
     "status": "ok",
     "timestamp": 1521570748785,
     "user": {
      "displayName": "Erik Jensen",
      "photoUrl": "https://lh3.googleusercontent.com/a/default-user=s128",
      "userId": "105068432724791430130"
     },
     "user_tz": 420
    },
    "id": "Lw3gl_E9Qp7p",
    "outputId": "f9ca85b8-4363-4bcf-f1e1-8b9d0bb28efa"
   },
   "outputs": [
    {
     "data": {
      "text/html": [
       "<div>\n",
       "<style>\n",
       "    .dataframe thead tr:only-child th {\n",
       "        text-align: right;\n",
       "    }\n",
       "\n",
       "    .dataframe thead th {\n",
       "        text-align: left;\n",
       "    }\n",
       "\n",
       "    .dataframe tbody tr th {\n",
       "        vertical-align: top;\n",
       "    }\n",
       "</style>\n",
       "<table border=\"1\" class=\"dataframe\">\n",
       "  <thead>\n",
       "    <tr style=\"text-align: right;\">\n",
       "      <th></th>\n",
       "      <th>Crime</th>\n",
       "      <th>Thriller</th>\n",
       "      <th>Drama</th>\n",
       "      <th>Western</th>\n",
       "      <th>Adventure</th>\n",
       "      <th>Science Fiction</th>\n",
       "      <th>Documentary</th>\n",
       "      <th>Mystery</th>\n",
       "      <th>History</th>\n",
       "      <th>Fantasy</th>\n",
       "      <th>Romance</th>\n",
       "      <th>War</th>\n",
       "      <th>Action</th>\n",
       "      <th>Family</th>\n",
       "      <th>Horror</th>\n",
       "      <th>Music</th>\n",
       "      <th>Comedy</th>\n",
       "      <th>Animation</th>\n",
       "    </tr>\n",
       "    <tr>\n",
       "      <th>Company</th>\n",
       "      <th></th>\n",
       "      <th></th>\n",
       "      <th></th>\n",
       "      <th></th>\n",
       "      <th></th>\n",
       "      <th></th>\n",
       "      <th></th>\n",
       "      <th></th>\n",
       "      <th></th>\n",
       "      <th></th>\n",
       "      <th></th>\n",
       "      <th></th>\n",
       "      <th></th>\n",
       "      <th></th>\n",
       "      <th></th>\n",
       "      <th></th>\n",
       "      <th></th>\n",
       "      <th></th>\n",
       "    </tr>\n",
       "  </thead>\n",
       "  <tbody>\n",
       "    <tr>\n",
       "      <th>Georgetown Productions, Inc.</th>\n",
       "      <td>0</td>\n",
       "      <td>1</td>\n",
       "      <td>0</td>\n",
       "      <td>0</td>\n",
       "      <td>0</td>\n",
       "      <td>0</td>\n",
       "      <td>0</td>\n",
       "      <td>0</td>\n",
       "      <td>0</td>\n",
       "      <td>0</td>\n",
       "      <td>0</td>\n",
       "      <td>0</td>\n",
       "      <td>0</td>\n",
       "      <td>0</td>\n",
       "      <td>1</td>\n",
       "      <td>0</td>\n",
       "      <td>0</td>\n",
       "      <td>0</td>\n",
       "    </tr>\n",
       "    <tr>\n",
       "      <th>Green Hat Films</th>\n",
       "      <td>1</td>\n",
       "      <td>0</td>\n",
       "      <td>1</td>\n",
       "      <td>0</td>\n",
       "      <td>0</td>\n",
       "      <td>0</td>\n",
       "      <td>0</td>\n",
       "      <td>0</td>\n",
       "      <td>0</td>\n",
       "      <td>0</td>\n",
       "      <td>0</td>\n",
       "      <td>0</td>\n",
       "      <td>0</td>\n",
       "      <td>0</td>\n",
       "      <td>0</td>\n",
       "      <td>0</td>\n",
       "      <td>4</td>\n",
       "      <td>0</td>\n",
       "    </tr>\n",
       "    <tr>\n",
       "      <th>Pathé Pictures International</th>\n",
       "      <td>0</td>\n",
       "      <td>0</td>\n",
       "      <td>2</td>\n",
       "      <td>0</td>\n",
       "      <td>0</td>\n",
       "      <td>1</td>\n",
       "      <td>0</td>\n",
       "      <td>0</td>\n",
       "      <td>0</td>\n",
       "      <td>0</td>\n",
       "      <td>0</td>\n",
       "      <td>0</td>\n",
       "      <td>0</td>\n",
       "      <td>0</td>\n",
       "      <td>0</td>\n",
       "      <td>0</td>\n",
       "      <td>0</td>\n",
       "      <td>0</td>\n",
       "    </tr>\n",
       "    <tr>\n",
       "      <th>Theobald Film Productions</th>\n",
       "      <td>0</td>\n",
       "      <td>0</td>\n",
       "      <td>0</td>\n",
       "      <td>0</td>\n",
       "      <td>1</td>\n",
       "      <td>0</td>\n",
       "      <td>0</td>\n",
       "      <td>0</td>\n",
       "      <td>0</td>\n",
       "      <td>1</td>\n",
       "      <td>0</td>\n",
       "      <td>0</td>\n",
       "      <td>0</td>\n",
       "      <td>1</td>\n",
       "      <td>0</td>\n",
       "      <td>0</td>\n",
       "      <td>1</td>\n",
       "      <td>0</td>\n",
       "    </tr>\n",
       "    <tr>\n",
       "      <th>The Safran Company</th>\n",
       "      <td>0</td>\n",
       "      <td>2</td>\n",
       "      <td>1</td>\n",
       "      <td>0</td>\n",
       "      <td>0</td>\n",
       "      <td>0</td>\n",
       "      <td>0</td>\n",
       "      <td>1</td>\n",
       "      <td>0</td>\n",
       "      <td>0</td>\n",
       "      <td>0</td>\n",
       "      <td>0</td>\n",
       "      <td>0</td>\n",
       "      <td>0</td>\n",
       "      <td>3</td>\n",
       "      <td>0</td>\n",
       "      <td>1</td>\n",
       "      <td>0</td>\n",
       "    </tr>\n",
       "  </tbody>\n",
       "</table>\n",
       "</div>"
      ],
      "text/plain": [
       "                             Crime Thriller Drama Western Adventure  \\\n",
       "Company                                                               \n",
       "Georgetown Productions, Inc.     0        1     0       0         0   \n",
       "Green Hat Films                  1        0     1       0         0   \n",
       "Pathé Pictures International     0        0     2       0         0   \n",
       "Theobald Film Productions        0        0     0       0         1   \n",
       "The Safran Company               0        2     1       0         0   \n",
       "\n",
       "                             Science Fiction Documentary Mystery History  \\\n",
       "Company                                                                    \n",
       "Georgetown Productions, Inc.               0           0       0       0   \n",
       "Green Hat Films                            0           0       0       0   \n",
       "Pathé Pictures International               1           0       0       0   \n",
       "Theobald Film Productions                  0           0       0       0   \n",
       "The Safran Company                         0           0       1       0   \n",
       "\n",
       "                             Fantasy Romance War Action Family Horror Music  \\\n",
       "Company                                                                       \n",
       "Georgetown Productions, Inc.       0       0   0      0      0      1     0   \n",
       "Green Hat Films                    0       0   0      0      0      0     0   \n",
       "Pathé Pictures International       0       0   0      0      0      0     0   \n",
       "Theobald Film Productions          1       0   0      0      1      0     0   \n",
       "The Safran Company                 0       0   0      0      0      3     0   \n",
       "\n",
       "                             Comedy Animation  \n",
       "Company                                        \n",
       "Georgetown Productions, Inc.      0         0  \n",
       "Green Hat Films                   4         0  \n",
       "Pathé Pictures International      0         0  \n",
       "Theobald Film Productions         1         0  \n",
       "The Safran Company                1         0  "
      ]
     },
     "execution_count": 9,
     "metadata": {},
     "output_type": "execute_result"
    }
   ],
   "source": [
    "from collections import Counter\n",
    "#Counter(genre[1])\n",
    "df_cg =  pd.DataFrame(columns =['Company']+list_genre)\n",
    "#add company names to the 'Company' column in df_cg\n",
    "df_cg['Company'] = list_company\n",
    "\n",
    "# fill in the dataframe with number of movies for every genre that each company \n",
    "# has made in the 5000 movie dataset\n",
    "for j in range(len(list_genre)):   \n",
    "  for i in range(len(df_cg)): \n",
    "    df_cg.loc[i][1+j] = Counter(genre[j])[df_cg.loc[i][0]]\n",
    "df_cg = df_cg.set_index('Company')\n",
    "\n",
    "df_cg.head()"
   ]
  },
  {
   "cell_type": "markdown",
   "metadata": {
    "colab_type": "text",
    "id": "f8kxCye8rYx6"
   },
   "source": [
    "**Next we are going to relate production companies with a specific genre. Let's start with the action genre. **"
   ]
  },
  {
   "cell_type": "code",
   "execution_count": 10,
   "metadata": {
    "colab": {
     "autoexec": {
      "startup": false,
      "wait_interval": 0
     }
    },
    "colab_type": "code",
    "collapsed": true,
    "id": "SBg3_qaFeJQB"
   },
   "outputs": [],
   "source": [
    "# Select all the action movies from the original dataframe and create a \n",
    "# new data frame called df_action\n",
    "\n",
    "# create list of indexs of all action movies\n",
    "list_action = [] \n",
    "counter = 0 \n",
    "for s in df['genres']:\n",
    "  s = s.split('|')\n",
    "  if 'Action' in s: \n",
    "    list_action.append(counter)\n",
    "  counter = counter + 1\n"
   ]
  },
  {
   "cell_type": "code",
   "execution_count": 11,
   "metadata": {
    "colab": {
     "autoexec": {
      "startup": false,
      "wait_interval": 0
     }
    },
    "colab_type": "code",
    "collapsed": true,
    "id": "ZZeTgulnk4wq"
   },
   "outputs": [],
   "source": [
    "df_action = df.iloc[list_action]\n",
    "df_action = df_action.reset_index(drop=True)\n",
    "\n"
   ]
  },
  {
   "cell_type": "code",
   "execution_count": 12,
   "metadata": {
    "colab": {
     "autoexec": {
      "startup": false,
      "wait_interval": 0
     },
     "base_uri": "https://localhost:8080/",
     "height": 35,
     "output_extras": [
      {}
     ]
    },
    "colab_type": "code",
    "executionInfo": {
     "elapsed": 316,
     "status": "ok",
     "timestamp": 1521570749777,
     "user": {
      "displayName": "Erik Jensen",
      "photoUrl": "https://lh3.googleusercontent.com/a/default-user=s128",
      "userId": "105068432724791430130"
     },
     "user_tz": 420
    },
    "id": "kHvX70ntmT8T",
    "outputId": "6592a535-f591-435f-f12e-99ce4b862018"
   },
   "outputs": [
    {
     "data": {
      "text/plain": [
       "0.28424938474159145"
      ]
     },
     "execution_count": 12,
     "metadata": {},
     "output_type": "execute_result"
    }
   ],
   "source": [
    "# we figure out the how many action movies we have from these 5000 movies\n",
    "action_num = len(df_action )\n",
    "# percentage of action movies in the original dataset \n",
    "action_num/len(df)"
   ]
  },
  {
   "cell_type": "code",
   "execution_count": 13,
   "metadata": {
    "colab": {
     "autoexec": {
      "startup": false,
      "wait_interval": 0
     },
     "base_uri": "https://localhost:8080/",
     "height": 35,
     "output_extras": [
      {}
     ]
    },
    "colab_type": "code",
    "executionInfo": {
     "elapsed": 445,
     "status": "ok",
     "timestamp": 1521570750409,
     "user": {
      "displayName": "Erik Jensen",
      "photoUrl": "https://lh3.googleusercontent.com/a/default-user=s128",
      "userId": "105068432724791430130"
     },
     "user_tz": 420
    },
    "id": "_0-BSjsaoc2Z",
    "outputId": "19629187-15a2-4977-c302-ea9caa3c16e2"
   },
   "outputs": [
    {
     "name": "stdout",
     "output_type": "stream",
     "text": [
      "There are 983 different production companies in action movie data set\n"
     ]
    }
   ],
   "source": [
    "# next we shall figure out the aveg net_gain of each company that makes action movie  \n",
    "\n",
    "# First of all we find the total action movie netprofit for each company in df_action \n",
    "# We start off by building a set of companies that make action movies\n",
    "list_company_action = set() \n",
    "for s in df_action['production_companies']:\n",
    "  s = s.split('|')\n",
    "  list_company_action = set().union(s,list_company_action)\n",
    "list_company_action = list(list_company_action)\n",
    "list_company_action.remove('')\n",
    "len(list_company_action)\n",
    "print('There are',len(list_company_action),'different production companies in action movie data set')\n",
    "\n"
   ]
  },
  {
   "cell_type": "code",
   "execution_count": 14,
   "metadata": {
    "colab": {
     "autoexec": {
      "startup": false,
      "wait_interval": 0
     }
    },
    "colab_type": "code",
    "collapsed": true,
    "id": "r5dNUemM1sQ0"
   },
   "outputs": [],
   "source": [
    "# now we turn lis_company_action into a dictionary and start calculating the \n",
    "# total net_profit for each company\n",
    "dict_company_action = {x:0 for x in list_company_action}"
   ]
  },
  {
   "cell_type": "code",
   "execution_count": 15,
   "metadata": {
    "colab": {
     "autoexec": {
      "startup": false,
      "wait_interval": 0
     }
    },
    "colab_type": "code",
    "collapsed": true,
    "id": "Zuq71-h-wOvy"
   },
   "outputs": [],
   "source": [
    "\n",
    "# df_action.loc[0][13] is profit \n",
    "# df_action.loc[0][5] is company\n",
    "\n",
    "\n",
    "for i in range(len(df_action)): \n",
    "  s = df_action.loc[i][5].split('|')\n",
    "  for j in range(len(list_company_action)):\n",
    "    if list_company_action[j] in s: \n",
    "      dict_company_action[list_company_action[j]] =  dict_company_action[list_company_action[j]]+ df_action.loc[i][13]\n",
    "  "
   ]
  },
  {
   "cell_type": "code",
   "execution_count": 16,
   "metadata": {
    "colab": {
     "autoexec": {
      "startup": false,
      "wait_interval": 0
     },
     "base_uri": "https://localhost:8080/",
     "height": 53,
     "output_extras": [
      {}
     ]
    },
    "colab_type": "code",
    "collapsed": true,
    "executionInfo": {
     "elapsed": 369,
     "status": "ok",
     "timestamp": 1521570753382,
     "user": {
      "displayName": "Erik Jensen",
      "photoUrl": "https://lh3.googleusercontent.com/a/default-user=s128",
      "userId": "105068432724791430130"
     },
     "user_tz": 420
    },
    "id": "4Pg4WQ3xyvxI",
    "outputId": "996cac50-c444-4b8a-f022-d11820747241"
   },
   "outputs": [],
   "source": [
    "  # dict_company_action is a dictionary list that contains the netprofit for company making action movies\n",
    "  # Next, we want to figure out the average profit for each company making action movies\n",
    "  \n",
    "  df_cg.loc['Capcom']\n",
    "  for i in list_company_action: \n",
    "          dict_company_action[i] = dict_company_action[i]/df_cg.loc[i]['Action']\n",
    "  "
   ]
  },
  {
   "cell_type": "markdown",
   "metadata": {
    "colab_type": "text",
    "id": "Q7E-zqcTr2lW"
   },
   "source": [
    "**Here we create a dataframe to hold all the information related to the companies making action movies. We then plot graphs demonstrating the change of numbers of movies made in each genre and its profit.**"
   ]
  },
  {
   "cell_type": "code",
   "execution_count": 17,
   "metadata": {
    "colab": {
     "autoexec": {
      "startup": false,
      "wait_interval": 0
     }
    },
    "colab_type": "code",
    "collapsed": true,
    "id": "D9QAMrIsZqWC"
   },
   "outputs": [],
   "source": [
    "# next we want to plot the relationship between the number of action movies each \n",
    "# company had made and the average netprofit of each company\n",
    "\n",
    "df_action_company =  pd.DataFrame(columns =['Company','net_profit','number'])\n",
    "df_action_company['Company'] = list_company_action\n",
    "list_profit_action = []\n",
    "list_number_action = [] \n",
    "for i in list_company_action: \n",
    "  list_profit_action.append(dict_company_action[i])\n",
    "  list_number_action.append(df_cg.loc[i]['Action'])\n",
    "df_action_company['net_profit'] = list_profit_action\n",
    "df_action_company['number'] = list_number_action \n",
    "#df_action_company\n",
    " "
   ]
  },
  {
   "cell_type": "code",
   "execution_count": 18,
   "metadata": {
    "colab": {
     "autoexec": {
      "startup": false,
      "wait_interval": 0
     },
     "output_extras": [
      {},
      {}
     ]
    },
    "colab_type": "code",
    "id": "m_gafl4AAXYb",
    "outputId": "307ee902-3f95-42e5-cc3c-ee815c671e86"
   },
   "outputs": [
    {
     "data": {
      "image/png": "[encoded data removed]",
      "text/plain": [
       "<matplotlib.figure.Figure at 0x21618b4c048>"
      ]
     },
     "metadata": {},
     "output_type": "display_data"
    }
   ],
   "source": [
    "#df_action_company\n",
    "#plot_numprofit(df_action_company,list_company_action,dict_company_action,num = 6,'action')\n",
    "x=df_action_company['number']\n",
    "y=df_action_company['net_profit']\n",
    "xy = np.vstack([x,y])\n",
    "z = gaussian_kde(xy)(xy)\n",
    "idx = z.argsort()\n",
    "x, y, z = x[idx], y[idx], z[idx]\n",
    "fig, ax = plt.subplots()\n",
    "ax.scatter(x, y, c=z, s=50, edgecolor='')\n",
    "plt.title(\"number of Action movies made vs.profit\")\n",
    "plt.xlabel(\"number of movies\")\n",
    "plt.ylabel(\"profit\")\n",
    "plt.show()\n",
    "#sns.lmplot(x='number',y='net_profit',data=df_action_company,fit_reg=False)\n",
    "#plt.show()"
   ]
  },
  {
   "cell_type": "markdown",
   "metadata": {
    "colab_type": "text",
    "id": "U1jD4RbF6aS1"
   },
   "source": [
    "**The graph above shows the relationship between experience of production companies making a action movies and how much profit boost those action movie will recieve from those experience. Within the graph, each dot represent a company that have made an action movie. The axis means how many action movies each companies have made and the y-axis represent the average profit of action movies each companies have received. From the graph, we can see no signifiant correlation between experience and average movie profit as most of the white dots are outliers and the majority of the action companies concentrate on the bottom left.**"
   ]
  },
  {
   "cell_type": "code",
   "execution_count": 19,
   "metadata": {
    "colab": {
     "autoexec": {
      "startup": false,
      "wait_interval": 0
     }
    },
    "colab_type": "code",
    "collapsed": true,
    "id": "EKCSPJcyhz-x"
   },
   "outputs": [],
   "source": [
    "## this is the method for creating a list of all the desired type of movie\n",
    "def create_df_type(lis,ty):\n",
    "    \n",
    "    counter = 0\n",
    "    for s in df['genres']: \n",
    "        #s = s.split\n",
    "        if ty in s:\n",
    "            lis.append(counter)\n",
    "        counter = counter + 1\n",
    "  \n",
    "#this method creates a list of companies making the desired movie type \n",
    "def create_company_type(df_type): \n",
    "    \n",
    "    type_company  = set()\n",
    "    for s in df_type['production_companies']:\n",
    "        \n",
    "        s = s.split('|')\n",
    "        type_company = set().union(s,type_company)\n",
    "        type_company = list(type_company)\n",
    "        if '' in type_company:\n",
    "            type_company.remove('')\n",
    "    return type_company\n",
    "    \n",
    "# this method will fill in the dictionary \n",
    "def dict_mean(dictionary, lis, df_type): \n",
    "    \n",
    "    for i in range(len(df_type)): \n",
    "        \n",
    "        s = df_type.loc[i][5].split('|')\n",
    "        for j in range(len(lis)):\n",
    "            if lis[j] in s: \n",
    "                dictionary[lis[j]] = dictionary[lis[j]] + df_type.loc[i][13]\n",
    "    \n",
    "# this method will plot the relationship between the number of the desired\n",
    "# type of movie and the average netprofit for each company\n",
    "\n",
    "def plot_numprofit(df_type,lis,dictionary,num,name):\n",
    "    \n",
    "    df_type['Company'] = lis\n",
    "    list_profit_type = [] \n",
    "    list_number_type = [] \n",
    "    for i in lis:\n",
    "        \n",
    "        list_profit_type.append(dictionary[i])\n",
    "        list_number_type.append(df_cg.loc[i][num])\n",
    "    df_type['net_profit'] = list_profit_type\n",
    "    df_type['number'] = list_number_type\n",
    "    sns.lmplot(x='number',y='net_profit',data=df_type,fit_reg=False)\n",
    "    title='The relationship between number of '+name+' movies made and the average profit'\n",
    "    ax=plt.gca()\n",
    "    ax.set_title(title)\n",
    "    plt.show()\n",
    " \n"
   ]
  },
  {
   "cell_type": "code",
   "execution_count": 20,
   "metadata": {
    "colab": {
     "autoexec": {
      "startup": false,
      "wait_interval": 0
     },
     "base_uri": "https://localhost:8080/",
     "height": 405,
     "output_extras": [
      {},
      {}
     ]
    },
    "colab_type": "code",
    "collapsed": true,
    "executionInfo": {
     "elapsed": 2793,
     "status": "ok",
     "timestamp": 1521570759267,
     "user": {
      "displayName": "Erik Jensen",
      "photoUrl": "https://lh3.googleusercontent.com/a/default-user=s128",
      "userId": "105068432724791430130"
     },
     "user_tz": 420
    },
    "id": "W2KGLHowG5Nw",
    "outputId": "26b4f0ed-aad2-4d81-a0e9-40414828b5fc"
   },
   "outputs": [],
   "source": [
    "list_drama = [] \n",
    "create_df_type(list_drama,'Drama')\n",
    "df_drama = df.iloc[list_drama]\n",
    "df_drama = df_drama.reset_index(drop=True)\n",
    "list_company_drama = create_company_type(df_drama)\n",
    "dict_company_drama = {x:0 for x in list_company_drama}\n",
    "dict_mean(dict_company_drama,list_company_drama ,df_drama)\n",
    "for i in list_company_drama: \n",
    "    \n",
    "    try:\n",
    "        dict_company_drama[i] = dict_company_drama[i]/df_cg.loc[i]['Drama']\n",
    "    except: \n",
    "        pass\n",
    "df_drama_company = pd.DataFrame(columns =['Company','net_profit','number'])\n",
    "#plot_numprofit(df_drama_company,list_company_drama,dict_company_drama,num = 1,name='Drama')\n",
    "\n",
    "df_drama_company['Company'] = list_company_drama\n",
    "list_profit_drama = []\n",
    "list_number_drama = [] \n",
    "for i in list_company_drama: \n",
    "  list_profit_drama.append(dict_company_drama[i])\n",
    "  list_number_drama.append(df_cg.loc[i]['Drama'])\n",
    "df_drama_company['net_profit'] = list_profit_drama\n",
    "df_drama_company['number'] = list_number_drama \n"
   ]
  },
  {
   "cell_type": "code",
   "execution_count": 21,
   "metadata": {
    "colab": {
     "autoexec": {
      "startup": false,
      "wait_interval": 0
     }
    },
    "colab_type": "code",
    "id": "dLYOlanUAXYm"
   },
   "outputs": [
    {
     "data": {
      "image/png": "[encoded data removed]",
      "text/plain": [
       "<matplotlib.figure.Figure at 0x21618b4c7b8>"
      ]
     },
     "metadata": {},
     "output_type": "display_data"
    }
   ],
   "source": [
    "x=df_drama_company['number']\n",
    "y=df_drama_company['net_profit']\n",
    "xy = np.vstack([x,y])\n",
    "z = gaussian_kde(xy)(xy)\n",
    "idx = z.argsort()\n",
    "x, y, z = x[idx], y[idx], z[idx]\n",
    "fig, ax = plt.subplots()\n",
    "ax.scatter(x, y, c=z, s=50, edgecolor='')\n",
    "plt.title(\"number of drama movies made vs.profit\")\n",
    "plt.xlabel(\"number of movies\")\n",
    "plt.ylabel(\"profit\")\n",
    "plt.show()\n",
    "#sns.lmplot(x='number',y='net_profit',data=df_drama_company,fit_reg=False)\n",
    "#plt.show()"
   ]
  },
  {
   "cell_type": "markdown",
   "metadata": {
    "colab_type": "text",
    "id": "en-ULcNsABJX"
   },
   "source": [
    "**This graph also shows that there is no significant correlation between company experience and profit boost for drama movies. As we can see that the profit does not increase as the number value increases. Most drama movies with high profit aren't made by the most experienced drama genre production companies.**"
   ]
  },
  {
   "cell_type": "markdown",
   "metadata": {
    "colab_type": "text",
    "id": "aJx-adQcaam-"
   },
   "source": [
    "## Part 2: Analysis on relationship between revenues and budget and votes##"
   ]
  },
  {
   "cell_type": "markdown",
   "metadata": {
    "colab_type": "text",
    "id": "71edXTvbyj3Q"
   },
   "source": [
    "**Now, doing a linear regression we test to see if there is a significant relationship between revenue and budget(OLS analysis) of movies .We would take log10 of budget and revenue to gain  a better result** "
   ]
  },
  {
   "cell_type": "code",
   "execution_count": 22,
   "metadata": {
    "colab": {
     "autoexec": {
      "startup": false,
      "wait_interval": 0
     },
     "base_uri": "https://localhost:8080/",
     "height": 472,
     "output_extras": [
      {}
     ]
    },
    "colab_type": "code",
    "executionInfo": {
     "elapsed": 358,
     "status": "ok",
     "timestamp": 1521570759712,
     "user": {
      "displayName": "Erik Jensen",
      "photoUrl": "https://lh3.googleusercontent.com/a/default-user=s128",
      "userId": "105068432724791430130"
     },
     "user_tz": 420
    },
    "id": "Ad8e1FfZQq2u",
    "outputId": "a58ceb45-765d-4a71-eb61-b5318ea1804e"
   },
   "outputs": [
    {
     "name": "stdout",
     "output_type": "stream",
     "text": [
      "                            OLS Regression Results                            \n",
      "==============================================================================\n",
      "Dep. Variable:                revenue   R-squared:                       0.635\n",
      "Model:                            OLS   Adj. R-squared:                  0.635\n",
      "Method:                 Least Squares   F-statistic:                     4236.\n",
      "Date:                Thu, 22 Mar 2018   Prob (F-statistic):               0.00\n",
      "Time:                        18:51:17   Log-Likelihood:                -1088.1\n",
      "No. Observations:                2438   AIC:                             2180.\n",
      "Df Residuals:                    2436   BIC:                             2192.\n",
      "Df Model:                           1                                         \n",
      "Covariance Type:            nonrobust                                         \n",
      "==============================================================================\n",
      "                 coef    std err          t      P>|t|      [0.025      0.975]\n",
      "------------------------------------------------------------------------------\n",
      "Intercept      2.8296      0.078     36.299      0.000       2.677       2.982\n",
      "budget         0.6906      0.011     65.083      0.000       0.670       0.711\n",
      "==============================================================================\n",
      "Omnibus:                      838.193   Durbin-Watson:                   1.453\n",
      "Prob(Omnibus):                  0.000   Jarque-Bera (JB):            13921.755\n",
      "Skew:                           1.176   Prob(JB):                         0.00\n",
      "Kurtosis:                      14.468   Cond. No.                         76.1\n",
      "==============================================================================\n",
      "\n",
      "Warnings:\n",
      "[1] Standard Errors assume that the covariance matrix of the errors is correctly specified.\n"
     ]
    }
   ],
   "source": [
    "#Create linear regression\n",
    "df_br=df.copy(deep=True)\n",
    "df_br.dropna(subset=['revenue','budget'],inplace=True)\n",
    "df_br['revenue']=df.revenue.mask(df_br.revenue==0,1)\n",
    "df_br['budget']=df_br.budget.mask(df_br.budget==0,1)\n",
    "df_br['revenue']=np.log10(df_br['revenue'])\n",
    "df_br['budget']=np.log10(df_br['budget'])\n",
    "outcome, predictors = patsy.dmatrices('revenue~ budget', df_br)\n",
    "mod = sm.OLS(outcome, predictors)\n",
    "res = mod.fit()\n",
    "print(res.summary())"
   ]
  },
  {
   "cell_type": "markdown",
   "metadata": {
    "colab_type": "text",
    "id": "883M1Vg3yttW"
   },
   "source": [
    "**By the R-squared and p- value shown above, we can conclude that the relationship between revenue and budget is strong, let's see how the relationship is present in a plot.**"
   ]
  },
  {
   "cell_type": "code",
   "execution_count": 23,
   "metadata": {
    "colab": {
     "autoexec": {
      "startup": false,
      "wait_interval": 0
     },
     "base_uri": "https://localhost:8080/",
     "height": 369,
     "output_extras": [
      {},
      {}
     ]
    },
    "colab_type": "code",
    "executionInfo": {
     "elapsed": 1074,
     "status": "ok",
     "timestamp": 1521570761019,
     "user": {
      "displayName": "Erik Jensen",
      "photoUrl": "https://lh3.googleusercontent.com/a/default-user=s128",
      "userId": "105068432724791430130"
     },
     "user_tz": 420
    },
    "id": "QjJxb1Q_gB9S",
    "outputId": "fa6091c8-e993-48dc-def8-7011f2d66ca3"
   },
   "outputs": [
    {
     "data": {
      "image/png": "[encoded data removed]",
      "text/plain": [
       "<matplotlib.figure.Figure at 0x21618b571d0>"
      ]
     },
     "metadata": {},
     "output_type": "display_data"
    }
   ],
   "source": [
    "#plot the linear regression graph showing the budget revenue relation\n",
    "fig=sns.lmplot(x='budget',y='revenue',data=df_br,fit_reg=True) \n",
    "fig.set(xlim=(4, None))\n",
    "fig.set(ylim=(4,None))\n",
    "plt.show()\n",
    "#fig.xticks([0,1,2,3,4,5,6,7,8,9,10])"
   ]
  },
  {
   "cell_type": "markdown",
   "metadata": {
    "colab_type": "text",
    "id": "H0zcAizQy639"
   },
   "source": [
    "**The graph above clearly demonstrates the strong coorelation between budget and revenue( we exclude outliers in budgets which are relatively small). Now we want to know which genre would makes the higest revenue in general. The median is a good representation of general situation here.**"
   ]
  },
  {
   "cell_type": "code",
   "execution_count": 24,
   "metadata": {
    "colab": {
     "autoexec": {
      "startup": false,
      "wait_interval": 0
     },
     "base_uri": "https://localhost:8080/",
     "height": 276,
     "output_extras": [
      {}
     ]
    },
    "colab_type": "code",
    "executionInfo": {
     "elapsed": 784,
     "status": "ok",
     "timestamp": 1521570761924,
     "user": {
      "displayName": "Erik Jensen",
      "photoUrl": "https://lh3.googleusercontent.com/a/default-user=s128",
      "userId": "105068432724791430130"
     },
     "user_tz": 420
    },
    "id": "9oR1SMG7eFRh",
    "outputId": "7c40d795-862e-4e4e-8c2f-19526fb8efe9"
   },
   "outputs": [
    {
     "data": {
      "image/png": "[encoded data removed]",
      "text/plain": [
       "<matplotlib.figure.Figure at 0x2161886b6d8>"
      ]
     },
     "metadata": {},
     "output_type": "display_data"
    }
   ],
   "source": [
    "#take median of the genere movies as it indicates the situations better \n",
    "def get_genre_avg_revenue(genre):\n",
    "  list_index=[]\n",
    "  counter=0\n",
    "  for string in df['genres']:\n",
    "    if genre in string:\n",
    "      list_index.append(counter)\n",
    "    counter+=1\n",
    "  #take medians for the revenue\n",
    "  return (df.iloc[list_index]['revenue'].median())\n",
    "\n",
    "def convert_million(value):\n",
    "    \n",
    "    return '$%1.1fM' % (value * 1e-6)\n",
    "      \n",
    "    \n",
    "\n",
    "#do a analysis on the average revenue by genre(how does genre affects the average revenue)\n",
    "genre_dict_revenue={}\n",
    "for genre in list_genre:\n",
    "  genre_dict_revenue[genre]=get_genre_avg_revenue(genre)\n",
    "\n",
    "#create a list of starting 3 chars of genre\n",
    "list_dict_3_bet=[]\n",
    "for genre in list_genre:\n",
    "    list_dict_3_bet.append(genre[:3])\n",
    "  \n",
    "\n",
    "#plot the distribution of graph\n",
    "plt.bar(list_dict_3_bet,genre_dict_revenue.values(),width=0.2, color='g')\n",
    "plt.show()\n",
    "\n",
    "\n",
    "#it seems that the adventure drama and music movies have the highest median revenue of the all\n",
    "#then we want to see which combinations of genre could have highest median, then\n",
    "\n"
   ]
  },
  {
   "cell_type": "markdown",
   "metadata": {
    "colab_type": "text",
    "id": "xSHcYq4IzsNk"
   },
   "source": [
    "**(Note that in the graph, the value in x-axis is the first 3 letters of each genre. ex: 'Act' is 'Action')The graph above shows the average profit for each genre of movies. As we can see, the most profitable genres are 'Animation', which makes sense because from the previous graph we know that movies with high budget often have high revenue. Since making an animation movies requires teremendous amount of budget, thus its high rate of return is expected.**"
   ]
  },
  {
   "cell_type": "code",
   "execution_count": 25,
   "metadata": {
    "colab": {
     "autoexec": {
      "startup": false,
      "wait_interval": 0
     },
     "base_uri": "https://localhost:8080/",
     "height": 265,
     "output_extras": [
      {}
     ]
    },
    "colab_type": "code",
    "executionInfo": {
     "elapsed": 675,
     "status": "ok",
     "timestamp": 1521570762732,
     "user": {
      "displayName": "Erik Jensen",
      "photoUrl": "https://lh3.googleusercontent.com/a/default-user=s128",
      "userId": "105068432724791430130"
     },
     "user_tz": 420
    },
    "id": "lXQxWOuggCmA",
    "outputId": "ad01d01f-725d-461b-87c4-5223869732c8"
   },
   "outputs": [
    {
     "data": {
      "image/png": "[encoded data removed]",
      "text/plain": [
       "<matplotlib.figure.Figure at 0x21618b57fd0>"
      ]
     },
     "metadata": {},
     "output_type": "display_data"
    }
   ],
   "source": [
    "#do a analysis of genere vs votes\n",
    "def get_genre_vote(genre):\n",
    "  list_index=[]\n",
    "  counter=0\n",
    "  for string in df['genres']:\n",
    "    if genre in string:\n",
    "      list_index.append(counter)\n",
    "    counter+=1\n",
    "  #take medians for all movies in the genre\n",
    "  return df.iloc[list_index]['vote_average'].median()\n",
    "\n",
    "genre_dict_votes={}\n",
    "for genre in list_genre:\n",
    "  genre_dict_votes[genre]=get_genre_vote(genre)\n",
    "\n",
    "#do a bar char\n",
    "plt.bar(list_dict_3_bet,genre_dict_votes.values(),width=0.2, color='g')\n",
    "plt.show()\n"
   ]
  },
  {
   "cell_type": "markdown",
   "metadata": {
    "colab_type": "text",
    "id": "ybKkpyefVIpL"
   },
   "source": [
    "**The graph above shows the genre in relation to its average score. The x-axis shows the genre of the movie and the y-axis defines the average score for that genre of movie in relation to our dataframe. We can see from here though animations makes a lot of money but they don't have the highest vote. In general war and Western have highest votes.**"
   ]
  },
  {
   "cell_type": "markdown",
   "metadata": {
    "colab_type": "text",
    "id": "tlXFEelxaXhG"
   },
   "source": []
  },
  {
   "cell_type": "markdown",
   "metadata": {
    "colab_type": "text",
    "id": "WAxOdMQXxeoQ"
   },
   "source": [
    "# ***Part 3: Analysis based on keywords of movies***"
   ]
  },
  {
   "cell_type": "markdown",
   "metadata": {
    "colab_type": "text",
    "id": "z4z1pF8JV2Ni"
   },
   "source": [
    "**In the dataset, there are several keywords related to the movies: Some of the movies are about \"women director\" and some are about \"crime family\". How are those keywords related to movie revenue?**"
   ]
  },
  {
   "cell_type": "code",
   "execution_count": 26,
   "metadata": {
    "colab": {
     "autoexec": {
      "startup": false,
      "wait_interval": 0
     }
    },
    "colab_type": "code",
    "collapsed": true,
    "id": "QbVbmo1evhsh"
   },
   "outputs": [],
   "source": [
    "#What about keywords in the movies, are they have general high relationship with revenue?\n",
    "#Let's get the list of keywords first and find the most popular one\n",
    "#get the list of key words\n",
    "liste_keywords = set()\n",
    "for s in df['keywords'].str.split('|'):\n",
    "    liste_keywords = set().union(s, liste_keywords)\n",
    "liste_keywords = list(liste_keywords)\n",
    "liste_keywords.remove('')\n",
    "\n"
   ]
  },
  {
   "cell_type": "code",
   "execution_count": 27,
   "metadata": {
    "colab": {
     "autoexec": {
      "startup": false,
      "wait_interval": 0
     },
     "base_uri": "https://localhost:8080/",
     "height": 35,
     "output_extras": [
      {}
     ]
    },
    "colab_type": "code",
    "executionInfo": {
     "elapsed": 2727,
     "status": "ok",
     "timestamp": 1521570766281,
     "user": {
      "displayName": "Erik Jensen",
      "photoUrl": "https://lh3.googleusercontent.com/a/default-user=s128",
      "userId": "105068432724791430130"
     },
     "user_tz": 420
    },
    "id": "_XU5OPJP1ZBv",
    "outputId": "ccd8dace-eaa8-4cae-8c0d-14a8ef6f6e81"
   },
   "outputs": [
    {
     "data": {
      "text/plain": [
       "7660"
      ]
     },
     "execution_count": 27,
     "metadata": {},
     "output_type": "execute_result"
    }
   ],
   "source": [
    "def count_word(df, ref_col, liste):\n",
    "    keyword_count = dict()\n",
    "    for s in liste: keyword_count[s] = 0\n",
    "    for liste_keywords in df[ref_col].str.split('|'):        \n",
    "        if type(liste_keywords) == float and pd.isnull(liste_keywords): continue        \n",
    "        for s in [s for s in liste_keywords if s in liste]: \n",
    "            if pd.notnull(s): keyword_count[s] += 1\n",
    "              \n",
    "    keyword_occurences = []\n",
    "    for k,v in keyword_count.items():\n",
    "        keyword_occurences.append([k,v])\n",
    "    keyword_occurences.sort(key = lambda x:x[1], reverse = True)\n",
    "    return keyword_occurences, keyword_count\n",
    " \n",
    "keyword_occurences, dum = count_word(df, 'keywords', liste_keywords)\n",
    "len(keyword_occurences)"
   ]
  },
  {
   "cell_type": "code",
   "execution_count": 28,
   "metadata": {
    "colab": {
     "autoexec": {
      "startup": false,
      "wait_interval": 0
     }
    },
    "colab_type": "code",
    "collapsed": true,
    "id": "ZqCmdTpwtBaD"
   },
   "outputs": [],
   "source": [
    "#create a new dataframe about the occurence of the different keyWords"
   ]
  },
  {
   "cell_type": "code",
   "execution_count": 29,
   "metadata": {
    "colab": {
     "autoexec": {
      "startup": false,
      "wait_interval": 0
     },
     "base_uri": "https://localhost:8080/",
     "height": 72,
     "output_extras": [
      {},
      {}
     ]
    },
    "colab_type": "code",
    "executionInfo": {
     "elapsed": 34071,
     "status": "ok",
     "timestamp": 1521570801663,
     "user": {
      "displayName": "Erik Jensen",
      "photoUrl": "https://lh3.googleusercontent.com/a/default-user=s128",
      "userId": "105068432724791430130"
     },
     "user_tz": 420
    },
    "id": "enNJYgAL1v32",
    "outputId": "d77f4d5b-c4fd-4238-fdea-86209fe4cb7c"
   },
   "outputs": [
    {
     "name": "stderr",
     "output_type": "stream",
     "text": [
      "C:\\Users\\10024\\Anaconda3\\lib\\site-packages\\ipykernel_launcher.py:12: UserWarning: This pattern has match groups. To actually get the groups, use str.extract.\n",
      "  if sys.path[0] == '':\n"
     ]
    },
    {
     "data": {
      "text/plain": [
       "(2438, 7665)"
      ]
     },
     "execution_count": 29,
     "metadata": {},
     "output_type": "execute_result"
    }
   ],
   "source": [
    "#get a new dataframe based on keywords\n",
    "#df_keywords=df.copy(deep=True)\n",
    "keyword_list = set()\n",
    "for s in df['keywords'].str.split('|'):\n",
    "    keyword_list = set().union(s, keyword_list)\n",
    "keyword_list = list(keyword_list)\n",
    "keyword_list.remove('')\n",
    "\n",
    "df_keywords = df[['title','vote_average','release_date','budget','revenue']].reset_index(drop=True)\n",
    "\n",
    "for keyword in keyword_list:\n",
    "    df_keywords[keyword] = df['keywords'].str.contains(keyword).apply(lambda x:1 if x else 0)\n",
    "\n",
    "df_keywords.shape"
   ]
  },
  {
   "cell_type": "markdown",
   "metadata": {
    "colab_type": "text",
    "id": "ROdfcUSBKlxA"
   },
   "source": [
    "**Now we would like to create a new dataframe based on keywords. We want to include the mean budget, mean revenue and mean vote related for each keyword. From the dataframe we can calculate the profit gain related to each keyword as well as the rating.** "
   ]
  },
  {
   "cell_type": "code",
   "execution_count": 30,
   "metadata": {
    "colab": {
     "autoexec": {
      "startup": false,
      "wait_interval": 0
     }
    },
    "colab_type": "code",
    "collapsed": true,
    "id": "haWG1x0qn0wb"
   },
   "outputs": [],
   "source": [
    "mean_for_keyword = pd.DataFrame(keyword_list)\n",
    "array1=[]*len(keyword_list)\n",
    "#mean vote\n",
    "for keyword in keyword_list:\n",
    "    array1.append(df_keywords.groupby(keyword, as_index=True)['vote_average'].mean())\n",
    " \n",
    "#mean budget\n",
    "array2 = []*len(keyword_list)\n",
    "for keyword in keyword_list:\n",
    "    array2.append(df_keywords.groupby(keyword, as_index=True)['budget'].mean())\n",
    "\n",
    "array3 = []*len(keyword_list)\n",
    "for keyword in keyword_list:\n",
    "    array3.append(df_keywords.groupby(keyword, as_index=True)['revenue'].mean())\n",
    "\n",
    "mean_for_keyword['mean_vote_average']=list(pd.DataFrame(array1)[1])\n",
    "mean_for_keyword['mean_budget']=list(pd.DataFrame(array2)[1])\n",
    "mean_for_keyword['mean_revenue']=list(pd.DataFrame(array3)[1]) \n",
    "mean_for_keyword.columns = ['keyword','mean_vote_average','mean_budget','mean_revenue']"
   ]
  },
  {
   "cell_type": "code",
   "execution_count": 31,
   "metadata": {
    "colab": {
     "autoexec": {
      "startup": false,
      "wait_interval": 0
     },
     "base_uri": "https://localhost:8080/",
     "height": 198,
     "output_extras": [
      {}
     ]
    },
    "colab_type": "code",
    "executionInfo": {
     "elapsed": 1374,
     "status": "ok",
     "timestamp": 1521570824021,
     "user": {
      "displayName": "Erik Jensen",
      "photoUrl": "https://lh3.googleusercontent.com/a/default-user=s128",
      "userId": "105068432724791430130"
     },
     "user_tz": 420
    },
    "id": "LlgUDGJ5pNMZ",
    "outputId": "80063398-ac30-4a60-bf47-fc0c4cab23c2"
   },
   "outputs": [
    {
     "data": {
      "text/html": [
       "<div>\n",
       "<style>\n",
       "    .dataframe thead tr:only-child th {\n",
       "        text-align: right;\n",
       "    }\n",
       "\n",
       "    .dataframe thead th {\n",
       "        text-align: left;\n",
       "    }\n",
       "\n",
       "    .dataframe tbody tr th {\n",
       "        vertical-align: top;\n",
       "    }\n",
       "</style>\n",
       "<table border=\"1\" class=\"dataframe\">\n",
       "  <thead>\n",
       "    <tr style=\"text-align: right;\">\n",
       "      <th></th>\n",
       "      <th>keyword</th>\n",
       "      <th>mean_vote_average</th>\n",
       "      <th>mean_budget</th>\n",
       "      <th>mean_revenue</th>\n",
       "    </tr>\n",
       "  </thead>\n",
       "  <tbody>\n",
       "    <tr>\n",
       "      <th>4923</th>\n",
       "      <td>wrongful imprisonment</td>\n",
       "      <td>8.5</td>\n",
       "      <td>25000000.0</td>\n",
       "      <td>28341469.0</td>\n",
       "    </tr>\n",
       "    <tr>\n",
       "      <th>3005</th>\n",
       "      <td>italian american</td>\n",
       "      <td>8.4</td>\n",
       "      <td>6000000.0</td>\n",
       "      <td>245066411.0</td>\n",
       "    </tr>\n",
       "    <tr>\n",
       "      <th>5179</th>\n",
       "      <td>mob boss</td>\n",
       "      <td>8.4</td>\n",
       "      <td>6000000.0</td>\n",
       "      <td>245066411.0</td>\n",
       "    </tr>\n",
       "    <tr>\n",
       "      <th>2622</th>\n",
       "      <td>crime family</td>\n",
       "      <td>8.4</td>\n",
       "      <td>6000000.0</td>\n",
       "      <td>245066411.0</td>\n",
       "    </tr>\n",
       "    <tr>\n",
       "      <th>3035</th>\n",
       "      <td>dance contest</td>\n",
       "      <td>8.3</td>\n",
       "      <td>8000000.0</td>\n",
       "      <td>213928762.0</td>\n",
       "    </tr>\n",
       "  </tbody>\n",
       "</table>\n",
       "</div>"
      ],
      "text/plain": [
       "                    keyword  mean_vote_average  mean_budget  mean_revenue\n",
       "4923  wrongful imprisonment                8.5   25000000.0    28341469.0\n",
       "3005       italian american                8.4    6000000.0   245066411.0\n",
       "5179               mob boss                8.4    6000000.0   245066411.0\n",
       "2622           crime family                8.4    6000000.0   245066411.0\n",
       "3035          dance contest                8.3    8000000.0   213928762.0"
      ]
     },
     "execution_count": 31,
     "metadata": {},
     "output_type": "execute_result"
    }
   ],
   "source": [
    "mean_for_keyword.sort_values('mean_vote_average', ascending=False).head()\n"
   ]
  },
  {
   "cell_type": "code",
   "execution_count": 32,
   "metadata": {
    "colab": {
     "autoexec": {
      "startup": false,
      "wait_interval": 0
     },
     "base_uri": "https://localhost:8080/",
     "height": 198,
     "output_extras": [
      {}
     ]
    },
    "colab_type": "code",
    "executionInfo": {
     "elapsed": 386,
     "status": "ok",
     "timestamp": 1521570824548,
     "user": {
      "displayName": "Erik Jensen",
      "photoUrl": "https://lh3.googleusercontent.com/a/default-user=s128",
      "userId": "105068432724791430130"
     },
     "user_tz": 420
    },
    "id": "i1nIdaYcqQk2",
    "outputId": "67782d57-6bb5-4c98-cea7-bb9597abe5ce"
   },
   "outputs": [
    {
     "data": {
      "text/html": [
       "<div>\n",
       "<style>\n",
       "    .dataframe thead tr:only-child th {\n",
       "        text-align: right;\n",
       "    }\n",
       "\n",
       "    .dataframe thead th {\n",
       "        text-align: left;\n",
       "    }\n",
       "\n",
       "    .dataframe tbody tr th {\n",
       "        vertical-align: top;\n",
       "    }\n",
       "</style>\n",
       "<table border=\"1\" class=\"dataframe\">\n",
       "  <thead>\n",
       "    <tr style=\"text-align: right;\">\n",
       "      <th></th>\n",
       "      <th>keyword</th>\n",
       "      <th>mean_vote_average</th>\n",
       "      <th>mean_budget</th>\n",
       "      <th>mean_revenue</th>\n",
       "    </tr>\n",
       "  </thead>\n",
       "  <tbody>\n",
       "    <tr>\n",
       "      <th>3769</th>\n",
       "      <td>lex luthor</td>\n",
       "      <td>5.4</td>\n",
       "      <td>270000000.0</td>\n",
       "      <td>391081192.0</td>\n",
       "    </tr>\n",
       "    <tr>\n",
       "      <th>5237</th>\n",
       "      <td>healing power</td>\n",
       "      <td>7.4</td>\n",
       "      <td>260000000.0</td>\n",
       "      <td>591794936.0</td>\n",
       "    </tr>\n",
       "    <tr>\n",
       "      <th>4173</th>\n",
       "      <td>edgar rice burroughs</td>\n",
       "      <td>6.1</td>\n",
       "      <td>260000000.0</td>\n",
       "      <td>284139100.0</td>\n",
       "    </tr>\n",
       "    <tr>\n",
       "      <th>1317</th>\n",
       "      <td>mars civilization</td>\n",
       "      <td>6.1</td>\n",
       "      <td>260000000.0</td>\n",
       "      <td>284139100.0</td>\n",
       "    </tr>\n",
       "    <tr>\n",
       "      <th>3350</th>\n",
       "      <td>healing gift</td>\n",
       "      <td>7.4</td>\n",
       "      <td>260000000.0</td>\n",
       "      <td>591794936.0</td>\n",
       "    </tr>\n",
       "  </tbody>\n",
       "</table>\n",
       "</div>"
      ],
      "text/plain": [
       "                   keyword  mean_vote_average  mean_budget  mean_revenue\n",
       "3769            lex luthor                5.4  270000000.0   391081192.0\n",
       "5237         healing power                7.4  260000000.0   591794936.0\n",
       "4173  edgar rice burroughs                6.1  260000000.0   284139100.0\n",
       "1317     mars civilization                6.1  260000000.0   284139100.0\n",
       "3350          healing gift                7.4  260000000.0   591794936.0"
      ]
     },
     "execution_count": 32,
     "metadata": {},
     "output_type": "execute_result"
    }
   ],
   "source": [
    "mean_for_keyword.sort_values('mean_budget', ascending=False).head()"
   ]
  },
  {
   "cell_type": "code",
   "execution_count": 33,
   "metadata": {
    "colab": {
     "autoexec": {
      "startup": false,
      "wait_interval": 0
     }
    },
    "colab_type": "code",
    "collapsed": true,
    "id": "5Xxr4OycrTCZ"
   },
   "outputs": [],
   "source": [
    "mean_revenue = mean_for_keyword.sort_values('mean_revenue', ascending=False)"
   ]
  },
  {
   "cell_type": "markdown",
   "metadata": {
    "colab_type": "text",
    "id": "5CjQk_7yLsdm"
   },
   "source": [
    "** Here we plot the top 50 keywords's mean revenues of each movie and denote the mean revenue gained by the top 50 keywords.**"
   ]
  },
  {
   "cell_type": "code",
   "execution_count": 34,
   "metadata": {
    "colab": {
     "autoexec": {
      "startup": false,
      "wait_interval": 0
     },
     "base_uri": "https://localhost:8080/",
     "height": 410,
     "output_extras": [
      {}
     ]
    },
    "colab_type": "code",
    "executionInfo": {
     "elapsed": 1530,
     "status": "ok",
     "timestamp": 1521570826520,
     "user": {
      "displayName": "Erik Jensen",
      "photoUrl": "https://lh3.googleusercontent.com/a/default-user=s128",
      "userId": "105068432724791430130"
     },
     "user_tz": 420
    },
    "id": "j_16Un3lbYFC",
    "outputId": "b735566e-2b1c-4eeb-ef6e-1bfee375e6a3"
   },
   "outputs": [
    {
     "data": {
      "image/png": "[encoded data removed]",
      "text/plain": [
       "<matplotlib.figure.Figure at 0x21618361c50>"
      ]
     },
     "metadata": {},
     "output_type": "display_data"
    }
   ],
   "source": [
    "import matplotlib.pyplot as plt\n",
    "\n",
    "ax = mean_revenue[0:50].plot.bar(x = 'keyword', y='mean_revenue', title=\"mean_revenue\",\n",
    "                     figsize=(15,4), legend=True, fontsize=12, color='green', label = \"mean_revenue\")\n",
    "#ax.set_ylim(5, 8)\n",
    "ax.axhline(y=mean_revenue[0:50]['mean_revenue'].mean(),c=\"blue\",linewidth=0.5, label='mean')\n",
    "ax.legend()\n",
    "plt.show()\n",
    "\n",
    "\n"
   ]
  },
  {
   "cell_type": "markdown",
   "metadata": {
    "colab_type": "text",
    "id": "jQ2LmQ7uGtnY"
   },
   "source": [
    "**The graph above shows that some keywords could contribute to much higher revenue for the movies.** \n"
   ]
  },
  {
   "cell_type": "markdown",
   "metadata": {
    "colab_type": "text",
    "id": "18AcpB20bB74"
   },
   "source": [
    "## Vote vs. revenue##\n",
    "\n",
    "**How could votes affect the revenue of the movies? Is it true that high revenue movies would have higher ratings or vice versa? Below we show a plot and regression to visualize the relationship between votes and revenue.**"
   ]
  },
  {
   "cell_type": "code",
   "execution_count": 35,
   "metadata": {
    "colab": {
     "autoexec": {
      "startup": false,
      "wait_interval": 0
     },
     "base_uri": "https://localhost:8080/",
     "height": 369,
     "output_extras": [
      {}
     ]
    },
    "colab_type": "code",
    "executionInfo": {
     "elapsed": 1759,
     "status": "ok",
     "timestamp": 1521570828327,
     "user": {
      "displayName": "Erik Jensen",
      "photoUrl": "https://lh3.googleusercontent.com/a/default-user=s128",
      "userId": "105068432724791430130"
     },
     "user_tz": 420
    },
    "id": "7fCID8Wwh-sQ",
    "outputId": "ec51bdf7-4a00-4730-a5c5-421a6fe48d89"
   },
   "outputs": [
    {
     "data": {
      "image/png": "[encoded data removed]",
      "text/plain": [
       "<matplotlib.figure.Figure at 0x216180754a8>"
      ]
     },
     "metadata": {},
     "output_type": "display_data"
    }
   ],
   "source": [
    "\n",
    "# relationship between mean vote and mean revenue \n",
    "x=mean_revenue['mean_vote_average'].dropna()\n",
    "y=mean_revenue['mean_revenue'].dropna()\n",
    "xy = np.vstack([x,y])\n",
    "z = gaussian_kde(xy)(xy)\n",
    "idx = z.argsort()\n",
    "x, y, z = x[idx], y[idx], z[idx]\n",
    "fig, ax = plt.subplots()\n",
    "ax.scatter(x, y, c=z, s=50, edgecolor='')\n",
    "plt.title(\"density plot of votes vs revenue\")\n",
    "plt.xlabel(\"votes\")\n",
    "plt.ylabel(\"revenue\")\n",
    "plt.show()\n"
   ]
  },
  {
   "cell_type": "markdown",
   "metadata": {
    "colab_type": "text",
    "id": "tKUG38DtOHbh"
   },
   "source": [
    "**The graph above does show that most movies are with vote score around 4.5-8.5 and having a revenue bellow 1 billion. In the range of vote score 6.8-7.0  is the place where movies make the higher revenue in general by seeing the shape of yellow.**"
   ]
  },
  {
   "cell_type": "markdown",
   "metadata": {
    "colab_type": "text",
    "id": "JHk2sf0pNb6s"
   },
   "source": []
  },
  {
   "cell_type": "markdown",
   "metadata": {
    "colab_type": "text",
    "id": "G0lq4xhPxWEL"
   },
   "source": [
    "# ***Part 4: Analysis on Top 500 companies that earn the most***"
   ]
  },
  {
   "cell_type": "markdown",
   "metadata": {
    "colab_type": "text",
    "id": "yHJeTOyHyHzt"
   },
   "source": [
    "**Next, lets figure out the mean net profit, mean vote average and most common genre of the top 500 companies that earn the highest revenue of all the companies. Then we can get a good overview of movies made by these high earning companies using their votes and genre. We also want to know if the coorperation of these companies could bring higher profits. We create a dataframe incluing those information we want first **"
   ]
  },
  {
   "cell_type": "code",
   "execution_count": 36,
   "metadata": {
    "colab": {
     "autoexec": {
      "startup": false,
      "wait_interval": 0
     }
    },
    "colab_type": "code",
    "collapsed": true,
    "id": "PNW_8FWRfJhI"
   },
   "outputs": [],
   "source": [
    "company_genre_list = [[] for x in range(len(list_company))]\n",
    "count_list = [0]*len(list_company)\n",
    "vote_list = [0]*len(list_company)\n",
    "profit_list = [0]*len(list_company)\n",
    "for i in range(len(df)): \n",
    "  genre = df.loc[i]['genres'].split('|')\n",
    "  company = df.loc[i]['production_companies'].split('|')\n",
    "  vote = df.loc[i]['vote_average']\n",
    "  profit = df.loc[i]['net_profit']\n",
    "  counter = 0\n",
    "  for j in list_company: \n",
    "    if j in company: \n",
    "      vote_list[counter] += vote\n",
    "      profit_list[counter] += profit \n",
    "      #if company_genre_list[counter] == 0: \n",
    "        #company_genre_list[counter] = [] \n",
    "      company_genre_list[counter] = company_genre_list[counter]+genre\n",
    "      count_list[counter] += 1\n",
    "    counter += 1"
   ]
  },
  {
   "cell_type": "code",
   "execution_count": 37,
   "metadata": {
    "colab": {
     "autoexec": {
      "startup": false,
      "wait_interval": 0
     }
    },
    "colab_type": "code",
    "collapsed": true,
    "id": "iLUTHeV4fq_G"
   },
   "outputs": [],
   "source": [
    "for i in range(len(count_list)):\n",
    "  vote_list[i] = vote_list[i]/count_list[i]\n",
    "  profit_list[i] = profit_list[i]/count_list[i]\n",
    "  company_genre_list[i] = max(set(company_genre_list[i]), key = company_genre_list[i].count)"
   ]
  },
  {
   "cell_type": "code",
   "execution_count": 38,
   "metadata": {
    "colab": {
     "autoexec": {
      "startup": false,
      "wait_interval": 0
     }
    },
    "colab_type": "code",
    "collapsed": true,
    "id": "cs2dan7RqiZH"
   },
   "outputs": [],
   "source": [
    "df_complex_company = pd.DataFrame(columns =['Company','mean_net_profit','mean_vote','most_common_genre'])"
   ]
  },
  {
   "cell_type": "code",
   "execution_count": 39,
   "metadata": {
    "colab": {
     "autoexec": {
      "startup": false,
      "wait_interval": 0
     }
    },
    "colab_type": "code",
    "collapsed": true,
    "id": "GXCz42Ycrbyp"
   },
   "outputs": [],
   "source": [
    "df_complex_company['mean_net_profit'] = profit_list\n",
    "df_complex_company['Company'] = list_company \n",
    "df_complex_company['mean_vote'] = vote_list\n",
    "df_complex_company['most_common_genre'] = company_genre_list"
   ]
  },
  {
   "cell_type": "code",
   "execution_count": 40,
   "metadata": {
    "colab": {
     "autoexec": {
      "startup": false,
      "wait_interval": 0
     },
     "base_uri": "https://localhost:8080/",
     "height": 198,
     "output_extras": [
      {}
     ]
    },
    "colab_type": "code",
    "executionInfo": {
     "elapsed": 444,
     "status": "ok",
     "timestamp": 1521570834963,
     "user": {
      "displayName": "Erik Jensen",
      "photoUrl": "https://lh3.googleusercontent.com/a/default-user=s128",
      "userId": "105068432724791430130"
     },
     "user_tz": 420
    },
    "id": "tpzv3IEuskZo",
    "outputId": "3cf8fd70-d62d-4773-9357-451377d963e3"
   },
   "outputs": [
    {
     "data": {
      "text/html": [
       "<div>\n",
       "<style>\n",
       "    .dataframe thead tr:only-child th {\n",
       "        text-align: right;\n",
       "    }\n",
       "\n",
       "    .dataframe thead th {\n",
       "        text-align: left;\n",
       "    }\n",
       "\n",
       "    .dataframe tbody tr th {\n",
       "        vertical-align: top;\n",
       "    }\n",
       "</style>\n",
       "<table border=\"1\" class=\"dataframe\">\n",
       "  <thead>\n",
       "    <tr style=\"text-align: right;\">\n",
       "      <th></th>\n",
       "      <th>Company</th>\n",
       "      <th>mean_net_profit</th>\n",
       "      <th>mean_vote</th>\n",
       "      <th>most_common_genre</th>\n",
       "    </tr>\n",
       "  </thead>\n",
       "  <tbody>\n",
       "    <tr>\n",
       "      <th>0</th>\n",
       "      <td>Colorado Office of Film, Television &amp; Media</td>\n",
       "      <td>1.316249e+09</td>\n",
       "      <td>7.30</td>\n",
       "      <td>Action</td>\n",
       "    </tr>\n",
       "    <tr>\n",
       "      <th>1</th>\n",
       "      <td>Québec Production Services Tax Credit</td>\n",
       "      <td>1.316249e+09</td>\n",
       "      <td>7.30</td>\n",
       "      <td>Action</td>\n",
       "    </tr>\n",
       "    <tr>\n",
       "      <th>2</th>\n",
       "      <td>Abu Dhabi Film Commission</td>\n",
       "      <td>1.316249e+09</td>\n",
       "      <td>7.30</td>\n",
       "      <td>Action</td>\n",
       "    </tr>\n",
       "    <tr>\n",
       "      <th>3</th>\n",
       "      <td>Prime Focus</td>\n",
       "      <td>1.125404e+09</td>\n",
       "      <td>7.30</td>\n",
       "      <td>Action</td>\n",
       "    </tr>\n",
       "    <tr>\n",
       "      <th>4</th>\n",
       "      <td>Lightstorm Entertainment</td>\n",
       "      <td>9.799764e+08</td>\n",
       "      <td>7.26</td>\n",
       "      <td>Thriller</td>\n",
       "    </tr>\n",
       "  </tbody>\n",
       "</table>\n",
       "</div>"
      ],
      "text/plain": [
       "                                       Company  mean_net_profit  mean_vote  \\\n",
       "0  Colorado Office of Film, Television & Media     1.316249e+09       7.30   \n",
       "1        Québec Production Services Tax Credit     1.316249e+09       7.30   \n",
       "2                    Abu Dhabi Film Commission     1.316249e+09       7.30   \n",
       "3                                  Prime Focus     1.125404e+09       7.30   \n",
       "4                     Lightstorm Entertainment     9.799764e+08       7.26   \n",
       "\n",
       "  most_common_genre  \n",
       "0            Action  \n",
       "1            Action  \n",
       "2            Action  \n",
       "3            Action  \n",
       "4          Thriller  "
      ]
     },
     "execution_count": 40,
     "metadata": {},
     "output_type": "execute_result"
    }
   ],
   "source": [
    "#Create dataframe that holds values\n",
    "df_complex_company = df_complex_company.sort_values('mean_net_profit', ascending=False)\n",
    "df_complex_company.reset_index(drop=True, inplace = True)\n",
    "df_complex_company.head()"
   ]
  },
  {
   "cell_type": "code",
   "execution_count": 41,
   "metadata": {
    "colab": {
     "autoexec": {
      "startup": false,
      "wait_interval": 0
     }
    },
    "colab_type": "code",
    "collapsed": true,
    "id": "Whb2iVw6xxO2"
   },
   "outputs": [],
   "source": [
    "# Let's see what genres of movies that top 500 most profitable production companies \n",
    "# produce\n",
    "common_genre_list = list(df_complex_company[:500]['most_common_genre'])\n",
    "unique_genre_list = set(common_genre_list)\n",
    "unique_genre_list = list(unique_genre_list)\n",
    "count = []\n",
    "for i in unique_genre_list: \n",
    "  size1 = common_genre_list.count(i)\n",
    "  count.append(size1)"
   ]
  },
  {
   "cell_type": "code",
   "execution_count": 42,
   "metadata": {
    "colab": {
     "autoexec": {
      "startup": false,
      "wait_interval": 0
     }
    },
    "colab_type": "code",
    "collapsed": true,
    "id": "UGTrTqnjir2F"
   },
   "outputs": [],
   "source": [
    "size = [round(x/500*100,2) for x in count]"
   ]
  },
  {
   "cell_type": "markdown",
   "metadata": {
    "colab_type": "text",
    "id": "1trc_gFlr_74"
   },
   "source": [
    "**Percentage of genres companies do among top 500 companies. Do they prefer one genere over another? We draw a pie chart to show this.**"
   ]
  },
  {
   "cell_type": "code",
   "execution_count": 43,
   "metadata": {
    "colab": {
     "autoexec": {
      "startup": false,
      "wait_interval": 0
     },
     "base_uri": "https://localhost:8080/",
     "height": 459,
     "output_extras": [
      {}
     ]
    },
    "colab_type": "code",
    "executionInfo": {
     "elapsed": 1356,
     "status": "ok",
     "timestamp": 1521570837530,
     "user": {
      "displayName": "Erik Jensen",
      "photoUrl": "https://lh3.googleusercontent.com/a/default-user=s128",
      "userId": "105068432724791430130"
     },
     "user_tz": 420
    },
    "id": "5uCcLNmTlzKZ",
    "outputId": "4b5461df-536b-4f4b-ec2e-a99daff0cf27"
   },
   "outputs": [
    {
     "data": {
      "image/png": "[encoded data removed]",
      "text/plain": [
       "<matplotlib.figure.Figure at 0x21620430400>"
      ]
     },
     "metadata": {},
     "output_type": "display_data"
    }
   ],
   "source": [
    "from matplotlib.gridspec import GridSpec\n",
    "the_grid = GridSpec(2, 2)\n",
    "plt.subplot(the_grid[0, 0], aspect=1)\n",
    "plt.pie(size, labels=unique_genre_list, autopct='%1.1f%%', shadow=True,\n",
    "radius = 5)\n",
    "plt.show()"
   ]
  },
  {
   "cell_type": "markdown",
   "metadata": {
    "colab_type": "text",
    "id": "3ih1UQSEygBp"
   },
   "source": [
    "**The graph above shows that most companies prefer Action genre.**"
   ]
  },
  {
   "cell_type": "code",
   "execution_count": 44,
   "metadata": {
    "colab": {
     "autoexec": {
      "startup": false,
      "wait_interval": 0
     }
    },
    "colab_type": "code",
    "collapsed": true,
    "id": "SJSOZ-q2We6A"
   },
   "outputs": [],
   "source": [
    "def convert_billion(value):\n",
    "  return '$%1.1fB' % (value * 1e-9)"
   ]
  },
  {
   "cell_type": "markdown",
   "metadata": {
    "colab_type": "text",
    "id": "uMQbZJZ3cKAW"
   },
   "source": [
    "**Testing variance of revenue amoung companies and graphing results below**"
   ]
  },
  {
   "cell_type": "code",
   "execution_count": 45,
   "metadata": {
    "colab": {
     "autoexec": {
      "startup": false,
      "wait_interval": 0
     },
     "base_uri": "https://localhost:8080/",
     "height": 294,
     "output_extras": [
      {}
     ]
    },
    "colab_type": "code",
    "executionInfo": {
     "elapsed": 6951,
     "status": "ok",
     "timestamp": 1521570845152,
     "user": {
      "displayName": "Erik Jensen",
      "photoUrl": "https://lh3.googleusercontent.com/a/default-user=s128",
      "userId": "105068432724791430130"
     },
     "user_tz": 420
    },
    "id": "XfoOH81ctwpw",
    "outputId": "0907b7ce-3724-41d8-abfb-5165dbb3fa39"
   },
   "outputs": [
    {
     "data": {
      "image/png": "[encoded data removed]",
      "text/plain": [
       "<matplotlib.figure.Figure at 0x21620692ac8>"
      ]
     },
     "metadata": {},
     "output_type": "display_data"
    }
   ],
   "source": [
    "# Next lets see the variance of revenue among these companies\n",
    "x1 = list(df_complex_company.index.get_values())\n",
    "y1 = list(df_complex_company['mean_net_profit'])\n",
    "plt.bar(x1, y1)\n",
    "plt.title('Change of revenue among ranked companies by profit gain')\n",
    "plt.xlabel('company rank')\n",
    "plt.ylabel('Profit per billion')\n",
    "plt.show()"
   ]
  },
  {
   "cell_type": "markdown",
   "metadata": {
    "colab_type": "text",
    "id": "eFEwOxpmcU_z"
   },
   "source": [
    "**Graphing the relation between mean_votes and profits for the top 500 companies. The reason why we pick the first 500 companies is that their average income is at least 0.2 billion, which is a good indicator of being successful*"
   ]
  },
  {
   "cell_type": "code",
   "execution_count": 46,
   "metadata": {
    "colab": {
     "autoexec": {
      "startup": false,
      "wait_interval": 0
     },
     "base_uri": "https://localhost:8080/",
     "height": 294,
     "output_extras": [
      {}
     ]
    },
    "colab_type": "code",
    "executionInfo": {
     "elapsed": 7909,
     "status": "ok",
     "timestamp": 1521570853244,
     "user": {
      "displayName": "Erik Jensen",
      "photoUrl": "https://lh3.googleusercontent.com/a/default-user=s128",
      "userId": "105068432724791430130"
     },
     "user_tz": 420
    },
    "id": "1AISJtJ7ucNF",
    "outputId": "87a56949-b72a-4d48-bf30-81a976b5d622"
   },
   "outputs": [
    {
     "data": {
      "image/png": "[encoded data removed]",
      "text/plain": [
       "<matplotlib.figure.Figure at 0x21620152160>"
      ]
     },
     "metadata": {},
     "output_type": "display_data"
    }
   ],
   "source": [
    "#Now what about the relations between the mean_votes and the profits along the \n",
    "#500 companies?\n",
    "x2 = list(df_complex_company['mean_vote'])\n",
    "y2 = list(df_complex_company['mean_net_profit'].apply(convert_billion))\n",
    "plt.bar(x2, y2)\n",
    "plt.title('mean profit in relationship to vote')\n",
    "plt.xlabel('vote')\n",
    "plt.ylabel('profit')\n",
    "plt.show()"
   ]
  },
  {
   "cell_type": "markdown",
   "metadata": {
    "colab_type": "text",
    "id": "IGJyQkzFH5KR"
   },
   "source": [
    "**The graph above shows the data is more skewed to the right. This shows the companies that produce high quailtiy movies will generally have higher profits. Then what are relationships between genre and revenue?**"
   ]
  },
  {
   "cell_type": "code",
   "execution_count": 47,
   "metadata": {
    "colab": {
     "autoexec": {
      "startup": false,
      "wait_interval": 0
     },
     "base_uri": "https://localhost:8080/",
     "height": 294,
     "output_extras": [
      {}
     ]
    },
    "colab_type": "code",
    "executionInfo": {
     "elapsed": 9721,
     "status": "ok",
     "timestamp": 1521570863347,
     "user": {
      "displayName": "Erik Jensen",
      "photoUrl": "https://lh3.googleusercontent.com/a/default-user=s128",
      "userId": "105068432724791430130"
     },
     "user_tz": 420
    },
    "id": "BFf0aE5_H44q",
    "outputId": "5fe3fa29-bfb6-4db6-a9f1-9de9d3ecc605"
   },
   "outputs": [
    {
     "data": {
      "image/png": "[encoded data removed]",
      "text/plain": [
       "<matplotlib.figure.Figure at 0x21622739c18>"
      ]
     },
     "metadata": {},
     "output_type": "display_data"
    }
   ],
   "source": [
    "def convert_dit(string):\n",
    "  return string[:3]\n",
    "\n",
    "\n",
    "x3=list(df_complex_company['most_common_genre'].apply(convert_dit))\n",
    "y3=list(df_complex_company['mean_net_profit'].apply(convert_billion))\n",
    "plt.bar(x3, y3)\n",
    "plt.title('profit in relation to genre')\n",
    "plt.xlabel('genre')\n",
    "plt.ylabel('profit')\n",
    "plt.show()"
   ]
  },
  {
   "cell_type": "markdown",
   "metadata": {
    "colab_type": "text",
    "id": "rQpJz-cLc0Ml"
   },
   "source": [
    "**The graph above shows that certain genres produce higher profit margins then others for the top 500 companies. Genre of film is located on x-axis and the average profit margins are located on the y-axis.**"
   ]
  },
  {
   "cell_type": "code",
   "execution_count": 48,
   "metadata": {
    "colab": {
     "autoexec": {
      "startup": false,
      "wait_interval": 0
     },
     "base_uri": "https://localhost:8080/",
     "height": 294,
     "output_extras": [
      {}
     ]
    },
    "colab_type": "code",
    "executionInfo": {
     "elapsed": 9671,
     "status": "ok",
     "timestamp": 1521570873071,
     "user": {
      "displayName": "Erik Jensen",
      "photoUrl": "https://lh3.googleusercontent.com/a/default-user=s128",
      "userId": "105068432724791430130"
     },
     "user_tz": 420
    },
    "id": "HfQjo0qbO5Op",
    "outputId": "9eb449de-171e-453f-fafd-e8aec4076829"
   },
   "outputs": [
    {
     "data": {
      "image/png": "[encoded data removed]",
      "text/plain": [
       "<matplotlib.figure.Figure at 0x21622ae4908>"
      ]
     },
     "metadata": {},
     "output_type": "display_data"
    }
   ],
   "source": [
    "#So why do so many companies(8.4%) doing drama? Is it because they can get higher voting or drama has low cost but high return?\n",
    "#get vote in relationship to the genre of all\n",
    "x4=list(df_complex_company['most_common_genre'].apply(convert_dit))\n",
    "y4=list(df_complex_company['mean_vote'])\n",
    "plt.bar(x4, y4)\n",
    "plt.title('vote in relation to genre')\n",
    "plt.xlabel('genre')\n",
    "plt.ylabel('vote')\n",
    "plt.show()\n",
    "\n",
    "#Therefore, in general the drama has the highest rating among all the genres though it only has 0.4 Billion profit. To win the critics view and possbile high reputations\n",
    "#companies would like to do such genre\n",
    "\n",
    "\n"
   ]
  },
  {
   "cell_type": "markdown",
   "metadata": {
    "colab_type": "text",
    "id": "CgS4uViBd4A-"
   },
   "source": [
    "**The graph above shows that in general drama has the highest rating among all the genres although it only has 0.4 Billion profit. To win the critics view and possbile high reputations companies would like to do such genre. Thus, representitive proportion(8.4%) of the top earning companies would do Drama.**"
   ]
  },
  {
   "cell_type": "markdown",
   "metadata": {
    "colab_type": "text",
    "id": "ULmY24xaeVDx"
   },
   "source": []
  },
  {
   "cell_type": "markdown",
   "metadata": {
    "colab_type": "text",
    "id": "RD6DoTSsPodj"
   },
   "source": [
    "**For now, we have the top 500 most profitable company. We might woder if there is some relationship between those companies like they might cooperate to make a movie.**"
   ]
  },
  {
   "cell_type": "code",
   "execution_count": 49,
   "metadata": {
    "colab": {
     "autoexec": {
      "startup": false,
      "wait_interval": 0
     },
     "base_uri": "https://localhost:8080/",
     "height": 216,
     "output_extras": [
      {},
      {}
     ]
    },
    "colab_type": "code",
    "executionInfo": {
     "elapsed": 2000,
     "status": "ok",
     "timestamp": 1521570875122,
     "user": {
      "displayName": "Erik Jensen",
      "photoUrl": "https://lh3.googleusercontent.com/a/default-user=s128",
      "userId": "105068432724791430130"
     },
     "user_tz": 420
    },
    "id": "SDTIjM1kLbDI",
    "outputId": "0f2dfea5-3256-4817-e912-ea56a87473f1"
   },
   "outputs": [
    {
     "name": "stdout",
     "output_type": "stream",
     "text": [
      "The shape of top_500_action is (134, 4)\n"
     ]
    },
    {
     "data": {
      "text/html": [
       "<div>\n",
       "<style>\n",
       "    .dataframe thead tr:only-child th {\n",
       "        text-align: right;\n",
       "    }\n",
       "\n",
       "    .dataframe thead th {\n",
       "        text-align: left;\n",
       "    }\n",
       "\n",
       "    .dataframe tbody tr th {\n",
       "        vertical-align: top;\n",
       "    }\n",
       "</style>\n",
       "<table border=\"1\" class=\"dataframe\">\n",
       "  <thead>\n",
       "    <tr style=\"text-align: right;\">\n",
       "      <th></th>\n",
       "      <th>Company</th>\n",
       "      <th>mean_net_profit</th>\n",
       "      <th>mean_vote</th>\n",
       "      <th>most_common_genre</th>\n",
       "    </tr>\n",
       "  </thead>\n",
       "  <tbody>\n",
       "    <tr>\n",
       "      <th>0</th>\n",
       "      <td>Colorado Office of Film, Television &amp; Media</td>\n",
       "      <td>1.316249e+09</td>\n",
       "      <td>7.3</td>\n",
       "      <td>Action</td>\n",
       "    </tr>\n",
       "    <tr>\n",
       "      <th>1</th>\n",
       "      <td>Québec Production Services Tax Credit</td>\n",
       "      <td>1.316249e+09</td>\n",
       "      <td>7.3</td>\n",
       "      <td>Action</td>\n",
       "    </tr>\n",
       "    <tr>\n",
       "      <th>2</th>\n",
       "      <td>Abu Dhabi Film Commission</td>\n",
       "      <td>1.316249e+09</td>\n",
       "      <td>7.3</td>\n",
       "      <td>Action</td>\n",
       "    </tr>\n",
       "    <tr>\n",
       "      <th>3</th>\n",
       "      <td>Prime Focus</td>\n",
       "      <td>1.125404e+09</td>\n",
       "      <td>7.3</td>\n",
       "      <td>Action</td>\n",
       "    </tr>\n",
       "    <tr>\n",
       "      <th>4</th>\n",
       "      <td>Ian Bryce Productions</td>\n",
       "      <td>8.814051e+08</td>\n",
       "      <td>5.8</td>\n",
       "      <td>Action</td>\n",
       "    </tr>\n",
       "  </tbody>\n",
       "</table>\n",
       "</div>"
      ],
      "text/plain": [
       "                                       Company  mean_net_profit  mean_vote  \\\n",
       "0  Colorado Office of Film, Television & Media     1.316249e+09        7.3   \n",
       "1        Québec Production Services Tax Credit     1.316249e+09        7.3   \n",
       "2                    Abu Dhabi Film Commission     1.316249e+09        7.3   \n",
       "3                                  Prime Focus     1.125404e+09        7.3   \n",
       "4                        Ian Bryce Productions     8.814051e+08        5.8   \n",
       "\n",
       "  most_common_genre  \n",
       "0            Action  \n",
       "1            Action  \n",
       "2            Action  \n",
       "3            Action  \n",
       "4            Action  "
      ]
     },
     "execution_count": 49,
     "metadata": {},
     "output_type": "execute_result"
    }
   ],
   "source": [
    "# Now we need to find out why actions movies are the hottest genre among the most successful 500 \n",
    "# production companies. \n",
    "\n",
    "# To unvail the magic behind action movies, firstly let's get a list action movies made by the \n",
    "# top 500 companies.\n",
    "top_500 = df_complex_company[0:500]\n",
    "top_500_action = top_500[top_500['most_common_genre']==\"Action\"]\n",
    "top_500_action = top_500_action.reset_index(drop=True)\n",
    "print('The shape of top_500_action is',top_500_action.shape)\n",
    "top_500_action.head()"
   ]
  },
  {
   "cell_type": "code",
   "execution_count": 50,
   "metadata": {
    "colab": {
     "autoexec": {
      "startup": false,
      "wait_interval": 0
     },
     "base_uri": "https://localhost:8080/",
     "height": 461,
     "output_extras": [
      {},
      {}
     ]
    },
    "colab_type": "code",
    "executionInfo": {
     "elapsed": 3554,
     "status": "ok",
     "timestamp": 1521570878774,
     "user": {
      "displayName": "Erik Jensen",
      "photoUrl": "https://lh3.googleusercontent.com/a/default-user=s128",
      "userId": "105068432724791430130"
     },
     "user_tz": 420
    },
    "id": "AOo6qbcRRRWn",
    "outputId": "e1806a12-c246-4f3e-9c04-17703c5ff312"
   },
   "outputs": [
    {
     "name": "stdout",
     "output_type": "stream",
     "text": [
      "The shape of Action_top_company_movies is: (297, 14)\n"
     ]
    },
    {
     "data": {
      "text/html": [
       "<div>\n",
       "<style>\n",
       "    .dataframe thead tr:only-child th {\n",
       "        text-align: right;\n",
       "    }\n",
       "\n",
       "    .dataframe thead th {\n",
       "        text-align: left;\n",
       "    }\n",
       "\n",
       "    .dataframe tbody tr th {\n",
       "        vertical-align: top;\n",
       "    }\n",
       "</style>\n",
       "<table border=\"1\" class=\"dataframe\">\n",
       "  <thead>\n",
       "    <tr style=\"text-align: right;\">\n",
       "      <th></th>\n",
       "      <th>budget</th>\n",
       "      <th>genres</th>\n",
       "      <th>keywords</th>\n",
       "      <th>original_title</th>\n",
       "      <th>popularity</th>\n",
       "      <th>production_companies</th>\n",
       "      <th>production_countries</th>\n",
       "      <th>release_date</th>\n",
       "      <th>revenue</th>\n",
       "      <th>spoken_languages</th>\n",
       "      <th>title</th>\n",
       "      <th>vote_average</th>\n",
       "      <th>vote_count</th>\n",
       "      <th>net_profit</th>\n",
       "    </tr>\n",
       "  </thead>\n",
       "  <tbody>\n",
       "    <tr>\n",
       "      <th>0</th>\n",
       "      <td>237000000</td>\n",
       "      <td>Action|Adventure|Fantasy|Science Fiction</td>\n",
       "      <td>culture clash|future|space war|space colony|so...</td>\n",
       "      <td>Avatar</td>\n",
       "      <td>150.437577</td>\n",
       "      <td>Ingenious Film Partners|Twentieth Century Fox ...</td>\n",
       "      <td>United States of America|United Kingdom</td>\n",
       "      <td>2009-12-10</td>\n",
       "      <td>2787965087</td>\n",
       "      <td>English|Español</td>\n",
       "      <td>Avatar</td>\n",
       "      <td>7.2</td>\n",
       "      <td>11800</td>\n",
       "      <td>2550965087</td>\n",
       "    </tr>\n",
       "    <tr>\n",
       "      <th>1</th>\n",
       "      <td>300000000</td>\n",
       "      <td>Adventure|Fantasy|Action</td>\n",
       "      <td>ocean|drug abuse|exotic island|east india trad...</td>\n",
       "      <td>Pirates of the Caribbean: At World's End</td>\n",
       "      <td>139.082615</td>\n",
       "      <td>Walt Disney Pictures|Jerry Bruckheimer Films|S...</td>\n",
       "      <td>United States of America</td>\n",
       "      <td>2007-05-19</td>\n",
       "      <td>961000000</td>\n",
       "      <td>English</td>\n",
       "      <td>Pirates of the Caribbean: At World's End</td>\n",
       "      <td>6.9</td>\n",
       "      <td>4500</td>\n",
       "      <td>661000000</td>\n",
       "    </tr>\n",
       "    <tr>\n",
       "      <th>2</th>\n",
       "      <td>245000000</td>\n",
       "      <td>Action|Adventure|Crime</td>\n",
       "      <td>spy|based on novel|secret agent|sequel|mi6|bri...</td>\n",
       "      <td>Spectre</td>\n",
       "      <td>107.376788</td>\n",
       "      <td>Columbia Pictures|Danjaq|B24</td>\n",
       "      <td>United Kingdom|United States of America</td>\n",
       "      <td>2015-10-26</td>\n",
       "      <td>880674609</td>\n",
       "      <td>Français|English|Español|Italiano|Deutsch</td>\n",
       "      <td>Spectre</td>\n",
       "      <td>6.3</td>\n",
       "      <td>4466</td>\n",
       "      <td>635674609</td>\n",
       "    </tr>\n",
       "    <tr>\n",
       "      <th>3</th>\n",
       "      <td>250000000</td>\n",
       "      <td>Action|Crime|Drama|Thriller</td>\n",
       "      <td>dc comics|crime fighter|terrorist|secret ident...</td>\n",
       "      <td>The Dark Knight Rises</td>\n",
       "      <td>112.312950</td>\n",
       "      <td>Legendary Pictures|Warner Bros.|DC Entertainme...</td>\n",
       "      <td>United States of America</td>\n",
       "      <td>2012-07-16</td>\n",
       "      <td>1084939099</td>\n",
       "      <td>English</td>\n",
       "      <td>The Dark Knight Rises</td>\n",
       "      <td>7.6</td>\n",
       "      <td>9106</td>\n",
       "      <td>834939099</td>\n",
       "    </tr>\n",
       "    <tr>\n",
       "      <th>515</th>\n",
       "      <td>69000000</td>\n",
       "      <td>Action|Fantasy|Horror</td>\n",
       "      <td>usa president|vampire|steam locomotive|america...</td>\n",
       "      <td>Abraham Lincoln: Vampire Hunter</td>\n",
       "      <td>38.634767</td>\n",
       "      <td>Twentieth Century Fox Film Corporation|Bazelev...</td>\n",
       "      <td>United States of America</td>\n",
       "      <td>2012-06-20</td>\n",
       "      <td>112265139</td>\n",
       "      <td>English</td>\n",
       "      <td>Abraham Lincoln: Vampire Hunter</td>\n",
       "      <td>5.5</td>\n",
       "      <td>1269</td>\n",
       "      <td>43265139</td>\n",
       "    </tr>\n",
       "  </tbody>\n",
       "</table>\n",
       "</div>"
      ],
      "text/plain": [
       "        budget                                    genres  \\\n",
       "0    237000000  Action|Adventure|Fantasy|Science Fiction   \n",
       "1    300000000                  Adventure|Fantasy|Action   \n",
       "2    245000000                    Action|Adventure|Crime   \n",
       "3    250000000               Action|Crime|Drama|Thriller   \n",
       "515   69000000                     Action|Fantasy|Horror   \n",
       "\n",
       "                                              keywords  \\\n",
       "0    culture clash|future|space war|space colony|so...   \n",
       "1    ocean|drug abuse|exotic island|east india trad...   \n",
       "2    spy|based on novel|secret agent|sequel|mi6|bri...   \n",
       "3    dc comics|crime fighter|terrorist|secret ident...   \n",
       "515  usa president|vampire|steam locomotive|america...   \n",
       "\n",
       "                               original_title  popularity  \\\n",
       "0                                      Avatar  150.437577   \n",
       "1    Pirates of the Caribbean: At World's End  139.082615   \n",
       "2                                     Spectre  107.376788   \n",
       "3                       The Dark Knight Rises  112.312950   \n",
       "515           Abraham Lincoln: Vampire Hunter   38.634767   \n",
       "\n",
       "                                  production_companies  \\\n",
       "0    Ingenious Film Partners|Twentieth Century Fox ...   \n",
       "1    Walt Disney Pictures|Jerry Bruckheimer Films|S...   \n",
       "2                         Columbia Pictures|Danjaq|B24   \n",
       "3    Legendary Pictures|Warner Bros.|DC Entertainme...   \n",
       "515  Twentieth Century Fox Film Corporation|Bazelev...   \n",
       "\n",
       "                        production_countries release_date     revenue  \\\n",
       "0    United States of America|United Kingdom   2009-12-10  2787965087   \n",
       "1                   United States of America   2007-05-19   961000000   \n",
       "2    United Kingdom|United States of America   2015-10-26   880674609   \n",
       "3                   United States of America   2012-07-16  1084939099   \n",
       "515                 United States of America   2012-06-20   112265139   \n",
       "\n",
       "                              spoken_languages  \\\n",
       "0                              English|Español   \n",
       "1                                      English   \n",
       "2    Français|English|Español|Italiano|Deutsch   \n",
       "3                                      English   \n",
       "515                                    English   \n",
       "\n",
       "                                        title  vote_average  vote_count  \\\n",
       "0                                      Avatar           7.2       11800   \n",
       "1    Pirates of the Caribbean: At World's End           6.9        4500   \n",
       "2                                     Spectre           6.3        4466   \n",
       "3                       The Dark Knight Rises           7.6        9106   \n",
       "515           Abraham Lincoln: Vampire Hunter           5.5        1269   \n",
       "\n",
       "     net_profit  \n",
       "0    2550965087  \n",
       "1     661000000  \n",
       "2     635674609  \n",
       "3     834939099  \n",
       "515    43265139  "
      ]
     },
     "execution_count": 50,
     "metadata": {},
     "output_type": "execute_result"
    }
   ],
   "source": [
    "top_action_company_list = top_500_action['Company']\n",
    "# Then we loop over our data frame and create an index list of row number of the movies \n",
    "# made by the top action companies\n",
    "top_action_movie_list = []\n",
    "for i in range(len(df)):\n",
    "  genre = df.loc[i]['genres'].split('|')\n",
    "  companies = df.loc[i]['production_companies'].split('|')\n",
    "  for j in top_action_company_list: \n",
    "    if j in companies and 'Action' in genre: \n",
    "      top_action_movie_list.append(i)\n",
    "# create another list figuring out how many top companies working on the same movie together\n",
    "coorp_list = []\n",
    "unique_action_movie = list(set(top_action_movie_list))\n",
    "for i in unique_action_movie: \n",
    "  size = top_action_movie_list.count(i)\n",
    "  coorp_list.append(size)\n",
    "Action_top_company_movies = df.iloc[unique_action_movie]\n",
    "#Action_top_company_movies = Action_top_company_movies.reset_index(drop=True)\n",
    "print('The shape of Action_top_company_movies is:',Action_top_company_movies.shape)\n",
    "Action_top_company_movies.head()\n"
   ]
  },
  {
   "cell_type": "code",
   "execution_count": 51,
   "metadata": {
    "colab": {
     "autoexec": {
      "startup": false,
      "wait_interval": 0
     },
     "base_uri": "https://localhost:8080/",
     "height": 276,
     "output_extras": [
      {}
     ]
    },
    "colab_type": "code",
    "executionInfo": {
     "elapsed": 2641,
     "status": "ok",
     "timestamp": 1521570881447,
     "user": {
      "displayName": "Erik Jensen",
      "photoUrl": "https://lh3.googleusercontent.com/a/default-user=s128",
      "userId": "105068432724791430130"
     },
     "user_tz": 420
    },
    "id": "CaA7bNlokWfb",
    "outputId": "955fc231-c56a-49a0-c5b2-54848a6675cb"
   },
   "outputs": [
    {
     "data": {
      "image/png": "[encoded data removed]",
      "text/plain": [
       "<matplotlib.figure.Figure at 0x2162053cda0>"
      ]
     },
     "metadata": {},
     "output_type": "display_data"
    }
   ],
   "source": [
    "# First of all, lets see if number of big action companies working together would increase \n",
    "# a movie's profit\n",
    "coorp_list_profit = list(Action_top_company_movies['net_profit'])\n",
    "\n",
    "plt.plot(coorp_list, coorp_list_profit, 'ro')\n",
    "plt.show()"
   ]
  },
  {
   "cell_type": "markdown",
   "metadata": {
    "colab_type": "text",
    "id": "kQS2PpuhFP3t"
   },
   "source": [
    "**This graph shows there is no significant relationship between numbers of companies cooperating together and the revenue they have. As shown in the graph the highest revenue earned is when 3 big companies cooperate rather than 8. **"
   ]
  },
  {
   "cell_type": "markdown",
   "metadata": {
    "colab_type": "text",
    "id": "eYDGSI-1EcfI"
   },
   "source": []
  },
  {
   "cell_type": "markdown",
   "metadata": {
    "colab_type": "text",
    "id": "l83jV_mcsZX-"
   },
   "source": [
    "**Conclusion: At the end of this section, we have found that experienced companies, that are good at making certain genres, do not have a major influence on increasing the profit of that movie. In other words, a company that has produced multiple Horror movies is not guaranteed to make a profitable Horror movie. Secondly, we have found that genre such as \"Animation\" and words such as 'War and power\" do impact a movie's profit as we can see from the graphs above. We have also found that among the best profitable companies, the average vote for the movies they make is within the range of 6.7 to 7.2. Thus we can assume that movies with average votes around 7 will have a better chance of gaining more profit. Lastly, we tested our hypothesis to see if a coorperation that was among the top 500 most profitable companies influenced future profit margins, but the result was negative. One reason to explain our hypothesis to be wrong could be, focusing on production companies as the major factors in the influence of a movie's revenue is too narrow. In fact, a movie's revenue may highly rely on its choice of genres and contents.**"
   ]
  },
  {
   "cell_type": "markdown",
   "metadata": {
    "colab_type": "text",
    "id": "XyAV3PLHB7jj"
   },
   "source": [
    "# **Part 5: Looking at Genre and Profit Margins**"
   ]
  },
  {
   "cell_type": "code",
   "execution_count": 52,
   "metadata": {
    "colab": {
     "autoexec": {
      "startup": false,
      "wait_interval": 0
     }
    },
    "colab_type": "code",
    "collapsed": true,
    "id": "IeuPDb0_DolZ"
   },
   "outputs": [],
   "source": [
    "#df_credits = pd.read_csv(\"tmdb_5000_credits.csv\")\n",
    "df_movies =  pd.read_csv('tmdb_5000_movies.csv')\n",
    "df_movies[\"genres\"] = df_movies[\"genres\"].apply(json.loads)"
   ]
  },
  {
   "cell_type": "code",
   "execution_count": 53,
   "metadata": {
    "colab": {
     "autoexec": {
      "startup": false,
      "wait_interval": 0
     }
    },
    "colab_type": "code",
    "collapsed": true,
    "id": "wr4zm4XgG9MG"
   },
   "outputs": [],
   "source": [
    "df_movies.rename( columns = {'vote_average':'voting'}, inplace = True)"
   ]
  },
  {
   "cell_type": "markdown",
   "metadata": {
    "colab_type": "text",
    "id": "GpPdXyJ3AXZs"
   },
   "source": [
    "**Data cleaning**\n",
    "\n",
    "**In this part we use the same tmdb_5000_movies.csv but this time we keep the row which has profit that is larger than 0. **"
   ]
  },
  {
   "cell_type": "code",
   "execution_count": 54,
   "metadata": {
    "colab": {
     "autoexec": {
      "startup": false,
      "wait_interval": 0
     }
    },
    "colab_type": "code",
    "collapsed": true,
    "id": "5N26vXBxG_-w"
   },
   "outputs": [],
   "source": [
    "# discard rows where voting revenue or budget is smaller than 0 \n",
    "# it doesn't make sense for those data to be smaller than zero\n",
    "df_movies.dropna(axis=0, how='any', subset=[\"voting\",\"revenue\"], inplace=True)\n",
    "df_movies = df_movies[df_movies.revenue > 0]\n",
    "df_movies = df_movies[df_movies.voting > 0]\n",
    "df_movies = df_movies[df_movies.budget >0]\n",
    "df_movies[\"profit\"] = np.round(df_movies[\"revenue\"] - df_movies[\"budget\"])\n"
   ]
  },
  {
   "cell_type": "markdown",
   "metadata": {
    "colab_type": "text",
    "id": "PdBAmxl0Ncjl"
   },
   "source": [
    "** Then, we clean up genres, creating a list of all genres, and new columns of each genre with value 1 or 0, which represents a movie has certain genre or not. **"
   ]
  },
  {
   "cell_type": "code",
   "execution_count": 55,
   "metadata": {
    "colab": {
     "autoexec": {
      "startup": false,
      "wait_interval": 0
     }
    },
    "colab_type": "code",
    "collapsed": true,
    "id": "BiuaI51lHZNr"
   },
   "outputs": [],
   "source": [
    "#extracting all the generes \n",
    "all_genres = []\n",
    "for items in df_movies[\"genres\"]:\n",
    "    for names in items:\n",
    "        all_genres.append(names[\"name\"])\n",
    "all_genres = list(set(all_genres))"
   ]
  },
  {
   "cell_type": "code",
   "execution_count": 56,
   "metadata": {
    "colab": {
     "autoexec": {
      "startup": false,
      "wait_interval": 0
     }
    },
    "colab_type": "code",
    "collapsed": true,
    "id": "Hrk_vYsGIBMz"
   },
   "outputs": [],
   "source": [
    "\n",
    "#creating new columns for all genres\n",
    "for genre in all_genres:\n",
    "    canvas = np.zeros(len(df_movies[\"genres\"]))\n",
    "    for i in np.arange(len(df_movies[\"genres\"])):\n",
    "        for names in df_movies[\"genres\"].iloc[i]:\n",
    "            if(names[\"name\"]==genre):\n",
    "                canvas[i] = 1\n",
    "                break;\n",
    "    df_movies[genre] = canvas"
   ]
  },
  {
   "cell_type": "code",
   "execution_count": 57,
   "metadata": {
    "colab": {
     "autoexec": {
      "startup": false,
      "wait_interval": 0
     },
     "base_uri": "https://localhost:8080/",
     "height": 278,
     "output_extras": [
      {}
     ]
    },
    "colab_type": "code",
    "executionInfo": {
     "elapsed": 845,
     "status": "ok",
     "timestamp": 1521570887948,
     "user": {
      "displayName": "Erik Jensen",
      "photoUrl": "https://lh3.googleusercontent.com/a/default-user=s128",
      "userId": "105068432724791430130"
     },
     "user_tz": 420
    },
    "id": "pqFbPoeAIl-s",
    "outputId": "835315fd-751e-4a56-f34a-741fb09891a6"
   },
   "outputs": [
    {
     "data": {
      "image/png": "[encoded data removed]",
      "text/plain": [
       "<matplotlib.figure.Figure at 0x21620656d30>"
      ]
     },
     "metadata": {},
     "output_type": "display_data"
    }
   ],
   "source": [
    "# check the distribution of profit \n",
    "df_profit = df_movies[\"profit\"]\n",
    "df_profit.hist()\n",
    "plt.title(\"number of movies with certain profit\")\n",
    "plt.xlabel(\"profit\")\n",
    "plt.ylabel(\"number of movies\")\n",
    "plt.show()"
   ]
  },
  {
   "cell_type": "markdown",
   "metadata": {
    "colab_type": "text",
    "id": "Pj-GcQGYAXZx"
   },
   "source": [
    "**As we can see from the above graph, the distribution of profit skew right. Thus,to make it approximate normally distributed, we take the log of profit.**"
   ]
  },
  {
   "cell_type": "code",
   "execution_count": 58,
   "metadata": {
    "colab": {
     "autoexec": {
      "startup": false,
      "wait_interval": 0
     },
     "base_uri": "https://localhost:8080/",
     "height": 265,
     "output_extras": [
      {}
     ]
    },
    "colab_type": "code",
    "executionInfo": {
     "elapsed": 1963,
     "status": "ok",
     "timestamp": 1521570890020,
     "user": {
      "displayName": "Erik Jensen",
      "photoUrl": "https://lh3.googleusercontent.com/a/default-user=s128",
      "userId": "105068432724791430130"
     },
     "user_tz": 420
    },
    "id": "RAxaJFhnIDDF",
    "outputId": "28dbdea0-25c0-4f71-c7bf-4a92b983f993"
   },
   "outputs": [
    {
     "data": {
      "image/png": "[encoded data removed]",
      "text/plain": [
       "<matplotlib.figure.Figure at 0x2161fec4240>"
      ]
     },
     "metadata": {},
     "output_type": "display_data"
    }
   ],
   "source": [
    "# As we can see, the distribution of profit skew right.\n",
    "# Thus, to make it approximate normally distributed, we take its log\n",
    "df_movies['log_profit'] = np.log(df_movies.revenue)\n",
    "std = np.std(df_movies[\"log_profit\"])\n",
    "mean = np.mean(df_movies[\"log_profit\"])\n",
    "df_movies = df_movies[(df_movies.log_profit > mean-2*std) | (df_movies.log_profit < mean+2*std)]\n",
    "\n",
    "df_log_profit = df_movies[\"log_profit\"]\n",
    "\n",
    "df_log_profit.hist()\n",
    "plt.title(\"number of movies with certain profit after taking log\")\n",
    "plt.xlabel(\"profit after log\")\n",
    "plt.ylabel(\"number of movies\")\n",
    "plt.show()"
   ]
  },
  {
   "cell_type": "markdown",
   "metadata": {
    "colab_type": "text",
    "id": "J1loRf5rOK6A"
   },
   "source": [
    " **The histogram of log of profit gives us a more normally distributed data. We can see a few outliers, but generally data should apply to common cases.**"
   ]
  },
  {
   "cell_type": "code",
   "execution_count": 59,
   "metadata": {
    "colab": {
     "autoexec": {
      "startup": false,
      "wait_interval": 0
     },
     "base_uri": "https://localhost:8080/",
     "height": 265,
     "output_extras": [
      {}
     ]
    },
    "colab_type": "code",
    "executionInfo": {
     "elapsed": 443,
     "status": "ok",
     "timestamp": 1521570890570,
     "user": {
      "displayName": "Erik Jensen",
      "photoUrl": "https://lh3.googleusercontent.com/a/default-user=s128",
      "userId": "105068432724791430130"
     },
     "user_tz": 420
    },
    "id": "sio_hxpJIOid",
    "outputId": "cead7f65-6a93-4357-969f-3eeac95d82ec"
   },
   "outputs": [
    {
     "data": {
      "image/png": "[encoded data removed]",
      "text/plain": [
       "<matplotlib.figure.Figure at 0x2162086f5c0>"
      ]
     },
     "metadata": {},
     "output_type": "display_data"
    }
   ],
   "source": [
    "# Check the distribution of voting\n",
    "df_movies[\"voting\"].hist()\n",
    "plt.title(\"number of movies with certain vote\")\n",
    "plt.xlabel(\"vote\")\n",
    "plt.ylabel(\"number of movies\")\n",
    "plt.show()"
   ]
  },
  {
   "cell_type": "markdown",
   "metadata": {
    "colab_type": "text",
    "id": "FrZXdCVQAXZz"
   },
   "source": [
    "**From above graph we can see that voting has approximate normal distribution.**"
   ]
  },
  {
   "cell_type": "markdown",
   "metadata": {
    "colab_type": "text",
    "id": "NGOEQQuZQWX5"
   },
   "source": [
    "**Therefore, as we got two normally distributed data, we can find out the correlation between two variables. **"
   ]
  },
  {
   "cell_type": "code",
   "execution_count": 60,
   "metadata": {
    "colab": {
     "autoexec": {
      "startup": false,
      "wait_interval": 0
     },
     "base_uri": "https://localhost:8080/",
     "height": 35,
     "output_extras": [
      {}
     ]
    },
    "colab_type": "code",
    "executionInfo": {
     "elapsed": 323,
     "status": "ok",
     "timestamp": 1521570891011,
     "user": {
      "displayName": "Erik Jensen",
      "photoUrl": "https://lh3.googleusercontent.com/a/default-user=s128",
      "userId": "105068432724791430130"
     },
     "user_tz": 420
    },
    "id": "81rn3bwOMN0N",
    "outputId": "9e23878a-d7c0-4b26-9cfe-5f8a7bacf5bb"
   },
   "outputs": [
    {
     "data": {
      "text/plain": [
       "0.1309674285007543"
      ]
     },
     "execution_count": 60,
     "metadata": {},
     "output_type": "execute_result"
    }
   ],
   "source": [
    "# Based on the result from below code, we can see that there is no strong \n",
    "# correlation between voting and log profit \n",
    "df_movies['voting'].corr(df_movies['log_profit'])"
   ]
  },
  {
   "cell_type": "markdown",
   "metadata": {
    "colab_type": "text",
    "id": "kTbvtYoQAXZ0"
   },
   "source": [
    "**The correlation coefficient is around 0.13, which shows there is no correlation between voting and profit. \n",
    "We can also verify this result by directly looking at the graph.**"
   ]
  },
  {
   "cell_type": "code",
   "execution_count": 61,
   "metadata": {
    "colab": {
     "autoexec": {
      "startup": false,
      "wait_interval": 0
     },
     "base_uri": "https://localhost:8080/",
     "height": 281,
     "output_extras": [
      {}
     ]
    },
    "colab_type": "code",
    "executionInfo": {
     "elapsed": 3401,
     "status": "ok",
     "timestamp": 1521570894524,
     "user": {
      "displayName": "Erik Jensen",
      "photoUrl": "https://lh3.googleusercontent.com/a/default-user=s128",
      "userId": "105068432724791430130"
     },
     "user_tz": 420
    },
    "id": "pTWPwJt6Nedr",
    "outputId": "272abae2-a986-4a9a-9a68-c40cacb9ae27"
   },
   "outputs": [
    {
     "data": {
      "image/png": "[encoded data removed]",
      "text/plain": [
       "<matplotlib.figure.Figure at 0x21621efa3c8>"
      ]
     },
     "metadata": {},
     "output_type": "display_data"
    }
   ],
   "source": [
    "# Create a scatterplot of voting vs. log_profit\n",
    "x = df_movies['voting'].values\n",
    "y = df_movies['log_profit'].values\n",
    "plt.scatter(x, y)\n",
    "plt.title('profit in relationship of voting')\n",
    "plt.xlabel('voting')\n",
    "plt.ylabel('log_profit')\n",
    "plt.show()"
   ]
  },
  {
   "cell_type": "markdown",
   "metadata": {
    "colab_type": "text",
    "id": "X-b0X3JBAXZ2"
   },
   "source": [
    "**From the graph above, there is huge clustering in the middle of the plot, and it looks like random noise. Thus we cannot conclude there is a correlation between voting and profit.**"
   ]
  },
  {
   "cell_type": "markdown",
   "metadata": {
    "colab_type": "text",
    "id": "cX0-fL7iAXZ2"
   },
   "source": [
    "**Now, we attempt to discover potential relationship between genres and profit. We firstly decided the length of our combinations by ploting the distribution of the number of genres.**"
   ]
  },
  {
   "cell_type": "code",
   "execution_count": 62,
   "metadata": {
    "colab": {
     "autoexec": {
      "startup": false,
      "wait_interval": 0
     },
     "base_uri": "https://localhost:8080/",
     "height": 265,
     "output_extras": [
      {}
     ]
    },
    "colab_type": "code",
    "executionInfo": {
     "elapsed": 8286,
     "status": "ok",
     "timestamp": 1521570902957,
     "user": {
      "displayName": "Erik Jensen",
      "photoUrl": "https://lh3.googleusercontent.com/a/default-user=s128",
      "userId": "105068432724791430130"
     },
     "user_tz": 420
    },
    "id": "9gJJJT-XOBdc",
    "outputId": "c6c15485-d09a-4aad-b9cf-0baa5db0c272"
   },
   "outputs": [
    {
     "data": {
      "image/png": "[encoded data removed]",
      "text/plain": [
       "<matplotlib.figure.Figure at 0x2162135eda0>"
      ]
     },
     "metadata": {},
     "output_type": "display_data"
    }
   ],
   "source": [
    "# Check the distribution of number of genres each movie has \n",
    "start_index = list(df_movies.columns).index(\"Horror\")\n",
    "end_index = list(df_movies.columns).index(\"log_profit\")\n",
    "num_of_genres = np.zeros(len(df_movies))\n",
    "for i in np.arange(start_index, end_index):\n",
    "  num_of_genres = num_of_genres + df_movies.iloc[:,i]\n",
    "plt.hist(num_of_genres, align=\"left\", bins=np.arange(0,8))\n",
    "plt.title(\"distribution of number of genres\")\n",
    "plt.xlabel(\"number of genres a movie has\")\n",
    "plt.ylabel(\"number of movies\")\n",
    "plt.show()"
   ]
  },
  {
   "cell_type": "markdown",
   "metadata": {
    "colab_type": "text",
    "id": "WVfMZeYNAXZ3"
   },
   "source": [
    "**From the graph above, we can conclude that most of the movies have only single or at most 2 genres combined.**"
   ]
  },
  {
   "cell_type": "code",
   "execution_count": 63,
   "metadata": {
    "colab": {
     "autoexec": {
      "startup": false,
      "wait_interval": 0
     },
     "base_uri": "https://localhost:8080/",
     "height": 616,
     "output_extras": [
      {}
     ]
    },
    "colab_type": "code",
    "executionInfo": {
     "elapsed": 11322,
     "status": "ok",
     "timestamp": 1521570914421,
     "user": {
      "displayName": "Erik Jensen",
      "photoUrl": "https://lh3.googleusercontent.com/a/default-user=s128",
      "userId": "105068432724791430130"
     },
     "user_tz": 420
    },
    "id": "wpAc91EDPGcx",
    "outputId": "bcada9e5-32fc-42a7-f409-c42a3d321a7e"
   },
   "outputs": [
    {
     "data": {
      "image/png": "[encoded data removed]",
      "text/plain": [
       "<matplotlib.figure.Figure at 0x2162142bb70>"
      ]
     },
     "metadata": {},
     "output_type": "display_data"
    }
   ],
   "source": [
    "# To generate a bar chart that shows the mean revenue each genre of movies can make \n",
    "revenue_by_genre = []\n",
    "for genre in all_genres:\n",
    "    revenue_by_genre.append(df_movies.loc[df_movies[genre]==1][\"profit\"].mean(axis=0))\n",
    "y_pos = np.arange(len(all_genres))\n",
    "plt.figure(figsize=(20,10))\n",
    "plt.bar(y_pos, revenue_by_genre,align = 'center',alpha =0.75)\n",
    "plt.xticks(y_pos, all_genres)\n",
    "plt.title('mean revenue from each genre')\n",
    "plt.xlabel('Genres')\n",
    "plt.ylabel('Revenue Mean')\n",
    "plt.show()"
   ]
  },
  {
   "cell_type": "markdown",
   "metadata": {
    "colab_type": "text",
    "id": "A3d6YXoTXAZ8"
   },
   "source": [
    "**Conclusion I: As we can see from above graph: There is strong association between movie genres and profits. Animation, Adventure and Fantasy are the top three most profitable genres. Foreign has negative profit, which means those movies did not make money, and documentatries have comparably low profit too. This association can tell the movie makers which genre of movies is most profitable based on analysis of data. **"
   ]
  },
  {
   "cell_type": "markdown",
   "metadata": {
    "colab_type": "text",
    "id": "6zhgvIT-Ut8N"
   },
   "source": [
    "**However, it's also very possible that they are profitable because these three genres often appear in the same movie, for example box office movie Toy Story series, which is a combination of all three genres. Next, we will try to find out the most profitable combination of genres.**"
   ]
  },
  {
   "cell_type": "markdown",
   "metadata": {
    "colab_type": "text",
    "id": "lOTjDkfuAXZ7"
   },
   "source": [
    "**We created three functions below: the first one is used to generate a list of all possible combinations of genres that contains one genre we asked; the second one can take a list of all combinations and go back to the dataframe to calculate the mean profit of all combinations of genres and return the top n profits; the third function is used to find movies that has a certain combination of generes **"
   ]
  },
  {
   "cell_type": "code",
   "execution_count": 64,
   "metadata": {
    "colab": {
     "autoexec": {
      "startup": false,
      "wait_interval": 0
     }
    },
    "colab_type": "code",
    "collapsed": true,
    "id": "BOk-5LLmYSts"
   },
   "outputs": [],
   "source": [
    "# this function is used to return the desired genre combination \n",
    "# all_genres is a list of string which we used to genreate combination from \n",
    "# input_genres is a list we want to search \n",
    "# this fucntion returns all combinations contain input_genres\n",
    "def desired_combination(all_genres, input_genres, r):\n",
    "  # r is used to define the length of our combination\n",
    "  canvas = list(itertools.combinations(all_genres,r))\n",
    "  desired_combinations=[]\n",
    "  for combination in canvas: \n",
    "    flag = True\n",
    "    for genre in input_genres:\n",
    "      #~ is wrong\n",
    "      if not (genre in combination):\n",
    "        flag = False\n",
    "    if(flag):\n",
    "      desired_combinations.append(combination)\n",
    "  return desired_combinations"
   ]
  },
  {
   "cell_type": "code",
   "execution_count": 65,
   "metadata": {
    "colab": {
     "autoexec": {
      "startup": false,
      "wait_interval": 0
     }
    },
    "colab_type": "code",
    "collapsed": true,
    "id": "I1ffUvylYTdX"
   },
   "outputs": [],
   "source": [
    "# this function is used to return a list contains top r most-profitable combinations\n",
    "# input_list is the combination we search through\n",
    "# r is used to defined how many we want most-profitable combinations we want\n",
    "def optimal_combination(input_list, r):\n",
    "  combination_values = []\n",
    "  for combination in input_list:\n",
    "    df = df_movies\n",
    "    for genre in combination:\n",
    "      df = df.loc[df[genre]==1]\n",
    "    combination_values.append(np.mean(df[\"profit\"]))\n",
    "  combination_values = pd.Series(combination_values).fillna(-1).tolist()\n",
    "  max_index = (np.argsort(combination_values))[len(combination_values)-r : len(combination_values) ]\n",
    "  return np.array(input_list)[max_index], np.array(combination_values)[max_index]"
   ]
  },
  {
   "cell_type": "code",
   "execution_count": 66,
   "metadata": {
    "colab": {
     "autoexec": {
      "startup": false,
      "wait_interval": 0
     }
    },
    "colab_type": "code",
    "collapsed": true,
    "id": "IaG0vISUYV2R"
   },
   "outputs": [],
   "source": [
    "# this method returns r most-profitable examples with genres in input_genres\n",
    "def example_movies(input_genres,r):\n",
    "  df = df_movies\n",
    "  for genre in input_genres:\n",
    "    df = df.loc[df[genre]==1]\n",
    "  df.sort_values(by=[\"profit\"],ascending =False, inplace = True)\n",
    "  index = np.arange(r)\n",
    "  if len(df[\"title\"]) < r:\n",
    "    index = np.arange(len(df[\"title\"]))\n",
    "  return np.array(df[\"title\"])[index]"
   ]
  },
  {
   "cell_type": "markdown",
   "metadata": {
    "colab_type": "text",
    "id": "iSJgCm9tS6tU"
   },
   "source": [
    "** With all three functions, now we can generate a dataframe that shows the best combination of each genre, the best mean profit you can get from that combination, and existing example movies. **"
   ]
  },
  {
   "cell_type": "code",
   "execution_count": 67,
   "metadata": {
    "cellView": "code",
    "colab": {
     "autoexec": {
      "startup": false,
      "wait_interval": 0
     },
     "base_uri": "https://localhost:8080/",
     "height": 618,
     "output_extras": [
      {}
     ]
    },
    "colab_type": "code",
    "executionInfo": {
     "elapsed": 10606,
     "status": "ok",
     "timestamp": 1521570933233,
     "user": {
      "displayName": "Erik Jensen",
      "photoUrl": "https://lh3.googleusercontent.com/a/default-user=s128",
      "userId": "105068432724791430130"
     },
     "user_tz": 420
    },
    "id": "7EV4Pix4X8cu",
    "outputId": "cd2818ff-1eda-4915-b910-350e6ab6c31e"
   },
   "outputs": [
    {
     "data": {
      "text/html": [
       "<div>\n",
       "<style>\n",
       "    .dataframe thead tr:only-child th {\n",
       "        text-align: right;\n",
       "    }\n",
       "\n",
       "    .dataframe thead th {\n",
       "        text-align: left;\n",
       "    }\n",
       "\n",
       "    .dataframe tbody tr th {\n",
       "        vertical-align: top;\n",
       "    }\n",
       "</style>\n",
       "<table border=\"1\" class=\"dataframe\">\n",
       "  <thead>\n",
       "    <tr style=\"text-align: right;\">\n",
       "      <th></th>\n",
       "      <th>best_combination</th>\n",
       "      <th>mean_profit</th>\n",
       "      <th>example_movies</th>\n",
       "    </tr>\n",
       "  </thead>\n",
       "  <tbody>\n",
       "    <tr>\n",
       "      <th>Crime</th>\n",
       "      <td>Crime, Fantasy</td>\n",
       "      <td>171843815.778</td>\n",
       "      <td>Suicide Squad, The Mask, Batman Forever</td>\n",
       "    </tr>\n",
       "    <tr>\n",
       "      <th>Documentary</th>\n",
       "      <td>Documentary, Action</td>\n",
       "      <td>79501491.5</td>\n",
       "      <td>Jackass 3D, Jackass Number Two</td>\n",
       "    </tr>\n",
       "    <tr>\n",
       "      <th>Mystery</th>\n",
       "      <td>Mystery, Family</td>\n",
       "      <td>299885775.333</td>\n",
       "      <td>Harry Potter and the Order of the Phoenix, The...</td>\n",
       "    </tr>\n",
       "    <tr>\n",
       "      <th>History</th>\n",
       "      <td>History, War</td>\n",
       "      <td>53012076.1778</td>\n",
       "      <td>Saving Private Ryan, The Last Samurai, Pearl H...</td>\n",
       "    </tr>\n",
       "    <tr>\n",
       "      <th>Foreign</th>\n",
       "      <td>Foreign, Comedy</td>\n",
       "      <td>0.0</td>\n",
       "      <td>Bran Nue Dae</td>\n",
       "    </tr>\n",
       "    <tr>\n",
       "      <th>Fantasy</th>\n",
       "      <td>Fantasy, Adventure</td>\n",
       "      <td>246502177.605</td>\n",
       "      <td>Avatar, The Lord of the Rings: The Return of t...</td>\n",
       "    </tr>\n",
       "    <tr>\n",
       "      <th>Thriller</th>\n",
       "      <td>Thriller, Music</td>\n",
       "      <td>188751074.0</td>\n",
       "      <td>The Bodyguard, The Red Violin</td>\n",
       "    </tr>\n",
       "    <tr>\n",
       "      <th>Romance</th>\n",
       "      <td>Fantasy, Romance</td>\n",
       "      <td>139269944.961</td>\n",
       "      <td>The Twilight Saga: Breaking Dawn - Part 2, The...</td>\n",
       "    </tr>\n",
       "    <tr>\n",
       "      <th>Drama</th>\n",
       "      <td>Drama, Animation</td>\n",
       "      <td>172981110.357</td>\n",
       "      <td>The Lion King, Inside Out, Pocahontas</td>\n",
       "    </tr>\n",
       "    <tr>\n",
       "      <th>War</th>\n",
       "      <td>War, Horror</td>\n",
       "      <td>145529201.0</td>\n",
       "      <td>Dracula Untold</td>\n",
       "    </tr>\n",
       "    <tr>\n",
       "      <th>Western</th>\n",
       "      <td>Western, Animation</td>\n",
       "      <td>76644071.0</td>\n",
       "      <td>Rango, Spirit: Stallion of the Cimarron</td>\n",
       "    </tr>\n",
       "    <tr>\n",
       "      <th>Action</th>\n",
       "      <td>Fantasy, Action</td>\n",
       "      <td>196054335.622</td>\n",
       "      <td>Avatar, The Lord of the Rings: The Return of t...</td>\n",
       "    </tr>\n",
       "    <tr>\n",
       "      <th>Adventure</th>\n",
       "      <td>Fantasy, Adventure</td>\n",
       "      <td>246502177.605</td>\n",
       "      <td>Avatar, The Lord of the Rings: The Return of t...</td>\n",
       "    </tr>\n",
       "    <tr>\n",
       "      <th>Science Fiction</th>\n",
       "      <td>Adventure, Science Fiction</td>\n",
       "      <td>215540799.224</td>\n",
       "      <td>Avatar, Jurassic World, The Avengers</td>\n",
       "    </tr>\n",
       "    <tr>\n",
       "      <th>Family</th>\n",
       "      <td>Mystery, Family</td>\n",
       "      <td>299885775.333</td>\n",
       "      <td>Harry Potter and the Order of the Phoenix, The...</td>\n",
       "    </tr>\n",
       "    <tr>\n",
       "      <th>Horror</th>\n",
       "      <td>War, Horror</td>\n",
       "      <td>145529201.0</td>\n",
       "      <td>Dracula Untold</td>\n",
       "    </tr>\n",
       "    <tr>\n",
       "      <th>Music</th>\n",
       "      <td>Thriller, Music</td>\n",
       "      <td>188751074.0</td>\n",
       "      <td>The Bodyguard, The Red Violin</td>\n",
       "    </tr>\n",
       "    <tr>\n",
       "      <th>Comedy</th>\n",
       "      <td>Comedy, Animation</td>\n",
       "      <td>229621389.282</td>\n",
       "      <td>Minions, Despicable Me 2, Toy Story 3</td>\n",
       "    </tr>\n",
       "    <tr>\n",
       "      <th>Animation</th>\n",
       "      <td>Mystery, Animation</td>\n",
       "      <td>241940071.0</td>\n",
       "      <td>The Adventures of Tintin</td>\n",
       "    </tr>\n",
       "  </tbody>\n",
       "</table>\n",
       "</div>"
      ],
      "text/plain": [
       "                           best_combination    mean_profit  \\\n",
       "Crime                        Crime, Fantasy  171843815.778   \n",
       "Documentary             Documentary, Action     79501491.5   \n",
       "Mystery                     Mystery, Family  299885775.333   \n",
       "History                        History, War  53012076.1778   \n",
       "Foreign                     Foreign, Comedy            0.0   \n",
       "Fantasy                  Fantasy, Adventure  246502177.605   \n",
       "Thriller                    Thriller, Music    188751074.0   \n",
       "Romance                    Fantasy, Romance  139269944.961   \n",
       "Drama                      Drama, Animation  172981110.357   \n",
       "War                             War, Horror    145529201.0   \n",
       "Western                  Western, Animation     76644071.0   \n",
       "Action                      Fantasy, Action  196054335.622   \n",
       "Adventure                Fantasy, Adventure  246502177.605   \n",
       "Science Fiction  Adventure, Science Fiction  215540799.224   \n",
       "Family                      Mystery, Family  299885775.333   \n",
       "Horror                          War, Horror    145529201.0   \n",
       "Music                       Thriller, Music    188751074.0   \n",
       "Comedy                    Comedy, Animation  229621389.282   \n",
       "Animation                Mystery, Animation    241940071.0   \n",
       "\n",
       "                                                    example_movies  \n",
       "Crime                      Suicide Squad, The Mask, Batman Forever  \n",
       "Documentary                         Jackass 3D, Jackass Number Two  \n",
       "Mystery          Harry Potter and the Order of the Phoenix, The...  \n",
       "History          Saving Private Ryan, The Last Samurai, Pearl H...  \n",
       "Foreign                                               Bran Nue Dae  \n",
       "Fantasy          Avatar, The Lord of the Rings: The Return of t...  \n",
       "Thriller                             The Bodyguard, The Red Violin  \n",
       "Romance          The Twilight Saga: Breaking Dawn - Part 2, The...  \n",
       "Drama                        The Lion King, Inside Out, Pocahontas  \n",
       "War                                                 Dracula Untold  \n",
       "Western                    Rango, Spirit: Stallion of the Cimarron  \n",
       "Action           Avatar, The Lord of the Rings: The Return of t...  \n",
       "Adventure        Avatar, The Lord of the Rings: The Return of t...  \n",
       "Science Fiction               Avatar, Jurassic World, The Avengers  \n",
       "Family           Harry Potter and the Order of the Phoenix, The...  \n",
       "Horror                                              Dracula Untold  \n",
       "Music                                The Bodyguard, The Red Violin  \n",
       "Comedy                       Minions, Despicable Me 2, Toy Story 3  \n",
       "Animation                                 The Adventures of Tintin  "
      ]
     },
     "execution_count": 67,
     "metadata": {},
     "output_type": "execute_result"
    }
   ],
   "source": [
    "#@title Default title text\n",
    "best_combination = {}\n",
    "for genre in all_genres:\n",
    "  all_comb = desired_combination(all_genres, [genre], 2)\n",
    "  best_comb = optimal_combination(all_comb, 1)\n",
    "  best_combination[genre] = [ ', '.join(best_comb[0][0]), ''.join(str(e) for e in best_comb[1]), ', '.join(example_movies(best_comb[0][0], 3))]\n",
    "df_genre = pd.DataFrame.from_dict(best_combination, orient='index')\n",
    "df_genre.columns = ['best_combination', 'mean_profit', 'example_movies']\n",
    "df_genre"
   ]
  },
  {
   "cell_type": "markdown",
   "metadata": {
    "colab_type": "text",
    "id": "uqR3TSRfYBw-"
   },
   "source": [
    "**Conclusion II:\n",
    "From the chart above, we can search the most profitable combination of all genres. There are couple rearks worth further exploring. Since the average of foreign is losing money. It's reasonable to have the \"most_profit\" as zero. In addtion, we can also find out that there are strong assosiation between genres and profit. The most profitable comibination is often the most profitable combination of the other two genres in this comibination. For example, Animation ties with comedy. Fantsy, Adventure, Crime also have strong ties with each other. This trend is possibly caused by the fact that most adventure content is related to fantasy. Some of the famous examples include Harry Porter and Maze Runner. Animation recevied the highest profit might casued by the widely used of 3D technology during production. The beauty of the graphic attracts all ages which expanded the source of revenue. The variety of audience also expanded the revenue of Animation. Unlike war crime or horror, animations are sutiable for all ages and all groups of viewers. They can be families or adults. This trait also increase the profit of Animation.**"
   ]
  },
  {
   "cell_type": "markdown",
   "metadata": {
    "colab_type": "text",
    "id": "KLeKK4QuC4i5"
   },
   "source": [
    "# **Part 6: Actors and Profits**\n",
    "\n",
    "\n",
    "**The core interest of this part is the correlation between the actors' individuality and the movies' successfulness. Throughout this part, our evaluation of a movie's successfulness is based on one assumption: a more successful movie will earn a higher profit. So, regarding each individual actor's quality and his movies' net profits(which is equivalent with succesfulness under our assumption), we have three hypothesis:**\n",
    "\n",
    "**-----First, actors' experience will affect the movie. Films that have more experienced participants are more likely to have higher profits.**\n",
    "\n",
    "**-----Second, we guess that differnet actors are talented in different movie genres. Thus, the movies that have matching type actors should have better quality and  turn out to be more profitable.**\n",
    "\n",
    "**-----Third, actors' popularities influence their movies' success. the movies acted by more popular acter tend to harvest higher commeretial profits.**\n"
   ]
  },
  {
   "cell_type": "markdown",
   "metadata": {
    "colab_type": "text",
    "id": "67Ens7OnJZg9"
   },
   "source": [
    "**+++++++++++++++++++++++++++++++++++++++++++++++++++++++++++++++++++++++++++++++++++++++++++++++++++++++++++++++++++++++++++++++++++++++++++++++++++++++++++**\n",
    "\n",
    "**Section 1, Preperation & Data Cleaning: **\n",
    "\n",
    "We will customize the raw TMDb 5000 movies dataset. Then, we'll extract all actor's names that appear in the modified movie dataset, without repetition. We will then save it as a new dataframe. Next, we will figure out which actors appear in which films, and store this info as a column in the actors dataframe. At the end of this section, we should have a separate dataframe of actors and their links to films."
   ]
  },
  {
   "cell_type": "code",
   "execution_count": 68,
   "metadata": {
    "colab": {
     "autoexec": {
      "startup": false,
      "wait_interval": 0
     },
     "base_uri": "https://localhost:8080/",
     "height": 236,
     "output_extras": [
      {
       "item_id": 1
      }
     ]
    },
    "colab_type": "code",
    "collapsed": true,
    "executionInfo": {
     "elapsed": 3648,
     "status": "error",
     "timestamp": 1521700718984,
     "user": {
      "displayName": "Jingsong Chen",
      "photoUrl": "https://lh3.googleusercontent.com/a/default-user=s128",
      "userId": "118119424029475779899"
     },
     "user_tz": 420
    },
    "id": "p-gaBGkJG9i7",
    "outputId": "589f1d67-61bc-436c-f167-4ce4cac60fff"
   },
   "outputs": [],
   "source": [
    "# read movie stats and cast into dataframes\n",
    "df_tmdb_cast = pd.read_csv('tmdb_5000_credits.csv')\n",
    "df_tmdb_movie = pd.read_csv('tmdb_5000_movies.csv')\n",
    "\n",
    "df_tmdb_cast['cast'] = df_tmdb_cast['cast'].apply(json.loads)\n",
    "df_tmdb_cast['crew'] = df_tmdb_cast['crew'].apply(json.loads)\n",
    "df_tmdb_movie['genres'] = df_tmdb_movie['genres'].apply(json.loads)\n",
    "df_tmdb_movie['keywords'] = df_tmdb_movie['keywords'].apply(json.loads)\n",
    "df_tmdb_movie['production_companies'] = df_tmdb_movie['production_companies'].apply(json.loads)\n",
    "df_tmdb_movie['production_countries'] = df_tmdb_movie['production_countries'].apply(json.loads)\n",
    "df_tmdb_movie['spoken_languages'] = df_tmdb_movie['spoken_languages'].apply(json.loads)\n",
    "\n",
    "# movie stats cleaning: drop unnecessary fields\n",
    "df_tmdb_movie.drop(['homepage','keywords','original_language','original_title','overview','popularity','production_companies','production_countries','release_date','runtime','spoken_languages','status','tagline','vote_count'], axis=1, inplace=True)\n"
   ]
  },
  {
   "cell_type": "markdown",
   "metadata": {
    "colab_type": "text",
    "id": "7gtvFTCnJuUM"
   },
   "source": [
    "**Step 1: for each movie, use its 'revenue' column minus its 'budget' column to calculate its profit. Dorp those invalid rows with non-positive budget and revenue.**"
   ]
  },
  {
   "cell_type": "code",
   "execution_count": 69,
   "metadata": {
    "colab": {
     "autoexec": {
      "startup": false,
      "wait_interval": 0
     },
     "base_uri": "https://localhost:8080/",
     "height": 126,
     "output_extras": [
      {}
     ]
    },
    "colab_type": "code",
    "collapsed": true,
    "executionInfo": {
     "elapsed": 543,
     "status": "ok",
     "timestamp": 1521571027854,
     "user": {
      "displayName": "Erik Jensen",
      "photoUrl": "https://lh3.googleusercontent.com/a/default-user=s128",
      "userId": "105068432724791430130"
     },
     "user_tz": 420
    },
    "id": "w7z5x_4iHA8G",
    "outputId": "9938ed20-52b2-4e8f-c6de-85c9bfca6380"
   },
   "outputs": [],
   "source": [
    "# function that calculates the gross income of a film\n",
    "def profit(budget,revenue):\n",
    "    profit = (revenue-budget)\n",
    "    return profit\n",
    "\n",
    "# dorp those with invalid budget and revenue\n",
    "df_tmdb_movie = df_tmdb_movie[df_tmdb_movie['budget'] > 0]\n",
    "df_tmdb_movie = df_tmdb_movie[df_tmdb_movie['revenue'] > 0]\n",
    "\n",
    "# calculate profit for each film and add it to the movie dataset as a new column\n",
    "df_tmdb_movie['profit'] = profit(df_tmdb_movie['budget'],df_tmdb_movie['revenue'])"
   ]
  },
  {
   "cell_type": "markdown",
   "metadata": {
    "colab_type": "text",
    "id": "bJqkNCoDMYWE"
   },
   "source": [
    "**Step 2: tokenizes the genres. Or riginally, each movie's genres are saved as objects with the format {id, genre name,...}. Here for each film, we extract the genre names and save them as a list of strings, and save it to the corresponding movie's row.**"
   ]
  },
  {
   "cell_type": "code",
   "execution_count": 70,
   "metadata": {
    "colab": {
     "autoexec": {
      "startup": false,
      "wait_interval": 0
     },
     "base_uri": "https://localhost:8080/",
     "height": 228,
     "output_extras": [
      {}
     ]
    },
    "colab_type": "code",
    "collapsed": true,
    "executionInfo": {
     "elapsed": 4559,
     "status": "ok",
     "timestamp": 1521571032626,
     "user": {
      "displayName": "Erik Jensen",
      "photoUrl": "https://lh3.googleusercontent.com/a/default-user=s128",
      "userId": "105068432724791430130"
     },
     "user_tz": 420
    },
    "id": "4qcHuieaHH8z",
    "outputId": "bf2b5de3-9081-44e6-bbdf-048f7c233aae"
   },
   "outputs": [],
   "source": [
    "# standardize_genre\n",
    "def standardize_genre(keywords): \n",
    "  str = ' '.join([x['name'] for x in keywords])\n",
    "  return str.split()\n",
    "\n",
    "df_tmdb_movie['genres'] = df_tmdb_movie['genres'].apply(standardize_genre)"
   ]
  },
  {
   "cell_type": "markdown",
   "metadata": {
    "colab_type": "text",
    "id": "hXvwmMy-cet5"
   },
   "source": [
    "**Step 3: get the cast info and extract the actors's names. We extract actors' names of each film using the similar method we used to extract actor names. Save each films actors as a list of strings, declear a new colum in in the movie dataframe and assign it correct actor lists. At the end of this step, we will save the cleaned movie dataframe as a new dataframe called \"movie_info\". Also, use a set to record all the actors we meet without duplication **"
   ]
  },
  {
   "cell_type": "code",
   "execution_count": 71,
   "metadata": {
    "colab": {
     "autoexec": {
      "startup": false,
      "wait_interval": 0
     },
     "base_uri": "https://localhost:8080/",
     "height": 228,
     "output_extras": [
      {}
     ]
    },
    "colab_type": "code",
    "executionInfo": {
     "elapsed": 3264,
     "status": "ok",
     "timestamp": 1521571036702,
     "user": {
      "displayName": "Erik Jensen",
      "photoUrl": "https://lh3.googleusercontent.com/a/default-user=s128",
      "userId": "105068432724791430130"
     },
     "user_tz": 420
    },
    "id": "gJQ5zsKoHK1-",
    "outputId": "48b603c3-8322-44b1-b38c-861360ca2261"
   },
   "outputs": [
    {
     "data": {
      "text/html": [
       "<div>\n",
       "<style>\n",
       "    .dataframe thead tr:only-child th {\n",
       "        text-align: right;\n",
       "    }\n",
       "\n",
       "    .dataframe thead th {\n",
       "        text-align: left;\n",
       "    }\n",
       "\n",
       "    .dataframe tbody tr th {\n",
       "        vertical-align: top;\n",
       "    }\n",
       "</style>\n",
       "<table border=\"1\" class=\"dataframe\">\n",
       "  <thead>\n",
       "    <tr style=\"text-align: right;\">\n",
       "      <th></th>\n",
       "      <th>id</th>\n",
       "      <th>genres</th>\n",
       "      <th>budget</th>\n",
       "      <th>revenue</th>\n",
       "      <th>profit</th>\n",
       "      <th>actors</th>\n",
       "      <th>vote_average</th>\n",
       "      <th>actor_count</th>\n",
       "    </tr>\n",
       "    <tr>\n",
       "      <th>title</th>\n",
       "      <th></th>\n",
       "      <th></th>\n",
       "      <th></th>\n",
       "      <th></th>\n",
       "      <th></th>\n",
       "      <th></th>\n",
       "      <th></th>\n",
       "      <th></th>\n",
       "    </tr>\n",
       "  </thead>\n",
       "  <tbody>\n",
       "    <tr>\n",
       "      <th>Avatar</th>\n",
       "      <td>19995</td>\n",
       "      <td>[Action, Adventure, Fantasy, Science, Fiction]</td>\n",
       "      <td>237000000</td>\n",
       "      <td>2787965087</td>\n",
       "      <td>2550965087</td>\n",
       "      <td>[Sam Worthington, Zoe Saldana, Sigourney Weave...</td>\n",
       "      <td>7.2</td>\n",
       "      <td>83</td>\n",
       "    </tr>\n",
       "    <tr>\n",
       "      <th>Pirates of the Caribbean: At World's End</th>\n",
       "      <td>285</td>\n",
       "      <td>[Adventure, Fantasy, Action]</td>\n",
       "      <td>300000000</td>\n",
       "      <td>961000000</td>\n",
       "      <td>661000000</td>\n",
       "      <td>[Johnny Depp, Orlando Bloom, Keira Knightley, ...</td>\n",
       "      <td>6.9</td>\n",
       "      <td>34</td>\n",
       "    </tr>\n",
       "    <tr>\n",
       "      <th>Spectre</th>\n",
       "      <td>206647</td>\n",
       "      <td>[Action, Adventure, Crime]</td>\n",
       "      <td>245000000</td>\n",
       "      <td>880674609</td>\n",
       "      <td>635674609</td>\n",
       "      <td>[Daniel Craig, Christoph Waltz, Léa Seydoux, R...</td>\n",
       "      <td>6.3</td>\n",
       "      <td>83</td>\n",
       "    </tr>\n",
       "    <tr>\n",
       "      <th>The Dark Knight Rises</th>\n",
       "      <td>49026</td>\n",
       "      <td>[Action, Crime, Drama, Thriller]</td>\n",
       "      <td>250000000</td>\n",
       "      <td>1084939099</td>\n",
       "      <td>834939099</td>\n",
       "      <td>[Christian Bale, Michael Caine, Gary Oldman, A...</td>\n",
       "      <td>7.6</td>\n",
       "      <td>158</td>\n",
       "    </tr>\n",
       "    <tr>\n",
       "      <th>John Carter</th>\n",
       "      <td>49529</td>\n",
       "      <td>[Action, Adventure, Science, Fiction]</td>\n",
       "      <td>260000000</td>\n",
       "      <td>284139100</td>\n",
       "      <td>24139100</td>\n",
       "      <td>[Taylor Kitsch, Lynn Collins, Samantha Morton,...</td>\n",
       "      <td>6.1</td>\n",
       "      <td>27</td>\n",
       "    </tr>\n",
       "  </tbody>\n",
       "</table>\n",
       "</div>"
      ],
      "text/plain": [
       "                                              id  \\\n",
       "title                                              \n",
       "Avatar                                     19995   \n",
       "Pirates of the Caribbean: At World's End     285   \n",
       "Spectre                                   206647   \n",
       "The Dark Knight Rises                      49026   \n",
       "John Carter                                49529   \n",
       "\n",
       "                                                                                  genres  \\\n",
       "title                                                                                      \n",
       "Avatar                                    [Action, Adventure, Fantasy, Science, Fiction]   \n",
       "Pirates of the Caribbean: At World's End                    [Adventure, Fantasy, Action]   \n",
       "Spectre                                                       [Action, Adventure, Crime]   \n",
       "The Dark Knight Rises                                   [Action, Crime, Drama, Thriller]   \n",
       "John Carter                                        [Action, Adventure, Science, Fiction]   \n",
       "\n",
       "                                             budget     revenue      profit  \\\n",
       "title                                                                         \n",
       "Avatar                                    237000000  2787965087  2550965087   \n",
       "Pirates of the Caribbean: At World's End  300000000   961000000   661000000   \n",
       "Spectre                                   245000000   880674609   635674609   \n",
       "The Dark Knight Rises                     250000000  1084939099   834939099   \n",
       "John Carter                               260000000   284139100    24139100   \n",
       "\n",
       "                                                                                     actors  \\\n",
       "title                                                                                         \n",
       "Avatar                                    [Sam Worthington, Zoe Saldana, Sigourney Weave...   \n",
       "Pirates of the Caribbean: At World's End  [Johnny Depp, Orlando Bloom, Keira Knightley, ...   \n",
       "Spectre                                   [Daniel Craig, Christoph Waltz, Léa Seydoux, R...   \n",
       "The Dark Knight Rises                     [Christian Bale, Michael Caine, Gary Oldman, A...   \n",
       "John Carter                               [Taylor Kitsch, Lynn Collins, Samantha Morton,...   \n",
       "\n",
       "                                          vote_average  actor_count  \n",
       "title                                                                \n",
       "Avatar                                             7.2           83  \n",
       "Pirates of the Caribbean: At World's End           6.9           34  \n",
       "Spectre                                            6.3           83  \n",
       "The Dark Knight Rises                              7.6          158  \n",
       "John Carter                                        6.1           27  "
      ]
     },
     "execution_count": 71,
     "metadata": {},
     "output_type": "execute_result"
    }
   ],
   "source": [
    "# cast data cleaning. group cast info by actors. each field of an actor starts with a newline\n",
    "df_tmdb_cast.drop(['crew', 'movie_id'], axis = 1, inplace = True)\n",
    "\n",
    "# merge movie stats and cast on titles to create a comprehensive dataset\n",
    "movie_info = pd.merge(df_tmdb_cast, df_tmdb_movie, on='title')\n",
    "movie_info.set_index(['title'], inplace = True)\n",
    "\n",
    "# extract all actor names of each film\n",
    "actor_names_for_every_film = []\n",
    "actor_list = set()\n",
    "\n",
    "# loop through all films in dataset\n",
    "for film_name in movie_info.index: \n",
    "    current_film_actors_info = movie_info['cast'].loc[film_name]\n",
    "    current_film_actor_names = []\n",
    "    \n",
    "    # loop through all single actors in a film\n",
    "    for current_actor in current_film_actors_info:\n",
    "        try:\n",
    "            name = current_actor['name']\n",
    "        except:\n",
    "            continue\n",
    "        current_film_actor_names.append(name)\n",
    "        actor_list.add(name)\n",
    "    actor_names_for_every_film.append(current_film_actor_names)\n",
    "    \n",
    "# add this new list to datafarme as a new field\n",
    "movie_info['actors'] = actor_names_for_every_film\n",
    "\n",
    "# drop cast column and reorder columns\n",
    "movie_info = movie_info[['id', 'genres', 'budget', 'revenue', 'profit', 'actors','vote_average']]\n",
    "\n",
    "# drop those without valid actor info\n",
    "actor_count = [0 for i in range(len(movie_info))]\n",
    "for film in range(len(movie_info)):\n",
    "    actors =  movie_info['actors'][film]\n",
    "    actor_count[film] = len(actors)\n",
    "movie_info['actor_count'] = actor_count\n",
    "movie_info = movie_info[movie_info['actor_count'] != 0]\n",
    "\n",
    "# value checking\n",
    "# originally with duplication, the len was 84006 and Depp appeared several times\n",
    "movie_info.head()"
   ]
  },
  {
   "cell_type": "markdown",
   "metadata": {
    "colab_type": "text",
    "id": "LzBpITK1Mr8X"
   },
   "source": [
    "**Step 4: store the actors set saved in the previous step as a new daraframr**"
   ]
  },
  {
   "cell_type": "code",
   "execution_count": 72,
   "metadata": {
    "colab": {
     "autoexec": {
      "startup": false,
      "wait_interval": 0
     },
     "base_uri": "https://localhost:8080/",
     "height": 35,
     "output_extras": [
      {}
     ]
    },
    "colab_type": "code",
    "collapsed": true,
    "executionInfo": {
     "elapsed": 771,
     "status": "ok",
     "timestamp": 1521571039641,
     "user": {
      "displayName": "Erik Jensen",
      "photoUrl": "https://lh3.googleusercontent.com/a/default-user=s128",
      "userId": "105068432724791430130"
     },
     "user_tz": 420
    },
    "id": "PkVDJxEXHN2r",
    "outputId": "46fa94da-6d8c-4c14-92a9-2dfad30f4226"
   },
   "outputs": [],
   "source": [
    "# creat a new dataframe for actors\n",
    "actors = pd.DataFrame()\n",
    "actors['name'] = list(actor_list)\n",
    "actors.set_index(['name'], inplace = True)"
   ]
  },
  {
   "cell_type": "markdown",
   "metadata": {
    "colab_type": "text",
    "id": "Xg0PCL-rM8AH"
   },
   "source": [
    "**Step 5: figure out each actor has appeared in which films. Loop through all films. For each film, we add its unique film id to the actors \"work(id) \" columns**"
   ]
  },
  {
   "cell_type": "code",
   "execution_count": 73,
   "metadata": {
    "colab": {
     "autoexec": {
      "startup": false,
      "wait_interval": 0
     }
    },
    "colab_type": "code",
    "id": "pSy5SL7XHSet"
   },
   "outputs": [
    {
     "data": {
      "text/html": [
       "<div>\n",
       "<style>\n",
       "    .dataframe thead tr:only-child th {\n",
       "        text-align: right;\n",
       "    }\n",
       "\n",
       "    .dataframe thead th {\n",
       "        text-align: left;\n",
       "    }\n",
       "\n",
       "    .dataframe tbody tr th {\n",
       "        vertical-align: top;\n",
       "    }\n",
       "</style>\n",
       "<table border=\"1\" class=\"dataframe\">\n",
       "  <thead>\n",
       "    <tr style=\"text-align: right;\">\n",
       "      <th></th>\n",
       "      <th>work(id)</th>\n",
       "    </tr>\n",
       "    <tr>\n",
       "      <th>name</th>\n",
       "      <th></th>\n",
       "    </tr>\n",
       "  </thead>\n",
       "  <tbody>\n",
       "    <tr>\n",
       "      <th>Jillian Morgese</th>\n",
       "      <td>[24428]</td>\n",
       "    </tr>\n",
       "    <tr>\n",
       "      <th>Alison Moir</th>\n",
       "      <td>[321741]</td>\n",
       "    </tr>\n",
       "    <tr>\n",
       "      <th>Libby West</th>\n",
       "      <td>[2642]</td>\n",
       "    </tr>\n",
       "    <tr>\n",
       "      <th>Leonard Rossiter</th>\n",
       "      <td>[3175, 62, 17917]</td>\n",
       "    </tr>\n",
       "    <tr>\n",
       "      <th>Caroline Grace Williamson</th>\n",
       "      <td>[76203]</td>\n",
       "    </tr>\n",
       "  </tbody>\n",
       "</table>\n",
       "</div>"
      ],
      "text/plain": [
       "                                    work(id)\n",
       "name                                        \n",
       "Jillian Morgese                      [24428]\n",
       "Alison Moir                         [321741]\n",
       "Libby West                            [2642]\n",
       "Leonard Rossiter           [3175, 62, 17917]\n",
       "Caroline Grace Williamson            [76203]"
      ]
     },
     "execution_count": 73,
     "metadata": {},
     "output_type": "execute_result"
    }
   ],
   "source": [
    "# figure out each actor appears in which films\n",
    "\n",
    "# initialize a new column in actor df to keep the actor's work\n",
    "actors['work(id)'] = [[] for i in range(len(actors))]\n",
    "\n",
    "# loop through all films\n",
    "for film in range(len(movie_info)):\n",
    "  id_num = movie_info.iloc[[film]].id[0]\n",
    "  actor_list =  movie_info.iloc[[film]].actors[0]\n",
    "    \n",
    "  # add the film's id to all its actors' work colum and update film count\n",
    "  for actor in actor_list:\n",
    "    actors.loc[actor][\"work(id)\"].append(id_num)\n",
    "    \n",
    "# value checking\n",
    "actors.head()"
   ]
  },
  {
   "cell_type": "markdown",
   "metadata": {
    "colab_type": "text",
    "id": "K4UF112INRLB"
   },
   "source": [
    "**+++++++++++++++++++++++++++++++++++++++++++++++++++++++++++++++++++++++++++++++++++++++++++++++++++++++++++++++++++++++++++++++++++++++++++++++++++++++++**\n",
    "**Section 2, Actor's Experience & Their Films' Profits: **\n",
    "\n",
    "**In this section we will find out if a film's pofit is affected by its actors' career experience.**\n",
    "\n",
    "**An assumption we make is that:**\n",
    "\n",
    "**-----Actors that has participated more films are more exprienced actors.**\n",
    "\n",
    "**Our work flow for this section will be:**\n",
    "\n",
    "**-----1.To evaluate each actor's experience, we will find in how many films he/she appears. We'll save this info as a column named \"movies#\" in the actor dafaframe.**\n",
    "\n",
    "**-----2. We will calculate the average profit of all the films that each actor participates, and save this info as a column named \"avg_profit\" in the actor dataframe. Then we will check if there is an obvious relationship between an actor's work number and the average profit of the films he is in.**\n",
    "\n",
    "**-----3. We will go from another direction to verify our previous conclusion. We will calculate the average movie number of all the actors of each film, and check if this average affects the film's profit.**"
   ]
  },
  {
   "cell_type": "markdown",
   "metadata": {
    "colab_type": "text",
    "id": "O42YwirBdFHJ"
   },
   "source": [
    "**Step 1: use the \"work(id)\" column in the actors' dataframe, figure out each actor has appeared in how many films. **"
   ]
  },
  {
   "cell_type": "code",
   "execution_count": 74,
   "metadata": {
    "colab": {
     "autoexec": {
      "startup": false,
      "wait_interval": 0
     },
     "base_uri": "https://localhost:8080/",
     "height": 228,
     "output_extras": [
      {}
     ]
    },
    "colab_type": "code",
    "collapsed": true,
    "executionInfo": {
     "elapsed": 7638,
     "status": "ok",
     "timestamp": 1521571051936,
     "user": {
      "displayName": "Erik Jensen",
      "photoUrl": "https://lh3.googleusercontent.com/a/default-user=s128",
      "userId": "105068432724791430130"
     },
     "user_tz": 420
    },
    "id": "1VAt5cvZHcEv",
    "outputId": "7aa5f11e-2759-4496-ff1f-ac539dc61669"
   },
   "outputs": [],
   "source": [
    "# count how many movies are shot for each actor\n",
    "movies_shot_number = []\n",
    "for actor in actors.index: \n",
    "  number = len(actors.loc[actor][0])\n",
    "  movies_shot_number.append(number)\n",
    "actors[\"movies#\"] = movies_shot_number\n",
    "\n",
    "# sort actors regarding how many films they acted\n",
    "actors.sort_values(by = ['movies#'], ascending = False, inplace = True)"
   ]
  },
  {
   "cell_type": "markdown",
   "metadata": {
    "colab_type": "text",
    "id": "6dKKuy-Str2c"
   },
   "source": [
    "**Step 2: calculate the average profit of each actor's work. We go through each film's work id list and sum the movie profits. Then we devide this actor's total movie profit sum and the number of movies he acted to get the average profit of the movie he participates.**"
   ]
  },
  {
   "cell_type": "code",
   "execution_count": 75,
   "metadata": {
    "colab": {
     "autoexec": {
      "startup": false,
      "wait_interval": 0
     },
     "base_uri": "https://localhost:8080/",
     "height": 228,
     "output_extras": [
      {}
     ]
    },
    "colab_type": "code",
    "executionInfo": {
     "elapsed": 18653,
     "status": "ok",
     "timestamp": 1521571070602,
     "user": {
      "displayName": "Erik Jensen",
      "photoUrl": "https://lh3.googleusercontent.com/a/default-user=s128",
      "userId": "105068432724791430130"
     },
     "user_tz": 420
    },
    "id": "akl2mqmNnqT-",
    "outputId": "b494f858-e220-40a9-9c81-94380df1258b"
   },
   "outputs": [
    {
     "data": {
      "text/html": [
       "<div>\n",
       "<style>\n",
       "    .dataframe thead tr:only-child th {\n",
       "        text-align: right;\n",
       "    }\n",
       "\n",
       "    .dataframe thead th {\n",
       "        text-align: left;\n",
       "    }\n",
       "\n",
       "    .dataframe tbody tr th {\n",
       "        vertical-align: top;\n",
       "    }\n",
       "</style>\n",
       "<table border=\"1\" class=\"dataframe\">\n",
       "  <thead>\n",
       "    <tr style=\"text-align: right;\">\n",
       "      <th></th>\n",
       "      <th>work(id)</th>\n",
       "      <th>movies#</th>\n",
       "      <th>avg_profit</th>\n",
       "    </tr>\n",
       "    <tr>\n",
       "      <th>name</th>\n",
       "      <th></th>\n",
       "      <th></th>\n",
       "      <th></th>\n",
       "    </tr>\n",
       "  </thead>\n",
       "  <tbody>\n",
       "    <tr>\n",
       "      <th>Samuel L. Jackson</th>\n",
       "      <td>[99861, 24428, 258489, 1726, 10138, 100402, 10...</td>\n",
       "      <td>53</td>\n",
       "      <td>2.050035e+08</td>\n",
       "    </tr>\n",
       "    <tr>\n",
       "      <th>Robert De Niro</th>\n",
       "      <td>[39451, 9992, 17711, 10555, 2270, 49021, 11371...</td>\n",
       "      <td>48</td>\n",
       "      <td>6.223366e+07</td>\n",
       "    </tr>\n",
       "    <tr>\n",
       "      <th>Matt Damon</th>\n",
       "      <td>[157336, 65759, 2503, 324668, 68724, 163, 2862...</td>\n",
       "      <td>45</td>\n",
       "      <td>1.094253e+08</td>\n",
       "    </tr>\n",
       "    <tr>\n",
       "      <th>Morgan Freeman</th>\n",
       "      <td>[49026, 155, 2698, 272, 74, 75612, 157353, 271...</td>\n",
       "      <td>45</td>\n",
       "      <td>1.399995e+08</td>\n",
       "    </tr>\n",
       "    <tr>\n",
       "      <th>Bruce Willis</th>\n",
       "      <td>[95, 72559, 9471, 163, 1571, 76163, 18, 47964,...</td>\n",
       "      <td>44</td>\n",
       "      <td>1.070034e+08</td>\n",
       "    </tr>\n",
       "  </tbody>\n",
       "</table>\n",
       "</div>"
      ],
      "text/plain": [
       "                                                            work(id)  movies#  \\\n",
       "name                                                                            \n",
       "Samuel L. Jackson  [99861, 24428, 258489, 1726, 10138, 100402, 10...       53   \n",
       "Robert De Niro     [39451, 9992, 17711, 10555, 2270, 49021, 11371...       48   \n",
       "Matt Damon         [157336, 65759, 2503, 324668, 68724, 163, 2862...       45   \n",
       "Morgan Freeman     [49026, 155, 2698, 272, 74, 75612, 157353, 271...       45   \n",
       "Bruce Willis       [95, 72559, 9471, 163, 1571, 76163, 18, 47964,...       44   \n",
       "\n",
       "                     avg_profit  \n",
       "name                             \n",
       "Samuel L. Jackson  2.050035e+08  \n",
       "Robert De Niro     6.223366e+07  \n",
       "Matt Damon         1.094253e+08  \n",
       "Morgan Freeman     1.399995e+08  \n",
       "Bruce Willis       1.070034e+08  "
      ]
     },
     "execution_count": 75,
     "metadata": {},
     "output_type": "execute_result"
    }
   ],
   "source": [
    "#find average profit of movies they shot\n",
    "profit_list = [0 for i in range(len(actors))]\n",
    "actor_index = 0 \n",
    "\n",
    "while actor_index < len(actors): \n",
    "  movie_list = actors['work(id)'][actor_index]\n",
    "  total_profit = 0\n",
    "  \n",
    "  for movie_id in movie_list: \n",
    "    profit = movie_info.loc[movie_info['id'] == movie_id]['profit'][0]\n",
    "    total_profit += profit\n",
    "  profit_list[actor_index] = total_profit/actors['movies#'][actor_index]\n",
    "  actor_index += 1\n",
    "  \n",
    "actors['avg_profit'] = profit_list\n",
    "\n",
    "# value checking\n",
    "actors.head()"
   ]
  },
  {
   "cell_type": "markdown",
   "metadata": {
    "colab_type": "text",
    "id": "9-cG0VaEdc_c"
   },
   "source": [
    "**Step 3: Relationship checking. Find out if the average profit of all the film an actor participates is related to the number of movies that actor participates, that is, how experienced that actor is. **\n",
    "\n",
    "**#Important data cleaning:**\n",
    "\n",
    "**1.Those bit-part players, e.g. actors who only appear in very few films, should be ignored. Because they participate in too few films so that the average profit of the film they aprticipate can just be a contingency an not representative. Here we define those who participate less than 3 films as non-important**\n",
    "\n",
    "**2.Since movie profits are measured in milions of dollar, we take log of the profits to facilitate our observation.**\n",
    "\n",
    "**3.For those with no or negative profits, we regard them as having $0 profit. They shouldn't be dropped as a negative profit is possible.**"
   ]
  },
  {
   "cell_type": "code",
   "execution_count": 76,
   "metadata": {
    "colab": {
     "autoexec": {
      "startup": false,
      "wait_interval": 0
     },
     "base_uri": "https://localhost:8080/",
     "height": 228,
     "output_extras": [
      {}
     ]
    },
    "colab_type": "code",
    "executionInfo": {
     "elapsed": 18381,
     "status": "ok",
     "timestamp": 1521571088992,
     "user": {
      "displayName": "Erik Jensen",
      "photoUrl": "https://lh3.googleusercontent.com/a/default-user=s128",
      "userId": "105068432724791430130"
     },
     "user_tz": 420
    },
    "id": "rMjCQ53-nz8D",
    "outputId": "36a816e6-3478-40f2-bc92-8bf9664c3738"
   },
   "outputs": [
    {
     "data": {
      "text/plain": [
       "Text(0.5,1,'The Number of Movies An Actor Joins  V.S.  The Average Profit of His films')"
      ]
     },
     "execution_count": 76,
     "metadata": {},
     "output_type": "execute_result"
    }
   ],
   "source": [
    "# visually checking if actor's experience will affect the profit of their films.\n",
    "temp = actors[actors['movies#'] > 3]\n",
    "x = temp['movies#']\n",
    "y = []\n",
    "for profit in temp['avg_profit']:\n",
    "  if profit <= 0:\n",
    "    y.append(0)\n",
    "  else:\n",
    "    y.append(np.log10(profit))\n",
    "\n",
    "# plot\n",
    "plt.scatter(x, y, color='C1')\n",
    "plt.xlabel('# of movies participated', fontsize = 15, color = 'blue')\n",
    "plt.ylabel('average profit', fontsize = 15, rotation=0, color = 'blue')\n",
    "plt.title(\"The Number of Movies An Actor Joins  V.S.  The Average Profit of His films\", fontsize = 20, color = 'red')"
   ]
  },
  {
   "cell_type": "markdown",
   "metadata": {
    "colab_type": "text",
    "id": "GDLHEXhmdsY7"
   },
   "source": [
    "**We see a pretty clear linear correlation between the actors' experience and the profits of his films, as those with actors participate in more films tend to result in higher average profits of the films they participate. Let's  check it mathematically. We'll calculate the slope of the two variables to to see if they are roughly positively correlated.**"
   ]
  },
  {
   "cell_type": "code",
   "execution_count": 77,
   "metadata": {
    "colab": {
     "autoexec": {
      "startup": false,
      "wait_interval": 0
     },
     "base_uri": "https://localhost:8080/",
     "height": 228,
     "output_extras": [
      {}
     ]
    },
    "colab_type": "code",
    "executionInfo": {
     "elapsed": 18873,
     "status": "ok",
     "timestamp": 1521571107905,
     "user": {
      "displayName": "Erik Jensen",
      "photoUrl": "https://lh3.googleusercontent.com/a/default-user=s128",
      "userId": "105068432724791430130"
     },
     "user_tz": 420
    },
    "id": "i1SyWFa3n01W",
    "outputId": "fa5dd5bb-ce94-4d37-e67a-ea8e55ead563"
   },
   "outputs": [
    {
     "data": {
      "text/html": [
       "<div>\n",
       "<style>\n",
       "    .dataframe thead tr:only-child th {\n",
       "        text-align: right;\n",
       "    }\n",
       "\n",
       "    .dataframe thead th {\n",
       "        text-align: left;\n",
       "    }\n",
       "\n",
       "    .dataframe tbody tr th {\n",
       "        vertical-align: top;\n",
       "    }\n",
       "</style>\n",
       "<table border=\"1\" class=\"dataframe\">\n",
       "  <thead>\n",
       "    <tr style=\"text-align: right;\">\n",
       "      <th></th>\n",
       "      <th>x</th>\n",
       "      <th>y</th>\n",
       "    </tr>\n",
       "  </thead>\n",
       "  <tbody>\n",
       "    <tr>\n",
       "      <th>x</th>\n",
       "      <td>1.000000</td>\n",
       "      <td>0.105832</td>\n",
       "    </tr>\n",
       "    <tr>\n",
       "      <th>y</th>\n",
       "      <td>0.105832</td>\n",
       "      <td>1.000000</td>\n",
       "    </tr>\n",
       "  </tbody>\n",
       "</table>\n",
       "</div>"
      ],
      "text/plain": [
       "          x         y\n",
       "x  1.000000  0.105832\n",
       "y  0.105832  1.000000"
      ]
     },
     "execution_count": 77,
     "metadata": {},
     "output_type": "execute_result"
    }
   ],
   "source": [
    "# Check the linear correlation\n",
    "df_temp = pd.DataFrame(columns=['x', 'y'])\n",
    "df_temp['x'] = x\n",
    "df_temp['y'] = y\n",
    "df_temp.corr()"
   ]
  },
  {
   "cell_type": "markdown",
   "metadata": {
    "colab_type": "text",
    "id": "Jdx7CWM0dzO7"
   },
   "source": [
    "**Step 4: The estimated coefficient between the number of movies an actor participated and the average profit of the movies that he is in is around 0.105. So, it looks like an actor's experience is positively related to the porit of the films he is in. Let's verify it from another direction. We'll look at each film's actors' average film number and this film's profit.**\n",
    "\n",
    "**We will go through all the actors in each film and sum the number of films they participated. Then we devide this sum by the number of actors in the film to get average number of films each actor in that film shoots. We save this info as \"avg_experience\" the movie dataframe**"
   ]
  },
  {
   "cell_type": "code",
   "execution_count": 78,
   "metadata": {
    "colab": {
     "autoexec": {
      "startup": false,
      "wait_interval": 0
     },
     "base_uri": "https://localhost:8080/",
     "height": 228,
     "output_extras": [
      {}
     ]
    },
    "colab_type": "code",
    "executionInfo": {
     "elapsed": 31356,
     "status": "ok",
     "timestamp": 1521571139270,
     "user": {
      "displayName": "Erik Jensen",
      "photoUrl": "https://lh3.googleusercontent.com/a/default-user=s128",
      "userId": "105068432724791430130"
     },
     "user_tz": 420
    },
    "id": "O15G-00dn3nM",
    "outputId": "df5b9a37-d1ce-418d-9d19-7c79cafff8fa"
   },
   "outputs": [
    {
     "data": {
      "text/plain": [
       "title\n",
       "Avatar                                      2\n",
       "Pirates of the Caribbean: At World's End    8\n",
       "Spectre                                     2\n",
       "The Dark Knight Rises                       4\n",
       "John Carter                                 6\n",
       "Name: avg_experience, dtype: int64"
      ]
     },
     "execution_count": 78,
     "metadata": {},
     "output_type": "execute_result"
    }
   ],
   "source": [
    "# get each film's actors average film number\n",
    "avg_films = [0 for i in range(len(movie_info))]\n",
    "\n",
    "# loop through all films\n",
    "for film in range(len(movie_info)):\n",
    "  actor_list =  movie_info['actors'][film]\n",
    "  actor_count = movie_info['actor_count'][film]\n",
    "  total_film_num = 0\n",
    "      \n",
    "  # get actor's film numbers\n",
    "  for actor in actor_list:\n",
    "    total_film_num += actors.loc[actor][\"movies#\"]\n",
    "    \n",
    "  avg_films[film] = (int) (total_film_num / actor_count)\n",
    "  \n",
    "movie_info['avg_experience'] = avg_films\n",
    "\n",
    "# value checking\n",
    "movie_info['avg_experience'].head()"
   ]
  },
  {
   "cell_type": "markdown",
   "metadata": {
    "colab_type": "text",
    "id": "jpi6hHaTd85A"
   },
   "source": [
    "**Step 5: notice that according to the previous step, Avatar's actors only participate in 2 films each on average. This is wierd. But let's spare this for the moment and continue to draw a scatter points graph to visualize the average experience of the actors in a film versus its profit. Each dot on the graph represents a film's profit and this film's actors' average number of films participated, that is, the average experience of the actors in the film.**"
   ]
  },
  {
   "cell_type": "code",
   "execution_count": 79,
   "metadata": {
    "colab": {
     "autoexec": {
      "startup": false,
      "wait_interval": 0
     }
    },
    "colab_type": "code",
    "id": "HVTmwFukn59_"
   },
   "outputs": [
    {
     "data": {
      "image/png": "[encoded data removed]",
      "text/plain": [
       "<matplotlib.figure.Figure at 0x21634d61748>"
      ]
     },
     "metadata": {},
     "output_type": "display_data"
    }
   ],
   "source": [
    "# visually checking if actor's experience will affect the profit of their films.\n",
    "#temp = actors[actors['movies#'] > 3]\n",
    "x = movie_info['avg_experience']\n",
    "y = []\n",
    "for profit in movie_info['profit']:\n",
    "  if profit <= 0:\n",
    "    y.append(0)\n",
    "  else:\n",
    "    y.append(np.log10(profit))\n",
    "    \n",
    "# plot\n",
    "plt.scatter(x, y, color='C2')\n",
    "plt.xlabel(\"actors' average # of movies participated\", fontsize = 12, color = 'blue')\n",
    "plt.ylabel('profit', fontsize = 12, color = 'blue')\n",
    "plt.title(\"A Film's Participants' Average Experience  V.S.  The Film's Profit\", fontsize = 18, color = 'blue')\n",
    "plt.show()"
   ]
  },
  {
   "cell_type": "markdown",
   "metadata": {
    "colab_type": "text",
    "id": "ZSTXd_EveEQx"
   },
   "source": [
    "**We can't see a clear positive realationship between the average experience of a film's actors and its profit. Let's check our intuition mathematically. We will calculate the correlation coeficient again and see if it's significantly greater than 0.**"
   ]
  },
  {
   "cell_type": "code",
   "execution_count": 80,
   "metadata": {
    "colab": {
     "autoexec": {
      "startup": false,
      "wait_interval": 0
     }
    },
    "colab_type": "code",
    "id": "4VJtCUYXoGBl"
   },
   "outputs": [
    {
     "data": {
      "text/html": [
       "<div>\n",
       "<style>\n",
       "    .dataframe thead tr:only-child th {\n",
       "        text-align: right;\n",
       "    }\n",
       "\n",
       "    .dataframe thead th {\n",
       "        text-align: left;\n",
       "    }\n",
       "\n",
       "    .dataframe tbody tr th {\n",
       "        vertical-align: top;\n",
       "    }\n",
       "</style>\n",
       "<table border=\"1\" class=\"dataframe\">\n",
       "  <thead>\n",
       "    <tr style=\"text-align: right;\">\n",
       "      <th></th>\n",
       "      <th>x</th>\n",
       "      <th>y</th>\n",
       "    </tr>\n",
       "  </thead>\n",
       "  <tbody>\n",
       "    <tr>\n",
       "      <th>x</th>\n",
       "      <td>1.000000</td>\n",
       "      <td>-0.037228</td>\n",
       "    </tr>\n",
       "    <tr>\n",
       "      <th>y</th>\n",
       "      <td>-0.037228</td>\n",
       "      <td>1.000000</td>\n",
       "    </tr>\n",
       "  </tbody>\n",
       "</table>\n",
       "</div>"
      ],
      "text/plain": [
       "          x         y\n",
       "x  1.000000 -0.037228\n",
       "y -0.037228  1.000000"
      ]
     },
     "execution_count": 80,
     "metadata": {},
     "output_type": "execute_result"
    }
   ],
   "source": [
    "# Check the linear correlation\n",
    "df_temp = pd.DataFrame(columns=['x', 'y'])\n",
    "df_temp['x'] = x\n",
    "df_temp['y'] = y\n",
    "df_temp.corr()"
   ]
  },
  {
   "cell_type": "markdown",
   "metadata": {
    "colab_type": "text",
    "id": "ifaLndBcusvD"
   },
   "source": [
    "**Previously, the correlation was 0.105; now the value is 0.049, which is close to 0. The result astonishingly shows that actors' experience have almost no effect on their film's profit!!!**\n",
    "\n",
    "**This result is counter-intuitive and contradicts our previous conclusion. So, were we wrong? Not necessarily. We realize that a grand production, say, a World War II film, may involve a lot of walk-on actors. Although the main roles are played by those well-experienced actors, the average experience of the actors may be substantially diluted by those relatively unimportant actors.**\n",
    "\n",
    "**To get rid of this interference, when counting average experience, we only count those who have participated at least 4 films. For those low-budget films that only envolve those novice actors who have only participated less than 8 films, we count its average experience as 4. This is an safe approximation because the expectation of the average is 4 and the average can't exceed 8 anyway in the previous case.**\n",
    "\n",
    "**We also modify our hypothesis to: a film's profit is related to its main actors' experience.**"
   ]
  },
  {
   "cell_type": "markdown",
   "metadata": {
    "colab_type": "text",
    "id": "VACgwzzBeN_E"
   },
   "source": [
    "**Step 6: recheck the correlation between a film's actors' average number of work and the film's profit, with those actors who participate less than 8 films ignored.**"
   ]
  },
  {
   "cell_type": "code",
   "execution_count": 81,
   "metadata": {
    "colab": {
     "autoexec": {
      "startup": false,
      "wait_interval": 0
     },
     "base_uri": "https://localhost:8080/",
     "height": 870,
     "output_extras": [
      {},
      {},
      {},
      {}
     ]
    },
    "colab_type": "code",
    "executionInfo": {
     "elapsed": 2892,
     "status": "ok",
     "timestamp": 1521571152197,
     "user": {
      "displayName": "Erik Jensen",
      "photoUrl": "https://lh3.googleusercontent.com/a/default-user=s128",
      "userId": "105068432724791430130"
     },
     "user_tz": 420
    },
    "id": "mjRxvWmmoIr-",
    "outputId": "2f140c30-2900-46e6-8a61-97b6b8fc42f5"
   },
   "outputs": [
    {
     "data": {
      "text/plain": [
       "title\n",
       "Avatar                                      15\n",
       "Pirates of the Caribbean: At World's End    16\n",
       "Spectre                                     14\n",
       "The Dark Knight Rises                       16\n",
       "John Carter                                 17\n",
       "Name: avg_experience, dtype: int64"
      ]
     },
     "execution_count": 81,
     "metadata": {},
     "output_type": "execute_result"
    }
   ],
   "source": [
    "# get each film's actors average film number\n",
    "avg_films = [0 for i in range(len(movie_info))]\n",
    "\n",
    "# loop through all films\n",
    "for film in range(len(movie_info)):\n",
    "  actor_list =  movie_info['actors'][film]\n",
    "  actor_count = movie_info['actor_count'][film]\n",
    "  total_film_num = 0\n",
    "   \n",
    "    \n",
    "  # get actor's film numbers\n",
    "  for actor in actor_list:\n",
    "    if actors.loc[actor][\"movies#\"] < 8:\n",
    "      actor_count -= 1\n",
    "    else:\n",
    "      total_film_num += actors.loc[actor][\"movies#\"]\n",
    "  \n",
    "  if actor_count > 0:\n",
    "    avg_films[film] = (int) (total_film_num / actor_count)\n",
    "  else:\n",
    "    avg_films[film] = 4\n",
    "\n",
    "    \n",
    "  \n",
    "movie_info['avg_experience'] = avg_films\n",
    "\n",
    "# value checking\n",
    "movie_info['avg_experience'].head()"
   ]
  },
  {
   "cell_type": "markdown",
   "metadata": {
    "colab_type": "text",
    "id": "SD4NwJIPeWCs"
   },
   "source": [
    "**Notice that now the Avatar's actors' average experience restores to 15 films, not the ridiculous 2 films shown previously.**"
   ]
  },
  {
   "cell_type": "code",
   "execution_count": 82,
   "metadata": {
    "colab": {
     "autoexec": {
      "startup": false,
      "wait_interval": 0
     }
    },
    "colab_type": "code",
    "id": "p31498speZ38"
   },
   "outputs": [
    {
     "data": {
      "image/png": "[encoded data removed]",
      "text/plain": [
       "<matplotlib.figure.Figure at 0x21622877eb8>"
      ]
     },
     "metadata": {},
     "output_type": "display_data"
    }
   ],
   "source": [
    "# visually checking if actor's experience will affect the profit of their films.\n",
    "#temp = actors[actors['movies#'] > 3]\n",
    "x = movie_info['avg_experience']\n",
    "y = []\n",
    "for profit in movie_info['profit']:\n",
    "  if profit <= 0:\n",
    "    y.append(0)\n",
    "  else:\n",
    "    y.append(np.log10(profit))\n",
    "    \n",
    "# plot\n",
    "plt.scatter(x, y, color='C2')\n",
    "plt.xlabel(\"actors' average # of movies participated\", fontsize = 12, color = 'blue')\n",
    "plt.ylabel('profit', fontsize = 12, color = 'blue')\n",
    "plt.title(\"A Film's Participants' Average Experience  V.S.  The Film's Profit\", fontsize = 18, color = 'blue')\n",
    "plt.show()"
   ]
  },
  {
   "cell_type": "code",
   "execution_count": 83,
   "metadata": {
    "colab": {
     "autoexec": {
      "startup": false,
      "wait_interval": 0
     }
    },
    "colab_type": "code",
    "id": "ROsGm_5NedjQ"
   },
   "outputs": [
    {
     "data": {
      "text/html": [
       "<div>\n",
       "<style>\n",
       "    .dataframe thead tr:only-child th {\n",
       "        text-align: right;\n",
       "    }\n",
       "\n",
       "    .dataframe thead th {\n",
       "        text-align: left;\n",
       "    }\n",
       "\n",
       "    .dataframe tbody tr th {\n",
       "        vertical-align: top;\n",
       "    }\n",
       "</style>\n",
       "<table border=\"1\" class=\"dataframe\">\n",
       "  <thead>\n",
       "    <tr style=\"text-align: right;\">\n",
       "      <th></th>\n",
       "      <th>x</th>\n",
       "      <th>y</th>\n",
       "    </tr>\n",
       "  </thead>\n",
       "  <tbody>\n",
       "    <tr>\n",
       "      <th>x</th>\n",
       "      <td>1.000000</td>\n",
       "      <td>0.049542</td>\n",
       "    </tr>\n",
       "    <tr>\n",
       "      <th>y</th>\n",
       "      <td>0.049542</td>\n",
       "      <td>1.000000</td>\n",
       "    </tr>\n",
       "  </tbody>\n",
       "</table>\n",
       "</div>"
      ],
      "text/plain": [
       "          x         y\n",
       "x  1.000000  0.049542\n",
       "y  0.049542  1.000000"
      ]
     },
     "execution_count": 83,
     "metadata": {},
     "output_type": "execute_result"
    }
   ],
   "source": [
    "# Check the linear correlation\n",
    "df_temp = pd.DataFrame(columns=['x', 'y'])\n",
    "df_temp['x'] = x\n",
    "df_temp['y'] = y\n",
    "df_temp.corr()"
   ]
  },
  {
   "cell_type": "markdown",
   "metadata": {
    "colab_type": "text",
    "id": "FW7EI9Uoegi-"
   },
   "source": [
    "**Now the graph and test show that a movie's profit is positively related to its main actors' experience by coefficient of 0.198, which is almost 5 times stronger than 0.04.**\n",
    "\n",
    "**Conclusion 1: **\n",
    "\n",
    "**-----A movie's profit is positively related to its main actors' experience. The more experienced its main actors are, the more profitable this film tends to be.**\n",
    "**++++++++++++++++++++++++++++++++++++++++++++++++++++++++++++++++++++++++++++++++++++++++++++++++++++++++++++++++++++++++++++++++++++++++++++++++++++++++++++++++++++++**"
   ]
  },
  {
   "cell_type": "markdown",
   "metadata": {
    "colab_type": "text",
    "id": "rEW3I4zGemoy"
   },
   "source": [
    "**Section 3, Actors' types & Their Films' Profits:**\n",
    "\n",
    "**In this section we will find out whether a film's pofit will be boosted if it matches its actors familiar genre.**\n",
    "\n",
    "**An assumption we make is that:**\n",
    "\n",
    "**-----The genre that an actor participated most is the genre that he is most talented in.**\n",
    "\n",
    "**Our work flow for this section will be:**\n",
    "\n",
    "**-----1. Use each actor's movie list, figure out what type of films is he/she most familiar with.**\n",
    "\n",
    "**-----2. Calculate the average profit of the films that match an actor's talented type.**\n",
    "\n",
    "**-----3. Check if the matching films' average profit is systematically higher than the overall average profit.**\n",
    "\n",
    "**-----4. Check the relation form another direction: count how many actors are of the correct type in each film and see if the films with more matching actors have higher profits.**"
   ]
  },
  {
   "cell_type": "markdown",
   "metadata": {
    "colab_type": "text",
    "id": "ae2vR42XepaO"
   },
   "source": [
    "**Step 1: figure out each actor's favorite genre. We check all the films each actor participates and count which genre of the films he participates the most. We will take this as the actor's talented genre, and save it as \"main_type\" in the actors' dataframe.**"
   ]
  },
  {
   "cell_type": "code",
   "execution_count": 84,
   "metadata": {
    "colab": {
     "autoexec": {
      "startup": false,
      "wait_interval": 0
     }
    },
    "colab_type": "code",
    "id": "Y2K4YSM5esS9"
   },
   "outputs": [
    {
     "data": {
      "text/plain": [
       "name\n",
       "Samuel L. Jackson      Action\n",
       "Robert De Niro          Drama\n",
       "Matt Damon              Drama\n",
       "Morgan Freeman          Drama\n",
       "Bruce Willis         Thriller\n",
       "Name: main_type, dtype: object"
      ]
     },
     "execution_count": 84,
     "metadata": {},
     "output_type": "execute_result"
    }
   ],
   "source": [
    "# get each actor's type\n",
    "genre_list = [0 for i in range(len(actors))]\n",
    "\n",
    "actor_index = 0\n",
    "while actor_index < len(actors):\n",
    "  genre_list[actor_index] = {}\n",
    "  actor_index = actor_index + 1\n",
    "\n",
    "actor_index = 0\n",
    "while actor_index < len(actors): \n",
    "  movie_list = actors['work(id)'][actor_index]\n",
    "  for movie_id in movie_list:\n",
    "    genres = movie_info.loc[movie_info['id']== movie_id]['genres'][0]\n",
    "    for genre in genres:\n",
    "      if genre not in genre_list[actor_index]:\n",
    "        genre_list[actor_index][genre] = 0\n",
    "      genre_list[actor_index][genre] = genre_list[actor_index][genre] + 1\n",
    "  genre_list[actor_index] = sorted(genre_list[actor_index], key=genre_list[actor_index].__getitem__, reverse=True)[0]\n",
    "  actor_index += 1\n",
    "  \n",
    "actors['main_type'] = genre_list\n",
    "\n",
    "# value checking\n",
    "actors['main_type'].head()"
   ]
  },
  {
   "cell_type": "markdown",
   "metadata": {
    "colab_type": "text",
    "id": "v4nddux5evGD"
   },
   "source": [
    "**Step 2: calculate the average profit for those films that match the actor's type. Loop through all films of each actor. Only sum the profits of those films that match the actor's talented genre. Then devide the sum by the number of such films in the actor's work list to get the average profit of the actor's matching genres' films' average profit. We will save this info in the actors as a column named \"avg_profit(suitable)\"**"
   ]
  },
  {
   "cell_type": "code",
   "execution_count": 85,
   "metadata": {
    "colab": {
     "autoexec": {
      "startup": false,
      "wait_interval": 0
     }
    },
    "colab_type": "code",
    "id": "tCa2kMMPexsG"
   },
   "outputs": [
    {
     "data": {
      "text/plain": [
       "name\n",
       "Samuel L. Jackson    2.587051e+08\n",
       "Robert De Niro       3.949146e+07\n",
       "Matt Damon           1.208390e+08\n",
       "Morgan Freeman       1.332335e+08\n",
       "Bruce Willis         1.469351e+08\n",
       "Name: mathcing_genre_avg_profit, dtype: float64"
      ]
     },
     "execution_count": 85,
     "metadata": {},
     "output_type": "execute_result"
    }
   ],
   "source": [
    "# calculate the avg profit the the films that suit each actor's type\n",
    "profit_list = [0 for i in range(len(actors))]\n",
    "actor_index = 0\n",
    "film_counter = 0\n",
    "\n",
    "while actor_index < len(actors): \n",
    "  movie_list = actors['work(id)'][actor_index]\n",
    "  for movie_id in movie_list:\n",
    "    if actors['main_type'][actor_index] not in movie_info[movie_info['id'] == movie_id].genres[0]:\n",
    "      continue\n",
    "    film_counter += 1\n",
    "    profit = movie_info.loc[movie_info['id']== movie_id]['profit'][0]\n",
    "    profit_list[actor_index] += profit\n",
    "  profit_list[actor_index] = profit_list[actor_index]/film_counter\n",
    "  actor_index += 1\n",
    "  film_counter = 0\n",
    "  \n",
    "actors['mathcing_genre_avg_profit'] = profit_list\n",
    "\n",
    "# value checking\n",
    "actors['mathcing_genre_avg_profit'].head()"
   ]
  },
  {
   "cell_type": "markdown",
   "metadata": {
    "colab_type": "text",
    "id": "Kyj9wyBFe36f"
   },
   "source": [
    "**Step 3: find out if the average profits of the matching films are higher than the average profits of all films that an actor participates. Use log values devided by 2 to plot, as the profit is measured in milion. If the films that comform with its actors talented genres are likely to have higher profit, then more actors should have their average profits of genre-matching films higher than their overall movie profits. That is, more actors' \"mathcing_genre_avg_profit\" column should be larger than their \"avg_profit\" column.**"
   ]
  },
  {
   "cell_type": "code",
   "execution_count": 86,
   "metadata": {
    "colab": {
     "autoexec": {
      "startup": false,
      "wait_interval": 0
     }
    },
    "colab_type": "code",
    "id": "g_NPahTwe6HR"
   },
   "outputs": [
    {
     "data": {
      "text/plain": [
       "<matplotlib.figure.Figure at 0x21620484278>"
      ]
     },
     "metadata": {},
     "output_type": "display_data"
    },
    {
     "data": {
      "image/png": "[encoded data removed]",
      "text/plain": [
       "<matplotlib.figure.Figure at 0x21621902518>"
      ]
     },
     "metadata": {},
     "output_type": "display_data"
    }
   ],
   "source": [
    "# visualize the two average profits\n",
    "x = []\n",
    "for profit in actors['avg_profit']:\n",
    "  if profit < 0:\n",
    "    x.append((0 - 1) * np.log10((0 - 1) * profit) / 2)\n",
    "  elif profit == 0:\n",
    "    x.append(profit)\n",
    "  else:\n",
    "    x.append(np.log10(profit) / 2)\n",
    "    \n",
    "y = []\n",
    "for profit in actors['mathcing_genre_avg_profit']:\n",
    "  if profit < 0:\n",
    "    y.append((0 - 1) * np.log10((0 - 1) * profit) / 2)\n",
    "  elif profit == 0:\n",
    "    y.append(profit)\n",
    "  else:\n",
    "    y.append(np.log10(profit) / 2)\n",
    "\n",
    "# plot scatter plot\n",
    "plt.figure(figsize=(14,7))\n",
    "line, scat = plt.subplots()\n",
    "scat.scatter(x, y, color='C2')\n",
    "plt.xlabel('Average Profit of All Films An Actor is in', fontsize = 8, color = 'blue')\n",
    "plt.ylabel('Average Profit of The Films for an Actors Genre', fontsize = 8, color = 'blue')\n",
    "plt.title(\"The Distribution of Actors Regarding The Average Profit of All Their Films and The Average Profit of Their Matching Films\", fontsize = 14, color = 'green')\n",
    "line = mlines.Line2D([0, 1], [0, 1], color='blue')\n",
    "transform = scat.transAxes\n",
    "line.set_transform(transform)\n",
    "scat.add_line(line)\n",
    "plt.show()"
   ]
  },
  {
   "cell_type": "markdown",
   "metadata": {
    "colab_type": "text",
    "id": "BCNHFimRe9mI"
   },
   "source": [
    "**Each dot on the graph represents an actor. The blue line has equation x = y, which means that the actor dots above this line have thier \"mathcing_genre_avg_profit\" values larger than their \"avg_profit\" values. If the matching genre with actors increases a movie's profit, we expect more actors locates above the line. But it looks like most people are under the line. So, whether a movie genre's matches its actor's talented genres may not positively influence a movie's profit. Let's verify it mathematically.**"
   ]
  },
  {
   "cell_type": "markdown",
   "metadata": {
    "colab_type": "text",
    "id": "_4dLQ3sGfBfT"
   },
   "source": [
    "**Step 4: we will count how many actors have their \"mathcing_genre_avg_profit\" values larger than their \"avg_profit\" values. Our hypothesis implies that the ratio should be above 50%, wheil it's probably not.**"
   ]
  },
  {
   "cell_type": "code",
   "execution_count": 87,
   "metadata": {
    "colab": {
     "autoexec": {
      "startup": false,
      "wait_interval": 0
     }
    },
    "colab_type": "code",
    "id": "8d_KGOo0fD8E"
   },
   "outputs": [
    {
     "name": "stdout",
     "output_type": "stream",
     "text": [
      "The larger's ratio is:\n",
      "0.09604945383643897\n",
      "The equal's ratio is:\n",
      "0.8417122726164891\n"
     ]
    }
   ],
   "source": [
    "bigger = 0\n",
    "equal = 0\n",
    "for actor in range(len(actors)):\n",
    "  avg = actors['avg_profit'][actor]\n",
    "  match = actors['mathcing_genre_avg_profit'][actor]\n",
    "  if match > avg:\n",
    "    bigger += 1\n",
    "  if match == avg:\n",
    "    equal += 1\n",
    "print(\"The larger's ratio is:\")\n",
    "print(bigger / len(actors))\n",
    "print (\"The equal's ratio is:\")\n",
    "print(equal / len(actors))\n"
   ]
  },
  {
   "cell_type": "markdown",
   "metadata": {
    "colab_type": "text",
    "id": "4HmQWU2JfGUz"
   },
   "source": [
    "**Very clearly, only 9.6% actors have their \"mathcing_genre_avg_profit\" values larger than their \"avg_profit\" values. Moreover, most actors(around 84.1%) doesn't experience a difference between their \"mathcing_genre_avg_profit\" values and their \"avg_profit\" values. This fact becomes reasonable when we think of those great actors. They can almost do any role well, without being too picky about genres he are assigned.**\n",
    "\n",
    "**Conclusion 2: **\n",
    "\n",
    "**-----whether an actor's prefered genre conforms with a film's genre or not doesn't really affect the film's profit.**\n",
    "**++++++++++++++++++++++++++++++++++++++++++++++++++++++++++++++++++++++++++++++++++++++++++++++++++++++++++++++++++++++++++++++++++++++++++++++++++++++++++++++++++++++**"
   ]
  },
  {
   "cell_type": "markdown",
   "metadata": {
    "colab_type": "text",
    "id": "ng0rC9Fqqc-e"
   },
   "source": [
    "**Section 3:**\n",
    "\n",
    "**In this section we will test the influence of actors's rating ont the overall movie ratings. It is our goal to show that actors have an influence on the overall movie ratings. By doing this we will look at every movies actors and assign them an average rating. We will then take this rating and compare to the movie rating.** "
   ]
  },
  {
   "cell_type": "markdown",
   "metadata": {
    "colab_type": "text",
    "id": "eEI2qW9Lsh3a"
   },
   "source": [
    "**Step 1: below we will find the average vote for each actor for every movie they starred in that is mention in the dataframe.**"
   ]
  },
  {
   "cell_type": "code",
   "execution_count": 88,
   "metadata": {
    "colab": {
     "autoexec": {
      "startup": false,
      "wait_interval": 0
     }
    },
    "colab_type": "code",
    "id": "kAuynezmsmMb"
   },
   "outputs": [
    {
     "data": {
      "text/plain": [
       "name\n",
       "Samuel L. Jackson    6.626415\n",
       "Robert De Niro       6.454167\n",
       "Matt Damon           6.673333\n",
       "Morgan Freeman       6.591111\n",
       "Bruce Willis         6.302273\n",
       "Name: avg_vote, dtype: float64"
      ]
     },
     "execution_count": 88,
     "metadata": {},
     "output_type": "execute_result"
    }
   ],
   "source": [
    "# Vote average\n",
    "rate_list = [0 for i in range(len(actors))]\n",
    "actor_index = 0 \n",
    "while actor_index < len(actors): \n",
    "  movie_list = actors['work(id)'][actor_index]\n",
    "  for i in movie_list: \n",
    "    rate = movie_info.loc[movie_info['id']== i]['vote_average'][0]\n",
    "    rate_list[actor_index] += rate\n",
    "  rate_list[actor_index] = rate_list[actor_index]/actors['movies#'][actor_index]\n",
    "  actor_index += 1\n",
    "actors['avg_vote'] = rate_list\n",
    "\n",
    "# value checking\n",
    "actors['avg_vote'].head()"
   ]
  },
  {
   "cell_type": "markdown",
   "metadata": {
    "colab_type": "text",
    "id": "-IyFSYBgs6Yk"
   },
   "source": [
    "**Step 2: get each movie's average actor votings.**"
   ]
  },
  {
   "cell_type": "code",
   "execution_count": 89,
   "metadata": {
    "colab": {
     "autoexec": {
      "startup": false,
      "wait_interval": 0
     }
    },
    "colab_type": "code",
    "id": "yjSfMPCYujrL"
   },
   "outputs": [
    {
     "data": {
      "text/plain": [
       "title\n",
       "Avatar                                      6.940752\n",
       "Pirates of the Caribbean: At World's End    6.682114\n",
       "Spectre                                     6.365436\n",
       "The Dark Knight Rises                       7.170798\n",
       "John Carter                                 6.229250\n",
       "Name: actor_vote, dtype: float64"
      ]
     },
     "execution_count": 89,
     "metadata": {},
     "output_type": "execute_result"
    }
   ],
   "source": [
    "# get each film's actors average vote\n",
    "avg_votes = [0.0 for i in range(len(movie_info))]\n",
    "\n",
    "# loop through all films\n",
    "for film in range(len(movie_info)):\n",
    "  actor_list =  movie_info['actors'][film]\n",
    "  actor_count = movie_info['actor_count'][film]\n",
    "  total_vote_num = 0\n",
    "   \n",
    "  # get actor's film numbers\n",
    "  for actor in actor_list:\n",
    "    total_vote_num += actors.loc[actor]['avg_vote']\n",
    "    \n",
    "  avg_votes[film] =  (total_vote_num / actor_count)\n",
    "  \n",
    "movie_info['actor_vote'] = avg_votes\n",
    "\n",
    "# value checking\n",
    "movie_info['actor_vote'].head()"
   ]
  },
  {
   "cell_type": "markdown",
   "metadata": {
    "colab_type": "text",
    "id": "U1EXl3hYwtSh"
   },
   "source": [
    "**Step 3: calculate the similarity between the actor voting and movie voting, and plot them**"
   ]
  },
  {
   "cell_type": "code",
   "execution_count": 90,
   "metadata": {
    "colab": {
     "autoexec": {
      "startup": false,
      "wait_interval": 0
     }
    },
    "colab_type": "code",
    "id": "2mpIIoxuwrkR"
   },
   "outputs": [
    {
     "data": {
      "image/png": "[encoded data removed]",
      "text/plain": [
       "<matplotlib.figure.Figure at 0x21623edf2e8>"
      ]
     },
     "metadata": {},
     "output_type": "display_data"
    }
   ],
   "source": [
    "actor_mean_votes = movie_info['actor_vote']\n",
    "average_votes = movie_info['vote_average']\n",
    "xplot = movie_info.vote_average.values\n",
    "yplot = movie_info.actor_vote.values\n",
    "plt.scatter(xplot,yplot, color='red')\n",
    "plt.xlabel('Movie Rating')\n",
    "plt.ylabel('Actor Rating')\n",
    "plt.show()"
   ]
  },
  {
   "cell_type": "markdown",
   "metadata": {
    "colab_type": "text",
    "id": "SlCDrLkdxWzH"
   },
   "source": [
    "**Conlusion 3:**\n",
    "\n",
    "**Actor's influence on films' ratings are far more obvious than their influence on movies' profits.**"
   ]
  },
  {
   "cell_type": "markdown",
   "metadata": {
    "colab_type": "text",
    "id": "UXNuPd0MAXac"
   },
   "source": [
    "## Limitation Discussion##"
   ]
  },
  {
   "cell_type": "markdown",
   "metadata": {
    "colab_type": "text",
    "id": "J_HmehHZAXac"
   },
   "source": [
    "\n",
    "There are possibly still many more factors that could determine the successfulness of a movie, but we are unable to cover them all. A few limitations of our project are: first, the dataset only contains 5000 movies. After excluding those entries with missing data(like missing budget and revenue), the dataset becomes even smaller. As a result, we don't have enough instances of movies of each genre for our analysis. Second, the dataset doesn't have the newest movies, making it not an ideal representitive of the most up-to-date situation. Thus, we are not sure if this dataset can well epitomize the recent movie industry's situations. Third, the dataset lacks more detailed information about movie budgets, such as the renumerations for movie actors and the spending on special effects, etc. Such infomation is curtial to our further analysis of the relationship between certain factors and the success of the movies. From there, we could make a more specific analysis. In a nut shell, although the dataset has much more information we could explore, it is still far from enough to find a guaranteed successful formula for movie makers."
   ]
  },
  {
   "cell_type": "markdown",
   "metadata": {
    "colab_type": "text",
    "id": "aldJZXjIAXad"
   },
   "source": [
    "## Final Conclusion##"
   ]
  },
  {
   "cell_type": "markdown",
   "metadata": {
    "colab_type": "text",
    "id": "hK7VnRbnAXad"
   },
   "source": [
    "   Our analysis shows that numerous factors could have influenced the success of a movie, reflected by its revenue: **budget**, **voting**, **genres**, some **key elements** appear in a movie, and the **choice of actors** . \n",
    "   \n",
    "   First, we find that the more **budget** spended on a movie, the higher the movies's revenue is going to be. \n",
    "   \n",
    "   Next, Related to the **key elements** of a movie, movies with specific keywords like \"space war\" is more profitable than movies with other keywords. However, in terms of rating, movies with keywords \"wrongful imprisonment\" and those with \"crime family\" win the best voting. \n",
    "    \n",
    "   Then, there is a strong association between the **genres** of a movie and its revenue as well. Analysis of data shows that, among the top 500 movie companies, making action movies would lead them to make the most revenue, but the movies with drama genre win the highest voting, without considering the profit. A general analysis on the mean profit of movies with a certain genre shows us that certain genres of movies make much more profits than other genres. For example, Animation. One possible reason might be that animation movies require less spending on actors, clothings, stagings, and they apply to large audiences, so they make more profits. Moreover, we found certain combinations of genres could result in higher revenue, for example, for the data we got, animation movies combined with fantasy and comedy make the most among any other animation movies combined with other genres. \n",
    "    \n",
    "   On the other hand, **choices of actors** do have some influences on the profits of a movie. For instance, more experienced actors tend to help movies win more profit. But actors affects the voting score more.\n",
    "    \n",
    "   Last but not the least, things we thought to have a strong influence in the success of movies like **the cooperation of big companies**, or **the matching between actor's type and the movie genre**, don't prove to have significant relations with the success of the movies. Specifically, the movie produced and sponsored by eight top-500 movie companies in the dataset only generate a mediocre revenue among all movies. Another factor we thought would influence the revenue is the **voting**. However, by analysizing the correlation between those two varaibles, they show no correlation at all. It is not the case that a higher rating will bring a higher revenue, rather, most movies around scores of 6.8-7.0 have the highest profits.\n",
    "    \n",
    "   In all, many factors can influence the success of the movies to different degrees. From our analysis, a movie company has gotten a general view on what kinds of movies may lead to high profits. Certainly, more explorations need to be done on larger datasets, to find out what are the most important factors on the success of movies. There are also some leaking variables we may not consider yet. For instance, a country's economy may implicitly influence on movies' profits, because movies are considered as entertainment spending. While, no matter these factors are explicit or implicit, those accurate and useful information we get from reliable datasets of movies may change the development of movie industry."
   ]
  },
  {
   "cell_type": "code",
   "execution_count": null,
   "metadata": {
    "collapsed": true
   },
   "outputs": [],
   "source": []
  }
 ],
 "metadata": {
  "colab": {
   "collapsed_sections": [],
   "default_view": {},
   "name": "FinalProject(modified).ipynb",
   "provenance": [],
   "version": "0.3.2",
   "views": {}
  },
  "kernelspec": {
   "display_name": "Python 3",
   "language": "python",
   "name": "python3"
  },
  "language_info": {
   "codemirror_mode": {
    "name": "ipython",
    "version": 3
   },
   "file_extension": ".py",
   "mimetype": "text/x-python",
   "name": "python",
   "nbconvert_exporter": "python",
   "pygments_lexer": "ipython3",
   "version": "3.6.3"
  }
 },
 "nbformat": 4,
 "nbformat_minor": 1
}
