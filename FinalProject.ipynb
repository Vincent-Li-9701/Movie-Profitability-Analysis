{
 "cells": [
  {
   "cell_type": "markdown",
   "metadata": {
    "colab_type": "text",
    "id": "zH5sMYPFAXX1"
   },
   "source": [
    "# ***Background Introduction***"
   ]
  },
  {
   "cell_type": "markdown",
   "metadata": {
    "colab_type": "text",
    "id": "Eug7OnTwAXX3"
   },
   "source": [
    "Many factors could determine the success of movies. What are they and how they influence the success of a single movie? This is the question we would like to ask. We define success as both financially and evaluatively. The success of high box office is the same for us as the high votes by the public. \n",
    "\n",
    "Not all movies with big productions will have great financial success as well as the success among critics. Especially, in the recent years, movies with low production costs but high qualities are getting noticed by the mainstream. Therefore, we predict that some obvious factors may not be the strongest in determining movie revenue, and there should be unnoticeable factors we could find by analyzing different datasets. Those factors include: Actors, genre, year released, production company, rating, as well as the keywords most related to the movie. We predict that these factors will influence each other in a way that allows us to determine if a movie will be a box office seller or the favorite by critics.\n",
    "\n",
    "## Project Outline##\n",
    "This notebook is divided into several parts that mainly focused on a specific factor and its influence on the movie revenue or profit. We want to explore different factors as deep as possible and these factors include explicit ones like budgets, genres, but also implicit ones like the relationship between production companies and the combinations of different genres. We use different data cleaning and analyse strategy in different sections due to the different focus on each part and at the end of our project, we hope to find a strong factor or a combination of many factors that affects a movie’s revenue and thus understand what the movie industry can improve by using less but important resource and thus making more successful movies and more money.\n",
    "\n",
    "## Source of Data and Privacy Concerns##\n",
    "\n",
    "The database we use to explore and find those factors is the public dataset \"TMDB 5000 movies\" from Kaggle (link:https://www.kaggle.com/tmdb/tmdb-movie-metadata/data). It contains 5000 movies which are authorized to be publicly analyzed so the data collection process does not involve any privacy issues. The dataset contains 2 CSV files, 'tmdb_5000_movies.csv' and 'tmdb_5000_credits.csv'. They contain all information like the name of actors and casts, the keywords most related to the movies, production companies.etc. "
   ]
  },
  {
   "cell_type": "code",
   "execution_count": 113,
   "metadata": {
    "colab": {
     "autoexec": {
      "startup": false,
      "wait_interval": 0
     }
    },
    "colab_type": "code",
    "id": "QSF_TWae80pX"
   },
   "outputs": [],
   "source": [
    "import numpy as np\n",
    "import pandas as pd\n",
    "import matplotlib.pyplot as plt\n",
    "import io\n",
    "import json\n",
    "import patsy\n",
    "import seaborn as sns\n",
    "import statsmodels.api as sm\n",
    "import scipy.stats as stats\n",
    "import itertools\n",
    "from scipy.stats import ttest_ind, chisquare, normaltest\n",
    "from scipy.stats import gaussian_kde\n",
    "%matplotlib inline\n"
   ]
  },
  {
   "cell_type": "markdown",
   "metadata": {
    "colab_type": "text",
    "id": "EXgiHnoexqxG"
   },
   "source": [
    "# ***Production Companies and Profit***"
   ]
  },
  {
   "cell_type": "markdown",
   "metadata": {
    "colab_type": "text",
    "id": "pB4askcer_4F"
   },
   "source": [
    "**The main focus of this part of our project is to figure out how companies can influence a movie's net profit and revenue. We believe movies of a certain genre will have higher net-profit if they are produced by the companies that are excelled in making that certain genre of movies. Furthermore if our first asumption holds, we are also interested to find out what genre of movies that the most profitable produciton companies like to make and what are the average votes for those movies made by the most profitable companies. Along the way, we will also examine the relationship between budget and revenue, and the correlation what whether production companies that have made many movies of certain genre will have higher chance producing movies with higher profit and votes.**\n",
    "\n",
    "\n",
    "\n",
    "\n"
   ]
  },
  {
   "cell_type": "code",
   "execution_count": 114,
   "metadata": {
    "colab": {
     "autoexec": {
      "startup": false,
      "wait_interval": 0
     }
    },
    "colab_type": "code",
    "collapsed": true,
    "id": "xTWVNwIN7Sqy"
   },
   "outputs": [],
   "source": [
    "df = pd.read_csv('tmdb_5000_movies.csv')\n"
   ]
  },
  {
   "cell_type": "markdown",
   "metadata": {
    "colab_type": "text",
    "id": "LxcrQFqoAXX6"
   },
   "source": [
    "***Data cleaning:***\n",
    "For this part, we don't need the columns contain the trivial information like id, language, runtime, movies' home page. So we drop these columns we don't need. "
   ]
  },
  {
   "cell_type": "code",
   "execution_count": 115,
   "metadata": {
    "colab": {
     "autoexec": {
      "startup": false,
      "wait_interval": 0
     }
    },
    "colab_type": "code",
    "collapsed": true,
    "id": "TlAoOFUx84TT"
   },
   "outputs": [],
   "source": [
    "df = df.drop(['homepage','original_language','overview','runtime','status','tagline', 'id' ], axis = 1 )"
   ]
  },
  {
   "cell_type": "markdown",
   "metadata": {
    "colab_type": "text",
    "id": "YbdMX16Fn1yH"
   },
   "source": [
    "**Now we create a new column called net_pofit which denotes the profit earns by each movies. Then we clean up the data by dropping the rows with missing budget and revenue. Because columns like genres, keywords and production_companies are like list objects with dictionary inside, it is hard to do our study with these complicated data structures. Thus we need to \"flaten\" these lists into string are that esier to work with.**"
   ]
  },
  {
   "cell_type": "code",
   "execution_count": 116,
   "metadata": {
    "colab": {
     "autoexec": {
      "startup": false,
      "wait_interval": 0
     },
     "base_uri": "https://localhost:8080/",
     "height": 509,
     "output_extras": [
      {}
     ]
    },
    "colab_type": "code",
    "executionInfo": {
     "elapsed": 253,
     "status": "ok",
     "timestamp": 1521570721878,
     "user": {
      "displayName": "Erik Jensen",
      "photoUrl": "https://lh3.googleusercontent.com/a/default-user=s128",
      "userId": "105068432724791430130"
     },
     "user_tz": 420
    },
    "id": "DI69LqcU_BAF",
    "outputId": "e45aff16-7715-4c0a-9a23-11f296881fd9"
   },
   "outputs": [],
   "source": [
    "df['net_profit'] = df['revenue'] - df['budget']\n",
    "\n",
    "## drop rows when budget or revenue is 0 \n",
    "df = df[df.budget != 0]\n",
    "df = df[df.revenue != 0]\n",
    "df = df[df.revenue - df.budget > 0]\n",
    "df = df.reset_index(drop=True)"
   ]
  },
  {
   "cell_type": "markdown",
   "metadata": {
    "colab_type": "text",
    "id": "6WlM5kUsoLV0"
   },
   "source": [
    "**Here we will create methods to clean the data and apply them to the columns to allow for easier access and analysis. **"
   ]
  },
  {
   "cell_type": "code",
   "execution_count": 117,
   "metadata": {
    "colab": {
     "autoexec": {
      "startup": false,
      "wait_interval": 0
     },
     "base_uri": "https://localhost:8080/",
     "height": 408,
     "output_extras": [
      {}
     ]
    },
    "colab_type": "code",
    "executionInfo": {
     "elapsed": 521,
     "status": "ok",
     "timestamp": 1521570722551,
     "user": {
      "displayName": "Erik Jensen",
      "photoUrl": "https://lh3.googleusercontent.com/a/default-user=s128",
      "userId": "105068432724791430130"
     },
     "user_tz": 420
    },
    "id": "vWOw0XfYKHeJ",
    "outputId": "8fbd1785-e66a-46ae-fc8e-6ffaffbfa267"
   },
   "outputs": [
    {
     "data": {
      "text/html": [
       "<div>\n",
       "<style>\n",
       "    .dataframe thead tr:only-child th {\n",
       "        text-align: right;\n",
       "    }\n",
       "\n",
       "    .dataframe thead th {\n",
       "        text-align: left;\n",
       "    }\n",
       "\n",
       "    .dataframe tbody tr th {\n",
       "        vertical-align: top;\n",
       "    }\n",
       "</style>\n",
       "<table border=\"1\" class=\"dataframe\">\n",
       "  <thead>\n",
       "    <tr style=\"text-align: right;\">\n",
       "      <th></th>\n",
       "      <th>budget</th>\n",
       "      <th>genres</th>\n",
       "      <th>keywords</th>\n",
       "      <th>original_title</th>\n",
       "      <th>popularity</th>\n",
       "      <th>production_companies</th>\n",
       "      <th>production_countries</th>\n",
       "      <th>release_date</th>\n",
       "      <th>revenue</th>\n",
       "      <th>spoken_languages</th>\n",
       "      <th>title</th>\n",
       "      <th>vote_average</th>\n",
       "      <th>vote_count</th>\n",
       "      <th>net_profit</th>\n",
       "    </tr>\n",
       "  </thead>\n",
       "  <tbody>\n",
       "    <tr>\n",
       "      <th>0</th>\n",
       "      <td>237000000</td>\n",
       "      <td>Action|Adventure|Fantasy|Science Fiction</td>\n",
       "      <td>culture clash|future|space war|space colony|so...</td>\n",
       "      <td>Avatar</td>\n",
       "      <td>150.437577</td>\n",
       "      <td>Ingenious Film Partners|Twentieth Century Fox ...</td>\n",
       "      <td>United States of America|United Kingdom</td>\n",
       "      <td>2009-12-10</td>\n",
       "      <td>2787965087</td>\n",
       "      <td>English|Español</td>\n",
       "      <td>Avatar</td>\n",
       "      <td>7.2</td>\n",
       "      <td>11800</td>\n",
       "      <td>2550965087</td>\n",
       "    </tr>\n",
       "    <tr>\n",
       "      <th>1</th>\n",
       "      <td>300000000</td>\n",
       "      <td>Adventure|Fantasy|Action</td>\n",
       "      <td>ocean|drug abuse|exotic island|east india trad...</td>\n",
       "      <td>Pirates of the Caribbean: At World's End</td>\n",
       "      <td>139.082615</td>\n",
       "      <td>Walt Disney Pictures|Jerry Bruckheimer Films|S...</td>\n",
       "      <td>United States of America</td>\n",
       "      <td>2007-05-19</td>\n",
       "      <td>961000000</td>\n",
       "      <td>English</td>\n",
       "      <td>Pirates of the Caribbean: At World's End</td>\n",
       "      <td>6.9</td>\n",
       "      <td>4500</td>\n",
       "      <td>661000000</td>\n",
       "    </tr>\n",
       "    <tr>\n",
       "      <th>2</th>\n",
       "      <td>245000000</td>\n",
       "      <td>Action|Adventure|Crime</td>\n",
       "      <td>spy|based on novel|secret agent|sequel|mi6|bri...</td>\n",
       "      <td>Spectre</td>\n",
       "      <td>107.376788</td>\n",
       "      <td>Columbia Pictures|Danjaq|B24</td>\n",
       "      <td>United Kingdom|United States of America</td>\n",
       "      <td>2015-10-26</td>\n",
       "      <td>880674609</td>\n",
       "      <td>Français|English|Español|Italiano|Deutsch</td>\n",
       "      <td>Spectre</td>\n",
       "      <td>6.3</td>\n",
       "      <td>4466</td>\n",
       "      <td>635674609</td>\n",
       "    </tr>\n",
       "    <tr>\n",
       "      <th>3</th>\n",
       "      <td>250000000</td>\n",
       "      <td>Action|Crime|Drama|Thriller</td>\n",
       "      <td>dc comics|crime fighter|terrorist|secret ident...</td>\n",
       "      <td>The Dark Knight Rises</td>\n",
       "      <td>112.312950</td>\n",
       "      <td>Legendary Pictures|Warner Bros.|DC Entertainme...</td>\n",
       "      <td>United States of America</td>\n",
       "      <td>2012-07-16</td>\n",
       "      <td>1084939099</td>\n",
       "      <td>English</td>\n",
       "      <td>The Dark Knight Rises</td>\n",
       "      <td>7.6</td>\n",
       "      <td>9106</td>\n",
       "      <td>834939099</td>\n",
       "    </tr>\n",
       "    <tr>\n",
       "      <th>4</th>\n",
       "      <td>260000000</td>\n",
       "      <td>Action|Adventure|Science Fiction</td>\n",
       "      <td>based on novel|mars|medallion|space travel|pri...</td>\n",
       "      <td>John Carter</td>\n",
       "      <td>43.926995</td>\n",
       "      <td>Walt Disney Pictures</td>\n",
       "      <td>United States of America</td>\n",
       "      <td>2012-03-07</td>\n",
       "      <td>284139100</td>\n",
       "      <td>English</td>\n",
       "      <td>John Carter</td>\n",
       "      <td>6.1</td>\n",
       "      <td>2124</td>\n",
       "      <td>24139100</td>\n",
       "    </tr>\n",
       "  </tbody>\n",
       "</table>\n",
       "</div>"
      ],
      "text/plain": [
       "      budget                                    genres  \\\n",
       "0  237000000  Action|Adventure|Fantasy|Science Fiction   \n",
       "1  300000000                  Adventure|Fantasy|Action   \n",
       "2  245000000                    Action|Adventure|Crime   \n",
       "3  250000000               Action|Crime|Drama|Thriller   \n",
       "4  260000000          Action|Adventure|Science Fiction   \n",
       "\n",
       "                                            keywords  \\\n",
       "0  culture clash|future|space war|space colony|so...   \n",
       "1  ocean|drug abuse|exotic island|east india trad...   \n",
       "2  spy|based on novel|secret agent|sequel|mi6|bri...   \n",
       "3  dc comics|crime fighter|terrorist|secret ident...   \n",
       "4  based on novel|mars|medallion|space travel|pri...   \n",
       "\n",
       "                             original_title  popularity  \\\n",
       "0                                    Avatar  150.437577   \n",
       "1  Pirates of the Caribbean: At World's End  139.082615   \n",
       "2                                   Spectre  107.376788   \n",
       "3                     The Dark Knight Rises  112.312950   \n",
       "4                               John Carter   43.926995   \n",
       "\n",
       "                                production_companies  \\\n",
       "0  Ingenious Film Partners|Twentieth Century Fox ...   \n",
       "1  Walt Disney Pictures|Jerry Bruckheimer Films|S...   \n",
       "2                       Columbia Pictures|Danjaq|B24   \n",
       "3  Legendary Pictures|Warner Bros.|DC Entertainme...   \n",
       "4                               Walt Disney Pictures   \n",
       "\n",
       "                      production_countries release_date     revenue  \\\n",
       "0  United States of America|United Kingdom   2009-12-10  2787965087   \n",
       "1                 United States of America   2007-05-19   961000000   \n",
       "2  United Kingdom|United States of America   2015-10-26   880674609   \n",
       "3                 United States of America   2012-07-16  1084939099   \n",
       "4                 United States of America   2012-03-07   284139100   \n",
       "\n",
       "                            spoken_languages  \\\n",
       "0                            English|Español   \n",
       "1                                    English   \n",
       "2  Français|English|Español|Italiano|Deutsch   \n",
       "3                                    English   \n",
       "4                                    English   \n",
       "\n",
       "                                      title  vote_average  vote_count  \\\n",
       "0                                    Avatar           7.2       11800   \n",
       "1  Pirates of the Caribbean: At World's End           6.9        4500   \n",
       "2                                   Spectre           6.3        4466   \n",
       "3                     The Dark Knight Rises           7.6        9106   \n",
       "4                               John Carter           6.1        2124   \n",
       "\n",
       "   net_profit  \n",
       "0  2550965087  \n",
       "1   661000000  \n",
       "2   635674609  \n",
       "3   834939099  \n",
       "4    24139100  "
      ]
     },
     "execution_count": 117,
     "metadata": {},
     "output_type": "execute_result"
    }
   ],
   "source": [
    "\n",
    "# methods for cleaning the data into an easier to access form \n",
    "def flaten_name(keywords): \n",
    "  return '|'.join([x['name'] for x in keywords])\n",
    "\n",
    "def safe_approach(input, index_values):\n",
    "    # return a missing value rather than an error upon indexing/key failure\n",
    "    result = input\n",
    "    try:\n",
    "        for idx in index_values:\n",
    "            result = result[idx]\n",
    "        return result\n",
    "    except IndexError or KeyError:\n",
    "        return pd.np.nan\n",
    "      \n",
    "      \n",
    "#apply the methods to columns\n",
    "\n",
    "df['genres'] = df['genres'].apply(json.loads)\n",
    "df['genres'] = df['genres'].apply(flaten_name)\n",
    "\n",
    "df['keywords'] = df['keywords'].apply(json.loads)\n",
    "df['keywords'] = df['keywords'].apply(flaten_name)\n",
    "\n",
    "df['production_companies'] = df['production_companies'].apply(json.loads)\n",
    "df['production_companies'] = df['production_companies'].apply(flaten_name)\n",
    "\n",
    "df['production_countries'] = df['production_countries'].apply(json.loads)\n",
    "df['production_countries'] = df['production_countries'].apply(flaten_name)\n",
    "\n",
    "\n",
    "df['spoken_languages'] = df['spoken_languages'].apply(json.loads)\n",
    "df['spoken_languages'] = df['spoken_languages'].apply(flaten_name)\n",
    "\n",
    "df.head()"
   ]
  },
  {
   "cell_type": "markdown",
   "metadata": {
    "colab_type": "text",
    "id": "rZ4TTVWY4hcZ"
   },
   "source": [
    "***Genres and companies***\n",
    "\n",
    "**Our goal here is to analyze whether production_companies that made many movies of a certain genre will be more likely to produce a movie of that genre with higher profit. To do so, we create a dataframe that contains how many and what type of movies each movie production companies have made.**\n",
    "\n"
   ]
  },
  {
   "cell_type": "code",
   "execution_count": 118,
   "metadata": {
    "colab": {
     "autoexec": {
      "startup": false,
      "wait_interval": 0
     },
     "base_uri": "https://localhost:8080/",
     "height": 344,
     "output_extras": [
      {}
     ]
    },
    "colab_type": "code",
    "executionInfo": {
     "elapsed": 308,
     "status": "ok",
     "timestamp": 1521570723000,
     "user": {
      "displayName": "Erik Jensen",
      "photoUrl": "https://lh3.googleusercontent.com/a/default-user=s128",
      "userId": "105068432724791430130"
     },
     "user_tz": 420
    },
    "id": "9DXaSTGtIab-",
    "outputId": "03d76666-3100-4b7b-9647-9fe9c53dd69a"
   },
   "outputs": [
    {
     "data": {
      "text/plain": [
       "['Music',\n",
       " 'Drama',\n",
       " 'Family',\n",
       " 'Animation',\n",
       " 'Mystery',\n",
       " 'Fantasy',\n",
       " 'Documentary',\n",
       " 'Action',\n",
       " 'Thriller',\n",
       " 'History',\n",
       " 'War',\n",
       " 'Adventure',\n",
       " 'Romance',\n",
       " 'Horror',\n",
       " 'Science Fiction',\n",
       " 'Comedy',\n",
       " 'Crime',\n",
       " 'Western']"
      ]
     },
     "execution_count": 118,
     "metadata": {},
     "output_type": "execute_result"
    }
   ],
   "source": [
    "# get a list of genres\n",
    "\n",
    "#First let's get a set of genres present\n",
    "list_genre = set() \n",
    "for s in df['genres']: \n",
    "    s = s.split('|')\n",
    "    list_genre = set().union(s, list_genre)\n",
    "list_genre = list(list_genre)\n",
    "#list_genre.remove('')\n",
    "list_genre"
   ]
  },
  {
   "cell_type": "markdown",
   "metadata": {
    "colab_type": "text",
    "id": "jLimRoCJRQoB"
   },
   "source": [
    "**Here we will create a list of each production company.**"
   ]
  },
  {
   "cell_type": "code",
   "execution_count": 119,
   "metadata": {
    "colab": {
     "autoexec": {
      "startup": false,
      "wait_interval": 0
     },
     "base_uri": "https://localhost:8080/",
     "height": 35,
     "output_extras": [
      {}
     ]
    },
    "colab_type": "code",
    "executionInfo": {
     "elapsed": 303,
     "status": "ok",
     "timestamp": 1521570723467,
     "user": {
      "displayName": "Erik Jensen",
      "photoUrl": "https://lh3.googleusercontent.com/a/default-user=s128",
      "userId": "105068432724791430130"
     },
     "user_tz": 420
    },
    "id": "ewgA1Sa4OvrC",
    "outputId": "3edcaf14-4804-43e9-d42e-53df8c122b91"
   },
   "outputs": [
    {
     "name": "stdout",
     "output_type": "stream",
     "text": [
      "There are 2723 different production companies in our data set\n"
     ]
    }
   ],
   "source": [
    "# get a list of produciton company \n",
    "list_company = set() \n",
    "for s in df['production_companies']:\n",
    "  s = s.split('|')\n",
    "  list_company = set().union(s,list_company)\n",
    "list_company = list(list_company)\n",
    "list_company.remove('')\n",
    "len(list_company)\n",
    "print('There are',len(list_company),'different production companies in our data set')"
   ]
  },
  {
   "cell_type": "markdown",
   "metadata": {
    "colab_type": "text",
    "id": "qRVIvhXkRdrW"
   },
   "source": [
    "**Below we create a list for each movie genre to count how many movies in each of genres**"
   ]
  },
  {
   "cell_type": "code",
   "execution_count": 120,
   "metadata": {
    "colab": {
     "autoexec": {
      "startup": false,
      "wait_interval": 0
     }
    },
    "colab_type": "code",
    "collapsed": true,
    "id": "a2X9lUjCMclf"
   },
   "outputs": [],
   "source": [
    "# create a list for each movie genre\n",
    "Action = [] \n",
    "Animation = [] \n",
    "Horror = [] \n",
    "Mystery = [] \n",
    "Thriller = [] \n",
    "Drama = [] \n",
    "Crime = [] \n",
    "Fantasy = [] \n",
    "Documentary = [] \n",
    "Science_Fiction = [] \n",
    "Romance = [] \n",
    "Family = [] \n",
    "History = [] \n",
    "Comedy =[] \n",
    "Western = [] \n",
    "Music = [] \n",
    "Adventure = [] \n",
    "War = [] \n",
    "TV_Movie = [] \n",
    "Foreign = [] \n",
    "\n",
    "# create a mother list 'genre' that contains all genre lists\n",
    "\n",
    "genre = [Mystery,Family,War,Romance,Drama,Documentary,History,Fantasy,Adventure,\n",
    "Thriller,Horror,Crime,Science_Fiction,Music,Action,Comedy,Western,Animation]\n",
    "len(genre) == len(list_genre)\n",
    "\n",
    "count = 0 \n",
    "for movie in range(len(df)) : \n",
    "  g = df.loc[movie][1].split('|')\n",
    "  c = df.loc[movie][5].split('|')\n",
    "  \n",
    "  for i in list_genre:  \n",
    "    if i in g: \n",
    "      genre[count] = genre[count]+c\n",
    "    count = count+1\n",
    "  count = 0 "
   ]
  },
  {
   "cell_type": "markdown",
   "metadata": {
    "colab_type": "text",
    "id": "hK8DBZOLqrHg"
   },
   "source": [
    "**Now that we have the genre, we want to create a data frame that relates each company and the genre of movies they create.**"
   ]
  },
  {
   "cell_type": "code",
   "execution_count": 121,
   "metadata": {
    "colab": {
     "autoexec": {
      "startup": false,
      "wait_interval": 0
     },
     "base_uri": "https://localhost:8080/",
     "height": 228,
     "output_extras": [
      {}
     ]
    },
    "colab_type": "code",
    "executionInfo": {
     "elapsed": 23514,
     "status": "ok",
     "timestamp": 1521570748785,
     "user": {
      "displayName": "Erik Jensen",
      "photoUrl": "https://lh3.googleusercontent.com/a/default-user=s128",
      "userId": "105068432724791430130"
     },
     "user_tz": 420
    },
    "id": "Lw3gl_E9Qp7p",
    "outputId": "f9ca85b8-4363-4bcf-f1e1-8b9d0bb28efa"
   },
   "outputs": [
    {
     "data": {
      "text/html": [
       "<div>\n",
       "<style>\n",
       "    .dataframe thead tr:only-child th {\n",
       "        text-align: right;\n",
       "    }\n",
       "\n",
       "    .dataframe thead th {\n",
       "        text-align: left;\n",
       "    }\n",
       "\n",
       "    .dataframe tbody tr th {\n",
       "        vertical-align: top;\n",
       "    }\n",
       "</style>\n",
       "<table border=\"1\" class=\"dataframe\">\n",
       "  <thead>\n",
       "    <tr style=\"text-align: right;\">\n",
       "      <th></th>\n",
       "      <th>Music</th>\n",
       "      <th>Drama</th>\n",
       "      <th>Family</th>\n",
       "      <th>Animation</th>\n",
       "      <th>Mystery</th>\n",
       "      <th>Fantasy</th>\n",
       "      <th>Documentary</th>\n",
       "      <th>Action</th>\n",
       "      <th>Thriller</th>\n",
       "      <th>History</th>\n",
       "      <th>War</th>\n",
       "      <th>Adventure</th>\n",
       "      <th>Romance</th>\n",
       "      <th>Horror</th>\n",
       "      <th>Science Fiction</th>\n",
       "      <th>Comedy</th>\n",
       "      <th>Crime</th>\n",
       "      <th>Western</th>\n",
       "    </tr>\n",
       "    <tr>\n",
       "      <th>Company</th>\n",
       "      <th></th>\n",
       "      <th></th>\n",
       "      <th></th>\n",
       "      <th></th>\n",
       "      <th></th>\n",
       "      <th></th>\n",
       "      <th></th>\n",
       "      <th></th>\n",
       "      <th></th>\n",
       "      <th></th>\n",
       "      <th></th>\n",
       "      <th></th>\n",
       "      <th></th>\n",
       "      <th></th>\n",
       "      <th></th>\n",
       "      <th></th>\n",
       "      <th></th>\n",
       "      <th></th>\n",
       "    </tr>\n",
       "  </thead>\n",
       "  <tbody>\n",
       "    <tr>\n",
       "      <th>Lucasfilm</th>\n",
       "      <td>0</td>\n",
       "      <td>1</td>\n",
       "      <td>1</td>\n",
       "      <td>1</td>\n",
       "      <td>0</td>\n",
       "      <td>1</td>\n",
       "      <td>0</td>\n",
       "      <td>10</td>\n",
       "      <td>0</td>\n",
       "      <td>0</td>\n",
       "      <td>0</td>\n",
       "      <td>11</td>\n",
       "      <td>0</td>\n",
       "      <td>0</td>\n",
       "      <td>7</td>\n",
       "      <td>2</td>\n",
       "      <td>0</td>\n",
       "      <td>0</td>\n",
       "    </tr>\n",
       "    <tr>\n",
       "      <th>Dovemead Films</th>\n",
       "      <td>0</td>\n",
       "      <td>0</td>\n",
       "      <td>0</td>\n",
       "      <td>0</td>\n",
       "      <td>0</td>\n",
       "      <td>3</td>\n",
       "      <td>0</td>\n",
       "      <td>3</td>\n",
       "      <td>0</td>\n",
       "      <td>0</td>\n",
       "      <td>0</td>\n",
       "      <td>3</td>\n",
       "      <td>0</td>\n",
       "      <td>0</td>\n",
       "      <td>3</td>\n",
       "      <td>1</td>\n",
       "      <td>0</td>\n",
       "      <td>0</td>\n",
       "    </tr>\n",
       "    <tr>\n",
       "      <th>SNL Studios</th>\n",
       "      <td>0</td>\n",
       "      <td>0</td>\n",
       "      <td>0</td>\n",
       "      <td>0</td>\n",
       "      <td>0</td>\n",
       "      <td>0</td>\n",
       "      <td>0</td>\n",
       "      <td>0</td>\n",
       "      <td>0</td>\n",
       "      <td>0</td>\n",
       "      <td>0</td>\n",
       "      <td>0</td>\n",
       "      <td>0</td>\n",
       "      <td>0</td>\n",
       "      <td>0</td>\n",
       "      <td>1</td>\n",
       "      <td>0</td>\n",
       "      <td>0</td>\n",
       "    </tr>\n",
       "    <tr>\n",
       "      <th>Core Productions</th>\n",
       "      <td>0</td>\n",
       "      <td>0</td>\n",
       "      <td>0</td>\n",
       "      <td>0</td>\n",
       "      <td>0</td>\n",
       "      <td>0</td>\n",
       "      <td>0</td>\n",
       "      <td>1</td>\n",
       "      <td>1</td>\n",
       "      <td>0</td>\n",
       "      <td>0</td>\n",
       "      <td>1</td>\n",
       "      <td>0</td>\n",
       "      <td>0</td>\n",
       "      <td>1</td>\n",
       "      <td>0</td>\n",
       "      <td>0</td>\n",
       "      <td>0</td>\n",
       "    </tr>\n",
       "    <tr>\n",
       "      <th>Resident Evil Productions</th>\n",
       "      <td>0</td>\n",
       "      <td>0</td>\n",
       "      <td>0</td>\n",
       "      <td>0</td>\n",
       "      <td>0</td>\n",
       "      <td>0</td>\n",
       "      <td>0</td>\n",
       "      <td>1</td>\n",
       "      <td>0</td>\n",
       "      <td>0</td>\n",
       "      <td>0</td>\n",
       "      <td>0</td>\n",
       "      <td>0</td>\n",
       "      <td>1</td>\n",
       "      <td>1</td>\n",
       "      <td>0</td>\n",
       "      <td>0</td>\n",
       "      <td>0</td>\n",
       "    </tr>\n",
       "  </tbody>\n",
       "</table>\n",
       "</div>"
      ],
      "text/plain": [
       "                          Music Drama Family Animation Mystery Fantasy  \\\n",
       "Company                                                                  \n",
       "Lucasfilm                     0     1      1         1       0       1   \n",
       "Dovemead Films                0     0      0         0       0       3   \n",
       "SNL Studios                   0     0      0         0       0       0   \n",
       "Core Productions              0     0      0         0       0       0   \n",
       "Resident Evil Productions     0     0      0         0       0       0   \n",
       "\n",
       "                          Documentary Action Thriller History War Adventure  \\\n",
       "Company                                                                       \n",
       "Lucasfilm                           0     10        0       0   0        11   \n",
       "Dovemead Films                      0      3        0       0   0         3   \n",
       "SNL Studios                         0      0        0       0   0         0   \n",
       "Core Productions                    0      1        1       0   0         1   \n",
       "Resident Evil Productions           0      1        0       0   0         0   \n",
       "\n",
       "                          Romance Horror Science Fiction Comedy Crime Western  \n",
       "Company                                                                        \n",
       "Lucasfilm                       0      0               7      2     0       0  \n",
       "Dovemead Films                  0      0               3      1     0       0  \n",
       "SNL Studios                     0      0               0      1     0       0  \n",
       "Core Productions                0      0               1      0     0       0  \n",
       "Resident Evil Productions       0      1               1      0     0       0  "
      ]
     },
     "execution_count": 121,
     "metadata": {},
     "output_type": "execute_result"
    }
   ],
   "source": [
    "from collections import Counter\n",
    "#Counter(genre[1])\n",
    "df_cg =  pd.DataFrame(columns =['Company']+list_genre)\n",
    "#add company names to the 'Company' column in df_cg\n",
    "df_cg['Company'] = list_company\n",
    "\n",
    "# fill in the dataframe with number of movies for every genre that each company \n",
    "# has made in the 5000 movie dataset\n",
    "for j in range(len(list_genre)):   \n",
    "  for i in range(len(df_cg)): \n",
    "    df_cg.loc[i][1+j] = Counter(genre[j])[df_cg.loc[i][0]]\n",
    "df_cg = df_cg.set_index('Company')\n",
    "\n",
    "df_cg.head()"
   ]
  },
  {
   "cell_type": "markdown",
   "metadata": {
    "colab_type": "text",
    "id": "f8kxCye8rYx6"
   },
   "source": [
    "**Next we are going to relate production companies with a specific genre. Let's start with the action genre. **"
   ]
  },
  {
   "cell_type": "code",
   "execution_count": 122,
   "metadata": {
    "colab": {
     "autoexec": {
      "startup": false,
      "wait_interval": 0
     }
    },
    "colab_type": "code",
    "collapsed": true,
    "id": "SBg3_qaFeJQB"
   },
   "outputs": [],
   "source": [
    "# Select all the action movies from the original dataframe and create a \n",
    "# new data frame called df_action\n",
    "\n",
    "# create list of indexs of all action movies\n",
    "list_action = [] \n",
    "counter = 0 \n",
    "for s in df['genres']:\n",
    "  s = s.split('|')\n",
    "  if 'Action' in s: \n",
    "    list_action.append(counter)\n",
    "  counter = counter + 1\n"
   ]
  },
  {
   "cell_type": "code",
   "execution_count": 123,
   "metadata": {
    "colab": {
     "autoexec": {
      "startup": false,
      "wait_interval": 0
     }
    },
    "colab_type": "code",
    "collapsed": true,
    "id": "ZZeTgulnk4wq"
   },
   "outputs": [],
   "source": [
    "df_action = df.iloc[list_action]\n",
    "df_action = df_action.reset_index(drop=True)\n",
    "\n"
   ]
  },
  {
   "cell_type": "code",
   "execution_count": 124,
   "metadata": {
    "colab": {
     "autoexec": {
      "startup": false,
      "wait_interval": 0
     },
     "base_uri": "https://localhost:8080/",
     "height": 35,
     "output_extras": [
      {}
     ]
    },
    "colab_type": "code",
    "executionInfo": {
     "elapsed": 316,
     "status": "ok",
     "timestamp": 1521570749777,
     "user": {
      "displayName": "Erik Jensen",
      "photoUrl": "https://lh3.googleusercontent.com/a/default-user=s128",
      "userId": "105068432724791430130"
     },
     "user_tz": 420
    },
    "id": "kHvX70ntmT8T",
    "outputId": "6592a535-f591-435f-f12e-99ce4b862018"
   },
   "outputs": [
    {
     "data": {
      "text/plain": [
       "0.28424938474159145"
      ]
     },
     "execution_count": 124,
     "metadata": {},
     "output_type": "execute_result"
    }
   ],
   "source": [
    "# we figure out the how many action movies we have from these 5000 movies\n",
    "action_num = len(df_action )\n",
    "# percentage of action movies in the original dataset \n",
    "action_num/len(df)"
   ]
  },
  {
   "cell_type": "code",
   "execution_count": 125,
   "metadata": {
    "colab": {
     "autoexec": {
      "startup": false,
      "wait_interval": 0
     },
     "base_uri": "https://localhost:8080/",
     "height": 35,
     "output_extras": [
      {}
     ]
    },
    "colab_type": "code",
    "executionInfo": {
     "elapsed": 445,
     "status": "ok",
     "timestamp": 1521570750409,
     "user": {
      "displayName": "Erik Jensen",
      "photoUrl": "https://lh3.googleusercontent.com/a/default-user=s128",
      "userId": "105068432724791430130"
     },
     "user_tz": 420
    },
    "id": "_0-BSjsaoc2Z",
    "outputId": "19629187-15a2-4977-c302-ea9caa3c16e2"
   },
   "outputs": [
    {
     "name": "stdout",
     "output_type": "stream",
     "text": [
      "There are 983 different production companies in action movie data set\n"
     ]
    }
   ],
   "source": [
    "# next we shall figure out the aveg net_gain of each company that makes action movie  \n",
    "\n",
    "# First of all we find the total action movie netprofit for each company in df_action \n",
    "# We start off by building a set of companies that make action movies\n",
    "list_company_action = set() \n",
    "for s in df_action['production_companies']:\n",
    "  s = s.split('|')\n",
    "  list_company_action = set().union(s,list_company_action)\n",
    "list_company_action = list(list_company_action)\n",
    "list_company_action.remove('')\n",
    "len(list_company_action)\n",
    "print('There are',len(list_company_action),'different production companies in action movie data set')\n",
    "\n"
   ]
  },
  {
   "cell_type": "code",
   "execution_count": 126,
   "metadata": {
    "colab": {
     "autoexec": {
      "startup": false,
      "wait_interval": 0
     }
    },
    "colab_type": "code",
    "collapsed": true,
    "id": "r5dNUemM1sQ0"
   },
   "outputs": [],
   "source": [
    "# now we turn lis_company_action into a dictionary and start calculating the \n",
    "# total net_profit for each company\n",
    "dict_company_action = {x:0 for x in list_company_action}"
   ]
  },
  {
   "cell_type": "code",
   "execution_count": 127,
   "metadata": {
    "colab": {
     "autoexec": {
      "startup": false,
      "wait_interval": 0
     }
    },
    "colab_type": "code",
    "collapsed": true,
    "id": "Zuq71-h-wOvy"
   },
   "outputs": [],
   "source": [
    "\n",
    "# df_action.loc[0][13] is profit \n",
    "# df_action.loc[0][5] is company\n",
    "\n",
    "\n",
    "for i in range(len(df_action)): \n",
    "  s = df_action.loc[i][5].split('|')\n",
    "  for j in range(len(list_company_action)):\n",
    "    if list_company_action[j] in s: \n",
    "      dict_company_action[list_company_action[j]] =  dict_company_action[list_company_action[j]]+ df_action.loc[i][13]\n",
    "  "
   ]
  },
  {
   "cell_type": "code",
   "execution_count": 128,
   "metadata": {
    "colab": {
     "autoexec": {
      "startup": false,
      "wait_interval": 0
     },
     "base_uri": "https://localhost:8080/",
     "height": 53,
     "output_extras": [
      {}
     ]
    },
    "colab_type": "code",
    "executionInfo": {
     "elapsed": 369,
     "status": "ok",
     "timestamp": 1521570753382,
     "user": {
      "displayName": "Erik Jensen",
      "photoUrl": "https://lh3.googleusercontent.com/a/default-user=s128",
      "userId": "105068432724791430130"
     },
     "user_tz": 420
    },
    "id": "4Pg4WQ3xyvxI",
    "outputId": "996cac50-c444-4b8a-f022-d11820747241"
   },
   "outputs": [
    {
     "name": "stderr",
     "output_type": "stream",
     "text": [
      "C:\\Users\\slayerjensen\\Anaconda3\\lib\\site-packages\\ipykernel_launcher.py:6: RuntimeWarning: divide by zero encountered in longlong_scalars\n",
      "  \n"
     ]
    }
   ],
   "source": [
    "  # dict_company_action is a dictionary list that contains the netprofit for company making action movies\n",
    "  # Next, we want to figure out the average profit for each company making action movies\n",
    "  \n",
    "  df_cg.loc['Capcom']\n",
    "  for i in list_company_action: \n",
    "          dict_company_action[i] = dict_company_action[i]/df_cg.loc[i][14]\n",
    "  "
   ]
  },
  {
   "cell_type": "markdown",
   "metadata": {
    "colab_type": "text",
    "id": "Q7E-zqcTr2lW"
   },
   "source": [
    "**Here we create a dataframe to hold all the information related to the companies making action movies. We then plot graphs demonstrating the change of numbers of movies made in each genre and its profit.**"
   ]
  },
  {
   "cell_type": "code",
   "execution_count": 129,
   "metadata": {
    "colab": {
     "autoexec": {
      "startup": false,
      "wait_interval": 0
     }
    },
    "colab_type": "code",
    "collapsed": true,
    "id": "D9QAMrIsZqWC"
   },
   "outputs": [],
   "source": [
    "# next we want to plot the relationship between the number of action movies each \n",
    "# company had made and the average netprofit of each company\n",
    "\n",
    "df_action_company =  pd.DataFrame(columns =['Company','net_profit','number'])\n",
    "df_action_company['Company'] = list_company_action\n",
    "list_profit_action = []\n",
    "list_number_action = [] \n",
    "for i in list_company_action: \n",
    "  list_profit_action.append(dict_company_action[i])\n",
    "  list_number_action.append(df_cg.loc[i][14])\n",
    "df_action_company['net_profit'] = list_profit_action\n",
    "df_action_company['number'] = list_number_action \n",
    "#df_action_company\n",
    " "
   ]
  },
  {
   "cell_type": "code",
   "execution_count": 130,
   "metadata": {
    "colab": {
     "autoexec": {
      "startup": false,
      "wait_interval": 0
     }
    },
    "colab_type": "code",
    "collapsed": true,
    "id": "EKCSPJcyhz-x"
   },
   "outputs": [],
   "source": [
    "## this is the method for creating a list of all the desired type of movie\n",
    "def create_df_type(lis,ty):\n",
    "    \n",
    "    counter = 0\n",
    "    for s in df['genres']: \n",
    "        if ty in s:\n",
    "            lis.append(counter)\n",
    "            counter = counter + 1\n",
    "  \n",
    "#this method creates a list of companies making the desired movie type \n",
    "def create_company_type(df_type): \n",
    "    \n",
    "    type_company  = set()\n",
    "    for s in df_type['production_companies']:\n",
    "        \n",
    "        s = s.split('|')\n",
    "        type_company = set().union(s,type_company)\n",
    "        type_company = list(type_company)\n",
    "        if '' in type_company:\n",
    "            type_company.remove('')\n",
    "    return type_company\n",
    "    \n",
    "# this method will fill in the dictionary \n",
    "def dict_mean(dictionary, lis, df_type): \n",
    "    \n",
    "    for i in range(len(df_type)): \n",
    "        \n",
    "        s = df_type.loc[i][5].split('|')\n",
    "        for j in range(len(lis)):\n",
    "            if lis[j] in s: \n",
    "                dictionary[lis[j]] = dictionary[lis[j]] + df_type.loc[i][13]\n",
    "    \n",
    "# this method will plot the relationship between the number of the desired\n",
    "# type of movie and the average netprofit for each company\n",
    "\n",
    "def plot_numprofit(df_type,lis,dictionary,num,name):\n",
    "    \n",
    "    df_type['Company'] = lis\n",
    "    list_profit_type = [] \n",
    "    list_number_type = [] \n",
    "    for i in lis:\n",
    "        \n",
    "        list_profit_type.append(dictionary[i])\n",
    "        list_number_type.append(df_cg.loc[i][num])\n",
    "    df_type['net_profit'] = list_profit_type\n",
    "    df_type['number'] = list_number_type\n",
    "    sns.lmplot(x='number',y='net_profit',data=df_type,fit_reg=False)\n",
    "    title='The relationship between number of '+name+' movies made and the average profit'\n",
    "    ax=plt.gca()\n",
    "    ax.set_title(title)\n",
    " \n"
   ]
  },
  {
   "cell_type": "code",
   "execution_count": 131,
   "metadata": {
    "colab": {
     "autoexec": {
      "startup": false,
      "wait_interval": 0
     },
     "output_extras": [
      {},
      {}
     ]
    },
    "colab_type": "code",
    "id": "m_gafl4AAXYb",
    "outputId": "307ee902-3f95-42e5-cc3c-ee815c671e86"
   },
   "outputs": [
    {
     "data": {
      "text/plain": [
       "<seaborn.axisgrid.FacetGrid at 0x21395f78c18>"
      ]
     },
     "execution_count": 131,
     "metadata": {},
     "output_type": "execute_result"
    },
    {
     "data": {
      "image/png": "[encoded data removed]",
      "text/plain": [
       "<matplotlib.figure.Figure at 0x21395f784a8>"
      ]
     },
     "metadata": {},
     "output_type": "display_data"
    }
   ],
   "source": [
    "#df_action_company\n",
    "#plot_numprofit(df_action_company,list_company_action,dict_company_action,num = 6,'action')\n",
    "sns.lmplot(x='number',y='net_profit',data=df_action_company,fit_reg=False)"
   ]
  },
  {
   "cell_type": "markdown",
   "metadata": {
    "colab_type": "text",
    "id": "U1jD4RbF6aS1"
   },
   "source": [
    "**The graph above shows the relationship between experience of production companies making a action movies and how much profit boost those action movie will recieve from those experience. Within the graph, each dot represent a company that have made an action movie. The axis means how many action movies each companies have made and the y-axis represent the average profit of action movies each companies have received. From the graph, we can see no signifiant correlation between experience and average movie profit as values of y-axis do not significantly increases as the x increases.**"
   ]
  },
  {
   "cell_type": "code",
   "execution_count": 132,
   "metadata": {
    "colab": {
     "autoexec": {
      "startup": false,
      "wait_interval": 0
     },
     "base_uri": "https://localhost:8080/",
     "height": 405,
     "output_extras": [
      {},
      {}
     ]
    },
    "colab_type": "code",
    "executionInfo": {
     "elapsed": 2793,
     "status": "ok",
     "timestamp": 1521570759267,
     "user": {
      "displayName": "Erik Jensen",
      "photoUrl": "https://lh3.googleusercontent.com/a/default-user=s128",
      "userId": "105068432724791430130"
     },
     "user_tz": 420
    },
    "id": "W2KGLHowG5Nw",
    "outputId": "26b4f0ed-aad2-4d81-a0e9-40414828b5fc"
   },
   "outputs": [
    {
     "name": "stderr",
     "output_type": "stream",
     "text": [
      "C:\\Users\\slayerjensen\\Anaconda3\\lib\\site-packages\\ipykernel_launcher.py:11: RuntimeWarning: divide by zero encountered in longlong_scalars\n",
      "  # This is added back by InteractiveShellApp.init_path()\n"
     ]
    },
    {
     "data": {
      "image/png": "[encoded data removed]",
      "text/plain": [
       "<matplotlib.figure.Figure at 0x21395f37128>"
      ]
     },
     "metadata": {},
     "output_type": "display_data"
    }
   ],
   "source": [
    "list_drama = [] \n",
    "create_df_type(list_drama,'Drama')\n",
    "df_drama = df.iloc[list_drama]\n",
    "df_drama = df_drama.reset_index(drop=True)\n",
    "list_company_drama = create_company_type(df_drama)\n",
    "dict_company_drama = {x:0 for x in list_company_drama}\n",
    "dict_mean(dict_company_drama,list_company_drama ,df_drama)\n",
    "for i in list_company_drama: \n",
    "    \n",
    "    try:\n",
    "        dict_company_drama[i] = dict_company_drama[i]/df_cg.loc[i][4]\n",
    "    except: \n",
    "        pass\n",
    "df_drama_company = pd.DataFrame(columns =['Company','net_profit','number'])\n",
    "plot_numprofit(df_drama_company,list_company_drama,dict_company_drama,num = 1,name='drama')\n",
    "\n"
   ]
  },
  {
   "cell_type": "code",
   "execution_count": null,
   "metadata": {
    "colab": {
     "autoexec": {
      "startup": false,
      "wait_interval": 0
     }
    },
    "colab_type": "code",
    "collapsed": true,
    "id": "dLYOlanUAXYm"
   },
   "outputs": [],
   "source": []
  },
  {
   "cell_type": "markdown",
   "metadata": {
    "colab_type": "text",
    "id": "en-ULcNsABJX"
   },
   "source": [
    "**This graph also shows that there is no significant correlation between company experience and profit boost for drama movies. As we can see that the profit does not increase as the number value increases. Actually, it is quite the inverse; Most drama movies with high profit aren't made by the most experienced drama genre production companies.**"
   ]
  },
  {
   "cell_type": "markdown",
   "metadata": {
    "colab_type": "text",
    "id": "aJx-adQcaam-"
   },
   "source": [
    "## Analysis on relationship between revenues and budget and votes##"
   ]
  },
  {
   "cell_type": "markdown",
   "metadata": {
    "colab_type": "text",
    "id": "71edXTvbyj3Q"
   },
   "source": [
    "**Now, doing a linear regression we test to see if there is a significant relationship between revenue and budget(OLS analysis) of movies .We would take log10 of budget and revenue to gain  a better result** "
   ]
  },
  {
   "cell_type": "code",
   "execution_count": 133,
   "metadata": {
    "colab": {
     "autoexec": {
      "startup": false,
      "wait_interval": 0
     },
     "base_uri": "https://localhost:8080/",
     "height": 472,
     "output_extras": [
      {}
     ]
    },
    "colab_type": "code",
    "executionInfo": {
     "elapsed": 358,
     "status": "ok",
     "timestamp": 1521570759712,
     "user": {
      "displayName": "Erik Jensen",
      "photoUrl": "https://lh3.googleusercontent.com/a/default-user=s128",
      "userId": "105068432724791430130"
     },
     "user_tz": 420
    },
    "id": "Ad8e1FfZQq2u",
    "outputId": "a58ceb45-765d-4a71-eb61-b5318ea1804e"
   },
   "outputs": [
    {
     "name": "stdout",
     "output_type": "stream",
     "text": [
      "                            OLS Regression Results                            \n",
      "==============================================================================\n",
      "Dep. Variable:                revenue   R-squared:                       0.635\n",
      "Model:                            OLS   Adj. R-squared:                  0.635\n",
      "Method:                 Least Squares   F-statistic:                     4236.\n",
      "Date:                Wed, 21 Mar 2018   Prob (F-statistic):               0.00\n",
      "Time:                        19:38:37   Log-Likelihood:                -1088.1\n",
      "No. Observations:                2438   AIC:                             2180.\n",
      "Df Residuals:                    2436   BIC:                             2192.\n",
      "Df Model:                           1                                         \n",
      "Covariance Type:            nonrobust                                         \n",
      "==============================================================================\n",
      "                 coef    std err          t      P>|t|      [0.025      0.975]\n",
      "------------------------------------------------------------------------------\n",
      "Intercept      2.8296      0.078     36.299      0.000       2.677       2.982\n",
      "budget         0.6906      0.011     65.083      0.000       0.670       0.711\n",
      "==============================================================================\n",
      "Omnibus:                      838.193   Durbin-Watson:                   1.453\n",
      "Prob(Omnibus):                  0.000   Jarque-Bera (JB):            13921.755\n",
      "Skew:                           1.176   Prob(JB):                         0.00\n",
      "Kurtosis:                      14.468   Cond. No.                         76.1\n",
      "==============================================================================\n",
      "\n",
      "Warnings:\n",
      "[1] Standard Errors assume that the covariance matrix of the errors is correctly specified.\n"
     ]
    }
   ],
   "source": [
    "#Create linear regression\n",
    "df_br=df.copy(deep=True)\n",
    "df_br.dropna(subset=['revenue','budget'],inplace=True)\n",
    "df_br['revenue']=df.revenue.mask(df_br.revenue==0,1)\n",
    "df_br['budget']=df_br.budget.mask(df_br.budget==0,1)\n",
    "df_br['revenue']=np.log10(df_br['revenue'])\n",
    "df_br['budget']=np.log10(df_br['budget'])\n",
    "outcome, predictors = patsy.dmatrices('revenue~ budget', df_br)\n",
    "mod = sm.OLS(outcome, predictors)\n",
    "res = mod.fit()\n",
    "print(res.summary())"
   ]
  },
  {
   "cell_type": "markdown",
   "metadata": {
    "colab_type": "text",
    "id": "883M1Vg3yttW"
   },
   "source": [
    "**By the R-squared and p- value shown above, we can conclude that the relationship between revenue and budget is strong, let's see how the relationship is present in a plot.**"
   ]
  },
  {
   "cell_type": "code",
   "execution_count": 134,
   "metadata": {
    "colab": {
     "autoexec": {
      "startup": false,
      "wait_interval": 0
     },
     "base_uri": "https://localhost:8080/",
     "height": 369,
     "output_extras": [
      {},
      {}
     ]
    },
    "colab_type": "code",
    "executionInfo": {
     "elapsed": 1074,
     "status": "ok",
     "timestamp": 1521570761019,
     "user": {
      "displayName": "Erik Jensen",
      "photoUrl": "https://lh3.googleusercontent.com/a/default-user=s128",
      "userId": "105068432724791430130"
     },
     "user_tz": 420
    },
    "id": "QjJxb1Q_gB9S",
    "outputId": "fa6091c8-e993-48dc-def8-7011f2d66ca3"
   },
   "outputs": [
    {
     "data": {
      "text/plain": [
       "<seaborn.axisgrid.FacetGrid at 0x21395f5e9e8>"
      ]
     },
     "execution_count": 134,
     "metadata": {},
     "output_type": "execute_result"
    },
    {
     "data": {
      "image/png": "[encoded data removed]",
      "text/plain": [
       "<matplotlib.figure.Figure at 0x21395f78d68>"
      ]
     },
     "metadata": {},
     "output_type": "display_data"
    }
   ],
   "source": [
    "#plot the linear regression graph showing the budget revenue relation\n",
    "fig=sns.lmplot(x='budget',y='revenue',data=df_br,fit_reg=True) \n",
    "fig.set(xlim=(4, None))\n",
    "fig.set(ylim=(4,None))\n",
    "#fig.xticks([0,1,2,3,4,5,6,7,8,9,10])"
   ]
  },
  {
   "cell_type": "markdown",
   "metadata": {
    "colab_type": "text",
    "id": "H0zcAizQy639"
   },
   "source": [
    "**The graph above clearly demonstrates the strong coorelation between budget and revenue( we exclude outliers in budgets which are relatively small). Now we want to know which genre would makes the higest revenue in general. The median is a good representation of general situation here.**"
   ]
  },
  {
   "cell_type": "code",
   "execution_count": 135,
   "metadata": {
    "colab": {
     "autoexec": {
      "startup": false,
      "wait_interval": 0
     },
     "base_uri": "https://localhost:8080/",
     "height": 276,
     "output_extras": [
      {}
     ]
    },
    "colab_type": "code",
    "executionInfo": {
     "elapsed": 784,
     "status": "ok",
     "timestamp": 1521570761924,
     "user": {
      "displayName": "Erik Jensen",
      "photoUrl": "https://lh3.googleusercontent.com/a/default-user=s128",
      "userId": "105068432724791430130"
     },
     "user_tz": 420
    },
    "id": "9oR1SMG7eFRh",
    "outputId": "7c40d795-862e-4e4e-8c2f-19526fb8efe9"
   },
   "outputs": [
    {
     "data": {
      "image/png": "[encoded data removed]",
      "text/plain": [
       "<matplotlib.figure.Figure at 0x213f77b9390>"
      ]
     },
     "metadata": {},
     "output_type": "display_data"
    }
   ],
   "source": [
    "#take median of the genere movies as it indicates the situations better \n",
    "def get_genre_avg_revenue(genre):\n",
    "  list_index=[]\n",
    "  counter=0\n",
    "  for string in df['genres']:\n",
    "    if genre in string:\n",
    "      list_index.append(counter)\n",
    "    counter+=1\n",
    "  #take medians for the revenue\n",
    "  return (df.iloc[list_index]['revenue'].median())\n",
    "\n",
    "def convert_million(value):\n",
    "    \n",
    "    return '$%1.1fM' % (value * 1e-6)\n",
    "      \n",
    "    \n",
    "\n",
    "#do a analysis on the average revenue by genre(how does genre affects the average revenue)\n",
    "genre_dict_revenue={}\n",
    "for genre in list_genre:\n",
    "  genre_dict_revenue[genre]=get_genre_avg_revenue(genre)\n",
    "\n",
    "#create a list of starting 3 chars of genre\n",
    "list_dict_3_bet=[]\n",
    "for genre in list_genre:\n",
    "    list_dict_3_bet.append(genre[:3])\n",
    "  \n",
    "\n",
    "#plot the distribution of graph\n",
    "plt.bar(list_dict_3_bet,genre_dict_revenue.values(),width=0.2, color='g')\n",
    "plt.show()\n",
    "\n",
    "\n",
    "#it seems that the adventure drama and music movies have the highest median revenue of the all\n",
    "#then we want to see which combinations of genre could have highest median, then\n",
    "\n"
   ]
  },
  {
   "cell_type": "markdown",
   "metadata": {
    "colab_type": "text",
    "id": "xSHcYq4IzsNk"
   },
   "source": [
    "**(Note that in the graph, the value in x-axis is the first 3 letters of each genre. ex: 'Act' is 'Action')The graph above shows the average profit for each genre of movies. As we can see, the most profitable genres are 'Animation', which makes sense because from the previous graph we know that movies with high budget often have high revenue. Since making an animation movies requires teremendous amount of budget, thus its high rate of return is expected.**"
   ]
  },
  {
   "cell_type": "code",
   "execution_count": 136,
   "metadata": {
    "colab": {
     "autoexec": {
      "startup": false,
      "wait_interval": 0
     },
     "base_uri": "https://localhost:8080/",
     "height": 265,
     "output_extras": [
      {}
     ]
    },
    "colab_type": "code",
    "executionInfo": {
     "elapsed": 675,
     "status": "ok",
     "timestamp": 1521570762732,
     "user": {
      "displayName": "Erik Jensen",
      "photoUrl": "https://lh3.googleusercontent.com/a/default-user=s128",
      "userId": "105068432724791430130"
     },
     "user_tz": 420
    },
    "id": "lXQxWOuggCmA",
    "outputId": "ad01d01f-725d-461b-87c4-5223869732c8"
   },
   "outputs": [
    {
     "data": {
      "image/png": "[encoded data removed]",
      "text/plain": [
       "<matplotlib.figure.Figure at 0x21395f035c0>"
      ]
     },
     "metadata": {},
     "output_type": "display_data"
    }
   ],
   "source": [
    "#do a analysis of genere vs votes\n",
    "def get_genre_vote(genre):\n",
    "  list_index=[]\n",
    "  counter=0\n",
    "  for string in df['genres']:\n",
    "    if genre in string:\n",
    "      list_index.append(counter)\n",
    "    counter+=1\n",
    "  #take medians for all movies in the genre\n",
    "  return df.iloc[list_index]['vote_average'].median()\n",
    "\n",
    "genre_dict_votes={}\n",
    "for genre in list_genre:\n",
    "  genre_dict_votes[genre]=get_genre_vote(genre)\n",
    "\n",
    "#do a bar char\n",
    "plt.bar(list_dict_3_bet,genre_dict_votes.values(),width=0.2, color='g')\n",
    "plt.show()\n"
   ]
  },
  {
   "cell_type": "markdown",
   "metadata": {
    "colab_type": "text",
    "id": "ybKkpyefVIpL"
   },
   "source": [
    "**The graph above shows the genre in relation to its average score. The x-axis shows the genre of the movie and the y-axis defines the average score for that genre of movie in relation to our dataframe. We can see from here though animations makes a lot of money but they don't have the highest vote. In general war and Western have highest votes.**"
   ]
  },
  {
   "cell_type": "markdown",
   "metadata": {
    "colab_type": "text",
    "id": "tlXFEelxaXhG"
   },
   "source": []
  },
  {
   "cell_type": "markdown",
   "metadata": {
    "colab_type": "text",
    "id": "WAxOdMQXxeoQ"
   },
   "source": [
    "# ***Analysis based on keywords of movies***"
   ]
  },
  {
   "cell_type": "markdown",
   "metadata": {
    "colab_type": "text",
    "id": "z4z1pF8JV2Ni"
   },
   "source": [
    "**In the dataset, there are several keywords related to the movies: Some of the movies are about \"women director\" and some are about \"crime family\". How are those keywords related to movie revenue?**"
   ]
  },
  {
   "cell_type": "code",
   "execution_count": 137,
   "metadata": {
    "colab": {
     "autoexec": {
      "startup": false,
      "wait_interval": 0
     }
    },
    "colab_type": "code",
    "collapsed": true,
    "id": "QbVbmo1evhsh"
   },
   "outputs": [],
   "source": [
    "#What about keywords in the movies, are they have general high relationship with revenue?\n",
    "#Let's get the list of keywords first and find the most popular one\n",
    "#get the list of key words\n",
    "liste_keywords = set()\n",
    "for s in df['keywords'].str.split('|'):\n",
    "    liste_keywords = set().union(s, liste_keywords)\n",
    "liste_keywords = list(liste_keywords)\n",
    "liste_keywords.remove('')\n",
    "\n"
   ]
  },
  {
   "cell_type": "code",
   "execution_count": 138,
   "metadata": {
    "colab": {
     "autoexec": {
      "startup": false,
      "wait_interval": 0
     },
     "base_uri": "https://localhost:8080/",
     "height": 35,
     "output_extras": [
      {}
     ]
    },
    "colab_type": "code",
    "executionInfo": {
     "elapsed": 2727,
     "status": "ok",
     "timestamp": 1521570766281,
     "user": {
      "displayName": "Erik Jensen",
      "photoUrl": "https://lh3.googleusercontent.com/a/default-user=s128",
      "userId": "105068432724791430130"
     },
     "user_tz": 420
    },
    "id": "_XU5OPJP1ZBv",
    "outputId": "ccd8dace-eaa8-4cae-8c0d-14a8ef6f6e81"
   },
   "outputs": [
    {
     "data": {
      "text/plain": [
       "7660"
      ]
     },
     "execution_count": 138,
     "metadata": {},
     "output_type": "execute_result"
    }
   ],
   "source": [
    "def count_word(df, ref_col, liste):\n",
    "    keyword_count = dict()\n",
    "    for s in liste: keyword_count[s] = 0\n",
    "    for liste_keywords in df[ref_col].str.split('|'):        \n",
    "        if type(liste_keywords) == float and pd.isnull(liste_keywords): continue        \n",
    "        for s in [s for s in liste_keywords if s in liste]: \n",
    "            if pd.notnull(s): keyword_count[s] += 1\n",
    "              \n",
    "    keyword_occurences = []\n",
    "    for k,v in keyword_count.items():\n",
    "        keyword_occurences.append([k,v])\n",
    "    keyword_occurences.sort(key = lambda x:x[1], reverse = True)\n",
    "    return keyword_occurences, keyword_count\n",
    " \n",
    "keyword_occurences, dum = count_word(df, 'keywords', liste_keywords)\n",
    "len(keyword_occurences)"
   ]
  },
  {
   "cell_type": "code",
   "execution_count": 139,
   "metadata": {
    "colab": {
     "autoexec": {
      "startup": false,
      "wait_interval": 0
     }
    },
    "colab_type": "code",
    "collapsed": true,
    "id": "ZqCmdTpwtBaD"
   },
   "outputs": [],
   "source": [
    "#create a new dataframe about the occurence of the different keyWords"
   ]
  },
  {
   "cell_type": "code",
   "execution_count": 140,
   "metadata": {
    "colab": {
     "autoexec": {
      "startup": false,
      "wait_interval": 0
     },
     "base_uri": "https://localhost:8080/",
     "height": 72,
     "output_extras": [
      {},
      {}
     ]
    },
    "colab_type": "code",
    "executionInfo": {
     "elapsed": 34071,
     "status": "ok",
     "timestamp": 1521570801663,
     "user": {
      "displayName": "Erik Jensen",
      "photoUrl": "https://lh3.googleusercontent.com/a/default-user=s128",
      "userId": "105068432724791430130"
     },
     "user_tz": 420
    },
    "id": "enNJYgAL1v32",
    "outputId": "d77f4d5b-c4fd-4238-fdea-86209fe4cb7c"
   },
   "outputs": [
    {
     "name": "stderr",
     "output_type": "stream",
     "text": [
      "C:\\Users\\slayerjensen\\Anaconda3\\lib\\site-packages\\ipykernel_launcher.py:12: UserWarning: This pattern has match groups. To actually get the groups, use str.extract.\n",
      "  if sys.path[0] == '':\n"
     ]
    },
    {
     "data": {
      "text/plain": [
       "(2438, 7665)"
      ]
     },
     "execution_count": 140,
     "metadata": {},
     "output_type": "execute_result"
    }
   ],
   "source": [
    "#get a new dataframe based on keywords\n",
    "#df_keywords=df.copy(deep=True)\n",
    "keyword_list = set()\n",
    "for s in df['keywords'].str.split('|'):\n",
    "    keyword_list = set().union(s, keyword_list)\n",
    "keyword_list = list(keyword_list)\n",
    "keyword_list.remove('')\n",
    "\n",
    "df_keywords = df[['title','vote_average','release_date','budget','revenue']].reset_index(drop=True)\n",
    "\n",
    "for keyword in keyword_list:\n",
    "    df_keywords[keyword] = df['keywords'].str.contains(keyword).apply(lambda x:1 if x else 0)\n",
    "\n",
    "df_keywords.shape"
   ]
  },
  {
   "cell_type": "markdown",
   "metadata": {
    "colab_type": "text",
    "id": "ROdfcUSBKlxA"
   },
   "source": [
    "**Now we would like to create a new dataframe based on keywords. We want to include the mean budget, mean revenue and mean vote related for each keyword. From the dataframe we can calculate the profit gain related to each keyword as well as the rating.** "
   ]
  },
  {
   "cell_type": "code",
   "execution_count": 141,
   "metadata": {
    "colab": {
     "autoexec": {
      "startup": false,
      "wait_interval": 0
     }
    },
    "colab_type": "code",
    "collapsed": true,
    "id": "haWG1x0qn0wb"
   },
   "outputs": [],
   "source": [
    "mean_for_keyword = pd.DataFrame(keyword_list)\n",
    "array1=[]*len(keyword_list)\n",
    "#mean vote\n",
    "for keyword in keyword_list:\n",
    "    array1.append(df_keywords.groupby(keyword, as_index=True)['vote_average'].mean())\n",
    " \n",
    "#mean budget\n",
    "array2 = []*len(keyword_list)\n",
    "for keyword in keyword_list:\n",
    "    array2.append(df_keywords.groupby(keyword, as_index=True)['budget'].mean())\n",
    "\n",
    "array3 = []*len(keyword_list)\n",
    "for keyword in keyword_list:\n",
    "    array3.append(df_keywords.groupby(keyword, as_index=True)['revenue'].mean())\n",
    "\n",
    "mean_for_keyword['mean_vote_average']=list(pd.DataFrame(array1)[1])\n",
    "mean_for_keyword['mean_budget']=list(pd.DataFrame(array2)[1])\n",
    "mean_for_keyword['mean_revenue']=list(pd.DataFrame(array3)[1]) \n",
    "mean_for_keyword.columns = ['keyword','mean_vote_average','mean_budget','mean_revenue']"
   ]
  },
  {
   "cell_type": "code",
   "execution_count": 142,
   "metadata": {
    "colab": {
     "autoexec": {
      "startup": false,
      "wait_interval": 0
     },
     "base_uri": "https://localhost:8080/",
     "height": 198,
     "output_extras": [
      {}
     ]
    },
    "colab_type": "code",
    "executionInfo": {
     "elapsed": 1374,
     "status": "ok",
     "timestamp": 1521570824021,
     "user": {
      "displayName": "Erik Jensen",
      "photoUrl": "https://lh3.googleusercontent.com/a/default-user=s128",
      "userId": "105068432724791430130"
     },
     "user_tz": 420
    },
    "id": "LlgUDGJ5pNMZ",
    "outputId": "80063398-ac30-4a60-bf47-fc0c4cab23c2"
   },
   "outputs": [
    {
     "data": {
      "text/html": [
       "<div>\n",
       "<style>\n",
       "    .dataframe thead tr:only-child th {\n",
       "        text-align: right;\n",
       "    }\n",
       "\n",
       "    .dataframe thead th {\n",
       "        text-align: left;\n",
       "    }\n",
       "\n",
       "    .dataframe tbody tr th {\n",
       "        vertical-align: top;\n",
       "    }\n",
       "</style>\n",
       "<table border=\"1\" class=\"dataframe\">\n",
       "  <thead>\n",
       "    <tr style=\"text-align: right;\">\n",
       "      <th></th>\n",
       "      <th>keyword</th>\n",
       "      <th>mean_vote_average</th>\n",
       "      <th>mean_budget</th>\n",
       "      <th>mean_revenue</th>\n",
       "    </tr>\n",
       "  </thead>\n",
       "  <tbody>\n",
       "    <tr>\n",
       "      <th>3276</th>\n",
       "      <td>wrongful imprisonment</td>\n",
       "      <td>8.5</td>\n",
       "      <td>25000000.0</td>\n",
       "      <td>28341469.0</td>\n",
       "    </tr>\n",
       "    <tr>\n",
       "      <th>1266</th>\n",
       "      <td>italian american</td>\n",
       "      <td>8.4</td>\n",
       "      <td>6000000.0</td>\n",
       "      <td>245066411.0</td>\n",
       "    </tr>\n",
       "    <tr>\n",
       "      <th>6208</th>\n",
       "      <td>crime family</td>\n",
       "      <td>8.4</td>\n",
       "      <td>6000000.0</td>\n",
       "      <td>245066411.0</td>\n",
       "    </tr>\n",
       "    <tr>\n",
       "      <th>1778</th>\n",
       "      <td>mob boss</td>\n",
       "      <td>8.4</td>\n",
       "      <td>6000000.0</td>\n",
       "      <td>245066411.0</td>\n",
       "    </tr>\n",
       "    <tr>\n",
       "      <th>2845</th>\n",
       "      <td>pulp fiction</td>\n",
       "      <td>8.3</td>\n",
       "      <td>8000000.0</td>\n",
       "      <td>213928762.0</td>\n",
       "    </tr>\n",
       "  </tbody>\n",
       "</table>\n",
       "</div>"
      ],
      "text/plain": [
       "                    keyword  mean_vote_average  mean_budget  mean_revenue\n",
       "3276  wrongful imprisonment                8.5   25000000.0    28341469.0\n",
       "1266       italian american                8.4    6000000.0   245066411.0\n",
       "6208           crime family                8.4    6000000.0   245066411.0\n",
       "1778               mob boss                8.4    6000000.0   245066411.0\n",
       "2845           pulp fiction                8.3    8000000.0   213928762.0"
      ]
     },
     "execution_count": 142,
     "metadata": {},
     "output_type": "execute_result"
    }
   ],
   "source": [
    "mean_for_keyword.sort_values('mean_vote_average', ascending=False).head()\n"
   ]
  },
  {
   "cell_type": "code",
   "execution_count": 143,
   "metadata": {
    "colab": {
     "autoexec": {
      "startup": false,
      "wait_interval": 0
     },
     "base_uri": "https://localhost:8080/",
     "height": 198,
     "output_extras": [
      {}
     ]
    },
    "colab_type": "code",
    "executionInfo": {
     "elapsed": 386,
     "status": "ok",
     "timestamp": 1521570824548,
     "user": {
      "displayName": "Erik Jensen",
      "photoUrl": "https://lh3.googleusercontent.com/a/default-user=s128",
      "userId": "105068432724791430130"
     },
     "user_tz": 420
    },
    "id": "i1nIdaYcqQk2",
    "outputId": "67782d57-6bb5-4c98-cea7-bb9597abe5ce"
   },
   "outputs": [
    {
     "data": {
      "text/html": [
       "<div>\n",
       "<style>\n",
       "    .dataframe thead tr:only-child th {\n",
       "        text-align: right;\n",
       "    }\n",
       "\n",
       "    .dataframe thead th {\n",
       "        text-align: left;\n",
       "    }\n",
       "\n",
       "    .dataframe tbody tr th {\n",
       "        vertical-align: top;\n",
       "    }\n",
       "</style>\n",
       "<table border=\"1\" class=\"dataframe\">\n",
       "  <thead>\n",
       "    <tr style=\"text-align: right;\">\n",
       "      <th></th>\n",
       "      <th>keyword</th>\n",
       "      <th>mean_vote_average</th>\n",
       "      <th>mean_budget</th>\n",
       "      <th>mean_revenue</th>\n",
       "    </tr>\n",
       "  </thead>\n",
       "  <tbody>\n",
       "    <tr>\n",
       "      <th>787</th>\n",
       "      <td>lex luthor</td>\n",
       "      <td>5.4</td>\n",
       "      <td>270000000.0</td>\n",
       "      <td>391081192.0</td>\n",
       "    </tr>\n",
       "    <tr>\n",
       "      <th>2392</th>\n",
       "      <td>blonde woman</td>\n",
       "      <td>7.4</td>\n",
       "      <td>260000000.0</td>\n",
       "      <td>591794936.0</td>\n",
       "    </tr>\n",
       "    <tr>\n",
       "      <th>1203</th>\n",
       "      <td>healing power</td>\n",
       "      <td>7.4</td>\n",
       "      <td>260000000.0</td>\n",
       "      <td>591794936.0</td>\n",
       "    </tr>\n",
       "    <tr>\n",
       "      <th>1447</th>\n",
       "      <td>mars civilization</td>\n",
       "      <td>6.1</td>\n",
       "      <td>260000000.0</td>\n",
       "      <td>284139100.0</td>\n",
       "    </tr>\n",
       "    <tr>\n",
       "      <th>7121</th>\n",
       "      <td>healing gift</td>\n",
       "      <td>7.4</td>\n",
       "      <td>260000000.0</td>\n",
       "      <td>591794936.0</td>\n",
       "    </tr>\n",
       "  </tbody>\n",
       "</table>\n",
       "</div>"
      ],
      "text/plain": [
       "                keyword  mean_vote_average  mean_budget  mean_revenue\n",
       "787          lex luthor                5.4  270000000.0   391081192.0\n",
       "2392       blonde woman                7.4  260000000.0   591794936.0\n",
       "1203      healing power                7.4  260000000.0   591794936.0\n",
       "1447  mars civilization                6.1  260000000.0   284139100.0\n",
       "7121       healing gift                7.4  260000000.0   591794936.0"
      ]
     },
     "execution_count": 143,
     "metadata": {},
     "output_type": "execute_result"
    }
   ],
   "source": [
    "mean_for_keyword.sort_values('mean_budget', ascending=False).head()"
   ]
  },
  {
   "cell_type": "code",
   "execution_count": 144,
   "metadata": {
    "colab": {
     "autoexec": {
      "startup": false,
      "wait_interval": 0
     }
    },
    "colab_type": "code",
    "collapsed": true,
    "id": "5Xxr4OycrTCZ"
   },
   "outputs": [],
   "source": [
    "mean_revenue = mean_for_keyword.sort_values('mean_revenue', ascending=False)"
   ]
  },
  {
   "cell_type": "markdown",
   "metadata": {
    "colab_type": "text",
    "id": "5CjQk_7yLsdm"
   },
   "source": [
    "** Here we plot the top 50 keywords's mean revenues of each movie and denote the mean revenue gained by the top 50 keywords.**"
   ]
  },
  {
   "cell_type": "code",
   "execution_count": 145,
   "metadata": {
    "colab": {
     "autoexec": {
      "startup": false,
      "wait_interval": 0
     },
     "base_uri": "https://localhost:8080/",
     "height": 410,
     "output_extras": [
      {}
     ]
    },
    "colab_type": "code",
    "executionInfo": {
     "elapsed": 1530,
     "status": "ok",
     "timestamp": 1521570826520,
     "user": {
      "displayName": "Erik Jensen",
      "photoUrl": "https://lh3.googleusercontent.com/a/default-user=s128",
      "userId": "105068432724791430130"
     },
     "user_tz": 420
    },
    "id": "j_16Un3lbYFC",
    "outputId": "b735566e-2b1c-4eeb-ef6e-1bfee375e6a3"
   },
   "outputs": [
    {
     "data": {
      "image/png": "[encoded data removed]",
      "text/plain": [
       "<matplotlib.figure.Figure at 0x21384046470>"
      ]
     },
     "metadata": {},
     "output_type": "display_data"
    }
   ],
   "source": [
    "import matplotlib.pyplot as plt\n",
    "\n",
    "ax = mean_revenue[0:50].plot.bar(x = 'keyword', y='mean_revenue', title=\"mean_revenue\",\n",
    "                     figsize=(15,4), legend=True, fontsize=12, color='green', label = \"mean_revenue\")\n",
    "#ax.set_ylim(5, 8)\n",
    "ax.axhline(y=mean_revenue[0:50]['mean_revenue'].mean(),c=\"blue\",linewidth=0.5, label='mean')\n",
    "ax.legend()\n",
    "plt.show()\n",
    "\n",
    "\n"
   ]
  },
  {
   "cell_type": "markdown",
   "metadata": {
    "colab_type": "text",
    "id": "jQ2LmQ7uGtnY"
   },
   "source": [
    "**The graph above shows that some keywords could contribute to much higher revenue for the movies.** \n"
   ]
  },
  {
   "cell_type": "markdown",
   "metadata": {
    "colab_type": "text",
    "id": "18AcpB20bB74"
   },
   "source": [
    "## Vote vs. Revenue##\n",
    "\n",
    "**How could votes affect the revenue of the movies? Is it true that high revenue movies would have higher ratings or vice versa? Below we show a plot and regression to visualize the relationship between votes and revenue.**"
   ]
  },
  {
   "cell_type": "code",
   "execution_count": 146,
   "metadata": {
    "colab": {
     "autoexec": {
      "startup": false,
      "wait_interval": 0
     },
     "base_uri": "https://localhost:8080/",
     "height": 369,
     "output_extras": [
      {}
     ]
    },
    "colab_type": "code",
    "executionInfo": {
     "elapsed": 1759,
     "status": "ok",
     "timestamp": 1521570828327,
     "user": {
      "displayName": "Erik Jensen",
      "photoUrl": "https://lh3.googleusercontent.com/a/default-user=s128",
      "userId": "105068432724791430130"
     },
     "user_tz": 420
    },
    "id": "7fCID8Wwh-sQ",
    "outputId": "ec51bdf7-4a00-4730-a5c5-421a6fe48d89"
   },
   "outputs": [
    {
     "data": {
      "image/png": "[encoded data removed]",
      "text/plain": [
       "<matplotlib.figure.Figure at 0x21395f127f0>"
      ]
     },
     "metadata": {},
     "output_type": "display_data"
    }
   ],
   "source": [
    "\n",
    "# relationship between mean vote and mean revenue \n",
    "x=mean_revenue['mean_vote_average'].dropna()\n",
    "y=mean_revenue['mean_revenue'].dropna()\n",
    "xy = np.vstack([x,y])\n",
    "z = gaussian_kde(xy)(xy)\n",
    "idx = z.argsort()\n",
    "x, y, z = x[idx], y[idx], z[idx]\n",
    "fig, ax = plt.subplots()\n",
    "ax.scatter(x, y, c=z, s=50, edgecolor='')\n",
    "plt.title(\"density plot of votes vs revenue\")\n",
    "plt.xlabel(\"votes\")\n",
    "plt.ylabel(\"revenue\")\n",
    "plt.show()\n"
   ]
  },
  {
   "cell_type": "markdown",
   "metadata": {
    "colab_type": "text",
    "id": "tKUG38DtOHbh"
   },
   "source": [
    "**The graph above does show that most movies are with vote score around 4.5-8.5 and having a revenue bellow 1 billion. In the range of vote score 6.8-7.0  is the place where movies make the higher revenue in general by seeing the shape of yellow.**"
   ]
  },
  {
   "cell_type": "markdown",
   "metadata": {
    "colab_type": "text",
    "id": "JHk2sf0pNb6s"
   },
   "source": []
  },
  {
   "cell_type": "markdown",
   "metadata": {
    "colab_type": "text",
    "id": "G0lq4xhPxWEL"
   },
   "source": [
    "# ***Analysis on Top 500 companies that earn the most***"
   ]
  },
  {
   "cell_type": "markdown",
   "metadata": {
    "colab_type": "text",
    "id": "yHJeTOyHyHzt"
   },
   "source": [
    "**Next, lets figure out the mean net profit, mean vote average and most common genre of the top 500 companies that earn the highest revenue of all the companies. Then we can get a good overview of movies made by these high earning companies using their votes and genre. We also want to know if the coorperation of these companies could bring higher profits. We create a dataframe incluing those information we want first **"
   ]
  },
  {
   "cell_type": "code",
   "execution_count": 147,
   "metadata": {
    "colab": {
     "autoexec": {
      "startup": false,
      "wait_interval": 0
     }
    },
    "colab_type": "code",
    "collapsed": true,
    "id": "PNW_8FWRfJhI"
   },
   "outputs": [],
   "source": [
    "#Create lists\n",
    "company_genre_list = [0]*len(list_company)\n",
    "count_list = [0]*len(list_company)\n",
    "vote_list = [0]*len(list_company)\n",
    "profit_list = [0]*len(list_company)\n",
    "#Loop through spliting at certain values\n",
    "for i in range(len(df)): \n",
    "  genre = df.loc[i]['genres'].split('|')\n",
    "  company = df.loc[i]['production_companies'].split('|')\n",
    "  vote = df.loc[i]['vote_average']\n",
    "  profit = df.loc[i]['net_profit']\n",
    "  counter = 0\n",
    "  for j in list_company: \n",
    "    if j in company: \n",
    "      vote_list[counter] += vote\n",
    "      profit_list[counter] += profit \n",
    "      if company_genre_list[counter] == 0: \n",
    "        company_genre_list[counter] = [] \n",
    "      company_genre_list[counter] = company_genre_list[counter]+genre\n",
    "      count_list[counter] += 1\n",
    "    counter += 1\n"
   ]
  },
  {
   "cell_type": "code",
   "execution_count": 148,
   "metadata": {
    "colab": {
     "autoexec": {
      "startup": false,
      "wait_interval": 0
     }
    },
    "colab_type": "code",
    "collapsed": true,
    "id": "iLUTHeV4fq_G"
   },
   "outputs": [],
   "source": [
    "for i in range(len(count_list)):\n",
    "  vote_list[i] = vote_list[i]/count_list[i]\n",
    "  profit_list[i] = profit_list[i]/count_list[i]\n",
    "  company_genre_list[i] = max(set(company_genre_list[i]), key = company_genre_list[i].count)"
   ]
  },
  {
   "cell_type": "code",
   "execution_count": 149,
   "metadata": {
    "colab": {
     "autoexec": {
      "startup": false,
      "wait_interval": 0
     }
    },
    "colab_type": "code",
    "collapsed": true,
    "id": "cs2dan7RqiZH"
   },
   "outputs": [],
   "source": [
    "df_complex_company = pd.DataFrame(columns =['Company','mean_net_profit','mean_vote','most_common_genre'])"
   ]
  },
  {
   "cell_type": "code",
   "execution_count": 150,
   "metadata": {
    "colab": {
     "autoexec": {
      "startup": false,
      "wait_interval": 0
     }
    },
    "colab_type": "code",
    "collapsed": true,
    "id": "GXCz42Ycrbyp"
   },
   "outputs": [],
   "source": [
    "df_complex_company['mean_net_profit'] = profit_list\n",
    "df_complex_company['Company'] = list_company \n",
    "df_complex_company['mean_vote'] = vote_list\n",
    "df_complex_company['most_common_genre'] = company_genre_list"
   ]
  },
  {
   "cell_type": "code",
   "execution_count": 151,
   "metadata": {
    "colab": {
     "autoexec": {
      "startup": false,
      "wait_interval": 0
     },
     "base_uri": "https://localhost:8080/",
     "height": 198,
     "output_extras": [
      {}
     ]
    },
    "colab_type": "code",
    "executionInfo": {
     "elapsed": 444,
     "status": "ok",
     "timestamp": 1521570834963,
     "user": {
      "displayName": "Erik Jensen",
      "photoUrl": "https://lh3.googleusercontent.com/a/default-user=s128",
      "userId": "105068432724791430130"
     },
     "user_tz": 420
    },
    "id": "tpzv3IEuskZo",
    "outputId": "3cf8fd70-d62d-4773-9357-451377d963e3"
   },
   "outputs": [
    {
     "data": {
      "text/html": [
       "<div>\n",
       "<style>\n",
       "    .dataframe thead tr:only-child th {\n",
       "        text-align: right;\n",
       "    }\n",
       "\n",
       "    .dataframe thead th {\n",
       "        text-align: left;\n",
       "    }\n",
       "\n",
       "    .dataframe tbody tr th {\n",
       "        vertical-align: top;\n",
       "    }\n",
       "</style>\n",
       "<table border=\"1\" class=\"dataframe\">\n",
       "  <thead>\n",
       "    <tr style=\"text-align: right;\">\n",
       "      <th></th>\n",
       "      <th>Company</th>\n",
       "      <th>mean_net_profit</th>\n",
       "      <th>mean_vote</th>\n",
       "      <th>most_common_genre</th>\n",
       "    </tr>\n",
       "  </thead>\n",
       "  <tbody>\n",
       "    <tr>\n",
       "      <th>0</th>\n",
       "      <td>Colorado Office of Film, Television &amp; Media</td>\n",
       "      <td>1.316249e+09</td>\n",
       "      <td>7.30</td>\n",
       "      <td>Action</td>\n",
       "    </tr>\n",
       "    <tr>\n",
       "      <th>1</th>\n",
       "      <td>Québec Production Services Tax Credit</td>\n",
       "      <td>1.316249e+09</td>\n",
       "      <td>7.30</td>\n",
       "      <td>Action</td>\n",
       "    </tr>\n",
       "    <tr>\n",
       "      <th>2</th>\n",
       "      <td>Abu Dhabi Film Commission</td>\n",
       "      <td>1.316249e+09</td>\n",
       "      <td>7.30</td>\n",
       "      <td>Action</td>\n",
       "    </tr>\n",
       "    <tr>\n",
       "      <th>3</th>\n",
       "      <td>Prime Focus</td>\n",
       "      <td>1.125404e+09</td>\n",
       "      <td>7.30</td>\n",
       "      <td>Science Fiction</td>\n",
       "    </tr>\n",
       "    <tr>\n",
       "      <th>4</th>\n",
       "      <td>Lightstorm Entertainment</td>\n",
       "      <td>9.799764e+08</td>\n",
       "      <td>7.26</td>\n",
       "      <td>Action</td>\n",
       "    </tr>\n",
       "  </tbody>\n",
       "</table>\n",
       "</div>"
      ],
      "text/plain": [
       "                                       Company  mean_net_profit  mean_vote  \\\n",
       "0  Colorado Office of Film, Television & Media     1.316249e+09       7.30   \n",
       "1        Québec Production Services Tax Credit     1.316249e+09       7.30   \n",
       "2                    Abu Dhabi Film Commission     1.316249e+09       7.30   \n",
       "3                                  Prime Focus     1.125404e+09       7.30   \n",
       "4                     Lightstorm Entertainment     9.799764e+08       7.26   \n",
       "\n",
       "  most_common_genre  \n",
       "0            Action  \n",
       "1            Action  \n",
       "2            Action  \n",
       "3   Science Fiction  \n",
       "4            Action  "
      ]
     },
     "execution_count": 151,
     "metadata": {},
     "output_type": "execute_result"
    }
   ],
   "source": [
    "#Create dataframe that holds values\n",
    "df_complex_company = df_complex_company.sort_values('mean_net_profit', ascending=False)\n",
    "df_complex_company.reset_index(drop=True, inplace = True)\n",
    "df_complex_company.head()"
   ]
  },
  {
   "cell_type": "code",
   "execution_count": 152,
   "metadata": {
    "colab": {
     "autoexec": {
      "startup": false,
      "wait_interval": 0
     }
    },
    "colab_type": "code",
    "collapsed": true,
    "id": "Whb2iVw6xxO2"
   },
   "outputs": [],
   "source": [
    "# Let's see what genres of movies that top 500 most profitable production companies \n",
    "# produce\n",
    "common_genre_list = list(df_complex_company[:500]['most_common_genre'])\n",
    "unique_genre_list = set(common_genre_list)\n",
    "unique_genre_list = list(unique_genre_list)\n",
    "count = []\n",
    "for i in unique_genre_list: \n",
    "  size1 = common_genre_list.count(i)\n",
    "  count.append(size1)"
   ]
  },
  {
   "cell_type": "code",
   "execution_count": 153,
   "metadata": {
    "colab": {
     "autoexec": {
      "startup": false,
      "wait_interval": 0
     }
    },
    "colab_type": "code",
    "collapsed": true,
    "id": "UGTrTqnjir2F"
   },
   "outputs": [],
   "source": [
    "size = [round(x/500*100,2) for x in count]"
   ]
  },
  {
   "cell_type": "markdown",
   "metadata": {
    "colab_type": "text",
    "id": "1trc_gFlr_74"
   },
   "source": [
    "**Percentage of genres companies do among top 500 companies. Do they prefer one genere over another? We draw a pie chart to show this.**"
   ]
  },
  {
   "cell_type": "code",
   "execution_count": 154,
   "metadata": {
    "colab": {
     "autoexec": {
      "startup": false,
      "wait_interval": 0
     },
     "base_uri": "https://localhost:8080/",
     "height": 459,
     "output_extras": [
      {}
     ]
    },
    "colab_type": "code",
    "executionInfo": {
     "elapsed": 1356,
     "status": "ok",
     "timestamp": 1521570837530,
     "user": {
      "displayName": "Erik Jensen",
      "photoUrl": "https://lh3.googleusercontent.com/a/default-user=s128",
      "userId": "105068432724791430130"
     },
     "user_tz": 420
    },
    "id": "5uCcLNmTlzKZ",
    "outputId": "4b5461df-536b-4f4b-ec2e-a99daff0cf27"
   },
   "outputs": [
    {
     "data": {
      "image/png": "[encoded data removed]",
      "text/plain": [
       "<matplotlib.figure.Figure at 0x21384e1a0b8>"
      ]
     },
     "metadata": {},
     "output_type": "display_data"
    }
   ],
   "source": [
    "from matplotlib.gridspec import GridSpec\n",
    "the_grid = GridSpec(2, 2)\n",
    "plt.subplot(the_grid[0, 0], aspect=1)\n",
    "plt.pie(size, labels=unique_genre_list, autopct='%1.1f%%', shadow=True,\n",
    "radius = 5)\n",
    "plt.show()"
   ]
  },
  {
   "cell_type": "markdown",
   "metadata": {
    "colab_type": "text",
    "id": "3ih1UQSEygBp"
   },
   "source": [
    "**The graph above shows that these companies prefer adventure way a lot than others with 25.8% of the companies will do this genre. Then we want to see the variance of profit of those ranked companies. Which make the most or make the least.**"
   ]
  },
  {
   "cell_type": "code",
   "execution_count": 155,
   "metadata": {
    "colab": {
     "autoexec": {
      "startup": false,
      "wait_interval": 0
     }
    },
    "colab_type": "code",
    "collapsed": true,
    "id": "SJSOZ-q2We6A"
   },
   "outputs": [],
   "source": [
    "def convert_billion(value):\n",
    "  return '$%1.1fB' % (value * 1e-9)"
   ]
  },
  {
   "cell_type": "markdown",
   "metadata": {
    "colab_type": "text",
    "id": "uMQbZJZ3cKAW"
   },
   "source": [
    "**Testing variance of revenue amoung companies and graphing results below**"
   ]
  },
  {
   "cell_type": "code",
   "execution_count": 156,
   "metadata": {
    "colab": {
     "autoexec": {
      "startup": false,
      "wait_interval": 0
     },
     "base_uri": "https://localhost:8080/",
     "height": 294,
     "output_extras": [
      {}
     ]
    },
    "colab_type": "code",
    "executionInfo": {
     "elapsed": 6951,
     "status": "ok",
     "timestamp": 1521570845152,
     "user": {
      "displayName": "Erik Jensen",
      "photoUrl": "https://lh3.googleusercontent.com/a/default-user=s128",
      "userId": "105068432724791430130"
     },
     "user_tz": 420
    },
    "id": "XfoOH81ctwpw",
    "outputId": "0907b7ce-3724-41d8-abfb-5165dbb3fa39"
   },
   "outputs": [
    {
     "data": {
      "image/png": "[encoded data removed]",
      "text/plain": [
       "<matplotlib.figure.Figure at 0x21385f55da0>"
      ]
     },
     "metadata": {},
     "output_type": "display_data"
    }
   ],
   "source": [
    "# Next lets see the variance of revenue among these companies\n",
    "x1 = list(df_complex_company.index.get_values())\n",
    "y1 = list(df_complex_company['mean_net_profit'])\n",
    "plt.bar(x1, y1)\n",
    "plt.title('Change of revenue among ranked companies by profit gain')\n",
    "plt.xlabel('company rank')\n",
    "plt.ylabel('Profit per billion')\n",
    "plt.show()"
   ]
  },
  {
   "cell_type": "markdown",
   "metadata": {
    "colab_type": "text",
    "id": "eFEwOxpmcU_z"
   },
   "source": [
    "**Graphing the relation between mean_votes and profits for the top 500 companies. The reason why we pick the first 500 companies is that their average income is at least 0.2 billion, which is a good indicator of being successful*"
   ]
  },
  {
   "cell_type": "code",
   "execution_count": 157,
   "metadata": {
    "colab": {
     "autoexec": {
      "startup": false,
      "wait_interval": 0
     },
     "base_uri": "https://localhost:8080/",
     "height": 294,
     "output_extras": [
      {}
     ]
    },
    "colab_type": "code",
    "executionInfo": {
     "elapsed": 7909,
     "status": "ok",
     "timestamp": 1521570853244,
     "user": {
      "displayName": "Erik Jensen",
      "photoUrl": "https://lh3.googleusercontent.com/a/default-user=s128",
      "userId": "105068432724791430130"
     },
     "user_tz": 420
    },
    "id": "1AISJtJ7ucNF",
    "outputId": "87a56949-b72a-4d48-bf30-81a976b5d622"
   },
   "outputs": [
    {
     "data": {
      "image/png": "[encoded data removed]",
      "text/plain": [
       "<matplotlib.figure.Figure at 0x21384fc0ba8>"
      ]
     },
     "metadata": {},
     "output_type": "display_data"
    }
   ],
   "source": [
    "#Now what about the relations between the mean_votes and the profits along the \n",
    "#500 companies?\n",
    "x2 = list(df_complex_company['mean_vote'])\n",
    "y2 = list(df_complex_company['mean_net_profit'].apply(convert_billion))\n",
    "plt.bar(x2, y2)\n",
    "plt.title('mean profit in relationship to vote')\n",
    "plt.xlabel('vote')\n",
    "plt.ylabel('profit')\n",
    "plt.show()"
   ]
  },
  {
   "cell_type": "markdown",
   "metadata": {
    "colab_type": "text",
    "id": "IGJyQkzFH5KR"
   },
   "source": [
    "**The graph above shows the data is more skewed to the right. This shows the companies that produce high quailtiy movies will generally have higher profits. Then what are relationships between genre and revenue?**"
   ]
  },
  {
   "cell_type": "code",
   "execution_count": 158,
   "metadata": {
    "colab": {
     "autoexec": {
      "startup": false,
      "wait_interval": 0
     },
     "base_uri": "https://localhost:8080/",
     "height": 294,
     "output_extras": [
      {}
     ]
    },
    "colab_type": "code",
    "executionInfo": {
     "elapsed": 9721,
     "status": "ok",
     "timestamp": 1521570863347,
     "user": {
      "displayName": "Erik Jensen",
      "photoUrl": "https://lh3.googleusercontent.com/a/default-user=s128",
      "userId": "105068432724791430130"
     },
     "user_tz": 420
    },
    "id": "BFf0aE5_H44q",
    "outputId": "5fe3fa29-bfb6-4db6-a9f1-9de9d3ecc605"
   },
   "outputs": [
    {
     "data": {
      "image/png": "[encoded data removed]",
      "text/plain": [
       "<matplotlib.figure.Figure at 0x21387831710>"
      ]
     },
     "metadata": {},
     "output_type": "display_data"
    }
   ],
   "source": [
    "def convert_dit(string):\n",
    "  return string[:3]\n",
    "\n",
    "\n",
    "x3=list(df_complex_company['most_common_genre'].apply(convert_dit))\n",
    "y3=list(df_complex_company['mean_net_profit'].apply(convert_billion))\n",
    "plt.bar(x3, y3)\n",
    "plt.title('profit in relation to genre')\n",
    "plt.xlabel('genre')\n",
    "plt.ylabel('profit')\n",
    "plt.show()"
   ]
  },
  {
   "cell_type": "markdown",
   "metadata": {
    "colab_type": "text",
    "id": "rQpJz-cLc0Ml"
   },
   "source": [
    "**The graph above shows that certain genres produce higher profit margins then others for the top 500 companies. Genre of film is located on x-axis and the average profit margins are located on the y-axis.**"
   ]
  },
  {
   "cell_type": "code",
   "execution_count": 159,
   "metadata": {
    "colab": {
     "autoexec": {
      "startup": false,
      "wait_interval": 0
     },
     "base_uri": "https://localhost:8080/",
     "height": 294,
     "output_extras": [
      {}
     ]
    },
    "colab_type": "code",
    "executionInfo": {
     "elapsed": 9671,
     "status": "ok",
     "timestamp": 1521570873071,
     "user": {
      "displayName": "Erik Jensen",
      "photoUrl": "https://lh3.googleusercontent.com/a/default-user=s128",
      "userId": "105068432724791430130"
     },
     "user_tz": 420
    },
    "id": "HfQjo0qbO5Op",
    "outputId": "9eb449de-171e-453f-fafd-e8aec4076829"
   },
   "outputs": [
    {
     "data": {
      "image/png": "[encoded data removed]",
      "text/plain": [
       "<matplotlib.figure.Figure at 0x2138782ac50>"
      ]
     },
     "metadata": {},
     "output_type": "display_data"
    }
   ],
   "source": [
    "#So why do so many companies(20%) doing drama? Is it because they can get higher voting or drama has low cost but high return?\n",
    "#get vote in relationship to the genre of all\n",
    "x4=list(df_complex_company['most_common_genre'].apply(convert_dit))\n",
    "y4=list(df_complex_company['mean_vote'])\n",
    "plt.bar(x4, y4)\n",
    "plt.title('vote in relation to genre')\n",
    "plt.xlabel('genre')\n",
    "plt.ylabel('vote')\n",
    "plt.show()\n",
    "\n",
    "#Therefore, in general the drama has the highest rating among all the genres though it only has 0.4 Billion profit. To win the critics view and possbile high reputations\n",
    "#companies would like to do such genre\n",
    "\n",
    "\n"
   ]
  },
  {
   "cell_type": "markdown",
   "metadata": {
    "colab_type": "text",
    "id": "CgS4uViBd4A-"
   },
   "source": [
    "**The graph above shows that in general drama has the highest rating among all the genres although it only has 0.4 Billion profit. To win the critics view and possbile high reputations companies would like to do such genre.**"
   ]
  },
  {
   "cell_type": "markdown",
   "metadata": {
    "colab_type": "text",
    "id": "ULmY24xaeVDx"
   },
   "source": []
  },
  {
   "cell_type": "markdown",
   "metadata": {
    "colab_type": "text",
    "id": "RD6DoTSsPodj"
   },
   "source": [
    "**For now, we have the top 500 most profitable company. We might woder if there is some relationship between those companies like they might cooperate to make a movie.**"
   ]
  },
  {
   "cell_type": "code",
   "execution_count": 160,
   "metadata": {
    "colab": {
     "autoexec": {
      "startup": false,
      "wait_interval": 0
     },
     "base_uri": "https://localhost:8080/",
     "height": 216,
     "output_extras": [
      {},
      {}
     ]
    },
    "colab_type": "code",
    "executionInfo": {
     "elapsed": 2000,
     "status": "ok",
     "timestamp": 1521570875122,
     "user": {
      "displayName": "Erik Jensen",
      "photoUrl": "https://lh3.googleusercontent.com/a/default-user=s128",
      "userId": "105068432724791430130"
     },
     "user_tz": 420
    },
    "id": "SDTIjM1kLbDI",
    "outputId": "0f2dfea5-3256-4817-e912-ea56a87473f1"
   },
   "outputs": [
    {
     "name": "stdout",
     "output_type": "stream",
     "text": [
      "The shape of top_500_action is (64, 4)\n"
     ]
    },
    {
     "data": {
      "text/html": [
       "<div>\n",
       "<style>\n",
       "    .dataframe thead tr:only-child th {\n",
       "        text-align: right;\n",
       "    }\n",
       "\n",
       "    .dataframe thead th {\n",
       "        text-align: left;\n",
       "    }\n",
       "\n",
       "    .dataframe tbody tr th {\n",
       "        vertical-align: top;\n",
       "    }\n",
       "</style>\n",
       "<table border=\"1\" class=\"dataframe\">\n",
       "  <thead>\n",
       "    <tr style=\"text-align: right;\">\n",
       "      <th></th>\n",
       "      <th>Company</th>\n",
       "      <th>mean_net_profit</th>\n",
       "      <th>mean_vote</th>\n",
       "      <th>most_common_genre</th>\n",
       "    </tr>\n",
       "  </thead>\n",
       "  <tbody>\n",
       "    <tr>\n",
       "      <th>0</th>\n",
       "      <td>Colorado Office of Film, Television &amp; Media</td>\n",
       "      <td>1.316249e+09</td>\n",
       "      <td>7.30</td>\n",
       "      <td>Action</td>\n",
       "    </tr>\n",
       "    <tr>\n",
       "      <th>1</th>\n",
       "      <td>Québec Production Services Tax Credit</td>\n",
       "      <td>1.316249e+09</td>\n",
       "      <td>7.30</td>\n",
       "      <td>Action</td>\n",
       "    </tr>\n",
       "    <tr>\n",
       "      <th>2</th>\n",
       "      <td>Abu Dhabi Film Commission</td>\n",
       "      <td>1.316249e+09</td>\n",
       "      <td>7.30</td>\n",
       "      <td>Action</td>\n",
       "    </tr>\n",
       "    <tr>\n",
       "      <th>3</th>\n",
       "      <td>Lightstorm Entertainment</td>\n",
       "      <td>9.799764e+08</td>\n",
       "      <td>7.26</td>\n",
       "      <td>Action</td>\n",
       "    </tr>\n",
       "    <tr>\n",
       "      <th>4</th>\n",
       "      <td>Ian Bryce Productions</td>\n",
       "      <td>8.814051e+08</td>\n",
       "      <td>5.80</td>\n",
       "      <td>Action</td>\n",
       "    </tr>\n",
       "  </tbody>\n",
       "</table>\n",
       "</div>"
      ],
      "text/plain": [
       "                                       Company  mean_net_profit  mean_vote  \\\n",
       "0  Colorado Office of Film, Television & Media     1.316249e+09       7.30   \n",
       "1        Québec Production Services Tax Credit     1.316249e+09       7.30   \n",
       "2                    Abu Dhabi Film Commission     1.316249e+09       7.30   \n",
       "3                     Lightstorm Entertainment     9.799764e+08       7.26   \n",
       "4                        Ian Bryce Productions     8.814051e+08       5.80   \n",
       "\n",
       "  most_common_genre  \n",
       "0            Action  \n",
       "1            Action  \n",
       "2            Action  \n",
       "3            Action  \n",
       "4            Action  "
      ]
     },
     "execution_count": 160,
     "metadata": {},
     "output_type": "execute_result"
    }
   ],
   "source": [
    "# Now we need to find out why actions movies are the hottest genre among the most successful 500 \n",
    "# production companies. \n",
    "\n",
    "# To unvail the magic behind action movies, firstly let's get a list action movies made by the \n",
    "# top 500 companies.\n",
    "top_500 = df_complex_company[0:500]\n",
    "top_500_action = top_500[top_500['most_common_genre']==\"Action\"]\n",
    "top_500_action = top_500_action.reset_index(drop=True)\n",
    "print('The shape of top_500_action is',top_500_action.shape)\n",
    "top_500_action.head()"
   ]
  },
  {
   "cell_type": "code",
   "execution_count": 161,
   "metadata": {
    "colab": {
     "autoexec": {
      "startup": false,
      "wait_interval": 0
     },
     "base_uri": "https://localhost:8080/",
     "height": 461,
     "output_extras": [
      {},
      {}
     ]
    },
    "colab_type": "code",
    "executionInfo": {
     "elapsed": 3554,
     "status": "ok",
     "timestamp": 1521570878774,
     "user": {
      "displayName": "Erik Jensen",
      "photoUrl": "https://lh3.googleusercontent.com/a/default-user=s128",
      "userId": "105068432724791430130"
     },
     "user_tz": 420
    },
    "id": "AOo6qbcRRRWn",
    "outputId": "e1806a12-c246-4f3e-9c04-17703c5ff312"
   },
   "outputs": [
    {
     "name": "stdout",
     "output_type": "stream",
     "text": [
      "The shape of Action_top_company_movies is: (260, 14)\n"
     ]
    },
    {
     "data": {
      "text/html": [
       "<div>\n",
       "<style>\n",
       "    .dataframe thead tr:only-child th {\n",
       "        text-align: right;\n",
       "    }\n",
       "\n",
       "    .dataframe thead th {\n",
       "        text-align: left;\n",
       "    }\n",
       "\n",
       "    .dataframe tbody tr th {\n",
       "        vertical-align: top;\n",
       "    }\n",
       "</style>\n",
       "<table border=\"1\" class=\"dataframe\">\n",
       "  <thead>\n",
       "    <tr style=\"text-align: right;\">\n",
       "      <th></th>\n",
       "      <th>budget</th>\n",
       "      <th>genres</th>\n",
       "      <th>keywords</th>\n",
       "      <th>original_title</th>\n",
       "      <th>popularity</th>\n",
       "      <th>production_companies</th>\n",
       "      <th>production_countries</th>\n",
       "      <th>release_date</th>\n",
       "      <th>revenue</th>\n",
       "      <th>spoken_languages</th>\n",
       "      <th>title</th>\n",
       "      <th>vote_average</th>\n",
       "      <th>vote_count</th>\n",
       "      <th>net_profit</th>\n",
       "    </tr>\n",
       "  </thead>\n",
       "  <tbody>\n",
       "    <tr>\n",
       "      <th>0</th>\n",
       "      <td>237000000</td>\n",
       "      <td>Action|Adventure|Fantasy|Science Fiction</td>\n",
       "      <td>culture clash|future|space war|space colony|so...</td>\n",
       "      <td>Avatar</td>\n",
       "      <td>150.437577</td>\n",
       "      <td>Ingenious Film Partners|Twentieth Century Fox ...</td>\n",
       "      <td>United States of America|United Kingdom</td>\n",
       "      <td>2009-12-10</td>\n",
       "      <td>2787965087</td>\n",
       "      <td>English|Español</td>\n",
       "      <td>Avatar</td>\n",
       "      <td>7.2</td>\n",
       "      <td>11800</td>\n",
       "      <td>2550965087</td>\n",
       "    </tr>\n",
       "    <tr>\n",
       "      <th>1</th>\n",
       "      <td>300000000</td>\n",
       "      <td>Adventure|Fantasy|Action</td>\n",
       "      <td>ocean|drug abuse|exotic island|east india trad...</td>\n",
       "      <td>Pirates of the Caribbean: At World's End</td>\n",
       "      <td>139.082615</td>\n",
       "      <td>Walt Disney Pictures|Jerry Bruckheimer Films|S...</td>\n",
       "      <td>United States of America</td>\n",
       "      <td>2007-05-19</td>\n",
       "      <td>961000000</td>\n",
       "      <td>English</td>\n",
       "      <td>Pirates of the Caribbean: At World's End</td>\n",
       "      <td>6.9</td>\n",
       "      <td>4500</td>\n",
       "      <td>661000000</td>\n",
       "    </tr>\n",
       "    <tr>\n",
       "      <th>3</th>\n",
       "      <td>250000000</td>\n",
       "      <td>Action|Crime|Drama|Thriller</td>\n",
       "      <td>dc comics|crime fighter|terrorist|secret ident...</td>\n",
       "      <td>The Dark Knight Rises</td>\n",
       "      <td>112.312950</td>\n",
       "      <td>Legendary Pictures|Warner Bros.|DC Entertainme...</td>\n",
       "      <td>United States of America</td>\n",
       "      <td>2012-07-16</td>\n",
       "      <td>1084939099</td>\n",
       "      <td>English</td>\n",
       "      <td>The Dark Knight Rises</td>\n",
       "      <td>7.6</td>\n",
       "      <td>9106</td>\n",
       "      <td>834939099</td>\n",
       "    </tr>\n",
       "    <tr>\n",
       "      <th>515</th>\n",
       "      <td>69000000</td>\n",
       "      <td>Action|Fantasy|Horror</td>\n",
       "      <td>usa president|vampire|steam locomotive|america...</td>\n",
       "      <td>Abraham Lincoln: Vampire Hunter</td>\n",
       "      <td>38.634767</td>\n",
       "      <td>Twentieth Century Fox Film Corporation|Bazelev...</td>\n",
       "      <td>United States of America</td>\n",
       "      <td>2012-06-20</td>\n",
       "      <td>112265139</td>\n",
       "      <td>English</td>\n",
       "      <td>Abraham Lincoln: Vampire Hunter</td>\n",
       "      <td>5.5</td>\n",
       "      <td>1269</td>\n",
       "      <td>43265139</td>\n",
       "    </tr>\n",
       "    <tr>\n",
       "      <th>5</th>\n",
       "      <td>258000000</td>\n",
       "      <td>Fantasy|Action|Adventure</td>\n",
       "      <td>dual identity|amnesia|sandstorm|love of one's ...</td>\n",
       "      <td>Spider-Man 3</td>\n",
       "      <td>115.699814</td>\n",
       "      <td>Columbia Pictures|Laura Ziskin Productions|Mar...</td>\n",
       "      <td>United States of America</td>\n",
       "      <td>2007-05-01</td>\n",
       "      <td>890871626</td>\n",
       "      <td>English|Français</td>\n",
       "      <td>Spider-Man 3</td>\n",
       "      <td>5.9</td>\n",
       "      <td>3576</td>\n",
       "      <td>632871626</td>\n",
       "    </tr>\n",
       "  </tbody>\n",
       "</table>\n",
       "</div>"
      ],
      "text/plain": [
       "        budget                                    genres  \\\n",
       "0    237000000  Action|Adventure|Fantasy|Science Fiction   \n",
       "1    300000000                  Adventure|Fantasy|Action   \n",
       "3    250000000               Action|Crime|Drama|Thriller   \n",
       "515   69000000                     Action|Fantasy|Horror   \n",
       "5    258000000                  Fantasy|Action|Adventure   \n",
       "\n",
       "                                              keywords  \\\n",
       "0    culture clash|future|space war|space colony|so...   \n",
       "1    ocean|drug abuse|exotic island|east india trad...   \n",
       "3    dc comics|crime fighter|terrorist|secret ident...   \n",
       "515  usa president|vampire|steam locomotive|america...   \n",
       "5    dual identity|amnesia|sandstorm|love of one's ...   \n",
       "\n",
       "                               original_title  popularity  \\\n",
       "0                                      Avatar  150.437577   \n",
       "1    Pirates of the Caribbean: At World's End  139.082615   \n",
       "3                       The Dark Knight Rises  112.312950   \n",
       "515           Abraham Lincoln: Vampire Hunter   38.634767   \n",
       "5                                Spider-Man 3  115.699814   \n",
       "\n",
       "                                  production_companies  \\\n",
       "0    Ingenious Film Partners|Twentieth Century Fox ...   \n",
       "1    Walt Disney Pictures|Jerry Bruckheimer Films|S...   \n",
       "3    Legendary Pictures|Warner Bros.|DC Entertainme...   \n",
       "515  Twentieth Century Fox Film Corporation|Bazelev...   \n",
       "5    Columbia Pictures|Laura Ziskin Productions|Mar...   \n",
       "\n",
       "                        production_countries release_date     revenue  \\\n",
       "0    United States of America|United Kingdom   2009-12-10  2787965087   \n",
       "1                   United States of America   2007-05-19   961000000   \n",
       "3                   United States of America   2012-07-16  1084939099   \n",
       "515                 United States of America   2012-06-20   112265139   \n",
       "5                   United States of America   2007-05-01   890871626   \n",
       "\n",
       "     spoken_languages                                     title  vote_average  \\\n",
       "0     English|Español                                    Avatar           7.2   \n",
       "1             English  Pirates of the Caribbean: At World's End           6.9   \n",
       "3             English                     The Dark Knight Rises           7.6   \n",
       "515           English           Abraham Lincoln: Vampire Hunter           5.5   \n",
       "5    English|Français                              Spider-Man 3           5.9   \n",
       "\n",
       "     vote_count  net_profit  \n",
       "0         11800  2550965087  \n",
       "1          4500   661000000  \n",
       "3          9106   834939099  \n",
       "515        1269    43265139  \n",
       "5          3576   632871626  "
      ]
     },
     "execution_count": 161,
     "metadata": {},
     "output_type": "execute_result"
    }
   ],
   "source": [
    "top_action_company_list = top_500_action['Company']\n",
    "# Then we loop over our data frame and create an index list of row number of the movies \n",
    "# made by the top action companies\n",
    "top_action_movie_list = []\n",
    "for i in range(len(df)):\n",
    "  genre = df.loc[i]['genres'].split('|')\n",
    "  companies = df.loc[i]['production_companies'].split('|')\n",
    "  for j in top_action_company_list: \n",
    "    if j in companies and 'Action' in genre: \n",
    "      top_action_movie_list.append(i)\n",
    "# create another list figuring out how many top companies working on the same movie together\n",
    "coorp_list = []\n",
    "unique_action_movie = list(set(top_action_movie_list))\n",
    "for i in unique_action_movie: \n",
    "  size = top_action_movie_list.count(i)\n",
    "  coorp_list.append(size)\n",
    "Action_top_company_movies = df.iloc[unique_action_movie]\n",
    "#Action_top_company_movies = Action_top_company_movies.reset_index(drop=True)\n",
    "print('The shape of Action_top_company_movies is:',Action_top_company_movies.shape)\n",
    "Action_top_company_movies.head()\n"
   ]
  },
  {
   "cell_type": "code",
   "execution_count": 162,
   "metadata": {
    "colab": {
     "autoexec": {
      "startup": false,
      "wait_interval": 0
     },
     "base_uri": "https://localhost:8080/",
     "height": 276,
     "output_extras": [
      {}
     ]
    },
    "colab_type": "code",
    "executionInfo": {
     "elapsed": 2641,
     "status": "ok",
     "timestamp": 1521570881447,
     "user": {
      "displayName": "Erik Jensen",
      "photoUrl": "https://lh3.googleusercontent.com/a/default-user=s128",
      "userId": "105068432724791430130"
     },
     "user_tz": 420
    },
    "id": "CaA7bNlokWfb",
    "outputId": "955fc231-c56a-49a0-c5b2-54848a6675cb"
   },
   "outputs": [
    {
     "data": {
      "image/png": "[encoded data removed]",
      "text/plain": [
       "<matplotlib.figure.Figure at 0x21386f8c710>"
      ]
     },
     "metadata": {},
     "output_type": "display_data"
    }
   ],
   "source": [
    "# First of all, lets see if number of big action companies working together would increase \n",
    "# a movie's profit\n",
    "coorp_list_profit = list(Action_top_company_movies['net_profit'])\n",
    "\n",
    "plt.plot(coorp_list, coorp_list_profit, 'ro')\n",
    "plt.show()"
   ]
  },
  {
   "cell_type": "markdown",
   "metadata": {
    "colab_type": "text",
    "id": "kQS2PpuhFP3t"
   },
   "source": [
    "**This graph shows there is no significant relationship between numbers of companies cooperating together and the revenue they have. As shown in the graph the highest revenue earned is when 3 big companies cooperate rather than 8. **"
   ]
  },
  {
   "cell_type": "markdown",
   "metadata": {
    "colab_type": "text",
    "id": "eYDGSI-1EcfI"
   },
   "source": []
  },
  {
   "cell_type": "markdown",
   "metadata": {
    "colab_type": "text",
    "id": "l83jV_mcsZX-"
   },
   "source": [
    "**Conclusion: At the end of this section, we have found that experienced companies, that are good at making certain genres, do not have a major influence on increasing the profit of that movie. In other words, a company that has produced multiple Horror movies is not guaranteed to make a profitable Horror movie. Secondly, we have found that genre such as \"Animation\" and words such as 'War and power\" do impact a movie's profit as we can see from the graphs above. We have also found that among the best profitable companies, the average vote for the movies they make is within the range of 6.7 to 7.2. Thus we can assume that movies with average votes around 7 will have a better chance of gaining more profit. Lastly, we tested our hypothesis to see if a coorperation that was among the top 500 most profitable companies influenced future profit margins, but the result was negative. One reason to explain our hypothesis to be wrong could be, focusing on production companies as the major factors in the influence of a movie's revenue is too narrow. In fact, a movie's revenue may highly rely on its choice of genres and contents.**"
   ]
  },
  {
   "cell_type": "markdown",
   "metadata": {
    "colab_type": "text",
    "id": "XyAV3PLHB7jj"
   },
   "source": [
    "# **Looking at Genre and Profit Margins**"
   ]
  },
  {
   "cell_type": "code",
   "execution_count": 163,
   "metadata": {
    "colab": {
     "autoexec": {
      "startup": false,
      "wait_interval": 0
     }
    },
    "colab_type": "code",
    "collapsed": true,
    "id": "IeuPDb0_DolZ"
   },
   "outputs": [],
   "source": [
    "#df_credits = pd.read_csv(\"tmdb_5000_credits.csv\")\n",
    "df_movies =  pd.read_csv('tmdb_5000_movies.csv')\n",
    "df_movies[\"genres\"] = df_movies[\"genres\"].apply(json.loads)"
   ]
  },
  {
   "cell_type": "code",
   "execution_count": 164,
   "metadata": {
    "colab": {
     "autoexec": {
      "startup": false,
      "wait_interval": 0
     }
    },
    "colab_type": "code",
    "collapsed": true,
    "id": "wr4zm4XgG9MG"
   },
   "outputs": [],
   "source": [
    "df_movies.rename( columns = {'vote_average':'voting'}, inplace = True)"
   ]
  },
  {
   "cell_type": "markdown",
   "metadata": {
    "colab_type": "text",
    "id": "GpPdXyJ3AXZs"
   },
   "source": [
    "**Data cleaning**\n",
    "\n",
    "In this part we use the same tmdb_5000_movies.csv but this time we keep the row which has profit>0 "
   ]
  },
  {
   "cell_type": "code",
   "execution_count": 165,
   "metadata": {
    "colab": {
     "autoexec": {
      "startup": false,
      "wait_interval": 0
     }
    },
    "colab_type": "code",
    "collapsed": true,
    "id": "5N26vXBxG_-w"
   },
   "outputs": [],
   "source": [
    "# discard rows where voting revenue or budget is smaller than 0 \n",
    "# it doesn't make sense for those data to be smaller than zero\n",
    "df_movies.dropna(axis=0, how='any', subset=[\"voting\",\"revenue\"], inplace=True)\n",
    "df_movies = df_movies[df_movies.revenue > 0]\n",
    "df_movies = df_movies[df_movies.voting > 0]\n",
    "df_movies = df_movies[df_movies.budget >0]\n",
    "df_movies[\"profit\"] = np.round(df_movies[\"revenue\"] - df_movies[\"budget\"])\n"
   ]
  },
  {
   "cell_type": "code",
   "execution_count": 166,
   "metadata": {
    "colab": {
     "autoexec": {
      "startup": false,
      "wait_interval": 0
     }
    },
    "colab_type": "code",
    "collapsed": true,
    "id": "BiuaI51lHZNr"
   },
   "outputs": [],
   "source": [
    "#extracting all the generes \n",
    "all_genres = []\n",
    "for items in df_movies[\"genres\"]:\n",
    "    for names in items:\n",
    "        all_genres.append(names[\"name\"])\n",
    "all_genres = list(set(all_genres))"
   ]
  },
  {
   "cell_type": "code",
   "execution_count": 167,
   "metadata": {
    "colab": {
     "autoexec": {
      "startup": false,
      "wait_interval": 0
     }
    },
    "colab_type": "code",
    "collapsed": true,
    "id": "Hrk_vYsGIBMz"
   },
   "outputs": [],
   "source": [
    "\n",
    "#creating new columns for all genres\n",
    "for genre in all_genres:\n",
    "    canvas = np.zeros(len(df_movies[\"genres\"]))\n",
    "    for i in np.arange(len(df_movies[\"genres\"])):\n",
    "        for names in df_movies[\"genres\"].iloc[i]:\n",
    "            if(names[\"name\"]==genre):\n",
    "                canvas[i] = 1\n",
    "                break;\n",
    "    df_movies[genre] = canvas"
   ]
  },
  {
   "cell_type": "code",
   "execution_count": 168,
   "metadata": {
    "colab": {
     "autoexec": {
      "startup": false,
      "wait_interval": 0
     },
     "base_uri": "https://localhost:8080/",
     "height": 278,
     "output_extras": [
      {}
     ]
    },
    "colab_type": "code",
    "executionInfo": {
     "elapsed": 845,
     "status": "ok",
     "timestamp": 1521570887948,
     "user": {
      "displayName": "Erik Jensen",
      "photoUrl": "https://lh3.googleusercontent.com/a/default-user=s128",
      "userId": "105068432724791430130"
     },
     "user_tz": 420
    },
    "id": "pqFbPoeAIl-s",
    "outputId": "835315fd-751e-4a56-f34a-741fb09891a6"
   },
   "outputs": [
    {
     "data": {
      "image/png": "[encoded data removed]",
      "text/plain": [
       "<matplotlib.figure.Figure at 0x2139ae03a58>"
      ]
     },
     "metadata": {},
     "output_type": "display_data"
    }
   ],
   "source": [
    "df_profit = df_movies[\"profit\"]\n",
    "df_profit.hist()\n",
    "plt.title(\"number of movies with certain profit\")\n",
    "plt.xlabel(\"profit\")\n",
    "plt.ylabel(\"number of movies\")\n",
    "plt.show()"
   ]
  },
  {
   "cell_type": "markdown",
   "metadata": {
    "colab_type": "text",
    "id": "Pj-GcQGYAXZx"
   },
   "source": [
    "**As we can see from the above graph, the distribution of profit skew right. Thus,to make it approximate normally distributed, we take its log.**"
   ]
  },
  {
   "cell_type": "code",
   "execution_count": 169,
   "metadata": {
    "colab": {
     "autoexec": {
      "startup": false,
      "wait_interval": 0
     },
     "base_uri": "https://localhost:8080/",
     "height": 265,
     "output_extras": [
      {}
     ]
    },
    "colab_type": "code",
    "executionInfo": {
     "elapsed": 1963,
     "status": "ok",
     "timestamp": 1521570890020,
     "user": {
      "displayName": "Erik Jensen",
      "photoUrl": "https://lh3.googleusercontent.com/a/default-user=s128",
      "userId": "105068432724791430130"
     },
     "user_tz": 420
    },
    "id": "RAxaJFhnIDDF",
    "outputId": "28dbdea0-25c0-4f71-c7bf-4a92b983f993"
   },
   "outputs": [
    {
     "data": {
      "image/png": "[encoded data removed]",
      "text/plain": [
       "<matplotlib.figure.Figure at 0x21397fd6cc0>"
      ]
     },
     "metadata": {},
     "output_type": "display_data"
    }
   ],
   "source": [
    "# As we can see, the distribution of profit skew right.\n",
    "# Thus, to make it approximate normally distributed, we take its log\n",
    "df_movies['log_profit'] = np.log(df_movies.revenue)\n",
    "std = np.std(df_movies[\"log_profit\"])\n",
    "mean = np.mean(df_movies[\"log_profit\"])\n",
    "df_movies = df_movies[(df_movies.log_profit > mean-2*std) | (df_movies.log_profit < mean+2*std)]\n",
    "\n",
    "df_log_profit = df_movies[\"log_profit\"]\n",
    "\n",
    "df_log_profit.hist()\n",
    "plt.title(\"number of movies with certain profit after taking log\")\n",
    "plt.xlabel(\"profit after log\")\n",
    "plt.ylabel(\"number of movies\")\n",
    "plt.show()"
   ]
  },
  {
   "cell_type": "code",
   "execution_count": 170,
   "metadata": {
    "colab": {
     "autoexec": {
      "startup": false,
      "wait_interval": 0
     },
     "base_uri": "https://localhost:8080/",
     "height": 265,
     "output_extras": [
      {}
     ]
    },
    "colab_type": "code",
    "executionInfo": {
     "elapsed": 443,
     "status": "ok",
     "timestamp": 1521570890570,
     "user": {
      "displayName": "Erik Jensen",
      "photoUrl": "https://lh3.googleusercontent.com/a/default-user=s128",
      "userId": "105068432724791430130"
     },
     "user_tz": 420
    },
    "id": "sio_hxpJIOid",
    "outputId": "cead7f65-6a93-4357-969f-3eeac95d82ec"
   },
   "outputs": [
    {
     "data": {
      "image/png": "[encoded data removed]",
      "text/plain": [
       "<matplotlib.figure.Figure at 0x2139ae03f28>"
      ]
     },
     "metadata": {},
     "output_type": "display_data"
    }
   ],
   "source": [
    "df_movies[\"voting\"].hist()\n",
    "plt.title(\"number of movies with certain vote\")\n",
    "plt.xlabel(\"vote\")\n",
    "plt.ylabel(\"number of movies\")\n",
    "plt.show()"
   ]
  },
  {
   "cell_type": "markdown",
   "metadata": {
    "colab_type": "text",
    "id": "FrZXdCVQAXZz"
   },
   "source": [
    "**From above graph we can see that voting has approximate noraml distribution.**"
   ]
  },
  {
   "cell_type": "code",
   "execution_count": 171,
   "metadata": {
    "colab": {
     "autoexec": {
      "startup": false,
      "wait_interval": 0
     },
     "base_uri": "https://localhost:8080/",
     "height": 35,
     "output_extras": [
      {}
     ]
    },
    "colab_type": "code",
    "executionInfo": {
     "elapsed": 323,
     "status": "ok",
     "timestamp": 1521570891011,
     "user": {
      "displayName": "Erik Jensen",
      "photoUrl": "https://lh3.googleusercontent.com/a/default-user=s128",
      "userId": "105068432724791430130"
     },
     "user_tz": 420
    },
    "id": "81rn3bwOMN0N",
    "outputId": "9e23878a-d7c0-4b26-9cfe-5f8a7bacf5bb"
   },
   "outputs": [
    {
     "data": {
      "text/plain": [
       "0.1309674285007543"
      ]
     },
     "execution_count": 171,
     "metadata": {},
     "output_type": "execute_result"
    }
   ],
   "source": [
    "# Based on the result from below code, we can see that there is no strong \n",
    "# correlation between voting and log profit \n",
    "df_movies['voting'].corr(df_movies['log_profit'])"
   ]
  },
  {
   "cell_type": "markdown",
   "metadata": {
    "colab_type": "text",
    "id": "kTbvtYoQAXZ0"
   },
   "source": [
    "**We can also verify this result by directly looking at the graph.**"
   ]
  },
  {
   "cell_type": "code",
   "execution_count": 172,
   "metadata": {
    "colab": {
     "autoexec": {
      "startup": false,
      "wait_interval": 0
     },
     "base_uri": "https://localhost:8080/",
     "height": 281,
     "output_extras": [
      {}
     ]
    },
    "colab_type": "code",
    "executionInfo": {
     "elapsed": 3401,
     "status": "ok",
     "timestamp": 1521570894524,
     "user": {
      "displayName": "Erik Jensen",
      "photoUrl": "https://lh3.googleusercontent.com/a/default-user=s128",
      "userId": "105068432724791430130"
     },
     "user_tz": 420
    },
    "id": "pTWPwJt6Nedr",
    "outputId": "272abae2-a986-4a9a-9a68-c40cacb9ae27"
   },
   "outputs": [
    {
     "data": {
      "image/png": "[encoded data removed]",
      "text/plain": [
       "<matplotlib.figure.Figure at 0x21397e95668>"
      ]
     },
     "metadata": {},
     "output_type": "display_data"
    }
   ],
   "source": [
    "\n",
    "x = df_movies['voting'].values\n",
    "y = df_movies['log_profit'].values\n",
    "plt.scatter(x, y)\n",
    "plt.title('profit in relationship of voting')\n",
    "plt.xlabel('voting')\n",
    "plt.ylabel('log_profit')\n",
    "plt.show()"
   ]
  },
  {
   "cell_type": "markdown",
   "metadata": {
    "colab_type": "text",
    "id": "X-b0X3JBAXZ2"
   },
   "source": [
    "From the graph above, there is huge clustering in the middle of the plot. Thus the correlation between vote and log_profit is weak."
   ]
  },
  {
   "cell_type": "markdown",
   "metadata": {
    "colab_type": "text",
    "id": "cX0-fL7iAXZ2"
   },
   "source": [
    "**Now, we attempt to discover potential relationship between genres and profit. We firstly decided the length of our combinations by ploting the distribution of the number of genres.**"
   ]
  },
  {
   "cell_type": "code",
   "execution_count": 173,
   "metadata": {
    "colab": {
     "autoexec": {
      "startup": false,
      "wait_interval": 0
     },
     "base_uri": "https://localhost:8080/",
     "height": 265,
     "output_extras": [
      {}
     ]
    },
    "colab_type": "code",
    "executionInfo": {
     "elapsed": 8286,
     "status": "ok",
     "timestamp": 1521570902957,
     "user": {
      "displayName": "Erik Jensen",
      "photoUrl": "https://lh3.googleusercontent.com/a/default-user=s128",
      "userId": "105068432724791430130"
     },
     "user_tz": 420
    },
    "id": "9gJJJT-XOBdc",
    "outputId": "c6c15485-d09a-4aad-b9cf-0baa5db0c272"
   },
   "outputs": [
    {
     "data": {
      "image/png": "[encoded data removed]",
      "text/plain": [
       "<matplotlib.figure.Figure at 0x213876f27f0>"
      ]
     },
     "metadata": {},
     "output_type": "display_data"
    }
   ],
   "source": [
    "start_index = list(df_movies.columns).index(\"Horror\")\n",
    "end_index = list(df_movies.columns).index(\"log_profit\")\n",
    "num_of_genres = np.zeros(len(df_movies))\n",
    "for i in np.arange(start_index, end_index):\n",
    "  num_of_genres = num_of_genres + df_movies.iloc[:,i]\n",
    "plt.hist(num_of_genres, align=\"left\", bins=np.arange(0,8))\n",
    "plt.title(\"distribution of number of genres\")\n",
    "plt.xlabel(\"number of genres a movie has\")\n",
    "plt.ylabel(\"number of movies\")\n",
    "plt.show()"
   ]
  },
  {
   "cell_type": "markdown",
   "metadata": {
    "colab_type": "text",
    "id": "WVfMZeYNAXZ3"
   },
   "source": [
    "From the graph above, we can conclude that most of the movies have only single or at most 2 genres combined. "
   ]
  },
  {
   "cell_type": "code",
   "execution_count": 174,
   "metadata": {
    "colab": {
     "autoexec": {
      "startup": false,
      "wait_interval": 0
     },
     "base_uri": "https://localhost:8080/",
     "height": 616,
     "output_extras": [
      {}
     ]
    },
    "colab_type": "code",
    "executionInfo": {
     "elapsed": 11322,
     "status": "ok",
     "timestamp": 1521570914421,
     "user": {
      "displayName": "Erik Jensen",
      "photoUrl": "https://lh3.googleusercontent.com/a/default-user=s128",
      "userId": "105068432724791430130"
     },
     "user_tz": 420
    },
    "id": "wpAc91EDPGcx",
    "outputId": "bcada9e5-32fc-42a7-f409-c42a3d321a7e"
   },
   "outputs": [
    {
     "data": {
      "image/png": "[encoded data removed]",
      "text/plain": [
       "<matplotlib.figure.Figure at 0x21398665898>"
      ]
     },
     "metadata": {},
     "output_type": "display_data"
    }
   ],
   "source": [
    "revenue_by_genre = []\n",
    "for genre in all_genres:\n",
    "    revenue_by_genre.append(df_movies.loc[df_movies[genre]==1][\"profit\"].mean(axis=0))\n",
    "y_pos = np.arange(len(all_genres))\n",
    "plt.figure(figsize=(20,10))\n",
    "plt.bar(y_pos, revenue_by_genre,align = 'center',alpha =0.75)\n",
    "plt.xticks(y_pos, all_genres)\n",
    "plt.title('mean revenue from each genre')\n",
    "plt.xlabel('Genres')\n",
    "plt.ylabel('Revenue Mean')\n",
    "plt.show()"
   ]
  },
  {
   "cell_type": "markdown",
   "metadata": {
    "colab_type": "text",
    "id": "A3d6YXoTXAZ8"
   },
   "source": [
    "**As we can see from above graph; Animation, Adventure and Fantasy are the top three most profitable genres. However, it's also very possible that they are profitable because these three genres often appear in the same movie. Now, we try to find out the most profitable combination of genres.**"
   ]
  },
  {
   "cell_type": "markdown",
   "metadata": {
    "colab_type": "text",
    "id": "lOTjDkfuAXZ7"
   },
   "source": [
    "**Now we will check to see what combinations of genre yield the highest profit margins.**"
   ]
  },
  {
   "cell_type": "code",
   "execution_count": 175,
   "metadata": {
    "colab": {
     "autoexec": {
      "startup": false,
      "wait_interval": 0
     }
    },
    "colab_type": "code",
    "collapsed": true,
    "id": "BOk-5LLmYSts"
   },
   "outputs": [],
   "source": [
    "# this function is used to return the desired genre combination \n",
    "# all_genres is a list of string which we used to genreate combination from \n",
    "# input_genres is a list we want to search \n",
    "# this fucntion returns all combinations contain input_genres\n",
    "def desired_combination(all_genres, input_genres, r):\n",
    "  # r is used to define the length of our combination\n",
    "  canvas = list(itertools.combinations(all_genres,r))\n",
    "  desired_combinations=[]\n",
    "  for combination in canvas: \n",
    "    flag = True\n",
    "    for genre in input_genres:\n",
    "      #~ is wrong\n",
    "      if not (genre in combination):\n",
    "        flag = False\n",
    "    if(flag):\n",
    "      desired_combinations.append(combination)\n",
    "  return desired_combinations"
   ]
  },
  {
   "cell_type": "code",
   "execution_count": 176,
   "metadata": {
    "colab": {
     "autoexec": {
      "startup": false,
      "wait_interval": 0
     }
    },
    "colab_type": "code",
    "collapsed": true,
    "id": "I1ffUvylYTdX"
   },
   "outputs": [],
   "source": [
    "# this function is used to return a list contains top r most-profitable combinations\n",
    "# input_list is the combination we search through\n",
    "# r is used to defined how many we want most-profitable combinations we want\n",
    "def optimal_combination(input_list, r):\n",
    "  combination_values = []\n",
    "  for combination in input_list:\n",
    "    df = df_movies\n",
    "    for genre in combination:\n",
    "      df = df.loc[df[genre]==1]\n",
    "    combination_values.append(np.mean(df[\"profit\"]))\n",
    "  combination_values = pd.Series(combination_values).fillna(-1).tolist()\n",
    "  max_index = (np.argsort(combination_values))[len(combination_values)-r : len(combination_values) ]\n",
    "  return np.array(input_list)[max_index], np.array(combination_values)[max_index]"
   ]
  },
  {
   "cell_type": "code",
   "execution_count": 177,
   "metadata": {
    "colab": {
     "autoexec": {
      "startup": false,
      "wait_interval": 0
     }
    },
    "colab_type": "code",
    "collapsed": true,
    "id": "IaG0vISUYV2R"
   },
   "outputs": [],
   "source": [
    "# this method returns r most-profitable examples with genres in input_genres\n",
    "def example_movies(input_genres,r):\n",
    "  df = df_movies\n",
    "  for genre in input_genres:\n",
    "    df = df.loc[df[genre]==1]\n",
    "  df.sort_values(by=[\"profit\"],ascending =False, inplace = True)\n",
    "  index = np.arange(r)\n",
    "  if len(df[\"title\"]) < r:\n",
    "    index = np.arange(len(df[\"title\"]))\n",
    "  return np.array(df[\"title\"])[index]"
   ]
  },
  {
   "cell_type": "code",
   "execution_count": 178,
   "metadata": {
    "cellView": "code",
    "colab": {
     "autoexec": {
      "startup": false,
      "wait_interval": 0
     },
     "base_uri": "https://localhost:8080/",
     "height": 618,
     "output_extras": [
      {}
     ]
    },
    "colab_type": "code",
    "executionInfo": {
     "elapsed": 10606,
     "status": "ok",
     "timestamp": 1521570933233,
     "user": {
      "displayName": "Erik Jensen",
      "photoUrl": "https://lh3.googleusercontent.com/a/default-user=s128",
      "userId": "105068432724791430130"
     },
     "user_tz": 420
    },
    "id": "7EV4Pix4X8cu",
    "outputId": "cd2818ff-1eda-4915-b910-350e6ab6c31e"
   },
   "outputs": [
    {
     "data": {
      "text/html": [
       "<div>\n",
       "<style>\n",
       "    .dataframe thead tr:only-child th {\n",
       "        text-align: right;\n",
       "    }\n",
       "\n",
       "    .dataframe thead th {\n",
       "        text-align: left;\n",
       "    }\n",
       "\n",
       "    .dataframe tbody tr th {\n",
       "        vertical-align: top;\n",
       "    }\n",
       "</style>\n",
       "<table border=\"1\" class=\"dataframe\">\n",
       "  <thead>\n",
       "    <tr style=\"text-align: right;\">\n",
       "      <th></th>\n",
       "      <th>best_combination</th>\n",
       "      <th>mean_profit</th>\n",
       "      <th>example_movies</th>\n",
       "    </tr>\n",
       "  </thead>\n",
       "  <tbody>\n",
       "    <tr>\n",
       "      <th>Music</th>\n",
       "      <td>Music, Action, Thriller</td>\n",
       "      <td>386006740.0</td>\n",
       "      <td>The Bodyguard</td>\n",
       "    </tr>\n",
       "    <tr>\n",
       "      <th>Western</th>\n",
       "      <td>Western, Drama, Adventure</td>\n",
       "      <td>153964689.857</td>\n",
       "      <td>Dances with Wolves, The Revenant, True Grit</td>\n",
       "    </tr>\n",
       "    <tr>\n",
       "      <th>History</th>\n",
       "      <td>Western, History, Crime</td>\n",
       "      <td>96308889.0</td>\n",
       "      <td>Butch Cassidy and the Sundance Kid</td>\n",
       "    </tr>\n",
       "    <tr>\n",
       "      <th>Drama</th>\n",
       "      <td>Drama, Family, Animation</td>\n",
       "      <td>255137657.556</td>\n",
       "      <td>The Lion King, Inside Out, Pocahontas</td>\n",
       "    </tr>\n",
       "    <tr>\n",
       "      <th>War</th>\n",
       "      <td>War, Horror, Action</td>\n",
       "      <td>145529201.0</td>\n",
       "      <td>Dracula Untold</td>\n",
       "    </tr>\n",
       "    <tr>\n",
       "      <th>Foreign</th>\n",
       "      <td>Foreign, Romance, Comedy</td>\n",
       "      <td>0.0</td>\n",
       "      <td>Bran Nue Dae</td>\n",
       "    </tr>\n",
       "    <tr>\n",
       "      <th>Adventure</th>\n",
       "      <td>Adventure, Fantasy, Crime</td>\n",
       "      <td>570000000.0</td>\n",
       "      <td>Suicide Squad</td>\n",
       "    </tr>\n",
       "    <tr>\n",
       "      <th>Family</th>\n",
       "      <td>Family, Fantasy, Mystery</td>\n",
       "      <td>440251502.0</td>\n",
       "      <td>Harry Potter and the Order of the Phoenix, The...</td>\n",
       "    </tr>\n",
       "    <tr>\n",
       "      <th>Animation</th>\n",
       "      <td>Animation, Fantasy, Comedy</td>\n",
       "      <td>280734082.607</td>\n",
       "      <td>Shrek 2, Shrek the Third, Shrek Forever After</td>\n",
       "    </tr>\n",
       "    <tr>\n",
       "      <th>Romance</th>\n",
       "      <td>Romance, Fantasy, Crime</td>\n",
       "      <td>328583407.0</td>\n",
       "      <td>The Mask</td>\n",
       "    </tr>\n",
       "    <tr>\n",
       "      <th>Horror</th>\n",
       "      <td>War, Horror, Fantasy</td>\n",
       "      <td>145529201.0</td>\n",
       "      <td>Dracula Untold</td>\n",
       "    </tr>\n",
       "    <tr>\n",
       "      <th>Science Fiction</th>\n",
       "      <td>Science Fiction, Fantasy, Crime</td>\n",
       "      <td>570000000.0</td>\n",
       "      <td>Suicide Squad</td>\n",
       "    </tr>\n",
       "    <tr>\n",
       "      <th>Fantasy</th>\n",
       "      <td>Science Fiction, Fantasy, Crime</td>\n",
       "      <td>570000000.0</td>\n",
       "      <td>Suicide Squad</td>\n",
       "    </tr>\n",
       "    <tr>\n",
       "      <th>Mystery</th>\n",
       "      <td>Family, Fantasy, Mystery</td>\n",
       "      <td>440251502.0</td>\n",
       "      <td>Harry Potter and the Order of the Phoenix, The...</td>\n",
       "    </tr>\n",
       "    <tr>\n",
       "      <th>Documentary</th>\n",
       "      <td>Documentary, Comedy, Action</td>\n",
       "      <td>79501491.5</td>\n",
       "      <td>Jackass 3D, Jackass Number Two</td>\n",
       "    </tr>\n",
       "    <tr>\n",
       "      <th>Comedy</th>\n",
       "      <td>Animation, Fantasy, Comedy</td>\n",
       "      <td>280734082.607</td>\n",
       "      <td>Shrek 2, Shrek the Third, Shrek Forever After</td>\n",
       "    </tr>\n",
       "    <tr>\n",
       "      <th>Crime</th>\n",
       "      <td>Adventure, Fantasy, Crime</td>\n",
       "      <td>570000000.0</td>\n",
       "      <td>Suicide Squad</td>\n",
       "    </tr>\n",
       "    <tr>\n",
       "      <th>Action</th>\n",
       "      <td>Music, Action, Thriller</td>\n",
       "      <td>386006740.0</td>\n",
       "      <td>The Bodyguard</td>\n",
       "    </tr>\n",
       "    <tr>\n",
       "      <th>Thriller</th>\n",
       "      <td>Music, Action, Thriller</td>\n",
       "      <td>386006740.0</td>\n",
       "      <td>The Bodyguard</td>\n",
       "    </tr>\n",
       "  </tbody>\n",
       "</table>\n",
       "</div>"
      ],
      "text/plain": [
       "                                best_combination    mean_profit  \\\n",
       "Music                    Music, Action, Thriller    386006740.0   \n",
       "Western                Western, Drama, Adventure  153964689.857   \n",
       "History                  Western, History, Crime     96308889.0   \n",
       "Drama                   Drama, Family, Animation  255137657.556   \n",
       "War                          War, Horror, Action    145529201.0   \n",
       "Foreign                 Foreign, Romance, Comedy            0.0   \n",
       "Adventure              Adventure, Fantasy, Crime    570000000.0   \n",
       "Family                  Family, Fantasy, Mystery    440251502.0   \n",
       "Animation             Animation, Fantasy, Comedy  280734082.607   \n",
       "Romance                  Romance, Fantasy, Crime    328583407.0   \n",
       "Horror                      War, Horror, Fantasy    145529201.0   \n",
       "Science Fiction  Science Fiction, Fantasy, Crime    570000000.0   \n",
       "Fantasy          Science Fiction, Fantasy, Crime    570000000.0   \n",
       "Mystery                 Family, Fantasy, Mystery    440251502.0   \n",
       "Documentary          Documentary, Comedy, Action     79501491.5   \n",
       "Comedy                Animation, Fantasy, Comedy  280734082.607   \n",
       "Crime                  Adventure, Fantasy, Crime    570000000.0   \n",
       "Action                   Music, Action, Thriller    386006740.0   \n",
       "Thriller                 Music, Action, Thriller    386006740.0   \n",
       "\n",
       "                                                    example_movies  \n",
       "Music                                                The Bodyguard  \n",
       "Western                Dances with Wolves, The Revenant, True Grit  \n",
       "History                         Butch Cassidy and the Sundance Kid  \n",
       "Drama                        The Lion King, Inside Out, Pocahontas  \n",
       "War                                                 Dracula Untold  \n",
       "Foreign                                               Bran Nue Dae  \n",
       "Adventure                                            Suicide Squad  \n",
       "Family           Harry Potter and the Order of the Phoenix, The...  \n",
       "Animation            Shrek 2, Shrek the Third, Shrek Forever After  \n",
       "Romance                                                   The Mask  \n",
       "Horror                                              Dracula Untold  \n",
       "Science Fiction                                      Suicide Squad  \n",
       "Fantasy                                              Suicide Squad  \n",
       "Mystery          Harry Potter and the Order of the Phoenix, The...  \n",
       "Documentary                         Jackass 3D, Jackass Number Two  \n",
       "Comedy               Shrek 2, Shrek the Third, Shrek Forever After  \n",
       "Crime                                                Suicide Squad  \n",
       "Action                                               The Bodyguard  \n",
       "Thriller                                             The Bodyguard  "
      ]
     },
     "execution_count": 178,
     "metadata": {},
     "output_type": "execute_result"
    }
   ],
   "source": [
    "#@title Default title text\n",
    "best_combination = {}\n",
    "for genre in all_genres:\n",
    "  all_comb = desired_combination(all_genres, [genre], 3)\n",
    "  best_comb = optimal_combination(all_comb, 1)\n",
    "  best_combination[genre] = [ ', '.join(best_comb[0][0]), ''.join(str(e) for e in best_comb[1]), ', '.join(example_movies(best_comb[0][0], 3))]\n",
    "df_genre = pd.DataFrame.from_dict(best_combination, orient='index')\n",
    "df_genre.columns = ['best_combination', 'mean_profit', 'example_movies']\n",
    "df_genre"
   ]
  },
  {
   "cell_type": "markdown",
   "metadata": {
    "colab_type": "text",
    "id": "uqR3TSRfYBw-"
   },
   "source": [
    "**Conclusion:\n",
    "From the chart above, we can search the most profitable combination of all genres. There are couple rearks worth further exploring. Since the average of foreign is losing money. It's reasonable to have the \"most_profit\" as zero. In addtion, we can also find out that there are strong assosiation between genres and profit. The most profitable comibination is often the most profitable combination of the other two genres in this comibination. For example, Animation ties with comedy. Fantsy, Adventure, Crime also have strong ties with each other. This trend is possibly caused by the fact that most adventure content is related to fantasy. Some of the famous examples include Harry Porter and Maze Runner. Animation recevied the highest profit might casued by the widely used of 3D technology during production. The beauty of the graphic attracts all ages which expanded the source of revenue. The variety of audience also expanded the revenue of Animation. Unlike war crime or horror, animations are sutiable for all ages and all groups of viewers. They can be families or adults. This trait also increase the profit of Animation.**"
   ]
  },
  {
   "cell_type": "markdown",
   "metadata": {
    "colab_type": "text",
    "id": "KLeKK4QuC4i5"
   },
   "source": [
    "# ***Part 3: Checking if Actors have an influence on ratings and profit***"
   ]
  },
  {
   "cell_type": "markdown",
   "metadata": {
    "colab_type": "text",
    "id": "uiGPs8LZDJXp"
   },
   "source": [
    "**Introduction: In the next part we will test to see the influence of actors and the overall movie ratings. It is our goal to show that actors have \n",
    "an influence on the overall movie ratings. By doing this we will look at every movies actors and assign them an average rating, as long as they\n",
    "have appeared in more then 5 movies. We will then take this rating and compare to the movie rating. If there is a substantial difference, we will \n",
    "then take actors that scored higher and see if their score can influence the actors overall score. If their score makes a huge difference then we \n",
    "can conclude that if the movie had enough budget to support the higher rated actor, then their movie would have scored better. Thus, this prediction\n",
    "would lead to the movie having higher revenue.**"
   ]
  },
  {
   "cell_type": "markdown",
   "metadata": {
    "colab_type": "text",
    "id": "67Ens7OnJZg9"
   },
   "source": [
    "**Data gathering and cleaning**\n",
    "\n",
    "Here we will read both dataframes to get information on things related movies as well as all the casts information."
   ]
  },
  {
   "cell_type": "code",
   "execution_count": 179,
   "metadata": {
    "colab": {
     "autoexec": {
      "startup": false,
      "wait_interval": 0
     },
     "base_uri": "https://localhost:8080/",
     "height": 702,
     "output_extras": [
      {}
     ]
    },
    "colab_type": "code",
    "executionInfo": {
     "elapsed": 3596,
     "status": "ok",
     "timestamp": 1521571026587,
     "user": {
      "displayName": "Erik Jensen",
      "photoUrl": "https://lh3.googleusercontent.com/a/default-user=s128",
      "userId": "105068432724791430130"
     },
     "user_tz": 420
    },
    "id": "p-gaBGkJG9i7",
    "outputId": "e776f6da-cb7e-45e4-fff7-b8a9f6f4b80d"
   },
   "outputs": [],
   "source": [
    "# print all variables, not just last one\n",
    "#InteractiveShell.ast_node_interactivity = \"all\"\n",
    "# read movie stats and cast into dataframes\n",
    "df_tmdb_cast = pd.read_csv('tmdb_5000_credits.csv')\n",
    "df_tmdb_movie = pd.read_csv('tmdb_5000_movies.csv')\n",
    "\n",
    "df_tmdb_cast['cast'] = df_tmdb_cast['cast'].apply(json.loads)\n",
    "df_tmdb_cast['crew'] = df_tmdb_cast['crew'].apply(json.loads)\n",
    "df_tmdb_movie['genres'] = df_tmdb_movie['genres'].apply(json.loads)\n",
    "df_tmdb_movie['keywords'] = df_tmdb_movie['keywords'].apply(json.loads)\n",
    "df_tmdb_movie['production_companies'] = df_tmdb_movie['production_companies'].apply(json.loads)\n",
    "df_tmdb_movie['production_countries'] = df_tmdb_movie['production_countries'].apply(json.loads)\n",
    "df_tmdb_movie['spoken_languages'] = df_tmdb_movie['spoken_languages'].apply(json.loads)\n"
   ]
  },
  {
   "cell_type": "markdown",
   "metadata": {
    "colab_type": "text",
    "id": "7gtvFTCnJuUM"
   },
   "source": [
    "**Here we will start cleaning unnecessary columns from the original dataset and add in a profit column.**"
   ]
  },
  {
   "cell_type": "code",
   "execution_count": 180,
   "metadata": {
    "colab": {
     "autoexec": {
      "startup": false,
      "wait_interval": 0
     },
     "base_uri": "https://localhost:8080/",
     "height": 126,
     "output_extras": [
      {}
     ]
    },
    "colab_type": "code",
    "executionInfo": {
     "elapsed": 543,
     "status": "ok",
     "timestamp": 1521571027854,
     "user": {
      "displayName": "Erik Jensen",
      "photoUrl": "https://lh3.googleusercontent.com/a/default-user=s128",
      "userId": "105068432724791430130"
     },
     "user_tz": 420
    },
    "id": "w7z5x_4iHA8G",
    "outputId": "9938ed20-52b2-4e8f-c6de-85c9bfca6380"
   },
   "outputs": [],
   "source": [
    "# function that calculates the gross income of a film\n",
    "def profit(budget,revenue):\n",
    "    profit = (revenue-budget)\n",
    "    return profit\n",
    "\n",
    "# calculate profit for each film and add it to the movie dataset as a new column\n",
    "profit_list = profit(df_tmdb_movie['budget'],df_tmdb_movie['revenue'])\n",
    "df_tmdb_movie['profit']=profit_list\n",
    "\n",
    "# movie stats cleaning: drop unnecessary fields and invalid rows\n",
    "df_tmdb_movie.drop(['homepage','keywords','original_language','original_title','overview','popularity','production_companies','production_countries','release_date','runtime','spoken_languages','status','tagline','vote_count'], axis=1, inplace=True)\n",
    "df_tmdb_movie = df_tmdb_movie[df_tmdb_movie.revenue != 0]\n",
    "df_tmdb_movie = df_tmdb_movie[df_tmdb_movie.budget != 0]\n"
   ]
  },
  {
   "cell_type": "markdown",
   "metadata": {
    "colab_type": "text",
    "id": "bJqkNCoDMYWE"
   },
   "source": [
    "**Here we Merge the two dataframes into one.**"
   ]
  },
  {
   "cell_type": "code",
   "execution_count": 181,
   "metadata": {
    "colab": {
     "autoexec": {
      "startup": false,
      "wait_interval": 0
     },
     "base_uri": "https://localhost:8080/",
     "height": 228,
     "output_extras": [
      {}
     ]
    },
    "colab_type": "code",
    "executionInfo": {
     "elapsed": 4559,
     "status": "ok",
     "timestamp": 1521571032626,
     "user": {
      "displayName": "Erik Jensen",
      "photoUrl": "https://lh3.googleusercontent.com/a/default-user=s128",
      "userId": "105068432724791430130"
     },
     "user_tz": 420
    },
    "id": "4qcHuieaHH8z",
    "outputId": "bf2b5de3-9081-44e6-bbdf-048f7c233aae"
   },
   "outputs": [],
   "source": [
    "# cast data cleaning\n",
    "df_tmdb_cast.drop(['crew', 'movie_id'], axis = 1, inplace = True)\n",
    "\n",
    "# merge movie stats and cast on titles to create a comprehensive dataset\n",
    "movie_info = pd.merge(df_tmdb_cast, df_tmdb_movie, on='title')\n",
    "movie_info.set_index(['title'], inplace = True)\n"
   ]
  },
  {
   "cell_type": "markdown",
   "metadata": {
    "colab_type": "text",
    "id": "A7p7vE8hMiMJ"
   },
   "source": [
    "**Here we apply a method to genre to make it easy to manipulate.**"
   ]
  },
  {
   "cell_type": "code",
   "execution_count": 182,
   "metadata": {
    "colab": {
     "autoexec": {
      "startup": false,
      "wait_interval": 0
     },
     "base_uri": "https://localhost:8080/",
     "height": 228,
     "output_extras": [
      {}
     ]
    },
    "colab_type": "code",
    "executionInfo": {
     "elapsed": 3264,
     "status": "ok",
     "timestamp": 1521571036702,
     "user": {
      "displayName": "Erik Jensen",
      "photoUrl": "https://lh3.googleusercontent.com/a/default-user=s128",
      "userId": "105068432724791430130"
     },
     "user_tz": 420
    },
    "id": "gJQ5zsKoHK1-",
    "outputId": "48b603c3-8322-44b1-b38c-861360ca2261"
   },
   "outputs": [
    {
     "data": {
      "text/html": [
       "<div>\n",
       "<style>\n",
       "    .dataframe thead tr:only-child th {\n",
       "        text-align: right;\n",
       "    }\n",
       "\n",
       "    .dataframe thead th {\n",
       "        text-align: left;\n",
       "    }\n",
       "\n",
       "    .dataframe tbody tr th {\n",
       "        vertical-align: top;\n",
       "    }\n",
       "</style>\n",
       "<table border=\"1\" class=\"dataframe\">\n",
       "  <thead>\n",
       "    <tr style=\"text-align: right;\">\n",
       "      <th></th>\n",
       "      <th>cast</th>\n",
       "      <th>budget</th>\n",
       "      <th>genres</th>\n",
       "      <th>id</th>\n",
       "      <th>revenue</th>\n",
       "      <th>vote_average</th>\n",
       "      <th>profit</th>\n",
       "    </tr>\n",
       "    <tr>\n",
       "      <th>title</th>\n",
       "      <th></th>\n",
       "      <th></th>\n",
       "      <th></th>\n",
       "      <th></th>\n",
       "      <th></th>\n",
       "      <th></th>\n",
       "      <th></th>\n",
       "    </tr>\n",
       "  </thead>\n",
       "  <tbody>\n",
       "    <tr>\n",
       "      <th>Avatar</th>\n",
       "      <td>[{'cast_id': 242, 'character': 'Jake Sully', '...</td>\n",
       "      <td>237000000</td>\n",
       "      <td>[Action, Adventure, Fantasy, Science, Fiction]</td>\n",
       "      <td>19995</td>\n",
       "      <td>2787965087</td>\n",
       "      <td>7.2</td>\n",
       "      <td>2550965087</td>\n",
       "    </tr>\n",
       "    <tr>\n",
       "      <th>Pirates of the Caribbean: At World's End</th>\n",
       "      <td>[{'cast_id': 4, 'character': 'Captain Jack Spa...</td>\n",
       "      <td>300000000</td>\n",
       "      <td>[Adventure, Fantasy, Action]</td>\n",
       "      <td>285</td>\n",
       "      <td>961000000</td>\n",
       "      <td>6.9</td>\n",
       "      <td>661000000</td>\n",
       "    </tr>\n",
       "    <tr>\n",
       "      <th>Spectre</th>\n",
       "      <td>[{'cast_id': 1, 'character': 'James Bond', 'cr...</td>\n",
       "      <td>245000000</td>\n",
       "      <td>[Action, Adventure, Crime]</td>\n",
       "      <td>206647</td>\n",
       "      <td>880674609</td>\n",
       "      <td>6.3</td>\n",
       "      <td>635674609</td>\n",
       "    </tr>\n",
       "    <tr>\n",
       "      <th>The Dark Knight Rises</th>\n",
       "      <td>[{'cast_id': 2, 'character': 'Bruce Wayne / Ba...</td>\n",
       "      <td>250000000</td>\n",
       "      <td>[Action, Crime, Drama, Thriller]</td>\n",
       "      <td>49026</td>\n",
       "      <td>1084939099</td>\n",
       "      <td>7.6</td>\n",
       "      <td>834939099</td>\n",
       "    </tr>\n",
       "    <tr>\n",
       "      <th>John Carter</th>\n",
       "      <td>[{'cast_id': 5, 'character': 'John Carter', 'c...</td>\n",
       "      <td>260000000</td>\n",
       "      <td>[Action, Adventure, Science, Fiction]</td>\n",
       "      <td>49529</td>\n",
       "      <td>284139100</td>\n",
       "      <td>6.1</td>\n",
       "      <td>24139100</td>\n",
       "    </tr>\n",
       "  </tbody>\n",
       "</table>\n",
       "</div>"
      ],
      "text/plain": [
       "                                                                                       cast  \\\n",
       "title                                                                                         \n",
       "Avatar                                    [{'cast_id': 242, 'character': 'Jake Sully', '...   \n",
       "Pirates of the Caribbean: At World's End  [{'cast_id': 4, 'character': 'Captain Jack Spa...   \n",
       "Spectre                                   [{'cast_id': 1, 'character': 'James Bond', 'cr...   \n",
       "The Dark Knight Rises                     [{'cast_id': 2, 'character': 'Bruce Wayne / Ba...   \n",
       "John Carter                               [{'cast_id': 5, 'character': 'John Carter', 'c...   \n",
       "\n",
       "                                             budget  \\\n",
       "title                                                 \n",
       "Avatar                                    237000000   \n",
       "Pirates of the Caribbean: At World's End  300000000   \n",
       "Spectre                                   245000000   \n",
       "The Dark Knight Rises                     250000000   \n",
       "John Carter                               260000000   \n",
       "\n",
       "                                                                                  genres  \\\n",
       "title                                                                                      \n",
       "Avatar                                    [Action, Adventure, Fantasy, Science, Fiction]   \n",
       "Pirates of the Caribbean: At World's End                    [Adventure, Fantasy, Action]   \n",
       "Spectre                                                       [Action, Adventure, Crime]   \n",
       "The Dark Knight Rises                                   [Action, Crime, Drama, Thriller]   \n",
       "John Carter                                        [Action, Adventure, Science, Fiction]   \n",
       "\n",
       "                                              id     revenue  vote_average  \\\n",
       "title                                                                        \n",
       "Avatar                                     19995  2787965087           7.2   \n",
       "Pirates of the Caribbean: At World's End     285   961000000           6.9   \n",
       "Spectre                                   206647   880674609           6.3   \n",
       "The Dark Knight Rises                      49026  1084939099           7.6   \n",
       "John Carter                                49529   284139100           6.1   \n",
       "\n",
       "                                              profit  \n",
       "title                                                 \n",
       "Avatar                                    2550965087  \n",
       "Pirates of the Caribbean: At World's End   661000000  \n",
       "Spectre                                    635674609  \n",
       "The Dark Knight Rises                      834939099  \n",
       "John Carter                                 24139100  "
      ]
     },
     "execution_count": 182,
     "metadata": {},
     "output_type": "execute_result"
    }
   ],
   "source": [
    "# new standardize_genre: easy to read and works like a charm\n",
    "def standardize_genre(keywords): \n",
    "  str = ' '.join([x['name'] for x in keywords])\n",
    "  return str.split()\n",
    "\n",
    "movie_info['genres'] = movie_info['genres'].apply(standardize_genre)\n",
    "\n",
    "movie_info.head()"
   ]
  },
  {
   "cell_type": "markdown",
   "metadata": {
    "colab_type": "text",
    "id": "LzBpITK1Mr8X"
   },
   "source": [
    "**Here we will create a new dataframe to hold actor traits and to drop duplicate occurances.**"
   ]
  },
  {
   "cell_type": "code",
   "execution_count": 183,
   "metadata": {
    "colab": {
     "autoexec": {
      "startup": false,
      "wait_interval": 0
     },
     "base_uri": "https://localhost:8080/",
     "height": 35,
     "output_extras": [
      {}
     ]
    },
    "colab_type": "code",
    "executionInfo": {
     "elapsed": 771,
     "status": "ok",
     "timestamp": 1521571039641,
     "user": {
      "displayName": "Erik Jensen",
      "photoUrl": "https://lh3.googleusercontent.com/a/default-user=s128",
      "userId": "105068432724791430130"
     },
     "user_tz": 420
    },
    "id": "PkVDJxEXHN2r",
    "outputId": "46fa94da-6d8c-4c14-92a9-2dfad30f4226"
   },
   "outputs": [
    {
     "data": {
      "text/plain": [
       "45133"
      ]
     },
     "execution_count": 183,
     "metadata": {},
     "output_type": "execute_result"
    }
   ],
   "source": [
    "# group cast info by actors. each field of an actor starts with a newline\n",
    "\n",
    "# extract all actor names of each film\n",
    "actor_names_for_every_film = []\n",
    "actor_list = set()\n",
    "\n",
    "# loop through all films in dataset\n",
    "for film_name in movie_info.index: \n",
    "    current_film_actors_info = movie_info['cast'].loc[film_name]\n",
    "    current_film_actor_names = []\n",
    "    \n",
    "    # loop through all single actors in a film\n",
    "    for current_actor in current_film_actors_info:\n",
    "        try:\n",
    "            name = current_actor['name']\n",
    "        except:\n",
    "            continue\n",
    "        current_film_actor_names.append(name)\n",
    "        actor_list.add(name)\n",
    "    actor_names_for_every_film.append(current_film_actor_names)\n",
    "    \n",
    "# add this new list to datafarme as a new field\n",
    "movie_info['actors'] = actor_names_for_every_film\n",
    "\n",
    "# drop cast column and reorder columns\n",
    "movie_info = movie_info[['id', 'genres', 'budget', 'revenue', 'profit', 'actors','vote_average']]\n",
    "\n",
    "# value checking\n",
    "# originally with duplication, the len was 84006 and Depp appeared several times\n",
    "movie_info.head()\n",
    "movie_info['actors']['Avatar'].head()\n",
    "len(actor_list)"
   ]
  },
  {
   "cell_type": "markdown",
   "metadata": {
    "colab_type": "text",
    "id": "Xg0PCL-rM8AH"
   },
   "source": [
    "**Here we will create a new column in our data frame for actors and their work.**"
   ]
  },
  {
   "cell_type": "code",
   "execution_count": 184,
   "metadata": {
    "colab": {
     "autoexec": {
      "startup": false,
      "wait_interval": 0
     }
    },
    "colab_type": "code",
    "collapsed": true,
    "id": "pSy5SL7XHSet"
   },
   "outputs": [],
   "source": [
    "# creat a new dataframe for actors\n",
    "actors = pd.DataFrame()\n",
    "actors['name'] = list(actor_list)\n",
    "actors.set_index(['name'], inplace = True)\n",
    "\n",
    "# value checking\n",
    "actors.head()\n",
    "len(actors)\n",
    "actors[actors.index == 'Johnny Depp']\n",
    "\n",
    "# initialize a new column in actor df to keep the actor's work\n",
    "actors[\"work(id)\"] = [[] for i in range(len(actors.index))]\n",
    "\n",
    "# figure out each actor appears in which films\n",
    "# loop through all films\n",
    "for film in movie_info.index:\n",
    "  idd = movie_info['id'].loc[film]\n",
    "  actor_list =  movie_info['actors'].loc[film]\n",
    "  try: \n",
    "    rate = int(movie_info['avg_vote'].loc[film])\n",
    "  except: \n",
    "    rate = 0\n",
    "    \n",
    "  # add the film's id to all its actors' work colum and update film count\n",
    "  for actor in actor_list:\n",
    "    actors[\"work(id)\"].loc[actor].append(idd)"
   ]
  },
  {
   "cell_type": "markdown",
   "metadata": {
    "colab_type": "text",
    "id": "K4UF112INRLB"
   },
   "source": [
    "**Here we will add up the amount of movies that each actor appeared in and eliminate\n",
    "actors that only appeared in less then 5 movies.**"
   ]
  },
  {
   "cell_type": "code",
   "execution_count": 185,
   "metadata": {
    "colab": {
     "autoexec": {
      "startup": false,
      "wait_interval": 0
     },
     "base_uri": "https://localhost:8080/",
     "height": 228,
     "output_extras": [
      {}
     ]
    },
    "colab_type": "code",
    "executionInfo": {
     "elapsed": 7638,
     "status": "ok",
     "timestamp": 1521571051936,
     "user": {
      "displayName": "Erik Jensen",
      "photoUrl": "https://lh3.googleusercontent.com/a/default-user=s128",
      "userId": "105068432724791430130"
     },
     "user_tz": 420
    },
    "id": "1VAt5cvZHcEv",
    "outputId": "7aa5f11e-2759-4496-ff1f-ac539dc61669"
   },
   "outputs": [
    {
     "data": {
      "text/html": [
       "<div>\n",
       "<style>\n",
       "    .dataframe thead tr:only-child th {\n",
       "        text-align: right;\n",
       "    }\n",
       "\n",
       "    .dataframe thead th {\n",
       "        text-align: left;\n",
       "    }\n",
       "\n",
       "    .dataframe tbody tr th {\n",
       "        vertical-align: top;\n",
       "    }\n",
       "</style>\n",
       "<table border=\"1\" class=\"dataframe\">\n",
       "  <thead>\n",
       "    <tr style=\"text-align: right;\">\n",
       "      <th></th>\n",
       "      <th>work(id)</th>\n",
       "      <th>movies#</th>\n",
       "    </tr>\n",
       "    <tr>\n",
       "      <th>name</th>\n",
       "      <th></th>\n",
       "      <th></th>\n",
       "    </tr>\n",
       "  </thead>\n",
       "  <tbody>\n",
       "    <tr>\n",
       "      <th>Samuel L. Jackson</th>\n",
       "      <td>[99861, 24428, 258489, 1726, 10138, 100402, 10...</td>\n",
       "      <td>53</td>\n",
       "    </tr>\n",
       "    <tr>\n",
       "      <th>Robert De Niro</th>\n",
       "      <td>[39451, 9992, 17711, 10555, 2270, 49021, 11371...</td>\n",
       "      <td>48</td>\n",
       "    </tr>\n",
       "    <tr>\n",
       "      <th>Matt Damon</th>\n",
       "      <td>[157336, 65759, 2503, 324668, 68724, 163, 2862...</td>\n",
       "      <td>45</td>\n",
       "    </tr>\n",
       "    <tr>\n",
       "      <th>Morgan Freeman</th>\n",
       "      <td>[49026, 155, 2698, 272, 74, 75612, 157353, 271...</td>\n",
       "      <td>45</td>\n",
       "    </tr>\n",
       "    <tr>\n",
       "      <th>Bruce Willis</th>\n",
       "      <td>[95, 72559, 9471, 163, 1571, 76163, 18, 47964,...</td>\n",
       "      <td>44</td>\n",
       "    </tr>\n",
       "  </tbody>\n",
       "</table>\n",
       "</div>"
      ],
      "text/plain": [
       "                                                            work(id)  movies#\n",
       "name                                                                         \n",
       "Samuel L. Jackson  [99861, 24428, 258489, 1726, 10138, 100402, 10...       53\n",
       "Robert De Niro     [39451, 9992, 17711, 10555, 2270, 49021, 11371...       48\n",
       "Matt Damon         [157336, 65759, 2503, 324668, 68724, 163, 2862...       45\n",
       "Morgan Freeman     [49026, 155, 2698, 272, 74, 75612, 157353, 271...       45\n",
       "Bruce Willis       [95, 72559, 9471, 163, 1571, 76163, 18, 47964,...       44"
      ]
     },
     "execution_count": 185,
     "metadata": {},
     "output_type": "execute_result"
    }
   ],
   "source": [
    "# count movies shot\n",
    "movies_shot_number = []\n",
    "for actor in actors.index: \n",
    "  number = len(actors.loc[actor][0])\n",
    "  movies_shot_number.append(number)\n",
    "actors[\"movies#\"] = movies_shot_number\n",
    "\n",
    "# sort actors regarding how many films they acted and keep the top 10%\n",
    "actors.sort_values(by = ['movies#'], ascending = False, inplace = True)\n",
    "actors.head()"
   ]
  },
  {
   "cell_type": "markdown",
   "metadata": {
    "colab_type": "text",
    "id": "6dKKuy-Str2c"
   },
   "source": [
    "**Below we will find the average vote for each actor for every movie they starred in that is mention in the dataframe.**"
   ]
  },
  {
   "cell_type": "code",
   "execution_count": 186,
   "metadata": {
    "colab": {
     "autoexec": {
      "startup": false,
      "wait_interval": 0
     },
     "base_uri": "https://localhost:8080/",
     "height": 228,
     "output_extras": [
      {}
     ]
    },
    "colab_type": "code",
    "executionInfo": {
     "elapsed": 18653,
     "status": "ok",
     "timestamp": 1521571070602,
     "user": {
      "displayName": "Erik Jensen",
      "photoUrl": "https://lh3.googleusercontent.com/a/default-user=s128",
      "userId": "105068432724791430130"
     },
     "user_tz": 420
    },
    "id": "akl2mqmNnqT-",
    "outputId": "b494f858-e220-40a9-9c81-94380df1258b"
   },
   "outputs": [
    {
     "data": {
      "text/html": [
       "<div>\n",
       "<style>\n",
       "    .dataframe thead tr:only-child th {\n",
       "        text-align: right;\n",
       "    }\n",
       "\n",
       "    .dataframe thead th {\n",
       "        text-align: left;\n",
       "    }\n",
       "\n",
       "    .dataframe tbody tr th {\n",
       "        vertical-align: top;\n",
       "    }\n",
       "</style>\n",
       "<table border=\"1\" class=\"dataframe\">\n",
       "  <thead>\n",
       "    <tr style=\"text-align: right;\">\n",
       "      <th></th>\n",
       "      <th>work(id)</th>\n",
       "      <th>movies#</th>\n",
       "      <th>avg_vote</th>\n",
       "    </tr>\n",
       "    <tr>\n",
       "      <th>name</th>\n",
       "      <th></th>\n",
       "      <th></th>\n",
       "      <th></th>\n",
       "    </tr>\n",
       "  </thead>\n",
       "  <tbody>\n",
       "    <tr>\n",
       "      <th>Samuel L. Jackson</th>\n",
       "      <td>[99861, 24428, 258489, 1726, 10138, 100402, 10...</td>\n",
       "      <td>53</td>\n",
       "      <td>6.626415</td>\n",
       "    </tr>\n",
       "    <tr>\n",
       "      <th>Robert De Niro</th>\n",
       "      <td>[39451, 9992, 17711, 10555, 2270, 49021, 11371...</td>\n",
       "      <td>48</td>\n",
       "      <td>6.454167</td>\n",
       "    </tr>\n",
       "    <tr>\n",
       "      <th>Matt Damon</th>\n",
       "      <td>[157336, 65759, 2503, 324668, 68724, 163, 2862...</td>\n",
       "      <td>45</td>\n",
       "      <td>6.673333</td>\n",
       "    </tr>\n",
       "    <tr>\n",
       "      <th>Morgan Freeman</th>\n",
       "      <td>[49026, 155, 2698, 272, 74, 75612, 157353, 271...</td>\n",
       "      <td>45</td>\n",
       "      <td>6.591111</td>\n",
       "    </tr>\n",
       "    <tr>\n",
       "      <th>Bruce Willis</th>\n",
       "      <td>[95, 72559, 9471, 163, 1571, 76163, 18, 47964,...</td>\n",
       "      <td>44</td>\n",
       "      <td>6.302273</td>\n",
       "    </tr>\n",
       "  </tbody>\n",
       "</table>\n",
       "</div>"
      ],
      "text/plain": [
       "                                                            work(id)  movies#  \\\n",
       "name                                                                            \n",
       "Samuel L. Jackson  [99861, 24428, 258489, 1726, 10138, 100402, 10...       53   \n",
       "Robert De Niro     [39451, 9992, 17711, 10555, 2270, 49021, 11371...       48   \n",
       "Matt Damon         [157336, 65759, 2503, 324668, 68724, 163, 2862...       45   \n",
       "Morgan Freeman     [49026, 155, 2698, 272, 74, 75612, 157353, 271...       45   \n",
       "Bruce Willis       [95, 72559, 9471, 163, 1571, 76163, 18, 47964,...       44   \n",
       "\n",
       "                   avg_vote  \n",
       "name                         \n",
       "Samuel L. Jackson  6.626415  \n",
       "Robert De Niro     6.454167  \n",
       "Matt Damon         6.673333  \n",
       "Morgan Freeman     6.591111  \n",
       "Bruce Willis       6.302273  "
      ]
     },
     "execution_count": 186,
     "metadata": {},
     "output_type": "execute_result"
    }
   ],
   "source": [
    "for i in range(6): \n",
    "  actors = actors[actors['movies#'] != i ] \n",
    "# Vote average\n",
    "rate_list = [0 for i in range(len(actors))]\n",
    "actor_index = 0 \n",
    "while actor_index < len(actors): \n",
    "  movie_list = actors['work(id)'][actor_index]\n",
    "  for i in movie_list: \n",
    "    rate = movie_info.loc[movie_info['id']== i]['vote_average'][0]\n",
    "    rate_list[actor_index] += rate\n",
    "  rate_list[actor_index] = rate_list[actor_index]/actors['movies#'][actor_index]\n",
    "  actor_index += 1\n",
    "actors['avg_vote'] = rate_list\n",
    "\n",
    "# value checking\n",
    "actors.head()"
   ]
  },
  {
   "cell_type": "markdown",
   "metadata": {
    "colab_type": "text",
    "id": "i99YwsBit8l7"
   },
   "source": [
    "**Now we check to see what is the average profit each actor contributed to its movie. We base this on the average profit of each movie they starred in.**"
   ]
  },
  {
   "cell_type": "code",
   "execution_count": 187,
   "metadata": {
    "colab": {
     "autoexec": {
      "startup": false,
      "wait_interval": 0
     },
     "base_uri": "https://localhost:8080/",
     "height": 228,
     "output_extras": [
      {}
     ]
    },
    "colab_type": "code",
    "executionInfo": {
     "elapsed": 18381,
     "status": "ok",
     "timestamp": 1521571088992,
     "user": {
      "displayName": "Erik Jensen",
      "photoUrl": "https://lh3.googleusercontent.com/a/default-user=s128",
      "userId": "105068432724791430130"
     },
     "user_tz": 420
    },
    "id": "rMjCQ53-nz8D",
    "outputId": "36a816e6-3478-40f2-bc92-8bf9664c3738"
   },
   "outputs": [
    {
     "data": {
      "text/html": [
       "<div>\n",
       "<style>\n",
       "    .dataframe thead tr:only-child th {\n",
       "        text-align: right;\n",
       "    }\n",
       "\n",
       "    .dataframe thead th {\n",
       "        text-align: left;\n",
       "    }\n",
       "\n",
       "    .dataframe tbody tr th {\n",
       "        vertical-align: top;\n",
       "    }\n",
       "</style>\n",
       "<table border=\"1\" class=\"dataframe\">\n",
       "  <thead>\n",
       "    <tr style=\"text-align: right;\">\n",
       "      <th></th>\n",
       "      <th>work(id)</th>\n",
       "      <th>movies#</th>\n",
       "      <th>avg_vote</th>\n",
       "      <th>avg_profit</th>\n",
       "    </tr>\n",
       "    <tr>\n",
       "      <th>name</th>\n",
       "      <th></th>\n",
       "      <th></th>\n",
       "      <th></th>\n",
       "      <th></th>\n",
       "    </tr>\n",
       "  </thead>\n",
       "  <tbody>\n",
       "    <tr>\n",
       "      <th>Samuel L. Jackson</th>\n",
       "      <td>[99861, 24428, 258489, 1726, 10138, 100402, 10...</td>\n",
       "      <td>53</td>\n",
       "      <td>6.626415</td>\n",
       "      <td>2.050035e+08</td>\n",
       "    </tr>\n",
       "    <tr>\n",
       "      <th>Robert De Niro</th>\n",
       "      <td>[39451, 9992, 17711, 10555, 2270, 49021, 11371...</td>\n",
       "      <td>48</td>\n",
       "      <td>6.454167</td>\n",
       "      <td>6.223366e+07</td>\n",
       "    </tr>\n",
       "    <tr>\n",
       "      <th>Matt Damon</th>\n",
       "      <td>[157336, 65759, 2503, 324668, 68724, 163, 2862...</td>\n",
       "      <td>45</td>\n",
       "      <td>6.673333</td>\n",
       "      <td>1.094253e+08</td>\n",
       "    </tr>\n",
       "    <tr>\n",
       "      <th>Morgan Freeman</th>\n",
       "      <td>[49026, 155, 2698, 272, 74, 75612, 157353, 271...</td>\n",
       "      <td>45</td>\n",
       "      <td>6.591111</td>\n",
       "      <td>1.399995e+08</td>\n",
       "    </tr>\n",
       "    <tr>\n",
       "      <th>Bruce Willis</th>\n",
       "      <td>[95, 72559, 9471, 163, 1571, 76163, 18, 47964,...</td>\n",
       "      <td>44</td>\n",
       "      <td>6.302273</td>\n",
       "      <td>1.070034e+08</td>\n",
       "    </tr>\n",
       "  </tbody>\n",
       "</table>\n",
       "</div>"
      ],
      "text/plain": [
       "                                                            work(id)  movies#  \\\n",
       "name                                                                            \n",
       "Samuel L. Jackson  [99861, 24428, 258489, 1726, 10138, 100402, 10...       53   \n",
       "Robert De Niro     [39451, 9992, 17711, 10555, 2270, 49021, 11371...       48   \n",
       "Matt Damon         [157336, 65759, 2503, 324668, 68724, 163, 2862...       45   \n",
       "Morgan Freeman     [49026, 155, 2698, 272, 74, 75612, 157353, 271...       45   \n",
       "Bruce Willis       [95, 72559, 9471, 163, 1571, 76163, 18, 47964,...       44   \n",
       "\n",
       "                   avg_vote    avg_profit  \n",
       "name                                       \n",
       "Samuel L. Jackson  6.626415  2.050035e+08  \n",
       "Robert De Niro     6.454167  6.223366e+07  \n",
       "Matt Damon         6.673333  1.094253e+08  \n",
       "Morgan Freeman     6.591111  1.399995e+08  \n",
       "Bruce Willis       6.302273  1.070034e+08  "
      ]
     },
     "execution_count": 187,
     "metadata": {},
     "output_type": "execute_result"
    }
   ],
   "source": [
    "#find average profit of movies they shot\n",
    "profit_list = [0 for i in range(len(actors))]\n",
    "actor_index = 0 \n",
    "while actor_index < len(actors): \n",
    "  movie_list = actors['work(id)'][actor_index]\n",
    "  for movie_id in movie_list: \n",
    "    profit = movie_info.loc[movie_info['id']== movie_id]['profit'][0]\n",
    "    profit_list[actor_index] += profit\n",
    "  profit_list[actor_index] = profit_list[actor_index]/actors['movies#'][actor_index]\n",
    "  actor_index += 1\n",
    "  \n",
    "actors['avg_profit'] = profit_list\n",
    "\n",
    "# value checking\n",
    "actors.head()"
   ]
  },
  {
   "cell_type": "markdown",
   "metadata": {
    "colab_type": "text",
    "id": "7eV7wLEnuJts"
   },
   "source": [
    "**Below we are getting the preferred movie genre that the actor scored the best in.**"
   ]
  },
  {
   "cell_type": "code",
   "execution_count": 188,
   "metadata": {
    "colab": {
     "autoexec": {
      "startup": false,
      "wait_interval": 0
     },
     "base_uri": "https://localhost:8080/",
     "height": 228,
     "output_extras": [
      {}
     ]
    },
    "colab_type": "code",
    "executionInfo": {
     "elapsed": 18873,
     "status": "ok",
     "timestamp": 1521571107905,
     "user": {
      "displayName": "Erik Jensen",
      "photoUrl": "https://lh3.googleusercontent.com/a/default-user=s128",
      "userId": "105068432724791430130"
     },
     "user_tz": 420
    },
    "id": "i1SyWFa3n01W",
    "outputId": "fa5dd5bb-ce94-4d37-e67a-ea8e55ead563"
   },
   "outputs": [
    {
     "data": {
      "text/html": [
       "<div>\n",
       "<style>\n",
       "    .dataframe thead tr:only-child th {\n",
       "        text-align: right;\n",
       "    }\n",
       "\n",
       "    .dataframe thead th {\n",
       "        text-align: left;\n",
       "    }\n",
       "\n",
       "    .dataframe tbody tr th {\n",
       "        vertical-align: top;\n",
       "    }\n",
       "</style>\n",
       "<table border=\"1\" class=\"dataframe\">\n",
       "  <thead>\n",
       "    <tr style=\"text-align: right;\">\n",
       "      <th></th>\n",
       "      <th>work(id)</th>\n",
       "      <th>movies#</th>\n",
       "      <th>avg_vote</th>\n",
       "      <th>avg_profit</th>\n",
       "      <th>main_type</th>\n",
       "    </tr>\n",
       "    <tr>\n",
       "      <th>name</th>\n",
       "      <th></th>\n",
       "      <th></th>\n",
       "      <th></th>\n",
       "      <th></th>\n",
       "      <th></th>\n",
       "    </tr>\n",
       "  </thead>\n",
       "  <tbody>\n",
       "    <tr>\n",
       "      <th>Samuel L. Jackson</th>\n",
       "      <td>[99861, 24428, 258489, 1726, 10138, 100402, 10...</td>\n",
       "      <td>53</td>\n",
       "      <td>6.626415</td>\n",
       "      <td>2.050035e+08</td>\n",
       "      <td>Action</td>\n",
       "    </tr>\n",
       "    <tr>\n",
       "      <th>Robert De Niro</th>\n",
       "      <td>[39451, 9992, 17711, 10555, 2270, 49021, 11371...</td>\n",
       "      <td>48</td>\n",
       "      <td>6.454167</td>\n",
       "      <td>6.223366e+07</td>\n",
       "      <td>Drama</td>\n",
       "    </tr>\n",
       "    <tr>\n",
       "      <th>Matt Damon</th>\n",
       "      <td>[157336, 65759, 2503, 324668, 68724, 163, 2862...</td>\n",
       "      <td>45</td>\n",
       "      <td>6.673333</td>\n",
       "      <td>1.094253e+08</td>\n",
       "      <td>Drama</td>\n",
       "    </tr>\n",
       "    <tr>\n",
       "      <th>Morgan Freeman</th>\n",
       "      <td>[49026, 155, 2698, 272, 74, 75612, 157353, 271...</td>\n",
       "      <td>45</td>\n",
       "      <td>6.591111</td>\n",
       "      <td>1.399995e+08</td>\n",
       "      <td>Drama</td>\n",
       "    </tr>\n",
       "    <tr>\n",
       "      <th>Bruce Willis</th>\n",
       "      <td>[95, 72559, 9471, 163, 1571, 76163, 18, 47964,...</td>\n",
       "      <td>44</td>\n",
       "      <td>6.302273</td>\n",
       "      <td>1.070034e+08</td>\n",
       "      <td>Thriller</td>\n",
       "    </tr>\n",
       "  </tbody>\n",
       "</table>\n",
       "</div>"
      ],
      "text/plain": [
       "                                                            work(id)  movies#  \\\n",
       "name                                                                            \n",
       "Samuel L. Jackson  [99861, 24428, 258489, 1726, 10138, 100402, 10...       53   \n",
       "Robert De Niro     [39451, 9992, 17711, 10555, 2270, 49021, 11371...       48   \n",
       "Matt Damon         [157336, 65759, 2503, 324668, 68724, 163, 2862...       45   \n",
       "Morgan Freeman     [49026, 155, 2698, 272, 74, 75612, 157353, 271...       45   \n",
       "Bruce Willis       [95, 72559, 9471, 163, 1571, 76163, 18, 47964,...       44   \n",
       "\n",
       "                   avg_vote    avg_profit main_type  \n",
       "name                                                 \n",
       "Samuel L. Jackson  6.626415  2.050035e+08    Action  \n",
       "Robert De Niro     6.454167  6.223366e+07     Drama  \n",
       "Matt Damon         6.673333  1.094253e+08     Drama  \n",
       "Morgan Freeman     6.591111  1.399995e+08     Drama  \n",
       "Bruce Willis       6.302273  1.070034e+08  Thriller  "
      ]
     },
     "execution_count": 188,
     "metadata": {},
     "output_type": "execute_result"
    }
   ],
   "source": [
    "# get each actor's type\n",
    "genre_list = [0 for i in range(len(actors))]\n",
    "\n",
    "actor_index = 0\n",
    "while actor_index < len(actors):\n",
    "  genre_list[actor_index] = {}\n",
    "  actor_index = actor_index + 1\n",
    "\n",
    "actor_index = 0\n",
    "while actor_index < len(actors): \n",
    "  movie_list = actors['work(id)'][actor_index]\n",
    "  for movie_id in movie_list:\n",
    "    genres = movie_info.loc[movie_info['id']== movie_id]['genres'][0]\n",
    "    for genre in genres:\n",
    "      if genre not in genre_list[actor_index]:\n",
    "        genre_list[actor_index][genre] = 0\n",
    "      genre_list[actor_index][genre] = genre_list[actor_index][genre] + 1\n",
    "  genre_list[actor_index] = sorted(genre_list[actor_index], key=genre_list[actor_index].__getitem__, reverse=True)[0]\n",
    "  actor_index += 1\n",
    "  \n",
    "actors['main_type'] = genre_list\n",
    "\n",
    "# value checking\n",
    "actors.head()"
   ]
  },
  {
   "cell_type": "markdown",
   "metadata": {
    "colab_type": "text",
    "id": "KbySJ1mmuQtT"
   },
   "source": [
    "**Now we will collect the average profits of each film that are for each actors main genre.**"
   ]
  },
  {
   "cell_type": "code",
   "execution_count": 189,
   "metadata": {
    "colab": {
     "autoexec": {
      "startup": false,
      "wait_interval": 0
     },
     "base_uri": "https://localhost:8080/",
     "height": 228,
     "output_extras": [
      {}
     ]
    },
    "colab_type": "code",
    "executionInfo": {
     "elapsed": 31356,
     "status": "ok",
     "timestamp": 1521571139270,
     "user": {
      "displayName": "Erik Jensen",
      "photoUrl": "https://lh3.googleusercontent.com/a/default-user=s128",
      "userId": "105068432724791430130"
     },
     "user_tz": 420
    },
    "id": "O15G-00dn3nM",
    "outputId": "df5b9a37-d1ce-418d-9d19-7c79cafff8fa"
   },
   "outputs": [
    {
     "data": {
      "text/html": [
       "<div>\n",
       "<style>\n",
       "    .dataframe thead tr:only-child th {\n",
       "        text-align: right;\n",
       "    }\n",
       "\n",
       "    .dataframe thead th {\n",
       "        text-align: left;\n",
       "    }\n",
       "\n",
       "    .dataframe tbody tr th {\n",
       "        vertical-align: top;\n",
       "    }\n",
       "</style>\n",
       "<table border=\"1\" class=\"dataframe\">\n",
       "  <thead>\n",
       "    <tr style=\"text-align: right;\">\n",
       "      <th></th>\n",
       "      <th>work(id)</th>\n",
       "      <th>movies#</th>\n",
       "      <th>avg_vote</th>\n",
       "      <th>avg_profit</th>\n",
       "      <th>main_type</th>\n",
       "      <th>avg_profit(suitable)</th>\n",
       "    </tr>\n",
       "    <tr>\n",
       "      <th>name</th>\n",
       "      <th></th>\n",
       "      <th></th>\n",
       "      <th></th>\n",
       "      <th></th>\n",
       "      <th></th>\n",
       "      <th></th>\n",
       "    </tr>\n",
       "  </thead>\n",
       "  <tbody>\n",
       "    <tr>\n",
       "      <th>Samuel L. Jackson</th>\n",
       "      <td>[99861, 24428, 258489, 1726, 10138, 100402, 10...</td>\n",
       "      <td>53</td>\n",
       "      <td>6.626415</td>\n",
       "      <td>2.050035e+08</td>\n",
       "      <td>Action</td>\n",
       "      <td>2.587051e+08</td>\n",
       "    </tr>\n",
       "    <tr>\n",
       "      <th>Robert De Niro</th>\n",
       "      <td>[39451, 9992, 17711, 10555, 2270, 49021, 11371...</td>\n",
       "      <td>48</td>\n",
       "      <td>6.454167</td>\n",
       "      <td>6.223366e+07</td>\n",
       "      <td>Drama</td>\n",
       "      <td>3.949146e+07</td>\n",
       "    </tr>\n",
       "    <tr>\n",
       "      <th>Matt Damon</th>\n",
       "      <td>[157336, 65759, 2503, 324668, 68724, 163, 2862...</td>\n",
       "      <td>45</td>\n",
       "      <td>6.673333</td>\n",
       "      <td>1.094253e+08</td>\n",
       "      <td>Drama</td>\n",
       "      <td>1.208390e+08</td>\n",
       "    </tr>\n",
       "    <tr>\n",
       "      <th>Morgan Freeman</th>\n",
       "      <td>[49026, 155, 2698, 272, 74, 75612, 157353, 271...</td>\n",
       "      <td>45</td>\n",
       "      <td>6.591111</td>\n",
       "      <td>1.399995e+08</td>\n",
       "      <td>Drama</td>\n",
       "      <td>1.332335e+08</td>\n",
       "    </tr>\n",
       "    <tr>\n",
       "      <th>Bruce Willis</th>\n",
       "      <td>[95, 72559, 9471, 163, 1571, 76163, 18, 47964,...</td>\n",
       "      <td>44</td>\n",
       "      <td>6.302273</td>\n",
       "      <td>1.070034e+08</td>\n",
       "      <td>Thriller</td>\n",
       "      <td>1.469351e+08</td>\n",
       "    </tr>\n",
       "  </tbody>\n",
       "</table>\n",
       "</div>"
      ],
      "text/plain": [
       "                                                            work(id)  movies#  \\\n",
       "name                                                                            \n",
       "Samuel L. Jackson  [99861, 24428, 258489, 1726, 10138, 100402, 10...       53   \n",
       "Robert De Niro     [39451, 9992, 17711, 10555, 2270, 49021, 11371...       48   \n",
       "Matt Damon         [157336, 65759, 2503, 324668, 68724, 163, 2862...       45   \n",
       "Morgan Freeman     [49026, 155, 2698, 272, 74, 75612, 157353, 271...       45   \n",
       "Bruce Willis       [95, 72559, 9471, 163, 1571, 76163, 18, 47964,...       44   \n",
       "\n",
       "                   avg_vote    avg_profit main_type  avg_profit(suitable)  \n",
       "name                                                                       \n",
       "Samuel L. Jackson  6.626415  2.050035e+08    Action          2.587051e+08  \n",
       "Robert De Niro     6.454167  6.223366e+07     Drama          3.949146e+07  \n",
       "Matt Damon         6.673333  1.094253e+08     Drama          1.208390e+08  \n",
       "Morgan Freeman     6.591111  1.399995e+08     Drama          1.332335e+08  \n",
       "Bruce Willis       6.302273  1.070034e+08  Thriller          1.469351e+08  "
      ]
     },
     "execution_count": 189,
     "metadata": {},
     "output_type": "execute_result"
    }
   ],
   "source": [
    "# calculate the avg profit the the films that suit each actor's type\n",
    "profit_list = [0 for i in range(len(actors))]\n",
    "actor_index = 0\n",
    "film_counter = 0\n",
    "\n",
    "while actor_index < len(actors): \n",
    "  movie_list = actors['work(id)'][actor_index]\n",
    "  for movie_id in movie_list:\n",
    "    if actors['main_type'][actor_index] not in movie_info[movie_info['id'] == movie_id].genres[0]:\n",
    "      continue\n",
    "    film_counter += 1\n",
    "    profit = movie_info.loc[movie_info['id']== movie_id]['profit'][0]\n",
    "    profit_list[actor_index] += profit\n",
    "  profit_list[actor_index] = profit_list[actor_index]/film_counter\n",
    "  actor_index += 1\n",
    "  film_counter = 0\n",
    "  \n",
    "actors['avg_profit(suitable)'] = profit_list\n",
    "\n",
    "# value checking\n",
    "actors.head()"
   ]
  },
  {
   "cell_type": "code",
   "execution_count": 190,
   "metadata": {
    "colab": {
     "autoexec": {
      "startup": false,
      "wait_interval": 0
     }
    },
    "colab_type": "code",
    "collapsed": true,
    "id": "HVTmwFukn59_"
   },
   "outputs": [],
   "source": [
    "def intersect(a, b):\n",
    "    \"\"\" return the intersection of two lists \"\"\"\n",
    "    return list(set(a) & set(b))\n",
    "main_actors = [ ]\n",
    "actors_index = list(actors.index)\n",
    "movie_list = movie_info.index\n",
    "for i in range(len(movie_info)): \n",
    "  actor_list = movie_info.loc[movie_list[i]]['actors']\n",
    "  try: \n",
    "    new_actor = intersect(actors_index,actor_list)\n",
    "  except: \n",
    "    new_actor = np.nan\n",
    "  main_actors.append(new_actor)\n",
    "\n",
    "movie_info['main_actors'] = main_actors\n",
    "movie_info.dropna(axis=0,how = 'any', inplace = True)\n",
    "\n",
    "movie_info = movie_info[movie_info['vote_average'] !=0]"
   ]
  },
  {
   "cell_type": "markdown",
   "metadata": {
    "colab_type": "text",
    "id": "tIAHLanzudSY"
   },
   "source": [
    "**Below we are checking for the mean actors score. We base this on the average rating of all the movies that they starred in.**"
   ]
  },
  {
   "cell_type": "code",
   "execution_count": 191,
   "metadata": {
    "colab": {
     "autoexec": {
      "startup": false,
      "wait_interval": 0
     }
    },
    "colab_type": "code",
    "collapsed": true,
    "id": "4VJtCUYXoGBl"
   },
   "outputs": [],
   "source": [
    "# Now we calcuate the mean actor scores for each movie\n",
    "actor_vote = []\n",
    "movie_list = movie_info.index\n",
    "for i in range(len(movie_info)): \n",
    "  actor_list = movie_info.loc[movie_list[i]]['main_actors']\n",
    "  actor_rate = 0 \n",
    "  for j in actor_list: \n",
    "    actor_rate = actor_rate + actors.loc[j]['avg_vote']\n",
    "  try: \n",
    "     actor_rate = actor_rate/len(actor_list)\n",
    "  except: \n",
    "     actor_rate = np.nan\n",
    "  actor_vote.append(actor_rate)\n",
    "  "
   ]
  },
  {
   "cell_type": "markdown",
   "metadata": {
    "colab_type": "text",
    "id": "ifaLndBcusvD"
   },
   "source": [
    "**Now we are checking for similiarties and if there are any coorelations to the data.**"
   ]
  },
  {
   "cell_type": "code",
   "execution_count": 192,
   "metadata": {
    "colab": {
     "autoexec": {
      "startup": false,
      "wait_interval": 0
     },
     "base_uri": "https://localhost:8080/",
     "height": 870,
     "output_extras": [
      {},
      {},
      {},
      {}
     ]
    },
    "colab_type": "code",
    "executionInfo": {
     "elapsed": 2892,
     "status": "ok",
     "timestamp": 1521571152197,
     "user": {
      "displayName": "Erik Jensen",
      "photoUrl": "https://lh3.googleusercontent.com/a/default-user=s128",
      "userId": "105068432724791430130"
     },
     "user_tz": 420
    },
    "id": "mjRxvWmmoIr-",
    "outputId": "2f140c30-2900-46e6-8a61-97b6b8fc42f5"
   },
   "outputs": [
    {
     "name": "stdout",
     "output_type": "stream",
     "text": [
      "The similarity between actor_vote and vote average is\n",
      "0.903821199338\n"
     ]
    },
    {
     "data": {
      "image/png": "[encoded data removed]",
      "text/plain": [
       "<matplotlib.figure.Figure at 0x213850dcb70>"
      ]
     },
     "metadata": {},
     "output_type": "display_data"
    },
    {
     "data": {
      "image/png": "[encoded data removed]",
      "text/plain": [
       "<matplotlib.figure.Figure at 0x21384aed320>"
      ]
     },
     "metadata": {},
     "output_type": "display_data"
    },
    {
     "data": {
      "image/png": "[encoded data removed]",
      "text/plain": [
       "<matplotlib.figure.Figure at 0x2139bfc2630>"
      ]
     },
     "metadata": {},
     "output_type": "display_data"
    }
   ],
   "source": [
    "movie_info['actor_vote'] = actor_vote\n",
    "movie_info.dropna(axis=0,how='any',inplace = True)\n",
    "\n",
    "# now we calculate the similarity between actor_mean_votes and the real movie average_votes\n",
    "actor_mean_votes = movie_info['actor_vote']\n",
    "average_votes = movie_info['vote_average']\n",
    "subtract = [ abs(actor_mean_votes[i]-average_votes[i]) for i in range(len(actor_mean_votes ))]\n",
    "\n",
    "similarity = 1- sum([subtract[i]/average_votes[i] for i in range(len(actor_mean_votes ))])/len(subtract)\n",
    "\n",
    "print('The similarity between actor_vote and vote average is')\n",
    "print (similarity)\n",
    "\n",
    "#Plot Graphs\n",
    "movie_info.vote_average.hist()\n",
    "plt.title('Movie Votes')\n",
    "plt.xlabel('Vote')\n",
    "plt.ylabel('Occurances')\n",
    "plt.show()\n",
    "\n",
    "movie_info.actor_vote.hist()\n",
    "plt.title('Actor Votes')\n",
    "plt.xlabel('Vote')\n",
    "plt.ylabel('Occurances')\n",
    "plt.show()\n",
    "\n",
    "xplot = movie_info.vote_average.values\n",
    "yplot = movie_info.actor_vote.values\n",
    "plt.scatter(xplot,yplot, color='red')\n",
    "plt.title('Movie rating vs. Actor rating')\n",
    "plt.xlabel('Movie Rating')\n",
    "plt.ylabel('Actor Rating')\n",
    "plt.show()"
   ]
  },
  {
   "cell_type": "markdown",
   "metadata": {
    "colab_type": "text",
    "id": "o67mYIixu1Cb"
   },
   "source": [
    "**From the above graphs we can see that there is a similiar average rating for over all movie and actor. This shows evidence that actors do influence the score, however there are other factors that can influence this score. This could be budget, effects, and the writing script.**"
   ]
  },
  {
   "cell_type": "markdown",
   "metadata": {
    "colab_type": "text",
    "id": "buzufb5kvLc1"
   },
   "source": [
    "**Conclusion: With all the data we collected and the areas we determined were important, we can conclude that actors do have some influeunce on movie profits. Our hypothesis is that if there were no budget contraints or other external factors, that replacing a lower rated actor with a higher rated actor would yield a higher score for that movie. This would only pertain if the actors shared the same preferred genre. Another factor that could influence this data would to see how much each actor was payed for each movie as well as where the other expenses were used. This would require much more data then we have present or can obtain, so we have to resort to speculation. Another factor is the ratings for movies. Most people seem to give movies an average rating rather then pick one of the two extremes.**\n"
   ]
  },
  {
   "cell_type": "markdown",
   "metadata": {
    "colab_type": "text",
    "id": "UXNuPd0MAXac"
   },
   "source": [
    "## Limitation Discussion##"
   ]
  },
  {
   "cell_type": "markdown",
   "metadata": {
    "colab_type": "text",
    "id": "J_HmehHZAXac"
   },
   "source": [
    "\n",
    "There are still a lot of questions to answer regarding what could determine a great movie and our exploration is far from complete. First, the dataset only contains 5000 movies in total, and after excluding those with missing data(like missing budget and revenue), the data became even smaller. There might not be enough movies from each genre to present in the database for analysis and the dataset doesn't have the most current movies, making it not able to represent the situation up-to-day.  We can't be very sure that this dataset could epitomize the situations in the whole movie industry.The dataset lacks some information that prevents us to further analyze the relationship between certain factors and the success of the movies like the total spending on actors, or special effects.etc. From there, we could make a more specific analysis. The dataset has much information we could explore but it is far from enough to find the success formula of the movie."
   ]
  },
  {
   "cell_type": "markdown",
   "metadata": {
    "colab_type": "text",
    "id": "aldJZXjIAXad"
   },
   "source": [
    "## Final Conclusion##"
   ]
  },
  {
   "cell_type": "markdown",
   "metadata": {
    "colab_type": "text",
    "id": "hK7VnRbnAXad"
   },
   "source": [
    "   Our analysis shows that numerous factors could have influenced the indicator of success: revenue, profit, or the votes. The more budget spends on a movie the higher the revenue. Movies with specific keywords like \"space war\" would earn much more than movies with other keywords but in terms of rating, \"wrongful imprisonment\" and \"crime family\" are the best. \n",
    "    \n",
    "   The genre have a strong relationship with the revenue as well.There is a preference in the top 500 companies that earn the most revenue to do adventure movies, but the highest rating movies come from the drama genre. Certain combinations of the genre could result in higher revenue in general: Animation movies combined with fantasy or comedy makes the most of all animation movies. \n",
    "    \n",
    "   Choosing of actors do have some influence over revenue and profits, but more likely affects the votes score.\n",
    "    \n",
    "   On the other hand, things we thought to have a strong influence in the success of the movies like the cooperation of big companies doesn't prove to have many relationships to the success of the movies: the one with 8 top 500 earning companies in the dataset only generate a mediocre revenue among all movies. Our 2 indicators for successful movies: revenue and votes don't have strong relationships with each other. In general, it is not the case that higher ratings brought to higher revenue, most movies around scores of 6.8-7.0 has the highest revenue.\n",
    "    \n",
    "   In all, many factors could influence the success of the movies to different degrees. Certainly more explorations need to be done on larger datasets to find out what are the most important factors on the success of the movies no matter they are explicit or implicit and the success formula for the movie might be built to change the industry."
   ]
  }
 ],
 "metadata": {
  "colab": {
   "collapsed_sections": [],
   "default_view": {},
   "name": "FinalProject(modified).ipynb",
   "provenance": [],
   "version": "0.3.2",
   "views": {}
  },
  "kernelspec": {
   "display_name": "Python 3",
   "language": "python",
   "name": "python3"
  },
  "language_info": {
   "codemirror_mode": {
    "name": "ipython",
    "version": 3
   },
   "file_extension": ".py",
   "mimetype": "text/x-python",
   "name": "python",
   "nbconvert_exporter": "python",
   "pygments_lexer": "ipython3",
   "version": "3.6.3"
  }
 },
 "nbformat": 4,
 "nbformat_minor": 1
}
